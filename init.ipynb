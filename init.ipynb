{
  "nbformat": 4,
  "nbformat_minor": 0,
  "metadata": {
    "colab": {
      "provenance": [],
      "authorship_tag": "ABX9TyN0OZ1qu94lMSR4R9AQ7W7U"
    },
    "kernelspec": {
      "name": "python3",
      "display_name": "Python 3"
    },
    "language_info": {
      "name": "python"
    },
    "widgets": {
      "application/vnd.jupyter.widget-state+json": {
        "4494eddc59b34af4a79d2a3b672135e5": {
          "model_module": "@jupyter-widgets/controls",
          "model_name": "HBoxModel",
          "model_module_version": "1.5.0",
          "state": {
            "_dom_classes": [],
            "_model_module": "@jupyter-widgets/controls",
            "_model_module_version": "1.5.0",
            "_model_name": "HBoxModel",
            "_view_count": null,
            "_view_module": "@jupyter-widgets/controls",
            "_view_module_version": "1.5.0",
            "_view_name": "HBoxView",
            "box_style": "",
            "children": [
              "IPY_MODEL_d71f50e1cf4e4b83be4962be61d228e4",
              "IPY_MODEL_782f2d489dd64d58a0d4eeacce2f6a0c",
              "IPY_MODEL_5c14a9d9901c47f9aee931bb0326c81c"
            ],
            "layout": "IPY_MODEL_ce24d58c39fb4d2f980d1498db86605d"
          }
        },
        "d71f50e1cf4e4b83be4962be61d228e4": {
          "model_module": "@jupyter-widgets/controls",
          "model_name": "HTMLModel",
          "model_module_version": "1.5.0",
          "state": {
            "_dom_classes": [],
            "_model_module": "@jupyter-widgets/controls",
            "_model_module_version": "1.5.0",
            "_model_name": "HTMLModel",
            "_view_count": null,
            "_view_module": "@jupyter-widgets/controls",
            "_view_module_version": "1.5.0",
            "_view_name": "HTMLView",
            "description": "",
            "description_tooltip": null,
            "layout": "IPY_MODEL_ebf8d76ec980483d9be674b0197e26ca",
            "placeholder": "​",
            "style": "IPY_MODEL_cb1434e4ec9e4ae6a663c73bbf1d1d66",
            "value": ""
          }
        },
        "782f2d489dd64d58a0d4eeacce2f6a0c": {
          "model_module": "@jupyter-widgets/controls",
          "model_name": "FloatProgressModel",
          "model_module_version": "1.5.0",
          "state": {
            "_dom_classes": [],
            "_model_module": "@jupyter-widgets/controls",
            "_model_module_version": "1.5.0",
            "_model_name": "FloatProgressModel",
            "_view_count": null,
            "_view_module": "@jupyter-widgets/controls",
            "_view_module_version": "1.5.0",
            "_view_name": "ProgressView",
            "bar_style": "success",
            "description": "",
            "description_tooltip": null,
            "layout": "IPY_MODEL_c9ff620523734f029f17e0e3840c8d0c",
            "max": 1,
            "min": 0,
            "orientation": "horizontal",
            "style": "IPY_MODEL_2911e5dbb1054d3d801bb01e4674de1e",
            "value": 0
          }
        },
        "5c14a9d9901c47f9aee931bb0326c81c": {
          "model_module": "@jupyter-widgets/controls",
          "model_name": "HTMLModel",
          "model_module_version": "1.5.0",
          "state": {
            "_dom_classes": [],
            "_model_module": "@jupyter-widgets/controls",
            "_model_module_version": "1.5.0",
            "_model_name": "HTMLModel",
            "_view_count": null,
            "_view_module": "@jupyter-widgets/controls",
            "_view_module_version": "1.5.0",
            "_view_name": "HTMLView",
            "description": "",
            "description_tooltip": null,
            "layout": "IPY_MODEL_c7061a790ed3411e9ce7235c6074792b",
            "placeholder": "​",
            "style": "IPY_MODEL_08c84000ea0a46609c475e9041005534",
            "value": " 0/0 [00:00&lt;?, ?it/s]"
          }
        },
        "ce24d58c39fb4d2f980d1498db86605d": {
          "model_module": "@jupyter-widgets/base",
          "model_name": "LayoutModel",
          "model_module_version": "1.2.0",
          "state": {
            "_model_module": "@jupyter-widgets/base",
            "_model_module_version": "1.2.0",
            "_model_name": "LayoutModel",
            "_view_count": null,
            "_view_module": "@jupyter-widgets/base",
            "_view_module_version": "1.2.0",
            "_view_name": "LayoutView",
            "align_content": null,
            "align_items": null,
            "align_self": null,
            "border": null,
            "bottom": null,
            "display": null,
            "flex": null,
            "flex_flow": null,
            "grid_area": null,
            "grid_auto_columns": null,
            "grid_auto_flow": null,
            "grid_auto_rows": null,
            "grid_column": null,
            "grid_gap": null,
            "grid_row": null,
            "grid_template_areas": null,
            "grid_template_columns": null,
            "grid_template_rows": null,
            "height": null,
            "justify_content": null,
            "justify_items": null,
            "left": null,
            "margin": null,
            "max_height": null,
            "max_width": null,
            "min_height": null,
            "min_width": null,
            "object_fit": null,
            "object_position": null,
            "order": null,
            "overflow": null,
            "overflow_x": null,
            "overflow_y": null,
            "padding": null,
            "right": null,
            "top": null,
            "visibility": null,
            "width": null
          }
        },
        "ebf8d76ec980483d9be674b0197e26ca": {
          "model_module": "@jupyter-widgets/base",
          "model_name": "LayoutModel",
          "model_module_version": "1.2.0",
          "state": {
            "_model_module": "@jupyter-widgets/base",
            "_model_module_version": "1.2.0",
            "_model_name": "LayoutModel",
            "_view_count": null,
            "_view_module": "@jupyter-widgets/base",
            "_view_module_version": "1.2.0",
            "_view_name": "LayoutView",
            "align_content": null,
            "align_items": null,
            "align_self": null,
            "border": null,
            "bottom": null,
            "display": null,
            "flex": null,
            "flex_flow": null,
            "grid_area": null,
            "grid_auto_columns": null,
            "grid_auto_flow": null,
            "grid_auto_rows": null,
            "grid_column": null,
            "grid_gap": null,
            "grid_row": null,
            "grid_template_areas": null,
            "grid_template_columns": null,
            "grid_template_rows": null,
            "height": null,
            "justify_content": null,
            "justify_items": null,
            "left": null,
            "margin": null,
            "max_height": null,
            "max_width": null,
            "min_height": null,
            "min_width": null,
            "object_fit": null,
            "object_position": null,
            "order": null,
            "overflow": null,
            "overflow_x": null,
            "overflow_y": null,
            "padding": null,
            "right": null,
            "top": null,
            "visibility": null,
            "width": null
          }
        },
        "cb1434e4ec9e4ae6a663c73bbf1d1d66": {
          "model_module": "@jupyter-widgets/controls",
          "model_name": "DescriptionStyleModel",
          "model_module_version": "1.5.0",
          "state": {
            "_model_module": "@jupyter-widgets/controls",
            "_model_module_version": "1.5.0",
            "_model_name": "DescriptionStyleModel",
            "_view_count": null,
            "_view_module": "@jupyter-widgets/base",
            "_view_module_version": "1.2.0",
            "_view_name": "StyleView",
            "description_width": ""
          }
        },
        "c9ff620523734f029f17e0e3840c8d0c": {
          "model_module": "@jupyter-widgets/base",
          "model_name": "LayoutModel",
          "model_module_version": "1.2.0",
          "state": {
            "_model_module": "@jupyter-widgets/base",
            "_model_module_version": "1.2.0",
            "_model_name": "LayoutModel",
            "_view_count": null,
            "_view_module": "@jupyter-widgets/base",
            "_view_module_version": "1.2.0",
            "_view_name": "LayoutView",
            "align_content": null,
            "align_items": null,
            "align_self": null,
            "border": null,
            "bottom": null,
            "display": null,
            "flex": null,
            "flex_flow": null,
            "grid_area": null,
            "grid_auto_columns": null,
            "grid_auto_flow": null,
            "grid_auto_rows": null,
            "grid_column": null,
            "grid_gap": null,
            "grid_row": null,
            "grid_template_areas": null,
            "grid_template_columns": null,
            "grid_template_rows": null,
            "height": null,
            "justify_content": null,
            "justify_items": null,
            "left": null,
            "margin": null,
            "max_height": null,
            "max_width": null,
            "min_height": null,
            "min_width": null,
            "object_fit": null,
            "object_position": null,
            "order": null,
            "overflow": null,
            "overflow_x": null,
            "overflow_y": null,
            "padding": null,
            "right": null,
            "top": null,
            "visibility": null,
            "width": "20px"
          }
        },
        "2911e5dbb1054d3d801bb01e4674de1e": {
          "model_module": "@jupyter-widgets/controls",
          "model_name": "ProgressStyleModel",
          "model_module_version": "1.5.0",
          "state": {
            "_model_module": "@jupyter-widgets/controls",
            "_model_module_version": "1.5.0",
            "_model_name": "ProgressStyleModel",
            "_view_count": null,
            "_view_module": "@jupyter-widgets/base",
            "_view_module_version": "1.2.0",
            "_view_name": "StyleView",
            "bar_color": null,
            "description_width": ""
          }
        },
        "c7061a790ed3411e9ce7235c6074792b": {
          "model_module": "@jupyter-widgets/base",
          "model_name": "LayoutModel",
          "model_module_version": "1.2.0",
          "state": {
            "_model_module": "@jupyter-widgets/base",
            "_model_module_version": "1.2.0",
            "_model_name": "LayoutModel",
            "_view_count": null,
            "_view_module": "@jupyter-widgets/base",
            "_view_module_version": "1.2.0",
            "_view_name": "LayoutView",
            "align_content": null,
            "align_items": null,
            "align_self": null,
            "border": null,
            "bottom": null,
            "display": null,
            "flex": null,
            "flex_flow": null,
            "grid_area": null,
            "grid_auto_columns": null,
            "grid_auto_flow": null,
            "grid_auto_rows": null,
            "grid_column": null,
            "grid_gap": null,
            "grid_row": null,
            "grid_template_areas": null,
            "grid_template_columns": null,
            "grid_template_rows": null,
            "height": null,
            "justify_content": null,
            "justify_items": null,
            "left": null,
            "margin": null,
            "max_height": null,
            "max_width": null,
            "min_height": null,
            "min_width": null,
            "object_fit": null,
            "object_position": null,
            "order": null,
            "overflow": null,
            "overflow_x": null,
            "overflow_y": null,
            "padding": null,
            "right": null,
            "top": null,
            "visibility": null,
            "width": null
          }
        },
        "08c84000ea0a46609c475e9041005534": {
          "model_module": "@jupyter-widgets/controls",
          "model_name": "DescriptionStyleModel",
          "model_module_version": "1.5.0",
          "state": {
            "_model_module": "@jupyter-widgets/controls",
            "_model_module_version": "1.5.0",
            "_model_name": "DescriptionStyleModel",
            "_view_count": null,
            "_view_module": "@jupyter-widgets/base",
            "_view_module_version": "1.2.0",
            "_view_name": "StyleView",
            "description_width": ""
          }
        },
        "7b0913901e6143b6a3257305da62fc85": {
          "model_module": "@jupyter-widgets/controls",
          "model_name": "HBoxModel",
          "model_module_version": "1.5.0",
          "state": {
            "_dom_classes": [],
            "_model_module": "@jupyter-widgets/controls",
            "_model_module_version": "1.5.0",
            "_model_name": "HBoxModel",
            "_view_count": null,
            "_view_module": "@jupyter-widgets/controls",
            "_view_module_version": "1.5.0",
            "_view_name": "HBoxView",
            "box_style": "",
            "children": [
              "IPY_MODEL_424a64bd667841c7a7619b7b88ffd86f",
              "IPY_MODEL_c5a621d5ee1e4af8a896de0485ef3fb4",
              "IPY_MODEL_7c10863bcaaa4e00a03411bbedb1d7cb"
            ],
            "layout": "IPY_MODEL_3b76b90afa5d4ff9a1cf7df0f6d87d06"
          }
        },
        "424a64bd667841c7a7619b7b88ffd86f": {
          "model_module": "@jupyter-widgets/controls",
          "model_name": "HTMLModel",
          "model_module_version": "1.5.0",
          "state": {
            "_dom_classes": [],
            "_model_module": "@jupyter-widgets/controls",
            "_model_module_version": "1.5.0",
            "_model_name": "HTMLModel",
            "_view_count": null,
            "_view_module": "@jupyter-widgets/controls",
            "_view_module_version": "1.5.0",
            "_view_name": "HTMLView",
            "description": "",
            "description_tooltip": null,
            "layout": "IPY_MODEL_28a3abb9fc81430dbb0a33cc642760a9",
            "placeholder": "​",
            "style": "IPY_MODEL_7cd23c98a3cd44a7824bddfce12518a8",
            "value": "0000.parquet: 100%"
          }
        },
        "c5a621d5ee1e4af8a896de0485ef3fb4": {
          "model_module": "@jupyter-widgets/controls",
          "model_name": "FloatProgressModel",
          "model_module_version": "1.5.0",
          "state": {
            "_dom_classes": [],
            "_model_module": "@jupyter-widgets/controls",
            "_model_module_version": "1.5.0",
            "_model_name": "FloatProgressModel",
            "_view_count": null,
            "_view_module": "@jupyter-widgets/controls",
            "_view_module_version": "1.5.0",
            "_view_name": "ProgressView",
            "bar_style": "success",
            "description": "",
            "description_tooltip": null,
            "layout": "IPY_MODEL_2088ae3585094be7a17d9ba697f75547",
            "max": 46152138,
            "min": 0,
            "orientation": "horizontal",
            "style": "IPY_MODEL_86d4d023f1314c39ba380712b722bcc8",
            "value": 46152138
          }
        },
        "7c10863bcaaa4e00a03411bbedb1d7cb": {
          "model_module": "@jupyter-widgets/controls",
          "model_name": "HTMLModel",
          "model_module_version": "1.5.0",
          "state": {
            "_dom_classes": [],
            "_model_module": "@jupyter-widgets/controls",
            "_model_module_version": "1.5.0",
            "_model_name": "HTMLModel",
            "_view_count": null,
            "_view_module": "@jupyter-widgets/controls",
            "_view_module_version": "1.5.0",
            "_view_name": "HTMLView",
            "description": "",
            "description_tooltip": null,
            "layout": "IPY_MODEL_bde867308355404ca0c5910afea9b3c4",
            "placeholder": "​",
            "style": "IPY_MODEL_69b68a8e405c413f9ea7668fa44ddd97",
            "value": " 46.2M/46.2M [00:00&lt;00:00, 68.6MB/s]"
          }
        },
        "3b76b90afa5d4ff9a1cf7df0f6d87d06": {
          "model_module": "@jupyter-widgets/base",
          "model_name": "LayoutModel",
          "model_module_version": "1.2.0",
          "state": {
            "_model_module": "@jupyter-widgets/base",
            "_model_module_version": "1.2.0",
            "_model_name": "LayoutModel",
            "_view_count": null,
            "_view_module": "@jupyter-widgets/base",
            "_view_module_version": "1.2.0",
            "_view_name": "LayoutView",
            "align_content": null,
            "align_items": null,
            "align_self": null,
            "border": null,
            "bottom": null,
            "display": null,
            "flex": null,
            "flex_flow": null,
            "grid_area": null,
            "grid_auto_columns": null,
            "grid_auto_flow": null,
            "grid_auto_rows": null,
            "grid_column": null,
            "grid_gap": null,
            "grid_row": null,
            "grid_template_areas": null,
            "grid_template_columns": null,
            "grid_template_rows": null,
            "height": null,
            "justify_content": null,
            "justify_items": null,
            "left": null,
            "margin": null,
            "max_height": null,
            "max_width": null,
            "min_height": null,
            "min_width": null,
            "object_fit": null,
            "object_position": null,
            "order": null,
            "overflow": null,
            "overflow_x": null,
            "overflow_y": null,
            "padding": null,
            "right": null,
            "top": null,
            "visibility": null,
            "width": null
          }
        },
        "28a3abb9fc81430dbb0a33cc642760a9": {
          "model_module": "@jupyter-widgets/base",
          "model_name": "LayoutModel",
          "model_module_version": "1.2.0",
          "state": {
            "_model_module": "@jupyter-widgets/base",
            "_model_module_version": "1.2.0",
            "_model_name": "LayoutModel",
            "_view_count": null,
            "_view_module": "@jupyter-widgets/base",
            "_view_module_version": "1.2.0",
            "_view_name": "LayoutView",
            "align_content": null,
            "align_items": null,
            "align_self": null,
            "border": null,
            "bottom": null,
            "display": null,
            "flex": null,
            "flex_flow": null,
            "grid_area": null,
            "grid_auto_columns": null,
            "grid_auto_flow": null,
            "grid_auto_rows": null,
            "grid_column": null,
            "grid_gap": null,
            "grid_row": null,
            "grid_template_areas": null,
            "grid_template_columns": null,
            "grid_template_rows": null,
            "height": null,
            "justify_content": null,
            "justify_items": null,
            "left": null,
            "margin": null,
            "max_height": null,
            "max_width": null,
            "min_height": null,
            "min_width": null,
            "object_fit": null,
            "object_position": null,
            "order": null,
            "overflow": null,
            "overflow_x": null,
            "overflow_y": null,
            "padding": null,
            "right": null,
            "top": null,
            "visibility": null,
            "width": null
          }
        },
        "7cd23c98a3cd44a7824bddfce12518a8": {
          "model_module": "@jupyter-widgets/controls",
          "model_name": "DescriptionStyleModel",
          "model_module_version": "1.5.0",
          "state": {
            "_model_module": "@jupyter-widgets/controls",
            "_model_module_version": "1.5.0",
            "_model_name": "DescriptionStyleModel",
            "_view_count": null,
            "_view_module": "@jupyter-widgets/base",
            "_view_module_version": "1.2.0",
            "_view_name": "StyleView",
            "description_width": ""
          }
        },
        "2088ae3585094be7a17d9ba697f75547": {
          "model_module": "@jupyter-widgets/base",
          "model_name": "LayoutModel",
          "model_module_version": "1.2.0",
          "state": {
            "_model_module": "@jupyter-widgets/base",
            "_model_module_version": "1.2.0",
            "_model_name": "LayoutModel",
            "_view_count": null,
            "_view_module": "@jupyter-widgets/base",
            "_view_module_version": "1.2.0",
            "_view_name": "LayoutView",
            "align_content": null,
            "align_items": null,
            "align_self": null,
            "border": null,
            "bottom": null,
            "display": null,
            "flex": null,
            "flex_flow": null,
            "grid_area": null,
            "grid_auto_columns": null,
            "grid_auto_flow": null,
            "grid_auto_rows": null,
            "grid_column": null,
            "grid_gap": null,
            "grid_row": null,
            "grid_template_areas": null,
            "grid_template_columns": null,
            "grid_template_rows": null,
            "height": null,
            "justify_content": null,
            "justify_items": null,
            "left": null,
            "margin": null,
            "max_height": null,
            "max_width": null,
            "min_height": null,
            "min_width": null,
            "object_fit": null,
            "object_position": null,
            "order": null,
            "overflow": null,
            "overflow_x": null,
            "overflow_y": null,
            "padding": null,
            "right": null,
            "top": null,
            "visibility": null,
            "width": null
          }
        },
        "86d4d023f1314c39ba380712b722bcc8": {
          "model_module": "@jupyter-widgets/controls",
          "model_name": "ProgressStyleModel",
          "model_module_version": "1.5.0",
          "state": {
            "_model_module": "@jupyter-widgets/controls",
            "_model_module_version": "1.5.0",
            "_model_name": "ProgressStyleModel",
            "_view_count": null,
            "_view_module": "@jupyter-widgets/base",
            "_view_module_version": "1.2.0",
            "_view_name": "StyleView",
            "bar_color": null,
            "description_width": ""
          }
        },
        "bde867308355404ca0c5910afea9b3c4": {
          "model_module": "@jupyter-widgets/base",
          "model_name": "LayoutModel",
          "model_module_version": "1.2.0",
          "state": {
            "_model_module": "@jupyter-widgets/base",
            "_model_module_version": "1.2.0",
            "_model_name": "LayoutModel",
            "_view_count": null,
            "_view_module": "@jupyter-widgets/base",
            "_view_module_version": "1.2.0",
            "_view_name": "LayoutView",
            "align_content": null,
            "align_items": null,
            "align_self": null,
            "border": null,
            "bottom": null,
            "display": null,
            "flex": null,
            "flex_flow": null,
            "grid_area": null,
            "grid_auto_columns": null,
            "grid_auto_flow": null,
            "grid_auto_rows": null,
            "grid_column": null,
            "grid_gap": null,
            "grid_row": null,
            "grid_template_areas": null,
            "grid_template_columns": null,
            "grid_template_rows": null,
            "height": null,
            "justify_content": null,
            "justify_items": null,
            "left": null,
            "margin": null,
            "max_height": null,
            "max_width": null,
            "min_height": null,
            "min_width": null,
            "object_fit": null,
            "object_position": null,
            "order": null,
            "overflow": null,
            "overflow_x": null,
            "overflow_y": null,
            "padding": null,
            "right": null,
            "top": null,
            "visibility": null,
            "width": null
          }
        },
        "69b68a8e405c413f9ea7668fa44ddd97": {
          "model_module": "@jupyter-widgets/controls",
          "model_name": "DescriptionStyleModel",
          "model_module_version": "1.5.0",
          "state": {
            "_model_module": "@jupyter-widgets/controls",
            "_model_module_version": "1.5.0",
            "_model_name": "DescriptionStyleModel",
            "_view_count": null,
            "_view_module": "@jupyter-widgets/base",
            "_view_module_version": "1.2.0",
            "_view_name": "StyleView",
            "description_width": ""
          }
        },
        "a6456c8093a941c288f9c7a6fc9c866c": {
          "model_module": "@jupyter-widgets/controls",
          "model_name": "HBoxModel",
          "model_module_version": "1.5.0",
          "state": {
            "_dom_classes": [],
            "_model_module": "@jupyter-widgets/controls",
            "_model_module_version": "1.5.0",
            "_model_name": "HBoxModel",
            "_view_count": null,
            "_view_module": "@jupyter-widgets/controls",
            "_view_module_version": "1.5.0",
            "_view_name": "HBoxView",
            "box_style": "",
            "children": [
              "IPY_MODEL_93a4fd8ef2ea41d9bffe2ba6c3e5da6c",
              "IPY_MODEL_2edb17e0bbe149c29051800043fb9c26",
              "IPY_MODEL_2c014e6c5d92449f80a2f145e14af9b6"
            ],
            "layout": "IPY_MODEL_f21c729e52794a278bad208cb9047250"
          }
        },
        "93a4fd8ef2ea41d9bffe2ba6c3e5da6c": {
          "model_module": "@jupyter-widgets/controls",
          "model_name": "HTMLModel",
          "model_module_version": "1.5.0",
          "state": {
            "_dom_classes": [],
            "_model_module": "@jupyter-widgets/controls",
            "_model_module_version": "1.5.0",
            "_model_name": "HTMLModel",
            "_view_count": null,
            "_view_module": "@jupyter-widgets/controls",
            "_view_module_version": "1.5.0",
            "_view_name": "HTMLView",
            "description": "",
            "description_tooltip": null,
            "layout": "IPY_MODEL_fd7001f3241f4db5b77fa04f712ca23f",
            "placeholder": "​",
            "style": "IPY_MODEL_70d1a102464d4c72bbf8e510bbe6aab2",
            "value": "0000.parquet: 100%"
          }
        },
        "2edb17e0bbe149c29051800043fb9c26": {
          "model_module": "@jupyter-widgets/controls",
          "model_name": "FloatProgressModel",
          "model_module_version": "1.5.0",
          "state": {
            "_dom_classes": [],
            "_model_module": "@jupyter-widgets/controls",
            "_model_module_version": "1.5.0",
            "_model_name": "FloatProgressModel",
            "_view_count": null,
            "_view_module": "@jupyter-widgets/controls",
            "_view_module_version": "1.5.0",
            "_view_name": "ProgressView",
            "bar_style": "success",
            "description": "",
            "description_tooltip": null,
            "layout": "IPY_MODEL_29db6f9132684a1eb408c38a8b028cb0",
            "max": 13479406,
            "min": 0,
            "orientation": "horizontal",
            "style": "IPY_MODEL_5335a7537c24423fb28c3f84ba70c534",
            "value": 13479406
          }
        },
        "2c014e6c5d92449f80a2f145e14af9b6": {
          "model_module": "@jupyter-widgets/controls",
          "model_name": "HTMLModel",
          "model_module_version": "1.5.0",
          "state": {
            "_dom_classes": [],
            "_model_module": "@jupyter-widgets/controls",
            "_model_module_version": "1.5.0",
            "_model_name": "HTMLModel",
            "_view_count": null,
            "_view_module": "@jupyter-widgets/controls",
            "_view_module_version": "1.5.0",
            "_view_name": "HTMLView",
            "description": "",
            "description_tooltip": null,
            "layout": "IPY_MODEL_28d948a06bb34335a268cd724d2294c1",
            "placeholder": "​",
            "style": "IPY_MODEL_94f1697013cb47b581046d8c68a134d8",
            "value": " 13.5M/13.5M [00:00&lt;00:00, 72.2MB/s]"
          }
        },
        "f21c729e52794a278bad208cb9047250": {
          "model_module": "@jupyter-widgets/base",
          "model_name": "LayoutModel",
          "model_module_version": "1.2.0",
          "state": {
            "_model_module": "@jupyter-widgets/base",
            "_model_module_version": "1.2.0",
            "_model_name": "LayoutModel",
            "_view_count": null,
            "_view_module": "@jupyter-widgets/base",
            "_view_module_version": "1.2.0",
            "_view_name": "LayoutView",
            "align_content": null,
            "align_items": null,
            "align_self": null,
            "border": null,
            "bottom": null,
            "display": null,
            "flex": null,
            "flex_flow": null,
            "grid_area": null,
            "grid_auto_columns": null,
            "grid_auto_flow": null,
            "grid_auto_rows": null,
            "grid_column": null,
            "grid_gap": null,
            "grid_row": null,
            "grid_template_areas": null,
            "grid_template_columns": null,
            "grid_template_rows": null,
            "height": null,
            "justify_content": null,
            "justify_items": null,
            "left": null,
            "margin": null,
            "max_height": null,
            "max_width": null,
            "min_height": null,
            "min_width": null,
            "object_fit": null,
            "object_position": null,
            "order": null,
            "overflow": null,
            "overflow_x": null,
            "overflow_y": null,
            "padding": null,
            "right": null,
            "top": null,
            "visibility": null,
            "width": null
          }
        },
        "fd7001f3241f4db5b77fa04f712ca23f": {
          "model_module": "@jupyter-widgets/base",
          "model_name": "LayoutModel",
          "model_module_version": "1.2.0",
          "state": {
            "_model_module": "@jupyter-widgets/base",
            "_model_module_version": "1.2.0",
            "_model_name": "LayoutModel",
            "_view_count": null,
            "_view_module": "@jupyter-widgets/base",
            "_view_module_version": "1.2.0",
            "_view_name": "LayoutView",
            "align_content": null,
            "align_items": null,
            "align_self": null,
            "border": null,
            "bottom": null,
            "display": null,
            "flex": null,
            "flex_flow": null,
            "grid_area": null,
            "grid_auto_columns": null,
            "grid_auto_flow": null,
            "grid_auto_rows": null,
            "grid_column": null,
            "grid_gap": null,
            "grid_row": null,
            "grid_template_areas": null,
            "grid_template_columns": null,
            "grid_template_rows": null,
            "height": null,
            "justify_content": null,
            "justify_items": null,
            "left": null,
            "margin": null,
            "max_height": null,
            "max_width": null,
            "min_height": null,
            "min_width": null,
            "object_fit": null,
            "object_position": null,
            "order": null,
            "overflow": null,
            "overflow_x": null,
            "overflow_y": null,
            "padding": null,
            "right": null,
            "top": null,
            "visibility": null,
            "width": null
          }
        },
        "70d1a102464d4c72bbf8e510bbe6aab2": {
          "model_module": "@jupyter-widgets/controls",
          "model_name": "DescriptionStyleModel",
          "model_module_version": "1.5.0",
          "state": {
            "_model_module": "@jupyter-widgets/controls",
            "_model_module_version": "1.5.0",
            "_model_name": "DescriptionStyleModel",
            "_view_count": null,
            "_view_module": "@jupyter-widgets/base",
            "_view_module_version": "1.2.0",
            "_view_name": "StyleView",
            "description_width": ""
          }
        },
        "29db6f9132684a1eb408c38a8b028cb0": {
          "model_module": "@jupyter-widgets/base",
          "model_name": "LayoutModel",
          "model_module_version": "1.2.0",
          "state": {
            "_model_module": "@jupyter-widgets/base",
            "_model_module_version": "1.2.0",
            "_model_name": "LayoutModel",
            "_view_count": null,
            "_view_module": "@jupyter-widgets/base",
            "_view_module_version": "1.2.0",
            "_view_name": "LayoutView",
            "align_content": null,
            "align_items": null,
            "align_self": null,
            "border": null,
            "bottom": null,
            "display": null,
            "flex": null,
            "flex_flow": null,
            "grid_area": null,
            "grid_auto_columns": null,
            "grid_auto_flow": null,
            "grid_auto_rows": null,
            "grid_column": null,
            "grid_gap": null,
            "grid_row": null,
            "grid_template_areas": null,
            "grid_template_columns": null,
            "grid_template_rows": null,
            "height": null,
            "justify_content": null,
            "justify_items": null,
            "left": null,
            "margin": null,
            "max_height": null,
            "max_width": null,
            "min_height": null,
            "min_width": null,
            "object_fit": null,
            "object_position": null,
            "order": null,
            "overflow": null,
            "overflow_x": null,
            "overflow_y": null,
            "padding": null,
            "right": null,
            "top": null,
            "visibility": null,
            "width": null
          }
        },
        "5335a7537c24423fb28c3f84ba70c534": {
          "model_module": "@jupyter-widgets/controls",
          "model_name": "ProgressStyleModel",
          "model_module_version": "1.5.0",
          "state": {
            "_model_module": "@jupyter-widgets/controls",
            "_model_module_version": "1.5.0",
            "_model_name": "ProgressStyleModel",
            "_view_count": null,
            "_view_module": "@jupyter-widgets/base",
            "_view_module_version": "1.2.0",
            "_view_name": "StyleView",
            "bar_color": null,
            "description_width": ""
          }
        },
        "28d948a06bb34335a268cd724d2294c1": {
          "model_module": "@jupyter-widgets/base",
          "model_name": "LayoutModel",
          "model_module_version": "1.2.0",
          "state": {
            "_model_module": "@jupyter-widgets/base",
            "_model_module_version": "1.2.0",
            "_model_name": "LayoutModel",
            "_view_count": null,
            "_view_module": "@jupyter-widgets/base",
            "_view_module_version": "1.2.0",
            "_view_name": "LayoutView",
            "align_content": null,
            "align_items": null,
            "align_self": null,
            "border": null,
            "bottom": null,
            "display": null,
            "flex": null,
            "flex_flow": null,
            "grid_area": null,
            "grid_auto_columns": null,
            "grid_auto_flow": null,
            "grid_auto_rows": null,
            "grid_column": null,
            "grid_gap": null,
            "grid_row": null,
            "grid_template_areas": null,
            "grid_template_columns": null,
            "grid_template_rows": null,
            "height": null,
            "justify_content": null,
            "justify_items": null,
            "left": null,
            "margin": null,
            "max_height": null,
            "max_width": null,
            "min_height": null,
            "min_width": null,
            "object_fit": null,
            "object_position": null,
            "order": null,
            "overflow": null,
            "overflow_x": null,
            "overflow_y": null,
            "padding": null,
            "right": null,
            "top": null,
            "visibility": null,
            "width": null
          }
        },
        "94f1697013cb47b581046d8c68a134d8": {
          "model_module": "@jupyter-widgets/controls",
          "model_name": "DescriptionStyleModel",
          "model_module_version": "1.5.0",
          "state": {
            "_model_module": "@jupyter-widgets/controls",
            "_model_module_version": "1.5.0",
            "_model_name": "DescriptionStyleModel",
            "_view_count": null,
            "_view_module": "@jupyter-widgets/base",
            "_view_module_version": "1.2.0",
            "_view_name": "StyleView",
            "description_width": ""
          }
        },
        "0e2c9660a62543a6add9aaf12c02152a": {
          "model_module": "@jupyter-widgets/controls",
          "model_name": "HBoxModel",
          "model_module_version": "1.5.0",
          "state": {
            "_dom_classes": [],
            "_model_module": "@jupyter-widgets/controls",
            "_model_module_version": "1.5.0",
            "_model_name": "HBoxModel",
            "_view_count": null,
            "_view_module": "@jupyter-widgets/controls",
            "_view_module_version": "1.5.0",
            "_view_name": "HBoxView",
            "box_style": "",
            "children": [
              "IPY_MODEL_5863135a18be4c06800305cd5d68976d",
              "IPY_MODEL_9339c005c36c48889447bfdc8ea19b44",
              "IPY_MODEL_6577ec3b96e04ef59a49a0fc85b419a7"
            ],
            "layout": "IPY_MODEL_ba6244f206c24d54b4d67f653a38cb41"
          }
        },
        "5863135a18be4c06800305cd5d68976d": {
          "model_module": "@jupyter-widgets/controls",
          "model_name": "HTMLModel",
          "model_module_version": "1.5.0",
          "state": {
            "_dom_classes": [],
            "_model_module": "@jupyter-widgets/controls",
            "_model_module_version": "1.5.0",
            "_model_name": "HTMLModel",
            "_view_count": null,
            "_view_module": "@jupyter-widgets/controls",
            "_view_module_version": "1.5.0",
            "_view_name": "HTMLView",
            "description": "",
            "description_tooltip": null,
            "layout": "IPY_MODEL_983198eb56ba42bbbf571749ea850507",
            "placeholder": "​",
            "style": "IPY_MODEL_f4d88174a8184d838a9ee4c126680d67",
            "value": "0000.parquet: 100%"
          }
        },
        "9339c005c36c48889447bfdc8ea19b44": {
          "model_module": "@jupyter-widgets/controls",
          "model_name": "FloatProgressModel",
          "model_module_version": "1.5.0",
          "state": {
            "_dom_classes": [],
            "_model_module": "@jupyter-widgets/controls",
            "_model_module_version": "1.5.0",
            "_model_name": "FloatProgressModel",
            "_view_count": null,
            "_view_module": "@jupyter-widgets/controls",
            "_view_module_version": "1.5.0",
            "_view_name": "ProgressView",
            "bar_style": "success",
            "description": "",
            "description_tooltip": null,
            "layout": "IPY_MODEL_477f4d5688fb48169bbbc87122a19eb2",
            "max": 7115921,
            "min": 0,
            "orientation": "horizontal",
            "style": "IPY_MODEL_fbe3e6f95cab47a09d4c6f94bd01f12e",
            "value": 7115921
          }
        },
        "6577ec3b96e04ef59a49a0fc85b419a7": {
          "model_module": "@jupyter-widgets/controls",
          "model_name": "HTMLModel",
          "model_module_version": "1.5.0",
          "state": {
            "_dom_classes": [],
            "_model_module": "@jupyter-widgets/controls",
            "_model_module_version": "1.5.0",
            "_model_name": "HTMLModel",
            "_view_count": null,
            "_view_module": "@jupyter-widgets/controls",
            "_view_module_version": "1.5.0",
            "_view_name": "HTMLView",
            "description": "",
            "description_tooltip": null,
            "layout": "IPY_MODEL_c2a82ba95e8a4489add169a9001f8c46",
            "placeholder": "​",
            "style": "IPY_MODEL_1e5c60a352a143f8a68f0bbafc89c142",
            "value": " 7.12M/7.12M [00:00&lt;00:00, 49.3MB/s]"
          }
        },
        "ba6244f206c24d54b4d67f653a38cb41": {
          "model_module": "@jupyter-widgets/base",
          "model_name": "LayoutModel",
          "model_module_version": "1.2.0",
          "state": {
            "_model_module": "@jupyter-widgets/base",
            "_model_module_version": "1.2.0",
            "_model_name": "LayoutModel",
            "_view_count": null,
            "_view_module": "@jupyter-widgets/base",
            "_view_module_version": "1.2.0",
            "_view_name": "LayoutView",
            "align_content": null,
            "align_items": null,
            "align_self": null,
            "border": null,
            "bottom": null,
            "display": null,
            "flex": null,
            "flex_flow": null,
            "grid_area": null,
            "grid_auto_columns": null,
            "grid_auto_flow": null,
            "grid_auto_rows": null,
            "grid_column": null,
            "grid_gap": null,
            "grid_row": null,
            "grid_template_areas": null,
            "grid_template_columns": null,
            "grid_template_rows": null,
            "height": null,
            "justify_content": null,
            "justify_items": null,
            "left": null,
            "margin": null,
            "max_height": null,
            "max_width": null,
            "min_height": null,
            "min_width": null,
            "object_fit": null,
            "object_position": null,
            "order": null,
            "overflow": null,
            "overflow_x": null,
            "overflow_y": null,
            "padding": null,
            "right": null,
            "top": null,
            "visibility": null,
            "width": null
          }
        },
        "983198eb56ba42bbbf571749ea850507": {
          "model_module": "@jupyter-widgets/base",
          "model_name": "LayoutModel",
          "model_module_version": "1.2.0",
          "state": {
            "_model_module": "@jupyter-widgets/base",
            "_model_module_version": "1.2.0",
            "_model_name": "LayoutModel",
            "_view_count": null,
            "_view_module": "@jupyter-widgets/base",
            "_view_module_version": "1.2.0",
            "_view_name": "LayoutView",
            "align_content": null,
            "align_items": null,
            "align_self": null,
            "border": null,
            "bottom": null,
            "display": null,
            "flex": null,
            "flex_flow": null,
            "grid_area": null,
            "grid_auto_columns": null,
            "grid_auto_flow": null,
            "grid_auto_rows": null,
            "grid_column": null,
            "grid_gap": null,
            "grid_row": null,
            "grid_template_areas": null,
            "grid_template_columns": null,
            "grid_template_rows": null,
            "height": null,
            "justify_content": null,
            "justify_items": null,
            "left": null,
            "margin": null,
            "max_height": null,
            "max_width": null,
            "min_height": null,
            "min_width": null,
            "object_fit": null,
            "object_position": null,
            "order": null,
            "overflow": null,
            "overflow_x": null,
            "overflow_y": null,
            "padding": null,
            "right": null,
            "top": null,
            "visibility": null,
            "width": null
          }
        },
        "f4d88174a8184d838a9ee4c126680d67": {
          "model_module": "@jupyter-widgets/controls",
          "model_name": "DescriptionStyleModel",
          "model_module_version": "1.5.0",
          "state": {
            "_model_module": "@jupyter-widgets/controls",
            "_model_module_version": "1.5.0",
            "_model_name": "DescriptionStyleModel",
            "_view_count": null,
            "_view_module": "@jupyter-widgets/base",
            "_view_module_version": "1.2.0",
            "_view_name": "StyleView",
            "description_width": ""
          }
        },
        "477f4d5688fb48169bbbc87122a19eb2": {
          "model_module": "@jupyter-widgets/base",
          "model_name": "LayoutModel",
          "model_module_version": "1.2.0",
          "state": {
            "_model_module": "@jupyter-widgets/base",
            "_model_module_version": "1.2.0",
            "_model_name": "LayoutModel",
            "_view_count": null,
            "_view_module": "@jupyter-widgets/base",
            "_view_module_version": "1.2.0",
            "_view_name": "LayoutView",
            "align_content": null,
            "align_items": null,
            "align_self": null,
            "border": null,
            "bottom": null,
            "display": null,
            "flex": null,
            "flex_flow": null,
            "grid_area": null,
            "grid_auto_columns": null,
            "grid_auto_flow": null,
            "grid_auto_rows": null,
            "grid_column": null,
            "grid_gap": null,
            "grid_row": null,
            "grid_template_areas": null,
            "grid_template_columns": null,
            "grid_template_rows": null,
            "height": null,
            "justify_content": null,
            "justify_items": null,
            "left": null,
            "margin": null,
            "max_height": null,
            "max_width": null,
            "min_height": null,
            "min_width": null,
            "object_fit": null,
            "object_position": null,
            "order": null,
            "overflow": null,
            "overflow_x": null,
            "overflow_y": null,
            "padding": null,
            "right": null,
            "top": null,
            "visibility": null,
            "width": null
          }
        },
        "fbe3e6f95cab47a09d4c6f94bd01f12e": {
          "model_module": "@jupyter-widgets/controls",
          "model_name": "ProgressStyleModel",
          "model_module_version": "1.5.0",
          "state": {
            "_model_module": "@jupyter-widgets/controls",
            "_model_module_version": "1.5.0",
            "_model_name": "ProgressStyleModel",
            "_view_count": null,
            "_view_module": "@jupyter-widgets/base",
            "_view_module_version": "1.2.0",
            "_view_name": "StyleView",
            "bar_color": null,
            "description_width": ""
          }
        },
        "c2a82ba95e8a4489add169a9001f8c46": {
          "model_module": "@jupyter-widgets/base",
          "model_name": "LayoutModel",
          "model_module_version": "1.2.0",
          "state": {
            "_model_module": "@jupyter-widgets/base",
            "_model_module_version": "1.2.0",
            "_model_name": "LayoutModel",
            "_view_count": null,
            "_view_module": "@jupyter-widgets/base",
            "_view_module_version": "1.2.0",
            "_view_name": "LayoutView",
            "align_content": null,
            "align_items": null,
            "align_self": null,
            "border": null,
            "bottom": null,
            "display": null,
            "flex": null,
            "flex_flow": null,
            "grid_area": null,
            "grid_auto_columns": null,
            "grid_auto_flow": null,
            "grid_auto_rows": null,
            "grid_column": null,
            "grid_gap": null,
            "grid_row": null,
            "grid_template_areas": null,
            "grid_template_columns": null,
            "grid_template_rows": null,
            "height": null,
            "justify_content": null,
            "justify_items": null,
            "left": null,
            "margin": null,
            "max_height": null,
            "max_width": null,
            "min_height": null,
            "min_width": null,
            "object_fit": null,
            "object_position": null,
            "order": null,
            "overflow": null,
            "overflow_x": null,
            "overflow_y": null,
            "padding": null,
            "right": null,
            "top": null,
            "visibility": null,
            "width": null
          }
        },
        "1e5c60a352a143f8a68f0bbafc89c142": {
          "model_module": "@jupyter-widgets/controls",
          "model_name": "DescriptionStyleModel",
          "model_module_version": "1.5.0",
          "state": {
            "_model_module": "@jupyter-widgets/controls",
            "_model_module_version": "1.5.0",
            "_model_name": "DescriptionStyleModel",
            "_view_count": null,
            "_view_module": "@jupyter-widgets/base",
            "_view_module_version": "1.2.0",
            "_view_name": "StyleView",
            "description_width": ""
          }
        },
        "8a68e62de1584c8a9ce2bbe1741a90a5": {
          "model_module": "@jupyter-widgets/controls",
          "model_name": "HBoxModel",
          "model_module_version": "1.5.0",
          "state": {
            "_dom_classes": [],
            "_model_module": "@jupyter-widgets/controls",
            "_model_module_version": "1.5.0",
            "_model_name": "HBoxModel",
            "_view_count": null,
            "_view_module": "@jupyter-widgets/controls",
            "_view_module_version": "1.5.0",
            "_view_name": "HBoxView",
            "box_style": "",
            "children": [
              "IPY_MODEL_a99d130f97d54256b9b7716d02c22063",
              "IPY_MODEL_edbbe638b33c48f5a0721b58a12a5e0e",
              "IPY_MODEL_7fd0cb67984b425d83b39205d5848b2d"
            ],
            "layout": "IPY_MODEL_579789f679e648abbe0439b1d7931874"
          }
        },
        "a99d130f97d54256b9b7716d02c22063": {
          "model_module": "@jupyter-widgets/controls",
          "model_name": "HTMLModel",
          "model_module_version": "1.5.0",
          "state": {
            "_dom_classes": [],
            "_model_module": "@jupyter-widgets/controls",
            "_model_module_version": "1.5.0",
            "_model_name": "HTMLModel",
            "_view_count": null,
            "_view_module": "@jupyter-widgets/controls",
            "_view_module_version": "1.5.0",
            "_view_name": "HTMLView",
            "description": "",
            "description_tooltip": null,
            "layout": "IPY_MODEL_8618a27f98574ceab8f07c80991cb575",
            "placeholder": "​",
            "style": "IPY_MODEL_95299ed295c841df994b1da3d29d6d66",
            "value": "Generating train split: 100%"
          }
        },
        "edbbe638b33c48f5a0721b58a12a5e0e": {
          "model_module": "@jupyter-widgets/controls",
          "model_name": "FloatProgressModel",
          "model_module_version": "1.5.0",
          "state": {
            "_dom_classes": [],
            "_model_module": "@jupyter-widgets/controls",
            "_model_module_version": "1.5.0",
            "_model_name": "FloatProgressModel",
            "_view_count": null,
            "_view_module": "@jupyter-widgets/controls",
            "_view_module_version": "1.5.0",
            "_view_name": "ProgressView",
            "bar_style": "success",
            "description": "",
            "description_tooltip": null,
            "layout": "IPY_MODEL_c260998201094f0281b9bad182fa20f8",
            "max": 4869,
            "min": 0,
            "orientation": "horizontal",
            "style": "IPY_MODEL_2c316895c9b04d4b828cf3834d1b83cc",
            "value": 4869
          }
        },
        "7fd0cb67984b425d83b39205d5848b2d": {
          "model_module": "@jupyter-widgets/controls",
          "model_name": "HTMLModel",
          "model_module_version": "1.5.0",
          "state": {
            "_dom_classes": [],
            "_model_module": "@jupyter-widgets/controls",
            "_model_module_version": "1.5.0",
            "_model_name": "HTMLModel",
            "_view_count": null,
            "_view_module": "@jupyter-widgets/controls",
            "_view_module_version": "1.5.0",
            "_view_name": "HTMLView",
            "description": "",
            "description_tooltip": null,
            "layout": "IPY_MODEL_ce35c0073b24408c856ccbd2e750cc93",
            "placeholder": "​",
            "style": "IPY_MODEL_24b7d5ea07194c46b5c9735978ad0803",
            "value": " 4869/4869 [00:00&lt;00:00, 9193.03 examples/s]"
          }
        },
        "579789f679e648abbe0439b1d7931874": {
          "model_module": "@jupyter-widgets/base",
          "model_name": "LayoutModel",
          "model_module_version": "1.2.0",
          "state": {
            "_model_module": "@jupyter-widgets/base",
            "_model_module_version": "1.2.0",
            "_model_name": "LayoutModel",
            "_view_count": null,
            "_view_module": "@jupyter-widgets/base",
            "_view_module_version": "1.2.0",
            "_view_name": "LayoutView",
            "align_content": null,
            "align_items": null,
            "align_self": null,
            "border": null,
            "bottom": null,
            "display": null,
            "flex": null,
            "flex_flow": null,
            "grid_area": null,
            "grid_auto_columns": null,
            "grid_auto_flow": null,
            "grid_auto_rows": null,
            "grid_column": null,
            "grid_gap": null,
            "grid_row": null,
            "grid_template_areas": null,
            "grid_template_columns": null,
            "grid_template_rows": null,
            "height": null,
            "justify_content": null,
            "justify_items": null,
            "left": null,
            "margin": null,
            "max_height": null,
            "max_width": null,
            "min_height": null,
            "min_width": null,
            "object_fit": null,
            "object_position": null,
            "order": null,
            "overflow": null,
            "overflow_x": null,
            "overflow_y": null,
            "padding": null,
            "right": null,
            "top": null,
            "visibility": null,
            "width": null
          }
        },
        "8618a27f98574ceab8f07c80991cb575": {
          "model_module": "@jupyter-widgets/base",
          "model_name": "LayoutModel",
          "model_module_version": "1.2.0",
          "state": {
            "_model_module": "@jupyter-widgets/base",
            "_model_module_version": "1.2.0",
            "_model_name": "LayoutModel",
            "_view_count": null,
            "_view_module": "@jupyter-widgets/base",
            "_view_module_version": "1.2.0",
            "_view_name": "LayoutView",
            "align_content": null,
            "align_items": null,
            "align_self": null,
            "border": null,
            "bottom": null,
            "display": null,
            "flex": null,
            "flex_flow": null,
            "grid_area": null,
            "grid_auto_columns": null,
            "grid_auto_flow": null,
            "grid_auto_rows": null,
            "grid_column": null,
            "grid_gap": null,
            "grid_row": null,
            "grid_template_areas": null,
            "grid_template_columns": null,
            "grid_template_rows": null,
            "height": null,
            "justify_content": null,
            "justify_items": null,
            "left": null,
            "margin": null,
            "max_height": null,
            "max_width": null,
            "min_height": null,
            "min_width": null,
            "object_fit": null,
            "object_position": null,
            "order": null,
            "overflow": null,
            "overflow_x": null,
            "overflow_y": null,
            "padding": null,
            "right": null,
            "top": null,
            "visibility": null,
            "width": null
          }
        },
        "95299ed295c841df994b1da3d29d6d66": {
          "model_module": "@jupyter-widgets/controls",
          "model_name": "DescriptionStyleModel",
          "model_module_version": "1.5.0",
          "state": {
            "_model_module": "@jupyter-widgets/controls",
            "_model_module_version": "1.5.0",
            "_model_name": "DescriptionStyleModel",
            "_view_count": null,
            "_view_module": "@jupyter-widgets/base",
            "_view_module_version": "1.2.0",
            "_view_name": "StyleView",
            "description_width": ""
          }
        },
        "c260998201094f0281b9bad182fa20f8": {
          "model_module": "@jupyter-widgets/base",
          "model_name": "LayoutModel",
          "model_module_version": "1.2.0",
          "state": {
            "_model_module": "@jupyter-widgets/base",
            "_model_module_version": "1.2.0",
            "_model_name": "LayoutModel",
            "_view_count": null,
            "_view_module": "@jupyter-widgets/base",
            "_view_module_version": "1.2.0",
            "_view_name": "LayoutView",
            "align_content": null,
            "align_items": null,
            "align_self": null,
            "border": null,
            "bottom": null,
            "display": null,
            "flex": null,
            "flex_flow": null,
            "grid_area": null,
            "grid_auto_columns": null,
            "grid_auto_flow": null,
            "grid_auto_rows": null,
            "grid_column": null,
            "grid_gap": null,
            "grid_row": null,
            "grid_template_areas": null,
            "grid_template_columns": null,
            "grid_template_rows": null,
            "height": null,
            "justify_content": null,
            "justify_items": null,
            "left": null,
            "margin": null,
            "max_height": null,
            "max_width": null,
            "min_height": null,
            "min_width": null,
            "object_fit": null,
            "object_position": null,
            "order": null,
            "overflow": null,
            "overflow_x": null,
            "overflow_y": null,
            "padding": null,
            "right": null,
            "top": null,
            "visibility": null,
            "width": null
          }
        },
        "2c316895c9b04d4b828cf3834d1b83cc": {
          "model_module": "@jupyter-widgets/controls",
          "model_name": "ProgressStyleModel",
          "model_module_version": "1.5.0",
          "state": {
            "_model_module": "@jupyter-widgets/controls",
            "_model_module_version": "1.5.0",
            "_model_name": "ProgressStyleModel",
            "_view_count": null,
            "_view_module": "@jupyter-widgets/base",
            "_view_module_version": "1.2.0",
            "_view_name": "StyleView",
            "bar_color": null,
            "description_width": ""
          }
        },
        "ce35c0073b24408c856ccbd2e750cc93": {
          "model_module": "@jupyter-widgets/base",
          "model_name": "LayoutModel",
          "model_module_version": "1.2.0",
          "state": {
            "_model_module": "@jupyter-widgets/base",
            "_model_module_version": "1.2.0",
            "_model_name": "LayoutModel",
            "_view_count": null,
            "_view_module": "@jupyter-widgets/base",
            "_view_module_version": "1.2.0",
            "_view_name": "LayoutView",
            "align_content": null,
            "align_items": null,
            "align_self": null,
            "border": null,
            "bottom": null,
            "display": null,
            "flex": null,
            "flex_flow": null,
            "grid_area": null,
            "grid_auto_columns": null,
            "grid_auto_flow": null,
            "grid_auto_rows": null,
            "grid_column": null,
            "grid_gap": null,
            "grid_row": null,
            "grid_template_areas": null,
            "grid_template_columns": null,
            "grid_template_rows": null,
            "height": null,
            "justify_content": null,
            "justify_items": null,
            "left": null,
            "margin": null,
            "max_height": null,
            "max_width": null,
            "min_height": null,
            "min_width": null,
            "object_fit": null,
            "object_position": null,
            "order": null,
            "overflow": null,
            "overflow_x": null,
            "overflow_y": null,
            "padding": null,
            "right": null,
            "top": null,
            "visibility": null,
            "width": null
          }
        },
        "24b7d5ea07194c46b5c9735978ad0803": {
          "model_module": "@jupyter-widgets/controls",
          "model_name": "DescriptionStyleModel",
          "model_module_version": "1.5.0",
          "state": {
            "_model_module": "@jupyter-widgets/controls",
            "_model_module_version": "1.5.0",
            "_model_name": "DescriptionStyleModel",
            "_view_count": null,
            "_view_module": "@jupyter-widgets/base",
            "_view_module_version": "1.2.0",
            "_view_name": "StyleView",
            "description_width": ""
          }
        },
        "b42fa90400ab4670bfbc6f0d59189c38": {
          "model_module": "@jupyter-widgets/controls",
          "model_name": "HBoxModel",
          "model_module_version": "1.5.0",
          "state": {
            "_dom_classes": [],
            "_model_module": "@jupyter-widgets/controls",
            "_model_module_version": "1.5.0",
            "_model_name": "HBoxModel",
            "_view_count": null,
            "_view_module": "@jupyter-widgets/controls",
            "_view_module_version": "1.5.0",
            "_view_name": "HBoxView",
            "box_style": "",
            "children": [
              "IPY_MODEL_c12d502a70a14779b00354368a8840a9",
              "IPY_MODEL_f19b50aba3d14bf29dc21a6c924be20c",
              "IPY_MODEL_184133f6a4a64fd58ef080f1c9da9703"
            ],
            "layout": "IPY_MODEL_5f9115434b51403caa8a0d0df1025625"
          }
        },
        "c12d502a70a14779b00354368a8840a9": {
          "model_module": "@jupyter-widgets/controls",
          "model_name": "HTMLModel",
          "model_module_version": "1.5.0",
          "state": {
            "_dom_classes": [],
            "_model_module": "@jupyter-widgets/controls",
            "_model_module_version": "1.5.0",
            "_model_name": "HTMLModel",
            "_view_count": null,
            "_view_module": "@jupyter-widgets/controls",
            "_view_module_version": "1.5.0",
            "_view_name": "HTMLView",
            "description": "",
            "description_tooltip": null,
            "layout": "IPY_MODEL_5a2a1549e0eb4e8bb7c3ce031e9158e4",
            "placeholder": "​",
            "style": "IPY_MODEL_283cbd53336f4baebf05481caa7b6ec5",
            "value": "Generating validation split: 100%"
          }
        },
        "f19b50aba3d14bf29dc21a6c924be20c": {
          "model_module": "@jupyter-widgets/controls",
          "model_name": "FloatProgressModel",
          "model_module_version": "1.5.0",
          "state": {
            "_dom_classes": [],
            "_model_module": "@jupyter-widgets/controls",
            "_model_module_version": "1.5.0",
            "_model_name": "FloatProgressModel",
            "_view_count": null,
            "_view_module": "@jupyter-widgets/controls",
            "_view_module_version": "1.5.0",
            "_view_name": "ProgressView",
            "bar_style": "success",
            "description": "",
            "description_tooltip": null,
            "layout": "IPY_MODEL_679dfcb4301647c2b4a778b772b9680a",
            "max": 1390,
            "min": 0,
            "orientation": "horizontal",
            "style": "IPY_MODEL_b5e6ea9c35e34f4190b7b42232e2856b",
            "value": 1390
          }
        },
        "184133f6a4a64fd58ef080f1c9da9703": {
          "model_module": "@jupyter-widgets/controls",
          "model_name": "HTMLModel",
          "model_module_version": "1.5.0",
          "state": {
            "_dom_classes": [],
            "_model_module": "@jupyter-widgets/controls",
            "_model_module_version": "1.5.0",
            "_model_name": "HTMLModel",
            "_view_count": null,
            "_view_module": "@jupyter-widgets/controls",
            "_view_module_version": "1.5.0",
            "_view_name": "HTMLView",
            "description": "",
            "description_tooltip": null,
            "layout": "IPY_MODEL_945b6cbc6c124219a0196793461dbcff",
            "placeholder": "​",
            "style": "IPY_MODEL_442523b3e57f44a2bf2e53a0d11097b3",
            "value": " 1390/1390 [00:00&lt;00:00, 10998.06 examples/s]"
          }
        },
        "5f9115434b51403caa8a0d0df1025625": {
          "model_module": "@jupyter-widgets/base",
          "model_name": "LayoutModel",
          "model_module_version": "1.2.0",
          "state": {
            "_model_module": "@jupyter-widgets/base",
            "_model_module_version": "1.2.0",
            "_model_name": "LayoutModel",
            "_view_count": null,
            "_view_module": "@jupyter-widgets/base",
            "_view_module_version": "1.2.0",
            "_view_name": "LayoutView",
            "align_content": null,
            "align_items": null,
            "align_self": null,
            "border": null,
            "bottom": null,
            "display": null,
            "flex": null,
            "flex_flow": null,
            "grid_area": null,
            "grid_auto_columns": null,
            "grid_auto_flow": null,
            "grid_auto_rows": null,
            "grid_column": null,
            "grid_gap": null,
            "grid_row": null,
            "grid_template_areas": null,
            "grid_template_columns": null,
            "grid_template_rows": null,
            "height": null,
            "justify_content": null,
            "justify_items": null,
            "left": null,
            "margin": null,
            "max_height": null,
            "max_width": null,
            "min_height": null,
            "min_width": null,
            "object_fit": null,
            "object_position": null,
            "order": null,
            "overflow": null,
            "overflow_x": null,
            "overflow_y": null,
            "padding": null,
            "right": null,
            "top": null,
            "visibility": null,
            "width": null
          }
        },
        "5a2a1549e0eb4e8bb7c3ce031e9158e4": {
          "model_module": "@jupyter-widgets/base",
          "model_name": "LayoutModel",
          "model_module_version": "1.2.0",
          "state": {
            "_model_module": "@jupyter-widgets/base",
            "_model_module_version": "1.2.0",
            "_model_name": "LayoutModel",
            "_view_count": null,
            "_view_module": "@jupyter-widgets/base",
            "_view_module_version": "1.2.0",
            "_view_name": "LayoutView",
            "align_content": null,
            "align_items": null,
            "align_self": null,
            "border": null,
            "bottom": null,
            "display": null,
            "flex": null,
            "flex_flow": null,
            "grid_area": null,
            "grid_auto_columns": null,
            "grid_auto_flow": null,
            "grid_auto_rows": null,
            "grid_column": null,
            "grid_gap": null,
            "grid_row": null,
            "grid_template_areas": null,
            "grid_template_columns": null,
            "grid_template_rows": null,
            "height": null,
            "justify_content": null,
            "justify_items": null,
            "left": null,
            "margin": null,
            "max_height": null,
            "max_width": null,
            "min_height": null,
            "min_width": null,
            "object_fit": null,
            "object_position": null,
            "order": null,
            "overflow": null,
            "overflow_x": null,
            "overflow_y": null,
            "padding": null,
            "right": null,
            "top": null,
            "visibility": null,
            "width": null
          }
        },
        "283cbd53336f4baebf05481caa7b6ec5": {
          "model_module": "@jupyter-widgets/controls",
          "model_name": "DescriptionStyleModel",
          "model_module_version": "1.5.0",
          "state": {
            "_model_module": "@jupyter-widgets/controls",
            "_model_module_version": "1.5.0",
            "_model_name": "DescriptionStyleModel",
            "_view_count": null,
            "_view_module": "@jupyter-widgets/base",
            "_view_module_version": "1.2.0",
            "_view_name": "StyleView",
            "description_width": ""
          }
        },
        "679dfcb4301647c2b4a778b772b9680a": {
          "model_module": "@jupyter-widgets/base",
          "model_name": "LayoutModel",
          "model_module_version": "1.2.0",
          "state": {
            "_model_module": "@jupyter-widgets/base",
            "_model_module_version": "1.2.0",
            "_model_name": "LayoutModel",
            "_view_count": null,
            "_view_module": "@jupyter-widgets/base",
            "_view_module_version": "1.2.0",
            "_view_name": "LayoutView",
            "align_content": null,
            "align_items": null,
            "align_self": null,
            "border": null,
            "bottom": null,
            "display": null,
            "flex": null,
            "flex_flow": null,
            "grid_area": null,
            "grid_auto_columns": null,
            "grid_auto_flow": null,
            "grid_auto_rows": null,
            "grid_column": null,
            "grid_gap": null,
            "grid_row": null,
            "grid_template_areas": null,
            "grid_template_columns": null,
            "grid_template_rows": null,
            "height": null,
            "justify_content": null,
            "justify_items": null,
            "left": null,
            "margin": null,
            "max_height": null,
            "max_width": null,
            "min_height": null,
            "min_width": null,
            "object_fit": null,
            "object_position": null,
            "order": null,
            "overflow": null,
            "overflow_x": null,
            "overflow_y": null,
            "padding": null,
            "right": null,
            "top": null,
            "visibility": null,
            "width": null
          }
        },
        "b5e6ea9c35e34f4190b7b42232e2856b": {
          "model_module": "@jupyter-widgets/controls",
          "model_name": "ProgressStyleModel",
          "model_module_version": "1.5.0",
          "state": {
            "_model_module": "@jupyter-widgets/controls",
            "_model_module_version": "1.5.0",
            "_model_name": "ProgressStyleModel",
            "_view_count": null,
            "_view_module": "@jupyter-widgets/base",
            "_view_module_version": "1.2.0",
            "_view_name": "StyleView",
            "bar_color": null,
            "description_width": ""
          }
        },
        "945b6cbc6c124219a0196793461dbcff": {
          "model_module": "@jupyter-widgets/base",
          "model_name": "LayoutModel",
          "model_module_version": "1.2.0",
          "state": {
            "_model_module": "@jupyter-widgets/base",
            "_model_module_version": "1.2.0",
            "_model_name": "LayoutModel",
            "_view_count": null,
            "_view_module": "@jupyter-widgets/base",
            "_view_module_version": "1.2.0",
            "_view_name": "LayoutView",
            "align_content": null,
            "align_items": null,
            "align_self": null,
            "border": null,
            "bottom": null,
            "display": null,
            "flex": null,
            "flex_flow": null,
            "grid_area": null,
            "grid_auto_columns": null,
            "grid_auto_flow": null,
            "grid_auto_rows": null,
            "grid_column": null,
            "grid_gap": null,
            "grid_row": null,
            "grid_template_areas": null,
            "grid_template_columns": null,
            "grid_template_rows": null,
            "height": null,
            "justify_content": null,
            "justify_items": null,
            "left": null,
            "margin": null,
            "max_height": null,
            "max_width": null,
            "min_height": null,
            "min_width": null,
            "object_fit": null,
            "object_position": null,
            "order": null,
            "overflow": null,
            "overflow_x": null,
            "overflow_y": null,
            "padding": null,
            "right": null,
            "top": null,
            "visibility": null,
            "width": null
          }
        },
        "442523b3e57f44a2bf2e53a0d11097b3": {
          "model_module": "@jupyter-widgets/controls",
          "model_name": "DescriptionStyleModel",
          "model_module_version": "1.5.0",
          "state": {
            "_model_module": "@jupyter-widgets/controls",
            "_model_module_version": "1.5.0",
            "_model_name": "DescriptionStyleModel",
            "_view_count": null,
            "_view_module": "@jupyter-widgets/base",
            "_view_module_version": "1.2.0",
            "_view_name": "StyleView",
            "description_width": ""
          }
        },
        "4f3c84aec7164d5295a6c4291328d461": {
          "model_module": "@jupyter-widgets/controls",
          "model_name": "HBoxModel",
          "model_module_version": "1.5.0",
          "state": {
            "_dom_classes": [],
            "_model_module": "@jupyter-widgets/controls",
            "_model_module_version": "1.5.0",
            "_model_name": "HBoxModel",
            "_view_count": null,
            "_view_module": "@jupyter-widgets/controls",
            "_view_module_version": "1.5.0",
            "_view_name": "HBoxView",
            "box_style": "",
            "children": [
              "IPY_MODEL_ef4ad7e4654244aa9da6ea43a5d18214",
              "IPY_MODEL_951567ac94b6438ba008fea29375cbd8",
              "IPY_MODEL_80b00b299d0a4fefb0bd5de9036f3be8"
            ],
            "layout": "IPY_MODEL_21bb31fac46c4af59a2510bed009513b"
          }
        },
        "ef4ad7e4654244aa9da6ea43a5d18214": {
          "model_module": "@jupyter-widgets/controls",
          "model_name": "HTMLModel",
          "model_module_version": "1.5.0",
          "state": {
            "_dom_classes": [],
            "_model_module": "@jupyter-widgets/controls",
            "_model_module_version": "1.5.0",
            "_model_name": "HTMLModel",
            "_view_count": null,
            "_view_module": "@jupyter-widgets/controls",
            "_view_module_version": "1.5.0",
            "_view_name": "HTMLView",
            "description": "",
            "description_tooltip": null,
            "layout": "IPY_MODEL_81aa6ff077764b22962f03f459bea12c",
            "placeholder": "​",
            "style": "IPY_MODEL_ab9ec19832d64bd1879b83e133a491b9",
            "value": "Generating test split: 100%"
          }
        },
        "951567ac94b6438ba008fea29375cbd8": {
          "model_module": "@jupyter-widgets/controls",
          "model_name": "FloatProgressModel",
          "model_module_version": "1.5.0",
          "state": {
            "_dom_classes": [],
            "_model_module": "@jupyter-widgets/controls",
            "_model_module_version": "1.5.0",
            "_model_name": "FloatProgressModel",
            "_view_count": null,
            "_view_module": "@jupyter-widgets/controls",
            "_view_module_version": "1.5.0",
            "_view_name": "ProgressView",
            "bar_style": "success",
            "description": "",
            "description_tooltip": null,
            "layout": "IPY_MODEL_64518f2afb604a39b4a5dd8db3913978",
            "max": 732,
            "min": 0,
            "orientation": "horizontal",
            "style": "IPY_MODEL_f759cee76af240e787b8c7cc785668b6",
            "value": 732
          }
        },
        "80b00b299d0a4fefb0bd5de9036f3be8": {
          "model_module": "@jupyter-widgets/controls",
          "model_name": "HTMLModel",
          "model_module_version": "1.5.0",
          "state": {
            "_dom_classes": [],
            "_model_module": "@jupyter-widgets/controls",
            "_model_module_version": "1.5.0",
            "_model_name": "HTMLModel",
            "_view_count": null,
            "_view_module": "@jupyter-widgets/controls",
            "_view_module_version": "1.5.0",
            "_view_name": "HTMLView",
            "description": "",
            "description_tooltip": null,
            "layout": "IPY_MODEL_76629a445fd74a3694a95ea96c66d718",
            "placeholder": "​",
            "style": "IPY_MODEL_c4520c4992cd469c84b56690348f6571",
            "value": " 732/732 [00:00&lt;00:00, 6412.00 examples/s]"
          }
        },
        "21bb31fac46c4af59a2510bed009513b": {
          "model_module": "@jupyter-widgets/base",
          "model_name": "LayoutModel",
          "model_module_version": "1.2.0",
          "state": {
            "_model_module": "@jupyter-widgets/base",
            "_model_module_version": "1.2.0",
            "_model_name": "LayoutModel",
            "_view_count": null,
            "_view_module": "@jupyter-widgets/base",
            "_view_module_version": "1.2.0",
            "_view_name": "LayoutView",
            "align_content": null,
            "align_items": null,
            "align_self": null,
            "border": null,
            "bottom": null,
            "display": null,
            "flex": null,
            "flex_flow": null,
            "grid_area": null,
            "grid_auto_columns": null,
            "grid_auto_flow": null,
            "grid_auto_rows": null,
            "grid_column": null,
            "grid_gap": null,
            "grid_row": null,
            "grid_template_areas": null,
            "grid_template_columns": null,
            "grid_template_rows": null,
            "height": null,
            "justify_content": null,
            "justify_items": null,
            "left": null,
            "margin": null,
            "max_height": null,
            "max_width": null,
            "min_height": null,
            "min_width": null,
            "object_fit": null,
            "object_position": null,
            "order": null,
            "overflow": null,
            "overflow_x": null,
            "overflow_y": null,
            "padding": null,
            "right": null,
            "top": null,
            "visibility": null,
            "width": null
          }
        },
        "81aa6ff077764b22962f03f459bea12c": {
          "model_module": "@jupyter-widgets/base",
          "model_name": "LayoutModel",
          "model_module_version": "1.2.0",
          "state": {
            "_model_module": "@jupyter-widgets/base",
            "_model_module_version": "1.2.0",
            "_model_name": "LayoutModel",
            "_view_count": null,
            "_view_module": "@jupyter-widgets/base",
            "_view_module_version": "1.2.0",
            "_view_name": "LayoutView",
            "align_content": null,
            "align_items": null,
            "align_self": null,
            "border": null,
            "bottom": null,
            "display": null,
            "flex": null,
            "flex_flow": null,
            "grid_area": null,
            "grid_auto_columns": null,
            "grid_auto_flow": null,
            "grid_auto_rows": null,
            "grid_column": null,
            "grid_gap": null,
            "grid_row": null,
            "grid_template_areas": null,
            "grid_template_columns": null,
            "grid_template_rows": null,
            "height": null,
            "justify_content": null,
            "justify_items": null,
            "left": null,
            "margin": null,
            "max_height": null,
            "max_width": null,
            "min_height": null,
            "min_width": null,
            "object_fit": null,
            "object_position": null,
            "order": null,
            "overflow": null,
            "overflow_x": null,
            "overflow_y": null,
            "padding": null,
            "right": null,
            "top": null,
            "visibility": null,
            "width": null
          }
        },
        "ab9ec19832d64bd1879b83e133a491b9": {
          "model_module": "@jupyter-widgets/controls",
          "model_name": "DescriptionStyleModel",
          "model_module_version": "1.5.0",
          "state": {
            "_model_module": "@jupyter-widgets/controls",
            "_model_module_version": "1.5.0",
            "_model_name": "DescriptionStyleModel",
            "_view_count": null,
            "_view_module": "@jupyter-widgets/base",
            "_view_module_version": "1.2.0",
            "_view_name": "StyleView",
            "description_width": ""
          }
        },
        "64518f2afb604a39b4a5dd8db3913978": {
          "model_module": "@jupyter-widgets/base",
          "model_name": "LayoutModel",
          "model_module_version": "1.2.0",
          "state": {
            "_model_module": "@jupyter-widgets/base",
            "_model_module_version": "1.2.0",
            "_model_name": "LayoutModel",
            "_view_count": null,
            "_view_module": "@jupyter-widgets/base",
            "_view_module_version": "1.2.0",
            "_view_name": "LayoutView",
            "align_content": null,
            "align_items": null,
            "align_self": null,
            "border": null,
            "bottom": null,
            "display": null,
            "flex": null,
            "flex_flow": null,
            "grid_area": null,
            "grid_auto_columns": null,
            "grid_auto_flow": null,
            "grid_auto_rows": null,
            "grid_column": null,
            "grid_gap": null,
            "grid_row": null,
            "grid_template_areas": null,
            "grid_template_columns": null,
            "grid_template_rows": null,
            "height": null,
            "justify_content": null,
            "justify_items": null,
            "left": null,
            "margin": null,
            "max_height": null,
            "max_width": null,
            "min_height": null,
            "min_width": null,
            "object_fit": null,
            "object_position": null,
            "order": null,
            "overflow": null,
            "overflow_x": null,
            "overflow_y": null,
            "padding": null,
            "right": null,
            "top": null,
            "visibility": null,
            "width": null
          }
        },
        "f759cee76af240e787b8c7cc785668b6": {
          "model_module": "@jupyter-widgets/controls",
          "model_name": "ProgressStyleModel",
          "model_module_version": "1.5.0",
          "state": {
            "_model_module": "@jupyter-widgets/controls",
            "_model_module_version": "1.5.0",
            "_model_name": "ProgressStyleModel",
            "_view_count": null,
            "_view_module": "@jupyter-widgets/base",
            "_view_module_version": "1.2.0",
            "_view_name": "StyleView",
            "bar_color": null,
            "description_width": ""
          }
        },
        "76629a445fd74a3694a95ea96c66d718": {
          "model_module": "@jupyter-widgets/base",
          "model_name": "LayoutModel",
          "model_module_version": "1.2.0",
          "state": {
            "_model_module": "@jupyter-widgets/base",
            "_model_module_version": "1.2.0",
            "_model_name": "LayoutModel",
            "_view_count": null,
            "_view_module": "@jupyter-widgets/base",
            "_view_module_version": "1.2.0",
            "_view_name": "LayoutView",
            "align_content": null,
            "align_items": null,
            "align_self": null,
            "border": null,
            "bottom": null,
            "display": null,
            "flex": null,
            "flex_flow": null,
            "grid_area": null,
            "grid_auto_columns": null,
            "grid_auto_flow": null,
            "grid_auto_rows": null,
            "grid_column": null,
            "grid_gap": null,
            "grid_row": null,
            "grid_template_areas": null,
            "grid_template_columns": null,
            "grid_template_rows": null,
            "height": null,
            "justify_content": null,
            "justify_items": null,
            "left": null,
            "margin": null,
            "max_height": null,
            "max_width": null,
            "min_height": null,
            "min_width": null,
            "object_fit": null,
            "object_position": null,
            "order": null,
            "overflow": null,
            "overflow_x": null,
            "overflow_y": null,
            "padding": null,
            "right": null,
            "top": null,
            "visibility": null,
            "width": null
          }
        },
        "c4520c4992cd469c84b56690348f6571": {
          "model_module": "@jupyter-widgets/controls",
          "model_name": "DescriptionStyleModel",
          "model_module_version": "1.5.0",
          "state": {
            "_model_module": "@jupyter-widgets/controls",
            "_model_module_version": "1.5.0",
            "_model_name": "DescriptionStyleModel",
            "_view_count": null,
            "_view_module": "@jupyter-widgets/base",
            "_view_module_version": "1.2.0",
            "_view_name": "StyleView",
            "description_width": ""
          }
        },
        "fbe500ced38d4e2a80e6fe70a9ccf173": {
          "model_module": "@jupyter-widgets/controls",
          "model_name": "HBoxModel",
          "model_module_version": "1.5.0",
          "state": {
            "_dom_classes": [],
            "_model_module": "@jupyter-widgets/controls",
            "_model_module_version": "1.5.0",
            "_model_name": "HBoxModel",
            "_view_count": null,
            "_view_module": "@jupyter-widgets/controls",
            "_view_module_version": "1.5.0",
            "_view_name": "HBoxView",
            "box_style": "",
            "children": [
              "IPY_MODEL_6a01b2687ea14ec7bcd10cc19fc9bc01",
              "IPY_MODEL_74c3a79f9854416ca9cc772c46188ea1",
              "IPY_MODEL_f2077872c79e4d5394864421b1fcdeea"
            ],
            "layout": "IPY_MODEL_b9445a780ff9489daa2dde0366ae7a26"
          }
        },
        "6a01b2687ea14ec7bcd10cc19fc9bc01": {
          "model_module": "@jupyter-widgets/controls",
          "model_name": "HTMLModel",
          "model_module_version": "1.5.0",
          "state": {
            "_dom_classes": [],
            "_model_module": "@jupyter-widgets/controls",
            "_model_module_version": "1.5.0",
            "_model_name": "HTMLModel",
            "_view_count": null,
            "_view_module": "@jupyter-widgets/controls",
            "_view_module_version": "1.5.0",
            "_view_name": "HTMLView",
            "description": "",
            "description_tooltip": null,
            "layout": "IPY_MODEL_fccc6a87fba7488fb235e8acc7ee4428",
            "placeholder": "​",
            "style": "IPY_MODEL_8a1c6a4b03a84ba688975e8436b02cfe",
            "value": "preprocessor_config.json: 100%"
          }
        },
        "74c3a79f9854416ca9cc772c46188ea1": {
          "model_module": "@jupyter-widgets/controls",
          "model_name": "FloatProgressModel",
          "model_module_version": "1.5.0",
          "state": {
            "_dom_classes": [],
            "_model_module": "@jupyter-widgets/controls",
            "_model_module_version": "1.5.0",
            "_model_name": "FloatProgressModel",
            "_view_count": null,
            "_view_module": "@jupyter-widgets/controls",
            "_view_module_version": "1.5.0",
            "_view_name": "ProgressView",
            "bar_style": "success",
            "description": "",
            "description_tooltip": null,
            "layout": "IPY_MODEL_89b63f82d67d4b1ba3e3734f0e927a25",
            "max": 160,
            "min": 0,
            "orientation": "horizontal",
            "style": "IPY_MODEL_9e3f02b4b809425ab63b266d001f4934",
            "value": 160
          }
        },
        "f2077872c79e4d5394864421b1fcdeea": {
          "model_module": "@jupyter-widgets/controls",
          "model_name": "HTMLModel",
          "model_module_version": "1.5.0",
          "state": {
            "_dom_classes": [],
            "_model_module": "@jupyter-widgets/controls",
            "_model_module_version": "1.5.0",
            "_model_name": "HTMLModel",
            "_view_count": null,
            "_view_module": "@jupyter-widgets/controls",
            "_view_module_version": "1.5.0",
            "_view_name": "HTMLView",
            "description": "",
            "description_tooltip": null,
            "layout": "IPY_MODEL_cf690a628b0748ea8ec80a684cdc5da2",
            "placeholder": "​",
            "style": "IPY_MODEL_fa722b687d8443b3bed5ca1b9531b605",
            "value": " 160/160 [00:00&lt;00:00, 7.08kB/s]"
          }
        },
        "b9445a780ff9489daa2dde0366ae7a26": {
          "model_module": "@jupyter-widgets/base",
          "model_name": "LayoutModel",
          "model_module_version": "1.2.0",
          "state": {
            "_model_module": "@jupyter-widgets/base",
            "_model_module_version": "1.2.0",
            "_model_name": "LayoutModel",
            "_view_count": null,
            "_view_module": "@jupyter-widgets/base",
            "_view_module_version": "1.2.0",
            "_view_name": "LayoutView",
            "align_content": null,
            "align_items": null,
            "align_self": null,
            "border": null,
            "bottom": null,
            "display": null,
            "flex": null,
            "flex_flow": null,
            "grid_area": null,
            "grid_auto_columns": null,
            "grid_auto_flow": null,
            "grid_auto_rows": null,
            "grid_column": null,
            "grid_gap": null,
            "grid_row": null,
            "grid_template_areas": null,
            "grid_template_columns": null,
            "grid_template_rows": null,
            "height": null,
            "justify_content": null,
            "justify_items": null,
            "left": null,
            "margin": null,
            "max_height": null,
            "max_width": null,
            "min_height": null,
            "min_width": null,
            "object_fit": null,
            "object_position": null,
            "order": null,
            "overflow": null,
            "overflow_x": null,
            "overflow_y": null,
            "padding": null,
            "right": null,
            "top": null,
            "visibility": null,
            "width": null
          }
        },
        "fccc6a87fba7488fb235e8acc7ee4428": {
          "model_module": "@jupyter-widgets/base",
          "model_name": "LayoutModel",
          "model_module_version": "1.2.0",
          "state": {
            "_model_module": "@jupyter-widgets/base",
            "_model_module_version": "1.2.0",
            "_model_name": "LayoutModel",
            "_view_count": null,
            "_view_module": "@jupyter-widgets/base",
            "_view_module_version": "1.2.0",
            "_view_name": "LayoutView",
            "align_content": null,
            "align_items": null,
            "align_self": null,
            "border": null,
            "bottom": null,
            "display": null,
            "flex": null,
            "flex_flow": null,
            "grid_area": null,
            "grid_auto_columns": null,
            "grid_auto_flow": null,
            "grid_auto_rows": null,
            "grid_column": null,
            "grid_gap": null,
            "grid_row": null,
            "grid_template_areas": null,
            "grid_template_columns": null,
            "grid_template_rows": null,
            "height": null,
            "justify_content": null,
            "justify_items": null,
            "left": null,
            "margin": null,
            "max_height": null,
            "max_width": null,
            "min_height": null,
            "min_width": null,
            "object_fit": null,
            "object_position": null,
            "order": null,
            "overflow": null,
            "overflow_x": null,
            "overflow_y": null,
            "padding": null,
            "right": null,
            "top": null,
            "visibility": null,
            "width": null
          }
        },
        "8a1c6a4b03a84ba688975e8436b02cfe": {
          "model_module": "@jupyter-widgets/controls",
          "model_name": "DescriptionStyleModel",
          "model_module_version": "1.5.0",
          "state": {
            "_model_module": "@jupyter-widgets/controls",
            "_model_module_version": "1.5.0",
            "_model_name": "DescriptionStyleModel",
            "_view_count": null,
            "_view_module": "@jupyter-widgets/base",
            "_view_module_version": "1.2.0",
            "_view_name": "StyleView",
            "description_width": ""
          }
        },
        "89b63f82d67d4b1ba3e3734f0e927a25": {
          "model_module": "@jupyter-widgets/base",
          "model_name": "LayoutModel",
          "model_module_version": "1.2.0",
          "state": {
            "_model_module": "@jupyter-widgets/base",
            "_model_module_version": "1.2.0",
            "_model_name": "LayoutModel",
            "_view_count": null,
            "_view_module": "@jupyter-widgets/base",
            "_view_module_version": "1.2.0",
            "_view_name": "LayoutView",
            "align_content": null,
            "align_items": null,
            "align_self": null,
            "border": null,
            "bottom": null,
            "display": null,
            "flex": null,
            "flex_flow": null,
            "grid_area": null,
            "grid_auto_columns": null,
            "grid_auto_flow": null,
            "grid_auto_rows": null,
            "grid_column": null,
            "grid_gap": null,
            "grid_row": null,
            "grid_template_areas": null,
            "grid_template_columns": null,
            "grid_template_rows": null,
            "height": null,
            "justify_content": null,
            "justify_items": null,
            "left": null,
            "margin": null,
            "max_height": null,
            "max_width": null,
            "min_height": null,
            "min_width": null,
            "object_fit": null,
            "object_position": null,
            "order": null,
            "overflow": null,
            "overflow_x": null,
            "overflow_y": null,
            "padding": null,
            "right": null,
            "top": null,
            "visibility": null,
            "width": null
          }
        },
        "9e3f02b4b809425ab63b266d001f4934": {
          "model_module": "@jupyter-widgets/controls",
          "model_name": "ProgressStyleModel",
          "model_module_version": "1.5.0",
          "state": {
            "_model_module": "@jupyter-widgets/controls",
            "_model_module_version": "1.5.0",
            "_model_name": "ProgressStyleModel",
            "_view_count": null,
            "_view_module": "@jupyter-widgets/base",
            "_view_module_version": "1.2.0",
            "_view_name": "StyleView",
            "bar_color": null,
            "description_width": ""
          }
        },
        "cf690a628b0748ea8ec80a684cdc5da2": {
          "model_module": "@jupyter-widgets/base",
          "model_name": "LayoutModel",
          "model_module_version": "1.2.0",
          "state": {
            "_model_module": "@jupyter-widgets/base",
            "_model_module_version": "1.2.0",
            "_model_name": "LayoutModel",
            "_view_count": null,
            "_view_module": "@jupyter-widgets/base",
            "_view_module_version": "1.2.0",
            "_view_name": "LayoutView",
            "align_content": null,
            "align_items": null,
            "align_self": null,
            "border": null,
            "bottom": null,
            "display": null,
            "flex": null,
            "flex_flow": null,
            "grid_area": null,
            "grid_auto_columns": null,
            "grid_auto_flow": null,
            "grid_auto_rows": null,
            "grid_column": null,
            "grid_gap": null,
            "grid_row": null,
            "grid_template_areas": null,
            "grid_template_columns": null,
            "grid_template_rows": null,
            "height": null,
            "justify_content": null,
            "justify_items": null,
            "left": null,
            "margin": null,
            "max_height": null,
            "max_width": null,
            "min_height": null,
            "min_width": null,
            "object_fit": null,
            "object_position": null,
            "order": null,
            "overflow": null,
            "overflow_x": null,
            "overflow_y": null,
            "padding": null,
            "right": null,
            "top": null,
            "visibility": null,
            "width": null
          }
        },
        "fa722b687d8443b3bed5ca1b9531b605": {
          "model_module": "@jupyter-widgets/controls",
          "model_name": "DescriptionStyleModel",
          "model_module_version": "1.5.0",
          "state": {
            "_model_module": "@jupyter-widgets/controls",
            "_model_module_version": "1.5.0",
            "_model_name": "DescriptionStyleModel",
            "_view_count": null,
            "_view_module": "@jupyter-widgets/base",
            "_view_module_version": "1.2.0",
            "_view_name": "StyleView",
            "description_width": ""
          }
        }
      }
    }
  },
  "cells": [
    {
      "cell_type": "markdown",
      "source": [
        "1. Install dependencies"
      ],
      "metadata": {
        "id": "-IsPFO9F8zg0"
      }
    },
    {
      "cell_type": "code",
      "execution_count": 1,
      "metadata": {
        "colab": {
          "base_uri": "https://localhost:8080/"
        },
        "collapsed": true,
        "id": "iN5luBqiCxEP",
        "outputId": "6c35c0b7-5795-4191-aaf4-487f880b0613"
      },
      "outputs": [
        {
          "output_type": "stream",
          "name": "stdout",
          "text": [
            "Requirement already satisfied: torch in /usr/local/lib/python3.12/dist-packages (2.8.0+cu126)\n",
            "Requirement already satisfied: torchvision in /usr/local/lib/python3.12/dist-packages (0.23.0+cu126)\n",
            "Requirement already satisfied: transformers==4.36.0 in /usr/local/lib/python3.12/dist-packages (4.36.0)\n",
            "Requirement already satisfied: datasets==3.6.0 in /usr/local/lib/python3.12/dist-packages (3.6.0)\n",
            "Requirement already satisfied: evaluate in /usr/local/lib/python3.12/dist-packages (0.4.5)\n",
            "Requirement already satisfied: accelerate in /usr/local/lib/python3.12/dist-packages (1.10.0)\n",
            "Requirement already satisfied: timm in /usr/local/lib/python3.12/dist-packages (1.0.19)\n",
            "Requirement already satisfied: filelock in /usr/local/lib/python3.12/dist-packages (from transformers==4.36.0) (3.19.1)\n",
            "Requirement already satisfied: huggingface-hub<1.0,>=0.19.3 in /usr/local/lib/python3.12/dist-packages (from transformers==4.36.0) (0.34.4)\n",
            "Requirement already satisfied: numpy>=1.17 in /usr/local/lib/python3.12/dist-packages (from transformers==4.36.0) (2.0.2)\n",
            "Requirement already satisfied: packaging>=20.0 in /usr/local/lib/python3.12/dist-packages (from transformers==4.36.0) (25.0)\n",
            "Requirement already satisfied: pyyaml>=5.1 in /usr/local/lib/python3.12/dist-packages (from transformers==4.36.0) (6.0.2)\n",
            "Requirement already satisfied: regex!=2019.12.17 in /usr/local/lib/python3.12/dist-packages (from transformers==4.36.0) (2024.11.6)\n",
            "Requirement already satisfied: requests in /usr/local/lib/python3.12/dist-packages (from transformers==4.36.0) (2.32.4)\n",
            "Requirement already satisfied: tokenizers<0.19,>=0.14 in /usr/local/lib/python3.12/dist-packages (from transformers==4.36.0) (0.15.2)\n",
            "Requirement already satisfied: safetensors>=0.3.1 in /usr/local/lib/python3.12/dist-packages (from transformers==4.36.0) (0.6.2)\n",
            "Requirement already satisfied: tqdm>=4.27 in /usr/local/lib/python3.12/dist-packages (from transformers==4.36.0) (4.67.1)\n",
            "Requirement already satisfied: pyarrow>=15.0.0 in /usr/local/lib/python3.12/dist-packages (from datasets==3.6.0) (18.1.0)\n",
            "Requirement already satisfied: dill<0.3.9,>=0.3.0 in /usr/local/lib/python3.12/dist-packages (from datasets==3.6.0) (0.3.8)\n",
            "Requirement already satisfied: pandas in /usr/local/lib/python3.12/dist-packages (from datasets==3.6.0) (2.2.2)\n",
            "Requirement already satisfied: xxhash in /usr/local/lib/python3.12/dist-packages (from datasets==3.6.0) (3.5.0)\n",
            "Requirement already satisfied: multiprocess<0.70.17 in /usr/local/lib/python3.12/dist-packages (from datasets==3.6.0) (0.70.16)\n",
            "Requirement already satisfied: fsspec<=2025.3.0,>=2023.1.0 in /usr/local/lib/python3.12/dist-packages (from fsspec[http]<=2025.3.0,>=2023.1.0->datasets==3.6.0) (2025.3.0)\n",
            "Requirement already satisfied: typing-extensions>=4.10.0 in /usr/local/lib/python3.12/dist-packages (from torch) (4.14.1)\n",
            "Requirement already satisfied: setuptools in /usr/local/lib/python3.12/dist-packages (from torch) (75.2.0)\n",
            "Requirement already satisfied: sympy>=1.13.3 in /usr/local/lib/python3.12/dist-packages (from torch) (1.13.3)\n",
            "Requirement already satisfied: networkx in /usr/local/lib/python3.12/dist-packages (from torch) (3.5)\n",
            "Requirement already satisfied: jinja2 in /usr/local/lib/python3.12/dist-packages (from torch) (3.1.6)\n",
            "Requirement already satisfied: nvidia-cuda-nvrtc-cu12==12.6.77 in /usr/local/lib/python3.12/dist-packages (from torch) (12.6.77)\n",
            "Requirement already satisfied: nvidia-cuda-runtime-cu12==12.6.77 in /usr/local/lib/python3.12/dist-packages (from torch) (12.6.77)\n",
            "Requirement already satisfied: nvidia-cuda-cupti-cu12==12.6.80 in /usr/local/lib/python3.12/dist-packages (from torch) (12.6.80)\n",
            "Requirement already satisfied: nvidia-cudnn-cu12==9.10.2.21 in /usr/local/lib/python3.12/dist-packages (from torch) (9.10.2.21)\n",
            "Requirement already satisfied: nvidia-cublas-cu12==12.6.4.1 in /usr/local/lib/python3.12/dist-packages (from torch) (12.6.4.1)\n",
            "Requirement already satisfied: nvidia-cufft-cu12==11.3.0.4 in /usr/local/lib/python3.12/dist-packages (from torch) (11.3.0.4)\n",
            "Requirement already satisfied: nvidia-curand-cu12==10.3.7.77 in /usr/local/lib/python3.12/dist-packages (from torch) (10.3.7.77)\n",
            "Requirement already satisfied: nvidia-cusolver-cu12==11.7.1.2 in /usr/local/lib/python3.12/dist-packages (from torch) (11.7.1.2)\n",
            "Requirement already satisfied: nvidia-cusparse-cu12==12.5.4.2 in /usr/local/lib/python3.12/dist-packages (from torch) (12.5.4.2)\n",
            "Requirement already satisfied: nvidia-cusparselt-cu12==0.7.1 in /usr/local/lib/python3.12/dist-packages (from torch) (0.7.1)\n",
            "Requirement already satisfied: nvidia-nccl-cu12==2.27.3 in /usr/local/lib/python3.12/dist-packages (from torch) (2.27.3)\n",
            "Requirement already satisfied: nvidia-nvtx-cu12==12.6.77 in /usr/local/lib/python3.12/dist-packages (from torch) (12.6.77)\n",
            "Requirement already satisfied: nvidia-nvjitlink-cu12==12.6.85 in /usr/local/lib/python3.12/dist-packages (from torch) (12.6.85)\n",
            "Requirement already satisfied: nvidia-cufile-cu12==1.11.1.6 in /usr/local/lib/python3.12/dist-packages (from torch) (1.11.1.6)\n",
            "Requirement already satisfied: triton==3.4.0 in /usr/local/lib/python3.12/dist-packages (from torch) (3.4.0)\n",
            "Requirement already satisfied: pillow!=8.3.*,>=5.3.0 in /usr/local/lib/python3.12/dist-packages (from torchvision) (11.3.0)\n",
            "Requirement already satisfied: psutil in /usr/local/lib/python3.12/dist-packages (from accelerate) (5.9.5)\n",
            "Requirement already satisfied: aiohttp!=4.0.0a0,!=4.0.0a1 in /usr/local/lib/python3.12/dist-packages (from fsspec[http]<=2025.3.0,>=2023.1.0->datasets==3.6.0) (3.12.15)\n",
            "Requirement already satisfied: hf-xet<2.0.0,>=1.1.3 in /usr/local/lib/python3.12/dist-packages (from huggingface-hub<1.0,>=0.19.3->transformers==4.36.0) (1.1.7)\n",
            "Requirement already satisfied: charset_normalizer<4,>=2 in /usr/local/lib/python3.12/dist-packages (from requests->transformers==4.36.0) (3.4.3)\n",
            "Requirement already satisfied: idna<4,>=2.5 in /usr/local/lib/python3.12/dist-packages (from requests->transformers==4.36.0) (3.10)\n",
            "Requirement already satisfied: urllib3<3,>=1.21.1 in /usr/local/lib/python3.12/dist-packages (from requests->transformers==4.36.0) (2.5.0)\n",
            "Requirement already satisfied: certifi>=2017.4.17 in /usr/local/lib/python3.12/dist-packages (from requests->transformers==4.36.0) (2025.8.3)\n",
            "Requirement already satisfied: mpmath<1.4,>=1.1.0 in /usr/local/lib/python3.12/dist-packages (from sympy>=1.13.3->torch) (1.3.0)\n",
            "Requirement already satisfied: MarkupSafe>=2.0 in /usr/local/lib/python3.12/dist-packages (from jinja2->torch) (3.0.2)\n",
            "Requirement already satisfied: python-dateutil>=2.8.2 in /usr/local/lib/python3.12/dist-packages (from pandas->datasets==3.6.0) (2.9.0.post0)\n",
            "Requirement already satisfied: pytz>=2020.1 in /usr/local/lib/python3.12/dist-packages (from pandas->datasets==3.6.0) (2025.2)\n",
            "Requirement already satisfied: tzdata>=2022.7 in /usr/local/lib/python3.12/dist-packages (from pandas->datasets==3.6.0) (2025.2)\n",
            "Requirement already satisfied: aiohappyeyeballs>=2.5.0 in /usr/local/lib/python3.12/dist-packages (from aiohttp!=4.0.0a0,!=4.0.0a1->fsspec[http]<=2025.3.0,>=2023.1.0->datasets==3.6.0) (2.6.1)\n",
            "Requirement already satisfied: aiosignal>=1.4.0 in /usr/local/lib/python3.12/dist-packages (from aiohttp!=4.0.0a0,!=4.0.0a1->fsspec[http]<=2025.3.0,>=2023.1.0->datasets==3.6.0) (1.4.0)\n",
            "Requirement already satisfied: attrs>=17.3.0 in /usr/local/lib/python3.12/dist-packages (from aiohttp!=4.0.0a0,!=4.0.0a1->fsspec[http]<=2025.3.0,>=2023.1.0->datasets==3.6.0) (25.3.0)\n",
            "Requirement already satisfied: frozenlist>=1.1.1 in /usr/local/lib/python3.12/dist-packages (from aiohttp!=4.0.0a0,!=4.0.0a1->fsspec[http]<=2025.3.0,>=2023.1.0->datasets==3.6.0) (1.7.0)\n",
            "Requirement already satisfied: multidict<7.0,>=4.5 in /usr/local/lib/python3.12/dist-packages (from aiohttp!=4.0.0a0,!=4.0.0a1->fsspec[http]<=2025.3.0,>=2023.1.0->datasets==3.6.0) (6.6.4)\n",
            "Requirement already satisfied: propcache>=0.2.0 in /usr/local/lib/python3.12/dist-packages (from aiohttp!=4.0.0a0,!=4.0.0a1->fsspec[http]<=2025.3.0,>=2023.1.0->datasets==3.6.0) (0.3.2)\n",
            "Requirement already satisfied: yarl<2.0,>=1.17.0 in /usr/local/lib/python3.12/dist-packages (from aiohttp!=4.0.0a0,!=4.0.0a1->fsspec[http]<=2025.3.0,>=2023.1.0->datasets==3.6.0) (1.20.1)\n",
            "Requirement already satisfied: six>=1.5 in /usr/local/lib/python3.12/dist-packages (from python-dateutil>=2.8.2->pandas->datasets==3.6.0) (1.17.0)\n"
          ]
        }
      ],
      "source": [
        "!pip install torch torchvision transformers==4.36.0 datasets==3.6.0 evaluate accelerate timm"
      ]
    },
    {
      "cell_type": "markdown",
      "source": [
        "2. imports"
      ],
      "metadata": {
        "id": "olL0x8MdDDW_"
      }
    },
    {
      "cell_type": "code",
      "source": [
        "import torch\n",
        "from torch import nn\n",
        "from torch.utils.data import DataLoader\n",
        "from torchvision import transforms\n",
        "from datasets import load_dataset\n",
        "from transformers import ViTForImageClassification, ViTImageProcessor\n",
        "from tqdm import tqdm"
      ],
      "metadata": {
        "id": "K5oa_J6UDC3X",
        "colab": {
          "base_uri": "https://localhost:8080/",
          "height": 194,
          "referenced_widgets": [
            "4494eddc59b34af4a79d2a3b672135e5",
            "d71f50e1cf4e4b83be4962be61d228e4",
            "782f2d489dd64d58a0d4eeacce2f6a0c",
            "5c14a9d9901c47f9aee931bb0326c81c",
            "ce24d58c39fb4d2f980d1498db86605d",
            "ebf8d76ec980483d9be674b0197e26ca",
            "cb1434e4ec9e4ae6a663c73bbf1d1d66",
            "c9ff620523734f029f17e0e3840c8d0c",
            "2911e5dbb1054d3d801bb01e4674de1e",
            "c7061a790ed3411e9ce7235c6074792b",
            "08c84000ea0a46609c475e9041005534"
          ]
        },
        "outputId": "052e63f2-f1d3-4577-c69f-f6b8fff1a470"
      },
      "execution_count": 2,
      "outputs": [
        {
          "output_type": "stream",
          "name": "stderr",
          "text": [
            "/usr/local/lib/python3.12/dist-packages/transformers/utils/generic.py:441: FutureWarning: `torch.utils._pytree._register_pytree_node` is deprecated. Please use `torch.utils._pytree.register_pytree_node` instead.\n",
            "  _torch_pytree._register_pytree_node(\n",
            "The cache for model files in Transformers v4.22.0 has been updated. Migrating your old cache. This is a one-time only operation. You can interrupt this and resume the migration later on by calling `transformers.utils.move_cache()`.\n"
          ]
        },
        {
          "output_type": "display_data",
          "data": {
            "text/plain": [
              "0it [00:00, ?it/s]"
            ],
            "application/vnd.jupyter.widget-view+json": {
              "version_major": 2,
              "version_minor": 0,
              "model_id": "4494eddc59b34af4a79d2a3b672135e5"
            }
          },
          "metadata": {}
        },
        {
          "output_type": "stream",
          "name": "stderr",
          "text": [
            "/usr/local/lib/python3.12/dist-packages/transformers/utils/generic.py:309: FutureWarning: `torch.utils._pytree._register_pytree_node` is deprecated. Please use `torch.utils._pytree.register_pytree_node` instead.\n",
            "  _torch_pytree._register_pytree_node(\n",
            "/usr/local/lib/python3.12/dist-packages/transformers/utils/generic.py:309: FutureWarning: `torch.utils._pytree._register_pytree_node` is deprecated. Please use `torch.utils._pytree.register_pytree_node` instead.\n",
            "  _torch_pytree._register_pytree_node(\n"
          ]
        }
      ]
    },
    {
      "cell_type": "markdown",
      "source": [
        "3. Load the dataset"
      ],
      "metadata": {
        "id": "xQJe-FWd8yAe"
      }
    },
    {
      "cell_type": "code",
      "source": [
        "dataset = load_dataset(\"fcakyon/pokemon-classification\", name=\"full\", trust_remote_code=True)"
      ],
      "metadata": {
        "id": "ozy94blwNQbE",
        "colab": {
          "base_uri": "https://localhost:8080/",
          "height": 336,
          "referenced_widgets": [
            "7b0913901e6143b6a3257305da62fc85",
            "424a64bd667841c7a7619b7b88ffd86f",
            "c5a621d5ee1e4af8a896de0485ef3fb4",
            "7c10863bcaaa4e00a03411bbedb1d7cb",
            "3b76b90afa5d4ff9a1cf7df0f6d87d06",
            "28a3abb9fc81430dbb0a33cc642760a9",
            "7cd23c98a3cd44a7824bddfce12518a8",
            "2088ae3585094be7a17d9ba697f75547",
            "86d4d023f1314c39ba380712b722bcc8",
            "bde867308355404ca0c5910afea9b3c4",
            "69b68a8e405c413f9ea7668fa44ddd97",
            "a6456c8093a941c288f9c7a6fc9c866c",
            "93a4fd8ef2ea41d9bffe2ba6c3e5da6c",
            "2edb17e0bbe149c29051800043fb9c26",
            "2c014e6c5d92449f80a2f145e14af9b6",
            "f21c729e52794a278bad208cb9047250",
            "fd7001f3241f4db5b77fa04f712ca23f",
            "70d1a102464d4c72bbf8e510bbe6aab2",
            "29db6f9132684a1eb408c38a8b028cb0",
            "5335a7537c24423fb28c3f84ba70c534",
            "28d948a06bb34335a268cd724d2294c1",
            "94f1697013cb47b581046d8c68a134d8",
            "0e2c9660a62543a6add9aaf12c02152a",
            "5863135a18be4c06800305cd5d68976d",
            "9339c005c36c48889447bfdc8ea19b44",
            "6577ec3b96e04ef59a49a0fc85b419a7",
            "ba6244f206c24d54b4d67f653a38cb41",
            "983198eb56ba42bbbf571749ea850507",
            "f4d88174a8184d838a9ee4c126680d67",
            "477f4d5688fb48169bbbc87122a19eb2",
            "fbe3e6f95cab47a09d4c6f94bd01f12e",
            "c2a82ba95e8a4489add169a9001f8c46",
            "1e5c60a352a143f8a68f0bbafc89c142",
            "8a68e62de1584c8a9ce2bbe1741a90a5",
            "a99d130f97d54256b9b7716d02c22063",
            "edbbe638b33c48f5a0721b58a12a5e0e",
            "7fd0cb67984b425d83b39205d5848b2d",
            "579789f679e648abbe0439b1d7931874",
            "8618a27f98574ceab8f07c80991cb575",
            "95299ed295c841df994b1da3d29d6d66",
            "c260998201094f0281b9bad182fa20f8",
            "2c316895c9b04d4b828cf3834d1b83cc",
            "ce35c0073b24408c856ccbd2e750cc93",
            "24b7d5ea07194c46b5c9735978ad0803",
            "b42fa90400ab4670bfbc6f0d59189c38",
            "c12d502a70a14779b00354368a8840a9",
            "f19b50aba3d14bf29dc21a6c924be20c",
            "184133f6a4a64fd58ef080f1c9da9703",
            "5f9115434b51403caa8a0d0df1025625",
            "5a2a1549e0eb4e8bb7c3ce031e9158e4",
            "283cbd53336f4baebf05481caa7b6ec5",
            "679dfcb4301647c2b4a778b772b9680a",
            "b5e6ea9c35e34f4190b7b42232e2856b",
            "945b6cbc6c124219a0196793461dbcff",
            "442523b3e57f44a2bf2e53a0d11097b3",
            "4f3c84aec7164d5295a6c4291328d461",
            "ef4ad7e4654244aa9da6ea43a5d18214",
            "951567ac94b6438ba008fea29375cbd8",
            "80b00b299d0a4fefb0bd5de9036f3be8",
            "21bb31fac46c4af59a2510bed009513b",
            "81aa6ff077764b22962f03f459bea12c",
            "ab9ec19832d64bd1879b83e133a491b9",
            "64518f2afb604a39b4a5dd8db3913978",
            "f759cee76af240e787b8c7cc785668b6",
            "76629a445fd74a3694a95ea96c66d718",
            "c4520c4992cd469c84b56690348f6571"
          ]
        },
        "outputId": "3e77bd4f-3470-430d-d186-9ec1d0b4d613"
      },
      "execution_count": 3,
      "outputs": [
        {
          "output_type": "stream",
          "name": "stderr",
          "text": [
            "/usr/local/lib/python3.12/dist-packages/huggingface_hub/utils/_auth.py:94: UserWarning: \n",
            "The secret `HF_TOKEN` does not exist in your Colab secrets.\n",
            "To authenticate with the Hugging Face Hub, create a token in your settings tab (https://huggingface.co/settings/tokens), set it as secret in your Google Colab and restart your session.\n",
            "You will be able to reuse this secret in all of your notebooks.\n",
            "Please note that authentication is recommended but still optional to access public models or datasets.\n",
            "  warnings.warn(\n"
          ]
        },
        {
          "output_type": "display_data",
          "data": {
            "text/plain": [
              "0000.parquet:   0%|          | 0.00/46.2M [00:00<?, ?B/s]"
            ],
            "application/vnd.jupyter.widget-view+json": {
              "version_major": 2,
              "version_minor": 0,
              "model_id": "7b0913901e6143b6a3257305da62fc85"
            }
          },
          "metadata": {}
        },
        {
          "output_type": "display_data",
          "data": {
            "text/plain": [
              "0000.parquet:   0%|          | 0.00/13.5M [00:00<?, ?B/s]"
            ],
            "application/vnd.jupyter.widget-view+json": {
              "version_major": 2,
              "version_minor": 0,
              "model_id": "a6456c8093a941c288f9c7a6fc9c866c"
            }
          },
          "metadata": {}
        },
        {
          "output_type": "display_data",
          "data": {
            "text/plain": [
              "0000.parquet:   0%|          | 0.00/7.12M [00:00<?, ?B/s]"
            ],
            "application/vnd.jupyter.widget-view+json": {
              "version_major": 2,
              "version_minor": 0,
              "model_id": "0e2c9660a62543a6add9aaf12c02152a"
            }
          },
          "metadata": {}
        },
        {
          "output_type": "display_data",
          "data": {
            "text/plain": [
              "Generating train split:   0%|          | 0/4869 [00:00<?, ? examples/s]"
            ],
            "application/vnd.jupyter.widget-view+json": {
              "version_major": 2,
              "version_minor": 0,
              "model_id": "8a68e62de1584c8a9ce2bbe1741a90a5"
            }
          },
          "metadata": {}
        },
        {
          "output_type": "display_data",
          "data": {
            "text/plain": [
              "Generating validation split:   0%|          | 0/1390 [00:00<?, ? examples/s]"
            ],
            "application/vnd.jupyter.widget-view+json": {
              "version_major": 2,
              "version_minor": 0,
              "model_id": "b42fa90400ab4670bfbc6f0d59189c38"
            }
          },
          "metadata": {}
        },
        {
          "output_type": "display_data",
          "data": {
            "text/plain": [
              "Generating test split:   0%|          | 0/732 [00:00<?, ? examples/s]"
            ],
            "application/vnd.jupyter.widget-view+json": {
              "version_major": 2,
              "version_minor": 0,
              "model_id": "4f3c84aec7164d5295a6c4291328d461"
            }
          },
          "metadata": {}
        }
      ]
    },
    {
      "cell_type": "markdown",
      "source": [
        "4. Setup processor (preprocessing images)"
      ],
      "metadata": {
        "id": "Exfrm4-f8v02"
      }
    },
    {
      "cell_type": "code",
      "source": [
        "processor = ViTImageProcessor.from_pretrained(\"google/vit-base-patch16-224\")"
      ],
      "metadata": {
        "id": "noBgP65sDN9x",
        "colab": {
          "base_uri": "https://localhost:8080/",
          "height": 105,
          "referenced_widgets": [
            "fbe500ced38d4e2a80e6fe70a9ccf173",
            "6a01b2687ea14ec7bcd10cc19fc9bc01",
            "74c3a79f9854416ca9cc772c46188ea1",
            "f2077872c79e4d5394864421b1fcdeea",
            "b9445a780ff9489daa2dde0366ae7a26",
            "fccc6a87fba7488fb235e8acc7ee4428",
            "8a1c6a4b03a84ba688975e8436b02cfe",
            "89b63f82d67d4b1ba3e3734f0e927a25",
            "9e3f02b4b809425ab63b266d001f4934",
            "cf690a628b0748ea8ec80a684cdc5da2",
            "fa722b687d8443b3bed5ca1b9531b605"
          ]
        },
        "outputId": "9302257a-c757-4556-e14c-7a8ca7bc4b79"
      },
      "execution_count": 4,
      "outputs": [
        {
          "output_type": "stream",
          "name": "stderr",
          "text": [
            "/usr/local/lib/python3.12/dist-packages/huggingface_hub/file_download.py:945: FutureWarning: `resume_download` is deprecated and will be removed in version 1.0.0. Downloads always resume when possible. If you want to force a new download, use `force_download=True`.\n",
            "  warnings.warn(\n"
          ]
        },
        {
          "output_type": "display_data",
          "data": {
            "text/plain": [
              "preprocessor_config.json:   0%|          | 0.00/160 [00:00<?, ?B/s]"
            ],
            "application/vnd.jupyter.widget-view+json": {
              "version_major": 2,
              "version_minor": 0,
              "model_id": "fbe500ced38d4e2a80e6fe70a9ccf173"
            }
          },
          "metadata": {}
        }
      ]
    },
    {
      "cell_type": "markdown",
      "source": [
        "5. Define transform"
      ],
      "metadata": {
        "id": "nfEOioySDQHL"
      }
    },
    {
      "cell_type": "code",
      "source": [
        "transform = transforms.Compose([\n",
        "    transforms.Resize((224, 224)),\n",
        "    transforms.ToTensor(),\n",
        "    transforms.Normalize(mean=processor.image_mean, std=processor.image_std),\n",
        "])"
      ],
      "metadata": {
        "collapsed": true,
        "id": "jJ5_FLFq8NBe"
      },
      "execution_count": 5,
      "outputs": []
    },
    {
      "cell_type": "markdown",
      "source": [
        "6. Dataset wrapper"
      ],
      "metadata": {
        "id": "dy4hnO2HDkPn"
      }
    },
    {
      "cell_type": "code",
      "source": [
        "class PokemonDataset(torch.utils.data.Dataset):\n",
        "    def __init__(self, dataset, transform, processor):\n",
        "        self.dataset = dataset\n",
        "        self.transform = transform\n",
        "        self.processor = processor\n",
        "\n",
        "    def __len__(self):\n",
        "        return len(self.dataset)\n",
        "\n",
        "    def __getitem__(self, idx):\n",
        "        print(f\"Accessing index: {idx}\")\n",
        "        print(f\"Dataset type: {type(self.dataset)}\")\n",
        "        print(f\"Dataset length: {len(self.dataset)}\")\n",
        "        item = self.dataset[idx]\n",
        "        image = item[\"image\"]   # raw PIL Image\n",
        "        label = item[\"labels\"]  # use actual label from dataset\n",
        "        image = self.transform(image)\n",
        "        return {\"pixel_values\": image, \"labels\": label}"
      ],
      "metadata": {
        "id": "sKS9fT2DDmHx"
      },
      "execution_count": 6,
      "outputs": []
    },
    {
      "cell_type": "markdown",
      "source": [
        "7. Split into train/val"
      ],
      "metadata": {
        "id": "2xddgtxK8tjg"
      }
    },
    {
      "cell_type": "code",
      "source": [
        "train_dataset = PokemonDataset(dataset[\"train\"].select(range(1000)), transform, processor)\n",
        "val_dataset   = PokemonDataset(dataset[\"train\"].select(range(1000, 1200)), transform, processor)\n",
        "\n",
        "train_loader = DataLoader(train_dataset, batch_size=8, shuffle=True)\n",
        "val_loader   = DataLoader(val_dataset, batch_size=8)"
      ],
      "metadata": {
        "id": "DGi95mR78WtC"
      },
      "execution_count": 7,
      "outputs": []
    },
    {
      "cell_type": "markdown",
      "source": [
        "8. Load pretrained ViT model"
      ],
      "metadata": {
        "id": "fcFRarQi8r8i"
      }
    },
    {
      "cell_type": "code",
      "source": [
        "device = \"cuda\" if torch.cuda.is_available() else \"cpu\"\n",
        "\n",
        "model = ViTForImageClassification.from_pretrained(\n",
        "    \"google/vit-base-patch16-224\",\n",
        "    num_labels=150,   # change according to your dataset\n",
        "    ignore_mismatched_sizes=True\n",
        ")\n",
        "\n",
        "device = torch.device(\"cuda\" if torch.cuda.is_available() else \"cpu\")\n",
        "model.to(device)"
      ],
      "metadata": {
        "colab": {
          "base_uri": "https://localhost:8080/"
        },
        "collapsed": true,
        "id": "z1Pyk2ln8Yh-",
        "outputId": "a287b8e5-698e-4524-fe91-41acceda78ff"
      },
      "execution_count": 8,
      "outputs": [
        {
          "output_type": "stream",
          "name": "stderr",
          "text": [
            "Some weights of ViTForImageClassification were not initialized from the model checkpoint at google/vit-base-patch16-224 and are newly initialized because the shapes did not match:\n",
            "- classifier.bias: found shape torch.Size([1000]) in the checkpoint and torch.Size([150]) in the model instantiated\n",
            "- classifier.weight: found shape torch.Size([1000, 768]) in the checkpoint and torch.Size([150, 768]) in the model instantiated\n",
            "You should probably TRAIN this model on a down-stream task to be able to use it for predictions and inference.\n"
          ]
        },
        {
          "output_type": "execute_result",
          "data": {
            "text/plain": [
              "ViTForImageClassification(\n",
              "  (vit): ViTModel(\n",
              "    (embeddings): ViTEmbeddings(\n",
              "      (patch_embeddings): ViTPatchEmbeddings(\n",
              "        (projection): Conv2d(3, 768, kernel_size=(16, 16), stride=(16, 16))\n",
              "      )\n",
              "      (dropout): Dropout(p=0.0, inplace=False)\n",
              "    )\n",
              "    (encoder): ViTEncoder(\n",
              "      (layer): ModuleList(\n",
              "        (0-11): 12 x ViTLayer(\n",
              "          (attention): ViTAttention(\n",
              "            (attention): ViTSelfAttention(\n",
              "              (query): Linear(in_features=768, out_features=768, bias=True)\n",
              "              (key): Linear(in_features=768, out_features=768, bias=True)\n",
              "              (value): Linear(in_features=768, out_features=768, bias=True)\n",
              "              (dropout): Dropout(p=0.0, inplace=False)\n",
              "            )\n",
              "            (output): ViTSelfOutput(\n",
              "              (dense): Linear(in_features=768, out_features=768, bias=True)\n",
              "              (dropout): Dropout(p=0.0, inplace=False)\n",
              "            )\n",
              "          )\n",
              "          (intermediate): ViTIntermediate(\n",
              "            (dense): Linear(in_features=768, out_features=3072, bias=True)\n",
              "            (intermediate_act_fn): GELUActivation()\n",
              "          )\n",
              "          (output): ViTOutput(\n",
              "            (dense): Linear(in_features=3072, out_features=768, bias=True)\n",
              "            (dropout): Dropout(p=0.0, inplace=False)\n",
              "          )\n",
              "          (layernorm_before): LayerNorm((768,), eps=1e-12, elementwise_affine=True)\n",
              "          (layernorm_after): LayerNorm((768,), eps=1e-12, elementwise_affine=True)\n",
              "        )\n",
              "      )\n",
              "    )\n",
              "    (layernorm): LayerNorm((768,), eps=1e-12, elementwise_affine=True)\n",
              "  )\n",
              "  (classifier): Linear(in_features=768, out_features=150, bias=True)\n",
              ")"
            ]
          },
          "metadata": {},
          "execution_count": 8
        }
      ]
    },
    {
      "cell_type": "markdown",
      "source": [
        "9. Training setup"
      ],
      "metadata": {
        "id": "FLe0wru28leu"
      }
    },
    {
      "cell_type": "code",
      "source": [
        "optimizer = torch.optim.AdamW(model.parameters(), lr=5e-5)\n",
        "criterion = nn.CrossEntropyLoss()"
      ],
      "metadata": {
        "id": "vk7MfBKf8boM"
      },
      "execution_count": 9,
      "outputs": []
    },
    {
      "cell_type": "markdown",
      "source": [
        "10. Training loop"
      ],
      "metadata": {
        "id": "wOrbqDXc8juM"
      }
    },
    {
      "cell_type": "code",
      "source": [
        "epochs = 2\n",
        "\n",
        "for epoch in range(epochs):\n",
        "    print(f\"Epoch {epoch+1}\")\n",
        "    model.train()\n",
        "    total_loss = 0\n",
        "\n",
        "    for batch in tqdm(train_loader):\n",
        "        optimizer.zero_grad()\n",
        "        pixel_values = batch[\"pixel_values\"].to(device)\n",
        "        labels = batch[\"labels\"].to(device)\n",
        "\n",
        "        outputs = model(pixel_values=pixel_values)\n",
        "        loss = criterion(outputs.logits, labels)\n",
        "        loss.backward()\n",
        "        optimizer.step()\n",
        "\n",
        "        total_loss += loss.item()\n",
        "\n",
        "    avg_loss = total_loss / len(train_loader)\n",
        "    print(f\"Training loss: {avg_loss:.4f}\")"
      ],
      "metadata": {
        "colab": {
          "base_uri": "https://localhost:8080/"
        },
        "id": "cO0XlzJE8dlW",
        "outputId": "afb3017b-9514-4e17-ec3a-9422413a2ede",
        "collapsed": true
      },
      "execution_count": 10,
      "outputs": [
        {
          "output_type": "stream",
          "name": "stdout",
          "text": [
            "Epoch 1\n"
          ]
        },
        {
          "output_type": "stream",
          "name": "stderr",
          "text": [
            "\r  0%|          | 0/125 [00:00<?, ?it/s]"
          ]
        },
        {
          "output_type": "stream",
          "name": "stdout",
          "text": [
            "Accessing index: 780\n",
            "Dataset type: <class 'datasets.arrow_dataset.Dataset'>\n",
            "Dataset length: 1000\n",
            "Accessing index: 60\n",
            "Dataset type: <class 'datasets.arrow_dataset.Dataset'>\n",
            "Dataset length: 1000\n",
            "Accessing index: 946\n",
            "Dataset type: <class 'datasets.arrow_dataset.Dataset'>\n",
            "Dataset length: 1000\n",
            "Accessing index: 902\n",
            "Dataset type: <class 'datasets.arrow_dataset.Dataset'>\n",
            "Dataset length: 1000\n",
            "Accessing index: 962\n",
            "Dataset type: <class 'datasets.arrow_dataset.Dataset'>\n",
            "Dataset length: 1000\n",
            "Accessing index: 699\n",
            "Dataset type: <class 'datasets.arrow_dataset.Dataset'>\n",
            "Dataset length: 1000\n",
            "Accessing index: 824\n",
            "Dataset type: <class 'datasets.arrow_dataset.Dataset'>\n",
            "Dataset length: 1000\n",
            "Accessing index: 853\n",
            "Dataset type: <class 'datasets.arrow_dataset.Dataset'>\n",
            "Dataset length: 1000\n"
          ]
        },
        {
          "output_type": "stream",
          "name": "stderr",
          "text": [
            "\r  1%|          | 1/125 [00:31<1:04:40, 31.29s/it]"
          ]
        },
        {
          "output_type": "stream",
          "name": "stdout",
          "text": [
            "Accessing index: 659\n",
            "Dataset type: <class 'datasets.arrow_dataset.Dataset'>\n",
            "Dataset length: 1000\n",
            "Accessing index: 844\n",
            "Dataset type: <class 'datasets.arrow_dataset.Dataset'>\n",
            "Dataset length: 1000\n",
            "Accessing index: 715\n",
            "Dataset type: <class 'datasets.arrow_dataset.Dataset'>\n",
            "Dataset length: 1000\n",
            "Accessing index: 810\n",
            "Dataset type: <class 'datasets.arrow_dataset.Dataset'>\n",
            "Dataset length: 1000\n",
            "Accessing index: 574\n",
            "Dataset type: <class 'datasets.arrow_dataset.Dataset'>\n",
            "Dataset length: 1000\n",
            "Accessing index: 433\n",
            "Dataset type: <class 'datasets.arrow_dataset.Dataset'>\n",
            "Dataset length: 1000\n",
            "Accessing index: 835\n",
            "Dataset type: <class 'datasets.arrow_dataset.Dataset'>\n",
            "Dataset length: 1000\n",
            "Accessing index: 540\n",
            "Dataset type: <class 'datasets.arrow_dataset.Dataset'>\n",
            "Dataset length: 1000\n"
          ]
        },
        {
          "output_type": "stream",
          "name": "stderr",
          "text": [
            "\r  2%|▏         | 2/125 [00:45<43:49, 21.38s/it]  "
          ]
        },
        {
          "output_type": "stream",
          "name": "stdout",
          "text": [
            "Accessing index: 438\n",
            "Dataset type: <class 'datasets.arrow_dataset.Dataset'>\n",
            "Dataset length: 1000\n",
            "Accessing index: 987\n",
            "Dataset type: <class 'datasets.arrow_dataset.Dataset'>\n",
            "Dataset length: 1000\n",
            "Accessing index: 408\n",
            "Dataset type: <class 'datasets.arrow_dataset.Dataset'>\n",
            "Dataset length: 1000\n",
            "Accessing index: 629\n",
            "Dataset type: <class 'datasets.arrow_dataset.Dataset'>\n",
            "Dataset length: 1000\n",
            "Accessing index: 932\n",
            "Dataset type: <class 'datasets.arrow_dataset.Dataset'>\n",
            "Dataset length: 1000\n",
            "Accessing index: 550\n",
            "Dataset type: <class 'datasets.arrow_dataset.Dataset'>\n",
            "Dataset length: 1000\n",
            "Accessing index: 787\n",
            "Dataset type: <class 'datasets.arrow_dataset.Dataset'>\n",
            "Dataset length: 1000\n",
            "Accessing index: 669\n",
            "Dataset type: <class 'datasets.arrow_dataset.Dataset'>\n",
            "Dataset length: 1000\n"
          ]
        },
        {
          "output_type": "stream",
          "name": "stderr",
          "text": [
            "\r  2%|▏         | 3/125 [01:01<38:00, 18.69s/it]"
          ]
        },
        {
          "output_type": "stream",
          "name": "stdout",
          "text": [
            "Accessing index: 410\n",
            "Dataset type: <class 'datasets.arrow_dataset.Dataset'>\n",
            "Dataset length: 1000\n",
            "Accessing index: 131\n",
            "Dataset type: <class 'datasets.arrow_dataset.Dataset'>\n",
            "Dataset length: 1000\n",
            "Accessing index: 81\n",
            "Dataset type: <class 'datasets.arrow_dataset.Dataset'>\n",
            "Dataset length: 1000\n",
            "Accessing index: 263\n",
            "Dataset type: <class 'datasets.arrow_dataset.Dataset'>\n",
            "Dataset length: 1000\n",
            "Accessing index: 741\n",
            "Dataset type: <class 'datasets.arrow_dataset.Dataset'>\n",
            "Dataset length: 1000\n",
            "Accessing index: 187\n",
            "Dataset type: <class 'datasets.arrow_dataset.Dataset'>\n",
            "Dataset length: 1000\n",
            "Accessing index: 373\n",
            "Dataset type: <class 'datasets.arrow_dataset.Dataset'>\n",
            "Dataset length: 1000\n",
            "Accessing index: 84\n",
            "Dataset type: <class 'datasets.arrow_dataset.Dataset'>\n",
            "Dataset length: 1000\n"
          ]
        },
        {
          "output_type": "stream",
          "name": "stderr",
          "text": [
            "\r  3%|▎         | 4/125 [01:15<33:59, 16.85s/it]"
          ]
        },
        {
          "output_type": "stream",
          "name": "stdout",
          "text": [
            "Accessing index: 132\n",
            "Dataset type: <class 'datasets.arrow_dataset.Dataset'>\n",
            "Dataset length: 1000\n",
            "Accessing index: 28\n",
            "Dataset type: <class 'datasets.arrow_dataset.Dataset'>\n",
            "Dataset length: 1000\n",
            "Accessing index: 611\n",
            "Dataset type: <class 'datasets.arrow_dataset.Dataset'>\n",
            "Dataset length: 1000\n",
            "Accessing index: 428\n",
            "Dataset type: <class 'datasets.arrow_dataset.Dataset'>\n",
            "Dataset length: 1000\n",
            "Accessing index: 306\n",
            "Dataset type: <class 'datasets.arrow_dataset.Dataset'>\n",
            "Dataset length: 1000\n",
            "Accessing index: 691\n",
            "Dataset type: <class 'datasets.arrow_dataset.Dataset'>\n",
            "Dataset length: 1000\n",
            "Accessing index: 920\n",
            "Dataset type: <class 'datasets.arrow_dataset.Dataset'>\n",
            "Dataset length: 1000\n",
            "Accessing index: 208\n",
            "Dataset type: <class 'datasets.arrow_dataset.Dataset'>\n",
            "Dataset length: 1000\n"
          ]
        },
        {
          "output_type": "stream",
          "name": "stderr",
          "text": [
            "\r  4%|▍         | 5/125 [01:29<31:33, 15.78s/it]"
          ]
        },
        {
          "output_type": "stream",
          "name": "stdout",
          "text": [
            "Accessing index: 231\n",
            "Dataset type: <class 'datasets.arrow_dataset.Dataset'>\n",
            "Dataset length: 1000\n",
            "Accessing index: 399\n",
            "Dataset type: <class 'datasets.arrow_dataset.Dataset'>\n",
            "Dataset length: 1000\n",
            "Accessing index: 776\n",
            "Dataset type: <class 'datasets.arrow_dataset.Dataset'>\n",
            "Dataset length: 1000\n",
            "Accessing index: 298\n",
            "Dataset type: <class 'datasets.arrow_dataset.Dataset'>\n",
            "Dataset length: 1000\n",
            "Accessing index: 722\n",
            "Dataset type: <class 'datasets.arrow_dataset.Dataset'>\n",
            "Dataset length: 1000\n",
            "Accessing index: 721\n",
            "Dataset type: <class 'datasets.arrow_dataset.Dataset'>\n",
            "Dataset length: 1000\n",
            "Accessing index: 529\n",
            "Dataset type: <class 'datasets.arrow_dataset.Dataset'>\n",
            "Dataset length: 1000\n",
            "Accessing index: 734\n",
            "Dataset type: <class 'datasets.arrow_dataset.Dataset'>\n",
            "Dataset length: 1000\n"
          ]
        },
        {
          "output_type": "stream",
          "name": "stderr",
          "text": [
            "\r  5%|▍         | 6/125 [01:44<31:17, 15.77s/it]"
          ]
        },
        {
          "output_type": "stream",
          "name": "stdout",
          "text": [
            "Accessing index: 444\n",
            "Dataset type: <class 'datasets.arrow_dataset.Dataset'>\n",
            "Dataset length: 1000\n",
            "Accessing index: 267\n",
            "Dataset type: <class 'datasets.arrow_dataset.Dataset'>\n",
            "Dataset length: 1000\n",
            "Accessing index: 409\n",
            "Dataset type: <class 'datasets.arrow_dataset.Dataset'>\n",
            "Dataset length: 1000\n",
            "Accessing index: 643\n",
            "Dataset type: <class 'datasets.arrow_dataset.Dataset'>\n",
            "Dataset length: 1000\n",
            "Accessing index: 999\n",
            "Dataset type: <class 'datasets.arrow_dataset.Dataset'>\n",
            "Dataset length: 1000\n",
            "Accessing index: 0\n",
            "Dataset type: <class 'datasets.arrow_dataset.Dataset'>\n",
            "Dataset length: 1000\n",
            "Accessing index: 677\n",
            "Dataset type: <class 'datasets.arrow_dataset.Dataset'>\n",
            "Dataset length: 1000\n",
            "Accessing index: 911\n",
            "Dataset type: <class 'datasets.arrow_dataset.Dataset'>\n",
            "Dataset length: 1000\n"
          ]
        },
        {
          "output_type": "stream",
          "name": "stderr",
          "text": [
            "\r  6%|▌         | 7/125 [02:08<35:54, 18.26s/it]"
          ]
        },
        {
          "output_type": "stream",
          "name": "stdout",
          "text": [
            "Accessing index: 724\n",
            "Dataset type: <class 'datasets.arrow_dataset.Dataset'>\n",
            "Dataset length: 1000\n",
            "Accessing index: 888\n",
            "Dataset type: <class 'datasets.arrow_dataset.Dataset'>\n",
            "Dataset length: 1000\n",
            "Accessing index: 520\n",
            "Dataset type: <class 'datasets.arrow_dataset.Dataset'>\n",
            "Dataset length: 1000\n",
            "Accessing index: 994\n",
            "Dataset type: <class 'datasets.arrow_dataset.Dataset'>\n",
            "Dataset length: 1000\n",
            "Accessing index: 344\n",
            "Dataset type: <class 'datasets.arrow_dataset.Dataset'>\n",
            "Dataset length: 1000\n",
            "Accessing index: 102\n",
            "Dataset type: <class 'datasets.arrow_dataset.Dataset'>\n",
            "Dataset length: 1000\n",
            "Accessing index: 376\n",
            "Dataset type: <class 'datasets.arrow_dataset.Dataset'>\n",
            "Dataset length: 1000\n",
            "Accessing index: 594\n",
            "Dataset type: <class 'datasets.arrow_dataset.Dataset'>\n",
            "Dataset length: 1000\n"
          ]
        },
        {
          "output_type": "stream",
          "name": "stderr",
          "text": [
            "\r  6%|▋         | 8/125 [02:22<32:53, 16.87s/it]"
          ]
        },
        {
          "output_type": "stream",
          "name": "stdout",
          "text": [
            "Accessing index: 359\n",
            "Dataset type: <class 'datasets.arrow_dataset.Dataset'>\n",
            "Dataset length: 1000\n",
            "Accessing index: 222\n",
            "Dataset type: <class 'datasets.arrow_dataset.Dataset'>\n",
            "Dataset length: 1000\n",
            "Accessing index: 719\n",
            "Dataset type: <class 'datasets.arrow_dataset.Dataset'>\n",
            "Dataset length: 1000\n",
            "Accessing index: 514\n",
            "Dataset type: <class 'datasets.arrow_dataset.Dataset'>\n",
            "Dataset length: 1000\n",
            "Accessing index: 795\n",
            "Dataset type: <class 'datasets.arrow_dataset.Dataset'>\n",
            "Dataset length: 1000\n",
            "Accessing index: 854\n",
            "Dataset type: <class 'datasets.arrow_dataset.Dataset'>\n",
            "Dataset length: 1000\n",
            "Accessing index: 50\n",
            "Dataset type: <class 'datasets.arrow_dataset.Dataset'>\n",
            "Dataset length: 1000\n",
            "Accessing index: 958\n",
            "Dataset type: <class 'datasets.arrow_dataset.Dataset'>\n",
            "Dataset length: 1000\n"
          ]
        },
        {
          "output_type": "stream",
          "name": "stderr",
          "text": [
            "\r  7%|▋         | 9/125 [02:36<30:49, 15.94s/it]"
          ]
        },
        {
          "output_type": "stream",
          "name": "stdout",
          "text": [
            "Accessing index: 997\n",
            "Dataset type: <class 'datasets.arrow_dataset.Dataset'>\n",
            "Dataset length: 1000\n",
            "Accessing index: 560\n",
            "Dataset type: <class 'datasets.arrow_dataset.Dataset'>\n",
            "Dataset length: 1000\n",
            "Accessing index: 83\n",
            "Dataset type: <class 'datasets.arrow_dataset.Dataset'>\n",
            "Dataset length: 1000\n",
            "Accessing index: 522\n",
            "Dataset type: <class 'datasets.arrow_dataset.Dataset'>\n",
            "Dataset length: 1000\n",
            "Accessing index: 836\n",
            "Dataset type: <class 'datasets.arrow_dataset.Dataset'>\n",
            "Dataset length: 1000\n",
            "Accessing index: 919\n",
            "Dataset type: <class 'datasets.arrow_dataset.Dataset'>\n",
            "Dataset length: 1000\n",
            "Accessing index: 747\n",
            "Dataset type: <class 'datasets.arrow_dataset.Dataset'>\n",
            "Dataset length: 1000\n",
            "Accessing index: 331\n",
            "Dataset type: <class 'datasets.arrow_dataset.Dataset'>\n",
            "Dataset length: 1000\n"
          ]
        },
        {
          "output_type": "stream",
          "name": "stderr",
          "text": [
            "\r  8%|▊         | 10/125 [02:50<29:29, 15.38s/it]"
          ]
        },
        {
          "output_type": "stream",
          "name": "stdout",
          "text": [
            "Accessing index: 194\n",
            "Dataset type: <class 'datasets.arrow_dataset.Dataset'>\n",
            "Dataset length: 1000\n",
            "Accessing index: 462\n",
            "Dataset type: <class 'datasets.arrow_dataset.Dataset'>\n",
            "Dataset length: 1000\n",
            "Accessing index: 87\n",
            "Dataset type: <class 'datasets.arrow_dataset.Dataset'>\n",
            "Dataset length: 1000\n",
            "Accessing index: 633\n",
            "Dataset type: <class 'datasets.arrow_dataset.Dataset'>\n",
            "Dataset length: 1000\n",
            "Accessing index: 525\n",
            "Dataset type: <class 'datasets.arrow_dataset.Dataset'>\n",
            "Dataset length: 1000\n",
            "Accessing index: 325\n",
            "Dataset type: <class 'datasets.arrow_dataset.Dataset'>\n",
            "Dataset length: 1000\n",
            "Accessing index: 414\n",
            "Dataset type: <class 'datasets.arrow_dataset.Dataset'>\n",
            "Dataset length: 1000\n",
            "Accessing index: 301\n",
            "Dataset type: <class 'datasets.arrow_dataset.Dataset'>\n",
            "Dataset length: 1000\n"
          ]
        },
        {
          "output_type": "stream",
          "name": "stderr",
          "text": [
            "\r  9%|▉         | 11/125 [03:04<28:45, 15.13s/it]"
          ]
        },
        {
          "output_type": "stream",
          "name": "stdout",
          "text": [
            "Accessing index: 740\n",
            "Dataset type: <class 'datasets.arrow_dataset.Dataset'>\n",
            "Dataset length: 1000\n",
            "Accessing index: 660\n",
            "Dataset type: <class 'datasets.arrow_dataset.Dataset'>\n",
            "Dataset length: 1000\n",
            "Accessing index: 310\n",
            "Dataset type: <class 'datasets.arrow_dataset.Dataset'>\n",
            "Dataset length: 1000\n",
            "Accessing index: 472\n",
            "Dataset type: <class 'datasets.arrow_dataset.Dataset'>\n",
            "Dataset length: 1000\n",
            "Accessing index: 1\n",
            "Dataset type: <class 'datasets.arrow_dataset.Dataset'>\n",
            "Dataset length: 1000\n",
            "Accessing index: 571\n",
            "Dataset type: <class 'datasets.arrow_dataset.Dataset'>\n",
            "Dataset length: 1000\n",
            "Accessing index: 85\n",
            "Dataset type: <class 'datasets.arrow_dataset.Dataset'>\n",
            "Dataset length: 1000\n",
            "Accessing index: 303\n",
            "Dataset type: <class 'datasets.arrow_dataset.Dataset'>\n",
            "Dataset length: 1000\n"
          ]
        },
        {
          "output_type": "stream",
          "name": "stderr",
          "text": [
            "\r 10%|▉         | 12/125 [03:18<27:51, 14.79s/it]"
          ]
        },
        {
          "output_type": "stream",
          "name": "stdout",
          "text": [
            "Accessing index: 350\n",
            "Dataset type: <class 'datasets.arrow_dataset.Dataset'>\n",
            "Dataset length: 1000\n",
            "Accessing index: 604\n",
            "Dataset type: <class 'datasets.arrow_dataset.Dataset'>\n",
            "Dataset length: 1000\n",
            "Accessing index: 115\n",
            "Dataset type: <class 'datasets.arrow_dataset.Dataset'>\n",
            "Dataset length: 1000\n",
            "Accessing index: 792\n",
            "Dataset type: <class 'datasets.arrow_dataset.Dataset'>\n",
            "Dataset length: 1000\n",
            "Accessing index: 552\n",
            "Dataset type: <class 'datasets.arrow_dataset.Dataset'>\n",
            "Dataset length: 1000\n",
            "Accessing index: 189\n",
            "Dataset type: <class 'datasets.arrow_dataset.Dataset'>\n",
            "Dataset length: 1000\n",
            "Accessing index: 18\n",
            "Dataset type: <class 'datasets.arrow_dataset.Dataset'>\n",
            "Dataset length: 1000\n",
            "Accessing index: 561\n",
            "Dataset type: <class 'datasets.arrow_dataset.Dataset'>\n",
            "Dataset length: 1000\n"
          ]
        },
        {
          "output_type": "stream",
          "name": "stderr",
          "text": [
            "\r 10%|█         | 13/125 [03:33<27:43, 14.86s/it]"
          ]
        },
        {
          "output_type": "stream",
          "name": "stdout",
          "text": [
            "Accessing index: 664\n",
            "Dataset type: <class 'datasets.arrow_dataset.Dataset'>\n",
            "Dataset length: 1000\n",
            "Accessing index: 313\n",
            "Dataset type: <class 'datasets.arrow_dataset.Dataset'>\n",
            "Dataset length: 1000\n",
            "Accessing index: 548\n",
            "Dataset type: <class 'datasets.arrow_dataset.Dataset'>\n",
            "Dataset length: 1000\n",
            "Accessing index: 527\n",
            "Dataset type: <class 'datasets.arrow_dataset.Dataset'>\n",
            "Dataset length: 1000\n",
            "Accessing index: 171\n",
            "Dataset type: <class 'datasets.arrow_dataset.Dataset'>\n",
            "Dataset length: 1000\n",
            "Accessing index: 845\n",
            "Dataset type: <class 'datasets.arrow_dataset.Dataset'>\n",
            "Dataset length: 1000\n",
            "Accessing index: 8\n",
            "Dataset type: <class 'datasets.arrow_dataset.Dataset'>\n",
            "Dataset length: 1000\n",
            "Accessing index: 371\n",
            "Dataset type: <class 'datasets.arrow_dataset.Dataset'>\n",
            "Dataset length: 1000\n"
          ]
        },
        {
          "output_type": "stream",
          "name": "stderr",
          "text": [
            "\r 11%|█         | 14/125 [03:48<27:39, 14.95s/it]"
          ]
        },
        {
          "output_type": "stream",
          "name": "stdout",
          "text": [
            "Accessing index: 339\n",
            "Dataset type: <class 'datasets.arrow_dataset.Dataset'>\n",
            "Dataset length: 1000\n",
            "Accessing index: 622\n",
            "Dataset type: <class 'datasets.arrow_dataset.Dataset'>\n",
            "Dataset length: 1000\n",
            "Accessing index: 614\n",
            "Dataset type: <class 'datasets.arrow_dataset.Dataset'>\n",
            "Dataset length: 1000\n",
            "Accessing index: 533\n",
            "Dataset type: <class 'datasets.arrow_dataset.Dataset'>\n",
            "Dataset length: 1000\n",
            "Accessing index: 106\n",
            "Dataset type: <class 'datasets.arrow_dataset.Dataset'>\n",
            "Dataset length: 1000\n",
            "Accessing index: 906\n",
            "Dataset type: <class 'datasets.arrow_dataset.Dataset'>\n",
            "Dataset length: 1000\n",
            "Accessing index: 417\n",
            "Dataset type: <class 'datasets.arrow_dataset.Dataset'>\n",
            "Dataset length: 1000\n",
            "Accessing index: 974\n",
            "Dataset type: <class 'datasets.arrow_dataset.Dataset'>\n",
            "Dataset length: 1000\n"
          ]
        },
        {
          "output_type": "stream",
          "name": "stderr",
          "text": [
            "\r 12%|█▏        | 15/125 [04:02<26:50, 14.64s/it]"
          ]
        },
        {
          "output_type": "stream",
          "name": "stdout",
          "text": [
            "Accessing index: 404\n",
            "Dataset type: <class 'datasets.arrow_dataset.Dataset'>\n",
            "Dataset length: 1000\n",
            "Accessing index: 397\n",
            "Dataset type: <class 'datasets.arrow_dataset.Dataset'>\n",
            "Dataset length: 1000\n",
            "Accessing index: 959\n",
            "Dataset type: <class 'datasets.arrow_dataset.Dataset'>\n",
            "Dataset length: 1000\n",
            "Accessing index: 899\n",
            "Dataset type: <class 'datasets.arrow_dataset.Dataset'>\n",
            "Dataset length: 1000\n",
            "Accessing index: 294\n",
            "Dataset type: <class 'datasets.arrow_dataset.Dataset'>\n",
            "Dataset length: 1000\n",
            "Accessing index: 993\n",
            "Dataset type: <class 'datasets.arrow_dataset.Dataset'>\n",
            "Dataset length: 1000\n",
            "Accessing index: 582\n",
            "Dataset type: <class 'datasets.arrow_dataset.Dataset'>\n",
            "Dataset length: 1000\n",
            "Accessing index: 720\n",
            "Dataset type: <class 'datasets.arrow_dataset.Dataset'>\n",
            "Dataset length: 1000\n"
          ]
        },
        {
          "output_type": "stream",
          "name": "stderr",
          "text": [
            "\r 13%|█▎        | 16/125 [04:16<26:09, 14.40s/it]"
          ]
        },
        {
          "output_type": "stream",
          "name": "stdout",
          "text": [
            "Accessing index: 58\n",
            "Dataset type: <class 'datasets.arrow_dataset.Dataset'>\n",
            "Dataset length: 1000\n",
            "Accessing index: 572\n",
            "Dataset type: <class 'datasets.arrow_dataset.Dataset'>\n",
            "Dataset length: 1000\n",
            "Accessing index: 937\n",
            "Dataset type: <class 'datasets.arrow_dataset.Dataset'>\n",
            "Dataset length: 1000\n",
            "Accessing index: 251\n",
            "Dataset type: <class 'datasets.arrow_dataset.Dataset'>\n",
            "Dataset length: 1000\n",
            "Accessing index: 212\n",
            "Dataset type: <class 'datasets.arrow_dataset.Dataset'>\n",
            "Dataset length: 1000\n",
            "Accessing index: 949\n",
            "Dataset type: <class 'datasets.arrow_dataset.Dataset'>\n",
            "Dataset length: 1000\n",
            "Accessing index: 648\n",
            "Dataset type: <class 'datasets.arrow_dataset.Dataset'>\n",
            "Dataset length: 1000\n",
            "Accessing index: 784\n",
            "Dataset type: <class 'datasets.arrow_dataset.Dataset'>\n",
            "Dataset length: 1000\n"
          ]
        },
        {
          "output_type": "stream",
          "name": "stderr",
          "text": [
            "\r 14%|█▎        | 17/125 [04:30<25:36, 14.23s/it]"
          ]
        },
        {
          "output_type": "stream",
          "name": "stdout",
          "text": [
            "Accessing index: 575\n",
            "Dataset type: <class 'datasets.arrow_dataset.Dataset'>\n",
            "Dataset length: 1000\n",
            "Accessing index: 765\n",
            "Dataset type: <class 'datasets.arrow_dataset.Dataset'>\n",
            "Dataset length: 1000\n",
            "Accessing index: 732\n",
            "Dataset type: <class 'datasets.arrow_dataset.Dataset'>\n",
            "Dataset length: 1000\n",
            "Accessing index: 494\n",
            "Dataset type: <class 'datasets.arrow_dataset.Dataset'>\n",
            "Dataset length: 1000\n",
            "Accessing index: 685\n",
            "Dataset type: <class 'datasets.arrow_dataset.Dataset'>\n",
            "Dataset length: 1000\n",
            "Accessing index: 857\n",
            "Dataset type: <class 'datasets.arrow_dataset.Dataset'>\n",
            "Dataset length: 1000\n",
            "Accessing index: 832\n",
            "Dataset type: <class 'datasets.arrow_dataset.Dataset'>\n",
            "Dataset length: 1000\n",
            "Accessing index: 547\n",
            "Dataset type: <class 'datasets.arrow_dataset.Dataset'>\n",
            "Dataset length: 1000\n"
          ]
        },
        {
          "output_type": "stream",
          "name": "stderr",
          "text": [
            "\r 14%|█▍        | 18/125 [04:45<25:30, 14.31s/it]"
          ]
        },
        {
          "output_type": "stream",
          "name": "stdout",
          "text": [
            "Accessing index: 19\n",
            "Dataset type: <class 'datasets.arrow_dataset.Dataset'>\n",
            "Dataset length: 1000\n",
            "Accessing index: 934\n",
            "Dataset type: <class 'datasets.arrow_dataset.Dataset'>\n",
            "Dataset length: 1000\n",
            "Accessing index: 383\n",
            "Dataset type: <class 'datasets.arrow_dataset.Dataset'>\n",
            "Dataset length: 1000\n",
            "Accessing index: 488\n",
            "Dataset type: <class 'datasets.arrow_dataset.Dataset'>\n",
            "Dataset length: 1000\n",
            "Accessing index: 206\n",
            "Dataset type: <class 'datasets.arrow_dataset.Dataset'>\n",
            "Dataset length: 1000\n",
            "Accessing index: 913\n",
            "Dataset type: <class 'datasets.arrow_dataset.Dataset'>\n",
            "Dataset length: 1000\n",
            "Accessing index: 910\n",
            "Dataset type: <class 'datasets.arrow_dataset.Dataset'>\n",
            "Dataset length: 1000\n",
            "Accessing index: 224\n",
            "Dataset type: <class 'datasets.arrow_dataset.Dataset'>\n",
            "Dataset length: 1000\n"
          ]
        },
        {
          "output_type": "stream",
          "name": "stderr",
          "text": [
            "\r 15%|█▌        | 19/125 [04:59<25:12, 14.27s/it]"
          ]
        },
        {
          "output_type": "stream",
          "name": "stdout",
          "text": [
            "Accessing index: 304\n",
            "Dataset type: <class 'datasets.arrow_dataset.Dataset'>\n",
            "Dataset length: 1000\n",
            "Accessing index: 502\n",
            "Dataset type: <class 'datasets.arrow_dataset.Dataset'>\n",
            "Dataset length: 1000\n",
            "Accessing index: 193\n",
            "Dataset type: <class 'datasets.arrow_dataset.Dataset'>\n",
            "Dataset length: 1000\n",
            "Accessing index: 630\n",
            "Dataset type: <class 'datasets.arrow_dataset.Dataset'>\n",
            "Dataset length: 1000\n",
            "Accessing index: 569\n",
            "Dataset type: <class 'datasets.arrow_dataset.Dataset'>\n",
            "Dataset length: 1000\n",
            "Accessing index: 929\n",
            "Dataset type: <class 'datasets.arrow_dataset.Dataset'>\n",
            "Dataset length: 1000\n",
            "Accessing index: 308\n",
            "Dataset type: <class 'datasets.arrow_dataset.Dataset'>\n",
            "Dataset length: 1000\n",
            "Accessing index: 3\n",
            "Dataset type: <class 'datasets.arrow_dataset.Dataset'>\n",
            "Dataset length: 1000\n"
          ]
        },
        {
          "output_type": "stream",
          "name": "stderr",
          "text": [
            "\r 16%|█▌        | 20/125 [05:13<24:46, 14.16s/it]"
          ]
        },
        {
          "output_type": "stream",
          "name": "stdout",
          "text": [
            "Accessing index: 583\n",
            "Dataset type: <class 'datasets.arrow_dataset.Dataset'>\n",
            "Dataset length: 1000\n",
            "Accessing index: 880\n",
            "Dataset type: <class 'datasets.arrow_dataset.Dataset'>\n",
            "Dataset length: 1000\n",
            "Accessing index: 774\n",
            "Dataset type: <class 'datasets.arrow_dataset.Dataset'>\n",
            "Dataset length: 1000\n",
            "Accessing index: 821\n",
            "Dataset type: <class 'datasets.arrow_dataset.Dataset'>\n",
            "Dataset length: 1000\n",
            "Accessing index: 378\n",
            "Dataset type: <class 'datasets.arrow_dataset.Dataset'>\n",
            "Dataset length: 1000\n",
            "Accessing index: 657\n",
            "Dataset type: <class 'datasets.arrow_dataset.Dataset'>\n",
            "Dataset length: 1000\n",
            "Accessing index: 973\n",
            "Dataset type: <class 'datasets.arrow_dataset.Dataset'>\n",
            "Dataset length: 1000\n",
            "Accessing index: 435\n",
            "Dataset type: <class 'datasets.arrow_dataset.Dataset'>\n",
            "Dataset length: 1000\n"
          ]
        },
        {
          "output_type": "stream",
          "name": "stderr",
          "text": [
            "\r 17%|█▋        | 21/125 [05:26<24:23, 14.07s/it]"
          ]
        },
        {
          "output_type": "stream",
          "name": "stdout",
          "text": [
            "Accessing index: 707\n",
            "Dataset type: <class 'datasets.arrow_dataset.Dataset'>\n",
            "Dataset length: 1000\n",
            "Accessing index: 286\n",
            "Dataset type: <class 'datasets.arrow_dataset.Dataset'>\n",
            "Dataset length: 1000\n",
            "Accessing index: 768\n",
            "Dataset type: <class 'datasets.arrow_dataset.Dataset'>\n",
            "Dataset length: 1000\n",
            "Accessing index: 708\n",
            "Dataset type: <class 'datasets.arrow_dataset.Dataset'>\n",
            "Dataset length: 1000\n",
            "Accessing index: 309\n",
            "Dataset type: <class 'datasets.arrow_dataset.Dataset'>\n",
            "Dataset length: 1000\n",
            "Accessing index: 728\n",
            "Dataset type: <class 'datasets.arrow_dataset.Dataset'>\n",
            "Dataset length: 1000\n",
            "Accessing index: 470\n",
            "Dataset type: <class 'datasets.arrow_dataset.Dataset'>\n",
            "Dataset length: 1000\n",
            "Accessing index: 532\n",
            "Dataset type: <class 'datasets.arrow_dataset.Dataset'>\n",
            "Dataset length: 1000\n"
          ]
        },
        {
          "output_type": "stream",
          "name": "stderr",
          "text": [
            "\r 18%|█▊        | 22/125 [05:41<24:23, 14.21s/it]"
          ]
        },
        {
          "output_type": "stream",
          "name": "stdout",
          "text": [
            "Accessing index: 219\n",
            "Dataset type: <class 'datasets.arrow_dataset.Dataset'>\n",
            "Dataset length: 1000\n",
            "Accessing index: 609\n",
            "Dataset type: <class 'datasets.arrow_dataset.Dataset'>\n",
            "Dataset length: 1000\n",
            "Accessing index: 268\n",
            "Dataset type: <class 'datasets.arrow_dataset.Dataset'>\n",
            "Dataset length: 1000\n",
            "Accessing index: 101\n",
            "Dataset type: <class 'datasets.arrow_dataset.Dataset'>\n",
            "Dataset length: 1000\n",
            "Accessing index: 424\n",
            "Dataset type: <class 'datasets.arrow_dataset.Dataset'>\n",
            "Dataset length: 1000\n",
            "Accessing index: 766\n",
            "Dataset type: <class 'datasets.arrow_dataset.Dataset'>\n",
            "Dataset length: 1000\n",
            "Accessing index: 928\n",
            "Dataset type: <class 'datasets.arrow_dataset.Dataset'>\n",
            "Dataset length: 1000\n",
            "Accessing index: 578\n",
            "Dataset type: <class 'datasets.arrow_dataset.Dataset'>\n",
            "Dataset length: 1000\n"
          ]
        },
        {
          "output_type": "stream",
          "name": "stderr",
          "text": [
            "\r 18%|█▊        | 23/125 [05:55<23:58, 14.10s/it]"
          ]
        },
        {
          "output_type": "stream",
          "name": "stdout",
          "text": [
            "Accessing index: 482\n",
            "Dataset type: <class 'datasets.arrow_dataset.Dataset'>\n",
            "Dataset length: 1000\n",
            "Accessing index: 107\n",
            "Dataset type: <class 'datasets.arrow_dataset.Dataset'>\n",
            "Dataset length: 1000\n",
            "Accessing index: 654\n",
            "Dataset type: <class 'datasets.arrow_dataset.Dataset'>\n",
            "Dataset length: 1000\n",
            "Accessing index: 541\n",
            "Dataset type: <class 'datasets.arrow_dataset.Dataset'>\n",
            "Dataset length: 1000\n",
            "Accessing index: 717\n",
            "Dataset type: <class 'datasets.arrow_dataset.Dataset'>\n",
            "Dataset length: 1000\n",
            "Accessing index: 524\n",
            "Dataset type: <class 'datasets.arrow_dataset.Dataset'>\n",
            "Dataset length: 1000\n",
            "Accessing index: 944\n",
            "Dataset type: <class 'datasets.arrow_dataset.Dataset'>\n",
            "Dataset length: 1000\n",
            "Accessing index: 785\n",
            "Dataset type: <class 'datasets.arrow_dataset.Dataset'>\n",
            "Dataset length: 1000\n"
          ]
        },
        {
          "output_type": "stream",
          "name": "stderr",
          "text": [
            "\r 19%|█▉        | 24/125 [06:09<23:37, 14.04s/it]"
          ]
        },
        {
          "output_type": "stream",
          "name": "stdout",
          "text": [
            "Accessing index: 825\n",
            "Dataset type: <class 'datasets.arrow_dataset.Dataset'>\n",
            "Dataset length: 1000\n",
            "Accessing index: 759\n",
            "Dataset type: <class 'datasets.arrow_dataset.Dataset'>\n",
            "Dataset length: 1000\n",
            "Accessing index: 608\n",
            "Dataset type: <class 'datasets.arrow_dataset.Dataset'>\n",
            "Dataset length: 1000\n",
            "Accessing index: 503\n",
            "Dataset type: <class 'datasets.arrow_dataset.Dataset'>\n",
            "Dataset length: 1000\n",
            "Accessing index: 478\n",
            "Dataset type: <class 'datasets.arrow_dataset.Dataset'>\n",
            "Dataset length: 1000\n",
            "Accessing index: 41\n",
            "Dataset type: <class 'datasets.arrow_dataset.Dataset'>\n",
            "Dataset length: 1000\n",
            "Accessing index: 985\n",
            "Dataset type: <class 'datasets.arrow_dataset.Dataset'>\n",
            "Dataset length: 1000\n",
            "Accessing index: 427\n",
            "Dataset type: <class 'datasets.arrow_dataset.Dataset'>\n",
            "Dataset length: 1000\n"
          ]
        },
        {
          "output_type": "stream",
          "name": "stderr",
          "text": [
            "\r 20%|██        | 25/125 [06:23<23:18, 13.99s/it]"
          ]
        },
        {
          "output_type": "stream",
          "name": "stdout",
          "text": [
            "Accessing index: 275\n",
            "Dataset type: <class 'datasets.arrow_dataset.Dataset'>\n",
            "Dataset length: 1000\n",
            "Accessing index: 352\n",
            "Dataset type: <class 'datasets.arrow_dataset.Dataset'>\n",
            "Dataset length: 1000\n",
            "Accessing index: 430\n",
            "Dataset type: <class 'datasets.arrow_dataset.Dataset'>\n",
            "Dataset length: 1000\n",
            "Accessing index: 326\n",
            "Dataset type: <class 'datasets.arrow_dataset.Dataset'>\n",
            "Dataset length: 1000\n",
            "Accessing index: 886\n",
            "Dataset type: <class 'datasets.arrow_dataset.Dataset'>\n",
            "Dataset length: 1000\n",
            "Accessing index: 109\n",
            "Dataset type: <class 'datasets.arrow_dataset.Dataset'>\n",
            "Dataset length: 1000\n",
            "Accessing index: 34\n",
            "Dataset type: <class 'datasets.arrow_dataset.Dataset'>\n",
            "Dataset length: 1000\n",
            "Accessing index: 216\n",
            "Dataset type: <class 'datasets.arrow_dataset.Dataset'>\n",
            "Dataset length: 1000\n"
          ]
        },
        {
          "output_type": "stream",
          "name": "stderr",
          "text": [
            "\r 21%|██        | 26/125 [06:37<23:05, 13.99s/it]"
          ]
        },
        {
          "output_type": "stream",
          "name": "stdout",
          "text": [
            "Accessing index: 223\n",
            "Dataset type: <class 'datasets.arrow_dataset.Dataset'>\n",
            "Dataset length: 1000\n",
            "Accessing index: 922\n",
            "Dataset type: <class 'datasets.arrow_dataset.Dataset'>\n",
            "Dataset length: 1000\n",
            "Accessing index: 163\n",
            "Dataset type: <class 'datasets.arrow_dataset.Dataset'>\n",
            "Dataset length: 1000\n",
            "Accessing index: 258\n",
            "Dataset type: <class 'datasets.arrow_dataset.Dataset'>\n",
            "Dataset length: 1000\n",
            "Accessing index: 495\n",
            "Dataset type: <class 'datasets.arrow_dataset.Dataset'>\n",
            "Dataset length: 1000\n",
            "Accessing index: 368\n",
            "Dataset type: <class 'datasets.arrow_dataset.Dataset'>\n",
            "Dataset length: 1000\n",
            "Accessing index: 866\n",
            "Dataset type: <class 'datasets.arrow_dataset.Dataset'>\n",
            "Dataset length: 1000\n",
            "Accessing index: 311\n",
            "Dataset type: <class 'datasets.arrow_dataset.Dataset'>\n",
            "Dataset length: 1000\n"
          ]
        },
        {
          "output_type": "stream",
          "name": "stderr",
          "text": [
            "\r 22%|██▏       | 27/125 [06:51<23:08, 14.17s/it]"
          ]
        },
        {
          "output_type": "stream",
          "name": "stdout",
          "text": [
            "Accessing index: 340\n",
            "Dataset type: <class 'datasets.arrow_dataset.Dataset'>\n",
            "Dataset length: 1000\n",
            "Accessing index: 114\n",
            "Dataset type: <class 'datasets.arrow_dataset.Dataset'>\n",
            "Dataset length: 1000\n",
            "Accessing index: 858\n",
            "Dataset type: <class 'datasets.arrow_dataset.Dataset'>\n",
            "Dataset length: 1000\n",
            "Accessing index: 490\n",
            "Dataset type: <class 'datasets.arrow_dataset.Dataset'>\n",
            "Dataset length: 1000\n",
            "Accessing index: 702\n",
            "Dataset type: <class 'datasets.arrow_dataset.Dataset'>\n",
            "Dataset length: 1000\n",
            "Accessing index: 94\n",
            "Dataset type: <class 'datasets.arrow_dataset.Dataset'>\n",
            "Dataset length: 1000\n",
            "Accessing index: 870\n",
            "Dataset type: <class 'datasets.arrow_dataset.Dataset'>\n",
            "Dataset length: 1000\n",
            "Accessing index: 846\n",
            "Dataset type: <class 'datasets.arrow_dataset.Dataset'>\n",
            "Dataset length: 1000\n"
          ]
        },
        {
          "output_type": "stream",
          "name": "stderr",
          "text": [
            "\r 22%|██▏       | 28/125 [07:05<22:48, 14.11s/it]"
          ]
        },
        {
          "output_type": "stream",
          "name": "stdout",
          "text": [
            "Accessing index: 618\n",
            "Dataset type: <class 'datasets.arrow_dataset.Dataset'>\n",
            "Dataset length: 1000\n",
            "Accessing index: 227\n",
            "Dataset type: <class 'datasets.arrow_dataset.Dataset'>\n",
            "Dataset length: 1000\n",
            "Accessing index: 5\n",
            "Dataset type: <class 'datasets.arrow_dataset.Dataset'>\n",
            "Dataset length: 1000\n",
            "Accessing index: 471\n",
            "Dataset type: <class 'datasets.arrow_dataset.Dataset'>\n",
            "Dataset length: 1000\n",
            "Accessing index: 190\n",
            "Dataset type: <class 'datasets.arrow_dataset.Dataset'>\n",
            "Dataset length: 1000\n",
            "Accessing index: 71\n",
            "Dataset type: <class 'datasets.arrow_dataset.Dataset'>\n",
            "Dataset length: 1000\n",
            "Accessing index: 342\n",
            "Dataset type: <class 'datasets.arrow_dataset.Dataset'>\n",
            "Dataset length: 1000\n",
            "Accessing index: 474\n",
            "Dataset type: <class 'datasets.arrow_dataset.Dataset'>\n",
            "Dataset length: 1000\n"
          ]
        },
        {
          "output_type": "stream",
          "name": "stderr",
          "text": [
            "\r 23%|██▎       | 29/125 [07:19<22:31, 14.08s/it]"
          ]
        },
        {
          "output_type": "stream",
          "name": "stdout",
          "text": [
            "Accessing index: 555\n",
            "Dataset type: <class 'datasets.arrow_dataset.Dataset'>\n",
            "Dataset length: 1000\n",
            "Accessing index: 23\n",
            "Dataset type: <class 'datasets.arrow_dataset.Dataset'>\n",
            "Dataset length: 1000\n",
            "Accessing index: 419\n",
            "Dataset type: <class 'datasets.arrow_dataset.Dataset'>\n",
            "Dataset length: 1000\n",
            "Accessing index: 31\n",
            "Dataset type: <class 'datasets.arrow_dataset.Dataset'>\n",
            "Dataset length: 1000\n",
            "Accessing index: 143\n",
            "Dataset type: <class 'datasets.arrow_dataset.Dataset'>\n",
            "Dataset length: 1000\n",
            "Accessing index: 566\n",
            "Dataset type: <class 'datasets.arrow_dataset.Dataset'>\n",
            "Dataset length: 1000\n",
            "Accessing index: 593\n",
            "Dataset type: <class 'datasets.arrow_dataset.Dataset'>\n",
            "Dataset length: 1000\n",
            "Accessing index: 442\n",
            "Dataset type: <class 'datasets.arrow_dataset.Dataset'>\n",
            "Dataset length: 1000\n"
          ]
        },
        {
          "output_type": "stream",
          "name": "stderr",
          "text": [
            "\r 24%|██▍       | 30/125 [07:33<22:11, 14.01s/it]"
          ]
        },
        {
          "output_type": "stream",
          "name": "stdout",
          "text": [
            "Accessing index: 39\n",
            "Dataset type: <class 'datasets.arrow_dataset.Dataset'>\n",
            "Dataset length: 1000\n",
            "Accessing index: 369\n",
            "Dataset type: <class 'datasets.arrow_dataset.Dataset'>\n",
            "Dataset length: 1000\n",
            "Accessing index: 295\n",
            "Dataset type: <class 'datasets.arrow_dataset.Dataset'>\n",
            "Dataset length: 1000\n",
            "Accessing index: 621\n",
            "Dataset type: <class 'datasets.arrow_dataset.Dataset'>\n",
            "Dataset length: 1000\n",
            "Accessing index: 439\n",
            "Dataset type: <class 'datasets.arrow_dataset.Dataset'>\n",
            "Dataset length: 1000\n",
            "Accessing index: 743\n",
            "Dataset type: <class 'datasets.arrow_dataset.Dataset'>\n",
            "Dataset length: 1000\n",
            "Accessing index: 650\n",
            "Dataset type: <class 'datasets.arrow_dataset.Dataset'>\n",
            "Dataset length: 1000\n",
            "Accessing index: 197\n",
            "Dataset type: <class 'datasets.arrow_dataset.Dataset'>\n",
            "Dataset length: 1000\n"
          ]
        },
        {
          "output_type": "stream",
          "name": "stderr",
          "text": [
            "\r 25%|██▍       | 31/125 [07:47<21:55, 14.00s/it]"
          ]
        },
        {
          "output_type": "stream",
          "name": "stdout",
          "text": [
            "Accessing index: 695\n",
            "Dataset type: <class 'datasets.arrow_dataset.Dataset'>\n",
            "Dataset length: 1000\n",
            "Accessing index: 265\n",
            "Dataset type: <class 'datasets.arrow_dataset.Dataset'>\n",
            "Dataset length: 1000\n",
            "Accessing index: 95\n",
            "Dataset type: <class 'datasets.arrow_dataset.Dataset'>\n",
            "Dataset length: 1000\n",
            "Accessing index: 69\n",
            "Dataset type: <class 'datasets.arrow_dataset.Dataset'>\n",
            "Dataset length: 1000\n",
            "Accessing index: 12\n",
            "Dataset type: <class 'datasets.arrow_dataset.Dataset'>\n",
            "Dataset length: 1000\n",
            "Accessing index: 165\n",
            "Dataset type: <class 'datasets.arrow_dataset.Dataset'>\n",
            "Dataset length: 1000\n",
            "Accessing index: 521\n",
            "Dataset type: <class 'datasets.arrow_dataset.Dataset'>\n",
            "Dataset length: 1000\n",
            "Accessing index: 162\n",
            "Dataset type: <class 'datasets.arrow_dataset.Dataset'>\n",
            "Dataset length: 1000\n"
          ]
        },
        {
          "output_type": "stream",
          "name": "stderr",
          "text": [
            "\r 26%|██▌       | 32/125 [08:01<21:39, 13.97s/it]"
          ]
        },
        {
          "output_type": "stream",
          "name": "stdout",
          "text": [
            "Accessing index: 70\n",
            "Dataset type: <class 'datasets.arrow_dataset.Dataset'>\n",
            "Dataset length: 1000\n",
            "Accessing index: 168\n",
            "Dataset type: <class 'datasets.arrow_dataset.Dataset'>\n",
            "Dataset length: 1000\n",
            "Accessing index: 321\n",
            "Dataset type: <class 'datasets.arrow_dataset.Dataset'>\n",
            "Dataset length: 1000\n",
            "Accessing index: 666\n",
            "Dataset type: <class 'datasets.arrow_dataset.Dataset'>\n",
            "Dataset length: 1000\n",
            "Accessing index: 632\n",
            "Dataset type: <class 'datasets.arrow_dataset.Dataset'>\n",
            "Dataset length: 1000\n",
            "Accessing index: 312\n",
            "Dataset type: <class 'datasets.arrow_dataset.Dataset'>\n",
            "Dataset length: 1000\n",
            "Accessing index: 242\n",
            "Dataset type: <class 'datasets.arrow_dataset.Dataset'>\n",
            "Dataset length: 1000\n",
            "Accessing index: 436\n",
            "Dataset type: <class 'datasets.arrow_dataset.Dataset'>\n",
            "Dataset length: 1000\n"
          ]
        },
        {
          "output_type": "stream",
          "name": "stderr",
          "text": [
            "\r 26%|██▋       | 33/125 [08:15<21:22, 13.94s/it]"
          ]
        },
        {
          "output_type": "stream",
          "name": "stdout",
          "text": [
            "Accessing index: 403\n",
            "Dataset type: <class 'datasets.arrow_dataset.Dataset'>\n",
            "Dataset length: 1000\n",
            "Accessing index: 698\n",
            "Dataset type: <class 'datasets.arrow_dataset.Dataset'>\n",
            "Dataset length: 1000\n",
            "Accessing index: 556\n",
            "Dataset type: <class 'datasets.arrow_dataset.Dataset'>\n",
            "Dataset length: 1000\n",
            "Accessing index: 104\n",
            "Dataset type: <class 'datasets.arrow_dataset.Dataset'>\n",
            "Dataset length: 1000\n",
            "Accessing index: 726\n",
            "Dataset type: <class 'datasets.arrow_dataset.Dataset'>\n",
            "Dataset length: 1000\n",
            "Accessing index: 675\n",
            "Dataset type: <class 'datasets.arrow_dataset.Dataset'>\n",
            "Dataset length: 1000\n",
            "Accessing index: 241\n",
            "Dataset type: <class 'datasets.arrow_dataset.Dataset'>\n",
            "Dataset length: 1000\n",
            "Accessing index: 237\n",
            "Dataset type: <class 'datasets.arrow_dataset.Dataset'>\n",
            "Dataset length: 1000\n"
          ]
        },
        {
          "output_type": "stream",
          "name": "stderr",
          "text": [
            "\r 27%|██▋       | 34/125 [08:29<21:06, 13.92s/it]"
          ]
        },
        {
          "output_type": "stream",
          "name": "stdout",
          "text": [
            "Accessing index: 651\n",
            "Dataset type: <class 'datasets.arrow_dataset.Dataset'>\n",
            "Dataset length: 1000\n",
            "Accessing index: 963\n",
            "Dataset type: <class 'datasets.arrow_dataset.Dataset'>\n",
            "Dataset length: 1000\n",
            "Accessing index: 499\n",
            "Dataset type: <class 'datasets.arrow_dataset.Dataset'>\n",
            "Dataset length: 1000\n",
            "Accessing index: 668\n",
            "Dataset type: <class 'datasets.arrow_dataset.Dataset'>\n",
            "Dataset length: 1000\n",
            "Accessing index: 500\n",
            "Dataset type: <class 'datasets.arrow_dataset.Dataset'>\n",
            "Dataset length: 1000\n",
            "Accessing index: 416\n",
            "Dataset type: <class 'datasets.arrow_dataset.Dataset'>\n",
            "Dataset length: 1000\n",
            "Accessing index: 847\n",
            "Dataset type: <class 'datasets.arrow_dataset.Dataset'>\n",
            "Dataset length: 1000\n",
            "Accessing index: 808\n",
            "Dataset type: <class 'datasets.arrow_dataset.Dataset'>\n",
            "Dataset length: 1000\n"
          ]
        },
        {
          "output_type": "stream",
          "name": "stderr",
          "text": [
            "\r 28%|██▊       | 35/125 [08:43<20:58, 13.98s/it]"
          ]
        },
        {
          "output_type": "stream",
          "name": "stdout",
          "text": [
            "Accessing index: 509\n",
            "Dataset type: <class 'datasets.arrow_dataset.Dataset'>\n",
            "Dataset length: 1000\n",
            "Accessing index: 875\n",
            "Dataset type: <class 'datasets.arrow_dataset.Dataset'>\n",
            "Dataset length: 1000\n",
            "Accessing index: 800\n",
            "Dataset type: <class 'datasets.arrow_dataset.Dataset'>\n",
            "Dataset length: 1000\n",
            "Accessing index: 891\n",
            "Dataset type: <class 'datasets.arrow_dataset.Dataset'>\n",
            "Dataset length: 1000\n",
            "Accessing index: 288\n",
            "Dataset type: <class 'datasets.arrow_dataset.Dataset'>\n",
            "Dataset length: 1000\n",
            "Accessing index: 990\n",
            "Dataset type: <class 'datasets.arrow_dataset.Dataset'>\n",
            "Dataset length: 1000\n",
            "Accessing index: 617\n",
            "Dataset type: <class 'datasets.arrow_dataset.Dataset'>\n",
            "Dataset length: 1000\n",
            "Accessing index: 700\n",
            "Dataset type: <class 'datasets.arrow_dataset.Dataset'>\n",
            "Dataset length: 1000\n"
          ]
        },
        {
          "output_type": "stream",
          "name": "stderr",
          "text": [
            "\r 29%|██▉       | 36/125 [08:57<20:56, 14.12s/it]"
          ]
        },
        {
          "output_type": "stream",
          "name": "stdout",
          "text": [
            "Accessing index: 979\n",
            "Dataset type: <class 'datasets.arrow_dataset.Dataset'>\n",
            "Dataset length: 1000\n",
            "Accessing index: 635\n",
            "Dataset type: <class 'datasets.arrow_dataset.Dataset'>\n",
            "Dataset length: 1000\n",
            "Accessing index: 856\n",
            "Dataset type: <class 'datasets.arrow_dataset.Dataset'>\n",
            "Dataset length: 1000\n",
            "Accessing index: 392\n",
            "Dataset type: <class 'datasets.arrow_dataset.Dataset'>\n",
            "Dataset length: 1000\n",
            "Accessing index: 396\n",
            "Dataset type: <class 'datasets.arrow_dataset.Dataset'>\n",
            "Dataset length: 1000\n",
            "Accessing index: 692\n",
            "Dataset type: <class 'datasets.arrow_dataset.Dataset'>\n",
            "Dataset length: 1000\n",
            "Accessing index: 6\n",
            "Dataset type: <class 'datasets.arrow_dataset.Dataset'>\n",
            "Dataset length: 1000\n",
            "Accessing index: 203\n",
            "Dataset type: <class 'datasets.arrow_dataset.Dataset'>\n",
            "Dataset length: 1000\n"
          ]
        },
        {
          "output_type": "stream",
          "name": "stderr",
          "text": [
            "\r 30%|██▉       | 37/125 [09:11<20:40, 14.09s/it]"
          ]
        },
        {
          "output_type": "stream",
          "name": "stdout",
          "text": [
            "Accessing index: 362\n",
            "Dataset type: <class 'datasets.arrow_dataset.Dataset'>\n",
            "Dataset length: 1000\n",
            "Accessing index: 602\n",
            "Dataset type: <class 'datasets.arrow_dataset.Dataset'>\n",
            "Dataset length: 1000\n",
            "Accessing index: 647\n",
            "Dataset type: <class 'datasets.arrow_dataset.Dataset'>\n",
            "Dataset length: 1000\n",
            "Accessing index: 345\n",
            "Dataset type: <class 'datasets.arrow_dataset.Dataset'>\n",
            "Dataset length: 1000\n",
            "Accessing index: 412\n",
            "Dataset type: <class 'datasets.arrow_dataset.Dataset'>\n",
            "Dataset length: 1000\n",
            "Accessing index: 745\n",
            "Dataset type: <class 'datasets.arrow_dataset.Dataset'>\n",
            "Dataset length: 1000\n",
            "Accessing index: 772\n",
            "Dataset type: <class 'datasets.arrow_dataset.Dataset'>\n",
            "Dataset length: 1000\n",
            "Accessing index: 730\n",
            "Dataset type: <class 'datasets.arrow_dataset.Dataset'>\n",
            "Dataset length: 1000\n"
          ]
        },
        {
          "output_type": "stream",
          "name": "stderr",
          "text": [
            "\r 30%|███       | 38/125 [09:25<20:20, 14.03s/it]"
          ]
        },
        {
          "output_type": "stream",
          "name": "stdout",
          "text": [
            "Accessing index: 862\n",
            "Dataset type: <class 'datasets.arrow_dataset.Dataset'>\n",
            "Dataset length: 1000\n",
            "Accessing index: 333\n",
            "Dataset type: <class 'datasets.arrow_dataset.Dataset'>\n",
            "Dataset length: 1000\n",
            "Accessing index: 610\n",
            "Dataset type: <class 'datasets.arrow_dataset.Dataset'>\n",
            "Dataset length: 1000\n",
            "Accessing index: 284\n",
            "Dataset type: <class 'datasets.arrow_dataset.Dataset'>\n",
            "Dataset length: 1000\n",
            "Accessing index: 878\n",
            "Dataset type: <class 'datasets.arrow_dataset.Dataset'>\n",
            "Dataset length: 1000\n",
            "Accessing index: 749\n",
            "Dataset type: <class 'datasets.arrow_dataset.Dataset'>\n",
            "Dataset length: 1000\n",
            "Accessing index: 103\n",
            "Dataset type: <class 'datasets.arrow_dataset.Dataset'>\n",
            "Dataset length: 1000\n",
            "Accessing index: 493\n",
            "Dataset type: <class 'datasets.arrow_dataset.Dataset'>\n",
            "Dataset length: 1000\n"
          ]
        },
        {
          "output_type": "stream",
          "name": "stderr",
          "text": [
            "\r 31%|███       | 39/125 [09:39<20:06, 14.02s/it]"
          ]
        },
        {
          "output_type": "stream",
          "name": "stdout",
          "text": [
            "Accessing index: 174\n",
            "Dataset type: <class 'datasets.arrow_dataset.Dataset'>\n",
            "Dataset length: 1000\n",
            "Accessing index: 487\n",
            "Dataset type: <class 'datasets.arrow_dataset.Dataset'>\n",
            "Dataset length: 1000\n",
            "Accessing index: 940\n",
            "Dataset type: <class 'datasets.arrow_dataset.Dataset'>\n",
            "Dataset length: 1000\n",
            "Accessing index: 851\n",
            "Dataset type: <class 'datasets.arrow_dataset.Dataset'>\n",
            "Dataset length: 1000\n",
            "Accessing index: 957\n",
            "Dataset type: <class 'datasets.arrow_dataset.Dataset'>\n",
            "Dataset length: 1000\n",
            "Accessing index: 445\n",
            "Dataset type: <class 'datasets.arrow_dataset.Dataset'>\n",
            "Dataset length: 1000\n",
            "Accessing index: 791\n",
            "Dataset type: <class 'datasets.arrow_dataset.Dataset'>\n",
            "Dataset length: 1000\n",
            "Accessing index: 289\n",
            "Dataset type: <class 'datasets.arrow_dataset.Dataset'>\n",
            "Dataset length: 1000\n"
          ]
        },
        {
          "output_type": "stream",
          "name": "stderr",
          "text": [
            "\r 32%|███▏      | 40/125 [09:53<19:48, 13.98s/it]"
          ]
        },
        {
          "output_type": "stream",
          "name": "stdout",
          "text": [
            "Accessing index: 391\n",
            "Dataset type: <class 'datasets.arrow_dataset.Dataset'>\n",
            "Dataset length: 1000\n",
            "Accessing index: 218\n",
            "Dataset type: <class 'datasets.arrow_dataset.Dataset'>\n",
            "Dataset length: 1000\n",
            "Accessing index: 939\n",
            "Dataset type: <class 'datasets.arrow_dataset.Dataset'>\n",
            "Dataset length: 1000\n",
            "Accessing index: 789\n",
            "Dataset type: <class 'datasets.arrow_dataset.Dataset'>\n",
            "Dataset length: 1000\n",
            "Accessing index: 423\n",
            "Dataset type: <class 'datasets.arrow_dataset.Dataset'>\n",
            "Dataset length: 1000\n",
            "Accessing index: 641\n",
            "Dataset type: <class 'datasets.arrow_dataset.Dataset'>\n",
            "Dataset length: 1000\n",
            "Accessing index: 591\n",
            "Dataset type: <class 'datasets.arrow_dataset.Dataset'>\n",
            "Dataset length: 1000\n",
            "Accessing index: 353\n",
            "Dataset type: <class 'datasets.arrow_dataset.Dataset'>\n",
            "Dataset length: 1000\n"
          ]
        },
        {
          "output_type": "stream",
          "name": "stderr",
          "text": [
            "\r 33%|███▎      | 41/125 [10:07<19:31, 13.95s/it]"
          ]
        },
        {
          "output_type": "stream",
          "name": "stdout",
          "text": [
            "Accessing index: 443\n",
            "Dataset type: <class 'datasets.arrow_dataset.Dataset'>\n",
            "Dataset length: 1000\n",
            "Accessing index: 601\n",
            "Dataset type: <class 'datasets.arrow_dataset.Dataset'>\n",
            "Dataset length: 1000\n",
            "Accessing index: 831\n",
            "Dataset type: <class 'datasets.arrow_dataset.Dataset'>\n",
            "Dataset length: 1000\n",
            "Accessing index: 181\n",
            "Dataset type: <class 'datasets.arrow_dataset.Dataset'>\n",
            "Dataset length: 1000\n",
            "Accessing index: 696\n",
            "Dataset type: <class 'datasets.arrow_dataset.Dataset'>\n",
            "Dataset length: 1000\n",
            "Accessing index: 714\n",
            "Dataset type: <class 'datasets.arrow_dataset.Dataset'>\n",
            "Dataset length: 1000\n",
            "Accessing index: 360\n",
            "Dataset type: <class 'datasets.arrow_dataset.Dataset'>\n",
            "Dataset length: 1000\n",
            "Accessing index: 760\n",
            "Dataset type: <class 'datasets.arrow_dataset.Dataset'>\n",
            "Dataset length: 1000\n"
          ]
        },
        {
          "output_type": "stream",
          "name": "stderr",
          "text": [
            "\r 34%|███▎      | 42/125 [10:21<19:17, 13.94s/it]"
          ]
        },
        {
          "output_type": "stream",
          "name": "stdout",
          "text": [
            "Accessing index: 701\n",
            "Dataset type: <class 'datasets.arrow_dataset.Dataset'>\n",
            "Dataset length: 1000\n",
            "Accessing index: 184\n",
            "Dataset type: <class 'datasets.arrow_dataset.Dataset'>\n",
            "Dataset length: 1000\n",
            "Accessing index: 343\n",
            "Dataset type: <class 'datasets.arrow_dataset.Dataset'>\n",
            "Dataset length: 1000\n",
            "Accessing index: 476\n",
            "Dataset type: <class 'datasets.arrow_dataset.Dataset'>\n",
            "Dataset length: 1000\n",
            "Accessing index: 876\n",
            "Dataset type: <class 'datasets.arrow_dataset.Dataset'>\n",
            "Dataset length: 1000\n",
            "Accessing index: 56\n",
            "Dataset type: <class 'datasets.arrow_dataset.Dataset'>\n",
            "Dataset length: 1000\n",
            "Accessing index: 45\n",
            "Dataset type: <class 'datasets.arrow_dataset.Dataset'>\n",
            "Dataset length: 1000\n",
            "Accessing index: 235\n",
            "Dataset type: <class 'datasets.arrow_dataset.Dataset'>\n",
            "Dataset length: 1000\n"
          ]
        },
        {
          "output_type": "stream",
          "name": "stderr",
          "text": [
            "\r 34%|███▍      | 43/125 [10:35<19:02, 13.94s/it]"
          ]
        },
        {
          "output_type": "stream",
          "name": "stdout",
          "text": [
            "Accessing index: 90\n",
            "Dataset type: <class 'datasets.arrow_dataset.Dataset'>\n",
            "Dataset length: 1000\n",
            "Accessing index: 159\n",
            "Dataset type: <class 'datasets.arrow_dataset.Dataset'>\n",
            "Dataset length: 1000\n",
            "Accessing index: 211\n",
            "Dataset type: <class 'datasets.arrow_dataset.Dataset'>\n",
            "Dataset length: 1000\n",
            "Accessing index: 175\n",
            "Dataset type: <class 'datasets.arrow_dataset.Dataset'>\n",
            "Dataset length: 1000\n",
            "Accessing index: 794\n",
            "Dataset type: <class 'datasets.arrow_dataset.Dataset'>\n",
            "Dataset length: 1000\n",
            "Accessing index: 588\n",
            "Dataset type: <class 'datasets.arrow_dataset.Dataset'>\n",
            "Dataset length: 1000\n",
            "Accessing index: 897\n",
            "Dataset type: <class 'datasets.arrow_dataset.Dataset'>\n",
            "Dataset length: 1000\n",
            "Accessing index: 240\n",
            "Dataset type: <class 'datasets.arrow_dataset.Dataset'>\n",
            "Dataset length: 1000\n"
          ]
        },
        {
          "output_type": "stream",
          "name": "stderr",
          "text": [
            "\r 35%|███▌      | 44/125 [10:49<18:57, 14.05s/it]"
          ]
        },
        {
          "output_type": "stream",
          "name": "stdout",
          "text": [
            "Accessing index: 198\n",
            "Dataset type: <class 'datasets.arrow_dataset.Dataset'>\n",
            "Dataset length: 1000\n",
            "Accessing index: 202\n",
            "Dataset type: <class 'datasets.arrow_dataset.Dataset'>\n",
            "Dataset length: 1000\n",
            "Accessing index: 357\n",
            "Dataset type: <class 'datasets.arrow_dataset.Dataset'>\n",
            "Dataset length: 1000\n",
            "Accessing index: 55\n",
            "Dataset type: <class 'datasets.arrow_dataset.Dataset'>\n",
            "Dataset length: 1000\n",
            "Accessing index: 563\n",
            "Dataset type: <class 'datasets.arrow_dataset.Dataset'>\n",
            "Dataset length: 1000\n",
            "Accessing index: 523\n",
            "Dataset type: <class 'datasets.arrow_dataset.Dataset'>\n",
            "Dataset length: 1000\n",
            "Accessing index: 398\n",
            "Dataset type: <class 'datasets.arrow_dataset.Dataset'>\n",
            "Dataset length: 1000\n",
            "Accessing index: 316\n",
            "Dataset type: <class 'datasets.arrow_dataset.Dataset'>\n",
            "Dataset length: 1000\n"
          ]
        },
        {
          "output_type": "stream",
          "name": "stderr",
          "text": [
            "\r 36%|███▌      | 45/125 [11:03<18:50, 14.13s/it]"
          ]
        },
        {
          "output_type": "stream",
          "name": "stdout",
          "text": [
            "Accessing index: 158\n",
            "Dataset type: <class 'datasets.arrow_dataset.Dataset'>\n",
            "Dataset length: 1000\n",
            "Accessing index: 449\n",
            "Dataset type: <class 'datasets.arrow_dataset.Dataset'>\n",
            "Dataset length: 1000\n",
            "Accessing index: 752\n",
            "Dataset type: <class 'datasets.arrow_dataset.Dataset'>\n",
            "Dataset length: 1000\n",
            "Accessing index: 110\n",
            "Dataset type: <class 'datasets.arrow_dataset.Dataset'>\n",
            "Dataset length: 1000\n",
            "Accessing index: 517\n",
            "Dataset type: <class 'datasets.arrow_dataset.Dataset'>\n",
            "Dataset length: 1000\n",
            "Accessing index: 860\n",
            "Dataset type: <class 'datasets.arrow_dataset.Dataset'>\n",
            "Dataset length: 1000\n",
            "Accessing index: 984\n",
            "Dataset type: <class 'datasets.arrow_dataset.Dataset'>\n",
            "Dataset length: 1000\n",
            "Accessing index: 467\n",
            "Dataset type: <class 'datasets.arrow_dataset.Dataset'>\n",
            "Dataset length: 1000\n"
          ]
        },
        {
          "output_type": "stream",
          "name": "stderr",
          "text": [
            "\r 37%|███▋      | 46/125 [11:17<18:30, 14.06s/it]"
          ]
        },
        {
          "output_type": "stream",
          "name": "stdout",
          "text": [
            "Accessing index: 480\n",
            "Dataset type: <class 'datasets.arrow_dataset.Dataset'>\n",
            "Dataset length: 1000\n",
            "Accessing index: 93\n",
            "Dataset type: <class 'datasets.arrow_dataset.Dataset'>\n",
            "Dataset length: 1000\n",
            "Accessing index: 429\n",
            "Dataset type: <class 'datasets.arrow_dataset.Dataset'>\n",
            "Dataset length: 1000\n",
            "Accessing index: 912\n",
            "Dataset type: <class 'datasets.arrow_dataset.Dataset'>\n",
            "Dataset length: 1000\n",
            "Accessing index: 813\n",
            "Dataset type: <class 'datasets.arrow_dataset.Dataset'>\n",
            "Dataset length: 1000\n",
            "Accessing index: 627\n",
            "Dataset type: <class 'datasets.arrow_dataset.Dataset'>\n",
            "Dataset length: 1000\n",
            "Accessing index: 245\n",
            "Dataset type: <class 'datasets.arrow_dataset.Dataset'>\n",
            "Dataset length: 1000\n",
            "Accessing index: 7\n",
            "Dataset type: <class 'datasets.arrow_dataset.Dataset'>\n",
            "Dataset length: 1000\n"
          ]
        },
        {
          "output_type": "stream",
          "name": "stderr",
          "text": [
            "\r 38%|███▊      | 47/125 [11:31<18:11, 14.00s/it]"
          ]
        },
        {
          "output_type": "stream",
          "name": "stdout",
          "text": [
            "Accessing index: 849\n",
            "Dataset type: <class 'datasets.arrow_dataset.Dataset'>\n",
            "Dataset length: 1000\n",
            "Accessing index: 489\n",
            "Dataset type: <class 'datasets.arrow_dataset.Dataset'>\n",
            "Dataset length: 1000\n",
            "Accessing index: 710\n",
            "Dataset type: <class 'datasets.arrow_dataset.Dataset'>\n",
            "Dataset length: 1000\n",
            "Accessing index: 796\n",
            "Dataset type: <class 'datasets.arrow_dataset.Dataset'>\n",
            "Dataset length: 1000\n",
            "Accessing index: 182\n",
            "Dataset type: <class 'datasets.arrow_dataset.Dataset'>\n",
            "Dataset length: 1000\n",
            "Accessing index: 861\n",
            "Dataset type: <class 'datasets.arrow_dataset.Dataset'>\n",
            "Dataset length: 1000\n",
            "Accessing index: 272\n",
            "Dataset type: <class 'datasets.arrow_dataset.Dataset'>\n",
            "Dataset length: 1000\n",
            "Accessing index: 63\n",
            "Dataset type: <class 'datasets.arrow_dataset.Dataset'>\n",
            "Dataset length: 1000\n"
          ]
        },
        {
          "output_type": "stream",
          "name": "stderr",
          "text": [
            "\r 38%|███▊      | 48/125 [11:45<17:54, 13.95s/it]"
          ]
        },
        {
          "output_type": "stream",
          "name": "stdout",
          "text": [
            "Accessing index: 285\n",
            "Dataset type: <class 'datasets.arrow_dataset.Dataset'>\n",
            "Dataset length: 1000\n",
            "Accessing index: 908\n",
            "Dataset type: <class 'datasets.arrow_dataset.Dataset'>\n",
            "Dataset length: 1000\n",
            "Accessing index: 612\n",
            "Dataset type: <class 'datasets.arrow_dataset.Dataset'>\n",
            "Dataset length: 1000\n",
            "Accessing index: 466\n",
            "Dataset type: <class 'datasets.arrow_dataset.Dataset'>\n",
            "Dataset length: 1000\n",
            "Accessing index: 874\n",
            "Dataset type: <class 'datasets.arrow_dataset.Dataset'>\n",
            "Dataset length: 1000\n",
            "Accessing index: 557\n",
            "Dataset type: <class 'datasets.arrow_dataset.Dataset'>\n",
            "Dataset length: 1000\n",
            "Accessing index: 37\n",
            "Dataset type: <class 'datasets.arrow_dataset.Dataset'>\n",
            "Dataset length: 1000\n",
            "Accessing index: 511\n",
            "Dataset type: <class 'datasets.arrow_dataset.Dataset'>\n",
            "Dataset length: 1000\n"
          ]
        },
        {
          "output_type": "stream",
          "name": "stderr",
          "text": [
            "\r 39%|███▉      | 49/125 [11:59<17:37, 13.91s/it]"
          ]
        },
        {
          "output_type": "stream",
          "name": "stdout",
          "text": [
            "Accessing index: 336\n",
            "Dataset type: <class 'datasets.arrow_dataset.Dataset'>\n",
            "Dataset length: 1000\n",
            "Accessing index: 75\n",
            "Dataset type: <class 'datasets.arrow_dataset.Dataset'>\n",
            "Dataset length: 1000\n",
            "Accessing index: 986\n",
            "Dataset type: <class 'datasets.arrow_dataset.Dataset'>\n",
            "Dataset length: 1000\n",
            "Accessing index: 988\n",
            "Dataset type: <class 'datasets.arrow_dataset.Dataset'>\n",
            "Dataset length: 1000\n",
            "Accessing index: 827\n",
            "Dataset type: <class 'datasets.arrow_dataset.Dataset'>\n",
            "Dataset length: 1000\n",
            "Accessing index: 799\n",
            "Dataset type: <class 'datasets.arrow_dataset.Dataset'>\n",
            "Dataset length: 1000\n",
            "Accessing index: 11\n",
            "Dataset type: <class 'datasets.arrow_dataset.Dataset'>\n",
            "Dataset length: 1000\n",
            "Accessing index: 893\n",
            "Dataset type: <class 'datasets.arrow_dataset.Dataset'>\n",
            "Dataset length: 1000\n"
          ]
        },
        {
          "output_type": "stream",
          "name": "stderr",
          "text": [
            "\r 40%|████      | 50/125 [12:15<18:15, 14.60s/it]"
          ]
        },
        {
          "output_type": "stream",
          "name": "stdout",
          "text": [
            "Accessing index: 748\n",
            "Dataset type: <class 'datasets.arrow_dataset.Dataset'>\n",
            "Dataset length: 1000\n",
            "Accessing index: 92\n",
            "Dataset type: <class 'datasets.arrow_dataset.Dataset'>\n",
            "Dataset length: 1000\n",
            "Accessing index: 852\n",
            "Dataset type: <class 'datasets.arrow_dataset.Dataset'>\n",
            "Dataset length: 1000\n",
            "Accessing index: 830\n",
            "Dataset type: <class 'datasets.arrow_dataset.Dataset'>\n",
            "Dataset length: 1000\n",
            "Accessing index: 859\n",
            "Dataset type: <class 'datasets.arrow_dataset.Dataset'>\n",
            "Dataset length: 1000\n",
            "Accessing index: 964\n",
            "Dataset type: <class 'datasets.arrow_dataset.Dataset'>\n",
            "Dataset length: 1000\n",
            "Accessing index: 645\n",
            "Dataset type: <class 'datasets.arrow_dataset.Dataset'>\n",
            "Dataset length: 1000\n",
            "Accessing index: 580\n",
            "Dataset type: <class 'datasets.arrow_dataset.Dataset'>\n",
            "Dataset length: 1000\n"
          ]
        },
        {
          "output_type": "stream",
          "name": "stderr",
          "text": [
            "\r 41%|████      | 51/125 [12:29<17:43, 14.37s/it]"
          ]
        },
        {
          "output_type": "stream",
          "name": "stdout",
          "text": [
            "Accessing index: 679\n",
            "Dataset type: <class 'datasets.arrow_dataset.Dataset'>\n",
            "Dataset length: 1000\n",
            "Accessing index: 61\n",
            "Dataset type: <class 'datasets.arrow_dataset.Dataset'>\n",
            "Dataset length: 1000\n",
            "Accessing index: 506\n",
            "Dataset type: <class 'datasets.arrow_dataset.Dataset'>\n",
            "Dataset length: 1000\n",
            "Accessing index: 977\n",
            "Dataset type: <class 'datasets.arrow_dataset.Dataset'>\n",
            "Dataset length: 1000\n",
            "Accessing index: 315\n",
            "Dataset type: <class 'datasets.arrow_dataset.Dataset'>\n",
            "Dataset length: 1000\n",
            "Accessing index: 672\n",
            "Dataset type: <class 'datasets.arrow_dataset.Dataset'>\n",
            "Dataset length: 1000\n",
            "Accessing index: 982\n",
            "Dataset type: <class 'datasets.arrow_dataset.Dataset'>\n",
            "Dataset length: 1000\n",
            "Accessing index: 394\n",
            "Dataset type: <class 'datasets.arrow_dataset.Dataset'>\n",
            "Dataset length: 1000\n"
          ]
        },
        {
          "output_type": "stream",
          "name": "stderr",
          "text": [
            "\r 42%|████▏     | 52/125 [12:43<17:18, 14.23s/it]"
          ]
        },
        {
          "output_type": "stream",
          "name": "stdout",
          "text": [
            "Accessing index: 706\n",
            "Dataset type: <class 'datasets.arrow_dataset.Dataset'>\n",
            "Dataset length: 1000\n",
            "Accessing index: 249\n",
            "Dataset type: <class 'datasets.arrow_dataset.Dataset'>\n",
            "Dataset length: 1000\n",
            "Accessing index: 671\n",
            "Dataset type: <class 'datasets.arrow_dataset.Dataset'>\n",
            "Dataset length: 1000\n",
            "Accessing index: 883\n",
            "Dataset type: <class 'datasets.arrow_dataset.Dataset'>\n",
            "Dataset length: 1000\n",
            "Accessing index: 117\n",
            "Dataset type: <class 'datasets.arrow_dataset.Dataset'>\n",
            "Dataset length: 1000\n",
            "Accessing index: 936\n",
            "Dataset type: <class 'datasets.arrow_dataset.Dataset'>\n",
            "Dataset length: 1000\n",
            "Accessing index: 945\n",
            "Dataset type: <class 'datasets.arrow_dataset.Dataset'>\n",
            "Dataset length: 1000\n",
            "Accessing index: 15\n",
            "Dataset type: <class 'datasets.arrow_dataset.Dataset'>\n",
            "Dataset length: 1000\n"
          ]
        },
        {
          "output_type": "stream",
          "name": "stderr",
          "text": [
            "\r 42%|████▏     | 53/125 [12:57<16:58, 14.15s/it]"
          ]
        },
        {
          "output_type": "stream",
          "name": "stdout",
          "text": [
            "Accessing index: 869\n",
            "Dataset type: <class 'datasets.arrow_dataset.Dataset'>\n",
            "Dataset length: 1000\n",
            "Accessing index: 96\n",
            "Dataset type: <class 'datasets.arrow_dataset.Dataset'>\n",
            "Dataset length: 1000\n",
            "Accessing index: 938\n",
            "Dataset type: <class 'datasets.arrow_dataset.Dataset'>\n",
            "Dataset length: 1000\n",
            "Accessing index: 592\n",
            "Dataset type: <class 'datasets.arrow_dataset.Dataset'>\n",
            "Dataset length: 1000\n",
            "Accessing index: 822\n",
            "Dataset type: <class 'datasets.arrow_dataset.Dataset'>\n",
            "Dataset length: 1000\n",
            "Accessing index: 370\n",
            "Dataset type: <class 'datasets.arrow_dataset.Dataset'>\n",
            "Dataset length: 1000\n",
            "Accessing index: 388\n",
            "Dataset type: <class 'datasets.arrow_dataset.Dataset'>\n",
            "Dataset length: 1000\n",
            "Accessing index: 678\n",
            "Dataset type: <class 'datasets.arrow_dataset.Dataset'>\n",
            "Dataset length: 1000\n"
          ]
        },
        {
          "output_type": "stream",
          "name": "stderr",
          "text": [
            "\r 43%|████▎     | 54/125 [13:11<16:53, 14.27s/it]"
          ]
        },
        {
          "output_type": "stream",
          "name": "stdout",
          "text": [
            "Accessing index: 840\n",
            "Dataset type: <class 'datasets.arrow_dataset.Dataset'>\n",
            "Dataset length: 1000\n",
            "Accessing index: 820\n",
            "Dataset type: <class 'datasets.arrow_dataset.Dataset'>\n",
            "Dataset length: 1000\n",
            "Accessing index: 351\n",
            "Dataset type: <class 'datasets.arrow_dataset.Dataset'>\n",
            "Dataset length: 1000\n",
            "Accessing index: 613\n",
            "Dataset type: <class 'datasets.arrow_dataset.Dataset'>\n",
            "Dataset length: 1000\n",
            "Accessing index: 78\n",
            "Dataset type: <class 'datasets.arrow_dataset.Dataset'>\n",
            "Dataset length: 1000\n",
            "Accessing index: 619\n",
            "Dataset type: <class 'datasets.arrow_dataset.Dataset'>\n",
            "Dataset length: 1000\n",
            "Accessing index: 956\n",
            "Dataset type: <class 'datasets.arrow_dataset.Dataset'>\n",
            "Dataset length: 1000\n",
            "Accessing index: 214\n",
            "Dataset type: <class 'datasets.arrow_dataset.Dataset'>\n",
            "Dataset length: 1000\n"
          ]
        },
        {
          "output_type": "stream",
          "name": "stderr",
          "text": [
            "\r 44%|████▍     | 55/125 [13:25<16:35, 14.22s/it]"
          ]
        },
        {
          "output_type": "stream",
          "name": "stdout",
          "text": [
            "Accessing index: 839\n",
            "Dataset type: <class 'datasets.arrow_dataset.Dataset'>\n",
            "Dataset length: 1000\n",
            "Accessing index: 579\n",
            "Dataset type: <class 'datasets.arrow_dataset.Dataset'>\n",
            "Dataset length: 1000\n",
            "Accessing index: 418\n",
            "Dataset type: <class 'datasets.arrow_dataset.Dataset'>\n",
            "Dataset length: 1000\n",
            "Accessing index: 361\n",
            "Dataset type: <class 'datasets.arrow_dataset.Dataset'>\n",
            "Dataset length: 1000\n",
            "Accessing index: 274\n",
            "Dataset type: <class 'datasets.arrow_dataset.Dataset'>\n",
            "Dataset length: 1000\n",
            "Accessing index: 145\n",
            "Dataset type: <class 'datasets.arrow_dataset.Dataset'>\n",
            "Dataset length: 1000\n",
            "Accessing index: 754\n",
            "Dataset type: <class 'datasets.arrow_dataset.Dataset'>\n",
            "Dataset length: 1000\n",
            "Accessing index: 991\n",
            "Dataset type: <class 'datasets.arrow_dataset.Dataset'>\n",
            "Dataset length: 1000\n"
          ]
        },
        {
          "output_type": "stream",
          "name": "stderr",
          "text": [
            "\r 45%|████▍     | 56/125 [13:39<16:15, 14.13s/it]"
          ]
        },
        {
          "output_type": "stream",
          "name": "stdout",
          "text": [
            "Accessing index: 638\n",
            "Dataset type: <class 'datasets.arrow_dataset.Dataset'>\n",
            "Dataset length: 1000\n",
            "Accessing index: 596\n",
            "Dataset type: <class 'datasets.arrow_dataset.Dataset'>\n",
            "Dataset length: 1000\n",
            "Accessing index: 118\n",
            "Dataset type: <class 'datasets.arrow_dataset.Dataset'>\n",
            "Dataset length: 1000\n",
            "Accessing index: 697\n",
            "Dataset type: <class 'datasets.arrow_dataset.Dataset'>\n",
            "Dataset length: 1000\n",
            "Accessing index: 626\n",
            "Dataset type: <class 'datasets.arrow_dataset.Dataset'>\n",
            "Dataset length: 1000\n",
            "Accessing index: 475\n",
            "Dataset type: <class 'datasets.arrow_dataset.Dataset'>\n",
            "Dataset length: 1000\n",
            "Accessing index: 693\n",
            "Dataset type: <class 'datasets.arrow_dataset.Dataset'>\n",
            "Dataset length: 1000\n",
            "Accessing index: 320\n",
            "Dataset type: <class 'datasets.arrow_dataset.Dataset'>\n",
            "Dataset length: 1000\n"
          ]
        },
        {
          "output_type": "stream",
          "name": "stderr",
          "text": [
            "\r 46%|████▌     | 57/125 [13:53<15:55, 14.05s/it]"
          ]
        },
        {
          "output_type": "stream",
          "name": "stdout",
          "text": [
            "Accessing index: 317\n",
            "Dataset type: <class 'datasets.arrow_dataset.Dataset'>\n",
            "Dataset length: 1000\n",
            "Accessing index: 864\n",
            "Dataset type: <class 'datasets.arrow_dataset.Dataset'>\n",
            "Dataset length: 1000\n",
            "Accessing index: 128\n",
            "Dataset type: <class 'datasets.arrow_dataset.Dataset'>\n",
            "Dataset length: 1000\n",
            "Accessing index: 255\n",
            "Dataset type: <class 'datasets.arrow_dataset.Dataset'>\n",
            "Dataset length: 1000\n",
            "Accessing index: 299\n",
            "Dataset type: <class 'datasets.arrow_dataset.Dataset'>\n",
            "Dataset length: 1000\n",
            "Accessing index: 355\n",
            "Dataset type: <class 'datasets.arrow_dataset.Dataset'>\n",
            "Dataset length: 1000\n",
            "Accessing index: 406\n",
            "Dataset type: <class 'datasets.arrow_dataset.Dataset'>\n",
            "Dataset length: 1000\n",
            "Accessing index: 661\n",
            "Dataset type: <class 'datasets.arrow_dataset.Dataset'>\n",
            "Dataset length: 1000\n"
          ]
        },
        {
          "output_type": "stream",
          "name": "stderr",
          "text": [
            "\r 46%|████▋     | 58/125 [14:07<15:39, 14.02s/it]"
          ]
        },
        {
          "output_type": "stream",
          "name": "stdout",
          "text": [
            "Accessing index: 486\n",
            "Dataset type: <class 'datasets.arrow_dataset.Dataset'>\n",
            "Dataset length: 1000\n",
            "Accessing index: 581\n",
            "Dataset type: <class 'datasets.arrow_dataset.Dataset'>\n",
            "Dataset length: 1000\n",
            "Accessing index: 280\n",
            "Dataset type: <class 'datasets.arrow_dataset.Dataset'>\n",
            "Dataset length: 1000\n",
            "Accessing index: 126\n",
            "Dataset type: <class 'datasets.arrow_dataset.Dataset'>\n",
            "Dataset length: 1000\n",
            "Accessing index: 20\n",
            "Dataset type: <class 'datasets.arrow_dataset.Dataset'>\n",
            "Dataset length: 1000\n",
            "Accessing index: 21\n",
            "Dataset type: <class 'datasets.arrow_dataset.Dataset'>\n",
            "Dataset length: 1000\n",
            "Accessing index: 154\n",
            "Dataset type: <class 'datasets.arrow_dataset.Dataset'>\n",
            "Dataset length: 1000\n",
            "Accessing index: 771\n",
            "Dataset type: <class 'datasets.arrow_dataset.Dataset'>\n",
            "Dataset length: 1000\n"
          ]
        },
        {
          "output_type": "stream",
          "name": "stderr",
          "text": [
            "\r 47%|████▋     | 59/125 [14:21<15:22, 13.98s/it]"
          ]
        },
        {
          "output_type": "stream",
          "name": "stdout",
          "text": [
            "Accessing index: 841\n",
            "Dataset type: <class 'datasets.arrow_dataset.Dataset'>\n",
            "Dataset length: 1000\n",
            "Accessing index: 680\n",
            "Dataset type: <class 'datasets.arrow_dataset.Dataset'>\n",
            "Dataset length: 1000\n",
            "Accessing index: 764\n",
            "Dataset type: <class 'datasets.arrow_dataset.Dataset'>\n",
            "Dataset length: 1000\n",
            "Accessing index: 518\n",
            "Dataset type: <class 'datasets.arrow_dataset.Dataset'>\n",
            "Dataset length: 1000\n",
            "Accessing index: 196\n",
            "Dataset type: <class 'datasets.arrow_dataset.Dataset'>\n",
            "Dataset length: 1000\n",
            "Accessing index: 688\n",
            "Dataset type: <class 'datasets.arrow_dataset.Dataset'>\n",
            "Dataset length: 1000\n",
            "Accessing index: 992\n",
            "Dataset type: <class 'datasets.arrow_dataset.Dataset'>\n",
            "Dataset length: 1000\n",
            "Accessing index: 606\n",
            "Dataset type: <class 'datasets.arrow_dataset.Dataset'>\n",
            "Dataset length: 1000\n"
          ]
        },
        {
          "output_type": "stream",
          "name": "stderr",
          "text": [
            "\r 48%|████▊     | 60/125 [14:35<15:05, 13.93s/it]"
          ]
        },
        {
          "output_type": "stream",
          "name": "stdout",
          "text": [
            "Accessing index: 843\n",
            "Dataset type: <class 'datasets.arrow_dataset.Dataset'>\n",
            "Dataset length: 1000\n",
            "Accessing index: 217\n",
            "Dataset type: <class 'datasets.arrow_dataset.Dataset'>\n",
            "Dataset length: 1000\n",
            "Accessing index: 881\n",
            "Dataset type: <class 'datasets.arrow_dataset.Dataset'>\n",
            "Dataset length: 1000\n",
            "Accessing index: 885\n",
            "Dataset type: <class 'datasets.arrow_dataset.Dataset'>\n",
            "Dataset length: 1000\n",
            "Accessing index: 232\n",
            "Dataset type: <class 'datasets.arrow_dataset.Dataset'>\n",
            "Dataset length: 1000\n",
            "Accessing index: 834\n",
            "Dataset type: <class 'datasets.arrow_dataset.Dataset'>\n",
            "Dataset length: 1000\n",
            "Accessing index: 183\n",
            "Dataset type: <class 'datasets.arrow_dataset.Dataset'>\n",
            "Dataset length: 1000\n",
            "Accessing index: 935\n",
            "Dataset type: <class 'datasets.arrow_dataset.Dataset'>\n",
            "Dataset length: 1000\n"
          ]
        },
        {
          "output_type": "stream",
          "name": "stderr",
          "text": [
            "\r 49%|████▉     | 61/125 [14:49<14:50, 13.91s/it]"
          ]
        },
        {
          "output_type": "stream",
          "name": "stdout",
          "text": [
            "Accessing index: 505\n",
            "Dataset type: <class 'datasets.arrow_dataset.Dataset'>\n",
            "Dataset length: 1000\n",
            "Accessing index: 842\n",
            "Dataset type: <class 'datasets.arrow_dataset.Dataset'>\n",
            "Dataset length: 1000\n",
            "Accessing index: 14\n",
            "Dataset type: <class 'datasets.arrow_dataset.Dataset'>\n",
            "Dataset length: 1000\n",
            "Accessing index: 871\n",
            "Dataset type: <class 'datasets.arrow_dataset.Dataset'>\n",
            "Dataset length: 1000\n",
            "Accessing index: 346\n",
            "Dataset type: <class 'datasets.arrow_dataset.Dataset'>\n",
            "Dataset length: 1000\n",
            "Accessing index: 815\n",
            "Dataset type: <class 'datasets.arrow_dataset.Dataset'>\n",
            "Dataset length: 1000\n",
            "Accessing index: 738\n",
            "Dataset type: <class 'datasets.arrow_dataset.Dataset'>\n",
            "Dataset length: 1000\n",
            "Accessing index: 933\n",
            "Dataset type: <class 'datasets.arrow_dataset.Dataset'>\n",
            "Dataset length: 1000\n"
          ]
        },
        {
          "output_type": "stream",
          "name": "stderr",
          "text": [
            "\r 50%|████▉     | 62/125 [15:03<14:37, 13.93s/it]"
          ]
        },
        {
          "output_type": "stream",
          "name": "stdout",
          "text": [
            "Accessing index: 82\n",
            "Dataset type: <class 'datasets.arrow_dataset.Dataset'>\n",
            "Dataset length: 1000\n",
            "Accessing index: 816\n",
            "Dataset type: <class 'datasets.arrow_dataset.Dataset'>\n",
            "Dataset length: 1000\n",
            "Accessing index: 624\n",
            "Dataset type: <class 'datasets.arrow_dataset.Dataset'>\n",
            "Dataset length: 1000\n",
            "Accessing index: 826\n",
            "Dataset type: <class 'datasets.arrow_dataset.Dataset'>\n",
            "Dataset length: 1000\n",
            "Accessing index: 151\n",
            "Dataset type: <class 'datasets.arrow_dataset.Dataset'>\n",
            "Dataset length: 1000\n",
            "Accessing index: 737\n",
            "Dataset type: <class 'datasets.arrow_dataset.Dataset'>\n",
            "Dataset length: 1000\n",
            "Accessing index: 513\n",
            "Dataset type: <class 'datasets.arrow_dataset.Dataset'>\n",
            "Dataset length: 1000\n",
            "Accessing index: 65\n",
            "Dataset type: <class 'datasets.arrow_dataset.Dataset'>\n",
            "Dataset length: 1000\n"
          ]
        },
        {
          "output_type": "stream",
          "name": "stderr",
          "text": [
            "\r 50%|█████     | 63/125 [15:17<14:35, 14.12s/it]"
          ]
        },
        {
          "output_type": "stream",
          "name": "stdout",
          "text": [
            "Accessing index: 599\n",
            "Dataset type: <class 'datasets.arrow_dataset.Dataset'>\n",
            "Dataset length: 1000\n",
            "Accessing index: 868\n",
            "Dataset type: <class 'datasets.arrow_dataset.Dataset'>\n",
            "Dataset length: 1000\n",
            "Accessing index: 402\n",
            "Dataset type: <class 'datasets.arrow_dataset.Dataset'>\n",
            "Dataset length: 1000\n",
            "Accessing index: 59\n",
            "Dataset type: <class 'datasets.arrow_dataset.Dataset'>\n",
            "Dataset length: 1000\n",
            "Accessing index: 653\n",
            "Dataset type: <class 'datasets.arrow_dataset.Dataset'>\n",
            "Dataset length: 1000\n",
            "Accessing index: 975\n",
            "Dataset type: <class 'datasets.arrow_dataset.Dataset'>\n",
            "Dataset length: 1000\n",
            "Accessing index: 210\n",
            "Dataset type: <class 'datasets.arrow_dataset.Dataset'>\n",
            "Dataset length: 1000\n",
            "Accessing index: 179\n",
            "Dataset type: <class 'datasets.arrow_dataset.Dataset'>\n",
            "Dataset length: 1000\n"
          ]
        },
        {
          "output_type": "stream",
          "name": "stderr",
          "text": [
            "\r 51%|█████     | 64/125 [15:31<14:17, 14.06s/it]"
          ]
        },
        {
          "output_type": "stream",
          "name": "stdout",
          "text": [
            "Accessing index: 848\n",
            "Dataset type: <class 'datasets.arrow_dataset.Dataset'>\n",
            "Dataset length: 1000\n",
            "Accessing index: 746\n",
            "Dataset type: <class 'datasets.arrow_dataset.Dataset'>\n",
            "Dataset length: 1000\n",
            "Accessing index: 600\n",
            "Dataset type: <class 'datasets.arrow_dataset.Dataset'>\n",
            "Dataset length: 1000\n",
            "Accessing index: 450\n",
            "Dataset type: <class 'datasets.arrow_dataset.Dataset'>\n",
            "Dataset length: 1000\n",
            "Accessing index: 516\n",
            "Dataset type: <class 'datasets.arrow_dataset.Dataset'>\n",
            "Dataset length: 1000\n",
            "Accessing index: 865\n",
            "Dataset type: <class 'datasets.arrow_dataset.Dataset'>\n",
            "Dataset length: 1000\n",
            "Accessing index: 782\n",
            "Dataset type: <class 'datasets.arrow_dataset.Dataset'>\n",
            "Dataset length: 1000\n",
            "Accessing index: 148\n",
            "Dataset type: <class 'datasets.arrow_dataset.Dataset'>\n",
            "Dataset length: 1000\n"
          ]
        },
        {
          "output_type": "stream",
          "name": "stderr",
          "text": [
            "\r 52%|█████▏    | 65/125 [15:45<14:00, 14.01s/it]"
          ]
        },
        {
          "output_type": "stream",
          "name": "stdout",
          "text": [
            "Accessing index: 485\n",
            "Dataset type: <class 'datasets.arrow_dataset.Dataset'>\n",
            "Dataset length: 1000\n",
            "Accessing index: 244\n",
            "Dataset type: <class 'datasets.arrow_dataset.Dataset'>\n",
            "Dataset length: 1000\n",
            "Accessing index: 916\n",
            "Dataset type: <class 'datasets.arrow_dataset.Dataset'>\n",
            "Dataset length: 1000\n",
            "Accessing index: 297\n",
            "Dataset type: <class 'datasets.arrow_dataset.Dataset'>\n",
            "Dataset length: 1000\n",
            "Accessing index: 970\n",
            "Dataset type: <class 'datasets.arrow_dataset.Dataset'>\n",
            "Dataset length: 1000\n",
            "Accessing index: 234\n",
            "Dataset type: <class 'datasets.arrow_dataset.Dataset'>\n",
            "Dataset length: 1000\n",
            "Accessing index: 420\n",
            "Dataset type: <class 'datasets.arrow_dataset.Dataset'>\n",
            "Dataset length: 1000\n",
            "Accessing index: 185\n",
            "Dataset type: <class 'datasets.arrow_dataset.Dataset'>\n",
            "Dataset length: 1000\n"
          ]
        },
        {
          "output_type": "stream",
          "name": "stderr",
          "text": [
            "\r 53%|█████▎    | 66/125 [15:59<13:43, 13.96s/it]"
          ]
        },
        {
          "output_type": "stream",
          "name": "stdout",
          "text": [
            "Accessing index: 260\n",
            "Dataset type: <class 'datasets.arrow_dataset.Dataset'>\n",
            "Dataset length: 1000\n",
            "Accessing index: 27\n",
            "Dataset type: <class 'datasets.arrow_dataset.Dataset'>\n",
            "Dataset length: 1000\n",
            "Accessing index: 598\n",
            "Dataset type: <class 'datasets.arrow_dataset.Dataset'>\n",
            "Dataset length: 1000\n",
            "Accessing index: 348\n",
            "Dataset type: <class 'datasets.arrow_dataset.Dataset'>\n",
            "Dataset length: 1000\n",
            "Accessing index: 72\n",
            "Dataset type: <class 'datasets.arrow_dataset.Dataset'>\n",
            "Dataset length: 1000\n",
            "Accessing index: 254\n",
            "Dataset type: <class 'datasets.arrow_dataset.Dataset'>\n",
            "Dataset length: 1000\n",
            "Accessing index: 674\n",
            "Dataset type: <class 'datasets.arrow_dataset.Dataset'>\n",
            "Dataset length: 1000\n",
            "Accessing index: 457\n",
            "Dataset type: <class 'datasets.arrow_dataset.Dataset'>\n",
            "Dataset length: 1000\n"
          ]
        },
        {
          "output_type": "stream",
          "name": "stderr",
          "text": [
            "\r 54%|█████▎    | 67/125 [16:13<13:27, 13.92s/it]"
          ]
        },
        {
          "output_type": "stream",
          "name": "stdout",
          "text": [
            "Accessing index: 64\n",
            "Dataset type: <class 'datasets.arrow_dataset.Dataset'>\n",
            "Dataset length: 1000\n",
            "Accessing index: 539\n",
            "Dataset type: <class 'datasets.arrow_dataset.Dataset'>\n",
            "Dataset length: 1000\n",
            "Accessing index: 926\n",
            "Dataset type: <class 'datasets.arrow_dataset.Dataset'>\n",
            "Dataset length: 1000\n",
            "Accessing index: 761\n",
            "Dataset type: <class 'datasets.arrow_dataset.Dataset'>\n",
            "Dataset length: 1000\n",
            "Accessing index: 639\n",
            "Dataset type: <class 'datasets.arrow_dataset.Dataset'>\n",
            "Dataset length: 1000\n",
            "Accessing index: 233\n",
            "Dataset type: <class 'datasets.arrow_dataset.Dataset'>\n",
            "Dataset length: 1000\n",
            "Accessing index: 257\n",
            "Dataset type: <class 'datasets.arrow_dataset.Dataset'>\n",
            "Dataset length: 1000\n",
            "Accessing index: 146\n",
            "Dataset type: <class 'datasets.arrow_dataset.Dataset'>\n",
            "Dataset length: 1000\n"
          ]
        },
        {
          "output_type": "stream",
          "name": "stderr",
          "text": [
            "\r 54%|█████▍    | 68/125 [16:26<13:10, 13.87s/it]"
          ]
        },
        {
          "output_type": "stream",
          "name": "stdout",
          "text": [
            "Accessing index: 259\n",
            "Dataset type: <class 'datasets.arrow_dataset.Dataset'>\n",
            "Dataset length: 1000\n",
            "Accessing index: 108\n",
            "Dataset type: <class 'datasets.arrow_dataset.Dataset'>\n",
            "Dataset length: 1000\n",
            "Accessing index: 542\n",
            "Dataset type: <class 'datasets.arrow_dataset.Dataset'>\n",
            "Dataset length: 1000\n",
            "Accessing index: 686\n",
            "Dataset type: <class 'datasets.arrow_dataset.Dataset'>\n",
            "Dataset length: 1000\n",
            "Accessing index: 590\n",
            "Dataset type: <class 'datasets.arrow_dataset.Dataset'>\n",
            "Dataset length: 1000\n",
            "Accessing index: 372\n",
            "Dataset type: <class 'datasets.arrow_dataset.Dataset'>\n",
            "Dataset length: 1000\n",
            "Accessing index: 972\n",
            "Dataset type: <class 'datasets.arrow_dataset.Dataset'>\n",
            "Dataset length: 1000\n",
            "Accessing index: 484\n",
            "Dataset type: <class 'datasets.arrow_dataset.Dataset'>\n",
            "Dataset length: 1000\n"
          ]
        },
        {
          "output_type": "stream",
          "name": "stderr",
          "text": [
            "\r 55%|█████▌    | 69/125 [16:40<12:57, 13.89s/it]"
          ]
        },
        {
          "output_type": "stream",
          "name": "stdout",
          "text": [
            "Accessing index: 282\n",
            "Dataset type: <class 'datasets.arrow_dataset.Dataset'>\n",
            "Dataset length: 1000\n",
            "Accessing index: 712\n",
            "Dataset type: <class 'datasets.arrow_dataset.Dataset'>\n",
            "Dataset length: 1000\n",
            "Accessing index: 347\n",
            "Dataset type: <class 'datasets.arrow_dataset.Dataset'>\n",
            "Dataset length: 1000\n",
            "Accessing index: 335\n",
            "Dataset type: <class 'datasets.arrow_dataset.Dataset'>\n",
            "Dataset length: 1000\n",
            "Accessing index: 947\n",
            "Dataset type: <class 'datasets.arrow_dataset.Dataset'>\n",
            "Dataset length: 1000\n",
            "Accessing index: 954\n",
            "Dataset type: <class 'datasets.arrow_dataset.Dataset'>\n",
            "Dataset length: 1000\n",
            "Accessing index: 155\n",
            "Dataset type: <class 'datasets.arrow_dataset.Dataset'>\n",
            "Dataset length: 1000\n",
            "Accessing index: 658\n",
            "Dataset type: <class 'datasets.arrow_dataset.Dataset'>\n",
            "Dataset length: 1000\n"
          ]
        },
        {
          "output_type": "stream",
          "name": "stderr",
          "text": [
            "\r 56%|█████▌    | 70/125 [16:54<12:43, 13.88s/it]"
          ]
        },
        {
          "output_type": "stream",
          "name": "stdout",
          "text": [
            "Accessing index: 773\n",
            "Dataset type: <class 'datasets.arrow_dataset.Dataset'>\n",
            "Dataset length: 1000\n",
            "Accessing index: 882\n",
            "Dataset type: <class 'datasets.arrow_dataset.Dataset'>\n",
            "Dataset length: 1000\n",
            "Accessing index: 464\n",
            "Dataset type: <class 'datasets.arrow_dataset.Dataset'>\n",
            "Dataset length: 1000\n",
            "Accessing index: 2\n",
            "Dataset type: <class 'datasets.arrow_dataset.Dataset'>\n",
            "Dataset length: 1000\n",
            "Accessing index: 266\n",
            "Dataset type: <class 'datasets.arrow_dataset.Dataset'>\n",
            "Dataset length: 1000\n",
            "Accessing index: 806\n",
            "Dataset type: <class 'datasets.arrow_dataset.Dataset'>\n",
            "Dataset length: 1000\n",
            "Accessing index: 386\n",
            "Dataset type: <class 'datasets.arrow_dataset.Dataset'>\n",
            "Dataset length: 1000\n",
            "Accessing index: 510\n",
            "Dataset type: <class 'datasets.arrow_dataset.Dataset'>\n",
            "Dataset length: 1000\n"
          ]
        },
        {
          "output_type": "stream",
          "name": "stderr",
          "text": [
            "\r 57%|█████▋    | 71/125 [17:08<12:30, 13.90s/it]"
          ]
        },
        {
          "output_type": "stream",
          "name": "stdout",
          "text": [
            "Accessing index: 790\n",
            "Dataset type: <class 'datasets.arrow_dataset.Dataset'>\n",
            "Dataset length: 1000\n",
            "Accessing index: 73\n",
            "Dataset type: <class 'datasets.arrow_dataset.Dataset'>\n",
            "Dataset length: 1000\n",
            "Accessing index: 473\n",
            "Dataset type: <class 'datasets.arrow_dataset.Dataset'>\n",
            "Dataset length: 1000\n",
            "Accessing index: 44\n",
            "Dataset type: <class 'datasets.arrow_dataset.Dataset'>\n",
            "Dataset length: 1000\n",
            "Accessing index: 356\n",
            "Dataset type: <class 'datasets.arrow_dataset.Dataset'>\n",
            "Dataset length: 1000\n",
            "Accessing index: 243\n",
            "Dataset type: <class 'datasets.arrow_dataset.Dataset'>\n",
            "Dataset length: 1000\n",
            "Accessing index: 43\n",
            "Dataset type: <class 'datasets.arrow_dataset.Dataset'>\n",
            "Dataset length: 1000\n",
            "Accessing index: 628\n",
            "Dataset type: <class 'datasets.arrow_dataset.Dataset'>\n",
            "Dataset length: 1000\n"
          ]
        },
        {
          "output_type": "stream",
          "name": "stderr",
          "text": [
            "\r 58%|█████▊    | 72/125 [17:23<12:25, 14.07s/it]"
          ]
        },
        {
          "output_type": "stream",
          "name": "stdout",
          "text": [
            "Accessing index: 384\n",
            "Dataset type: <class 'datasets.arrow_dataset.Dataset'>\n",
            "Dataset length: 1000\n",
            "Accessing index: 501\n",
            "Dataset type: <class 'datasets.arrow_dataset.Dataset'>\n",
            "Dataset length: 1000\n",
            "Accessing index: 807\n",
            "Dataset type: <class 'datasets.arrow_dataset.Dataset'>\n",
            "Dataset length: 1000\n",
            "Accessing index: 777\n",
            "Dataset type: <class 'datasets.arrow_dataset.Dataset'>\n",
            "Dataset length: 1000\n",
            "Accessing index: 646\n",
            "Dataset type: <class 'datasets.arrow_dataset.Dataset'>\n",
            "Dataset length: 1000\n",
            "Accessing index: 393\n",
            "Dataset type: <class 'datasets.arrow_dataset.Dataset'>\n",
            "Dataset length: 1000\n",
            "Accessing index: 887\n",
            "Dataset type: <class 'datasets.arrow_dataset.Dataset'>\n",
            "Dataset length: 1000\n",
            "Accessing index: 705\n",
            "Dataset type: <class 'datasets.arrow_dataset.Dataset'>\n",
            "Dataset length: 1000\n"
          ]
        },
        {
          "output_type": "stream",
          "name": "stderr",
          "text": [
            "\r 58%|█████▊    | 73/125 [17:37<12:12, 14.09s/it]"
          ]
        },
        {
          "output_type": "stream",
          "name": "stdout",
          "text": [
            "Accessing index: 704\n",
            "Dataset type: <class 'datasets.arrow_dataset.Dataset'>\n",
            "Dataset length: 1000\n",
            "Accessing index: 663\n",
            "Dataset type: <class 'datasets.arrow_dataset.Dataset'>\n",
            "Dataset length: 1000\n",
            "Accessing index: 873\n",
            "Dataset type: <class 'datasets.arrow_dataset.Dataset'>\n",
            "Dataset length: 1000\n",
            "Accessing index: 969\n",
            "Dataset type: <class 'datasets.arrow_dataset.Dataset'>\n",
            "Dataset length: 1000\n",
            "Accessing index: 205\n",
            "Dataset type: <class 'datasets.arrow_dataset.Dataset'>\n",
            "Dataset length: 1000\n",
            "Accessing index: 252\n",
            "Dataset type: <class 'datasets.arrow_dataset.Dataset'>\n",
            "Dataset length: 1000\n",
            "Accessing index: 564\n",
            "Dataset type: <class 'datasets.arrow_dataset.Dataset'>\n",
            "Dataset length: 1000\n",
            "Accessing index: 407\n",
            "Dataset type: <class 'datasets.arrow_dataset.Dataset'>\n",
            "Dataset length: 1000\n"
          ]
        },
        {
          "output_type": "stream",
          "name": "stderr",
          "text": [
            "\r 59%|█████▉    | 74/125 [17:51<11:55, 14.02s/it]"
          ]
        },
        {
          "output_type": "stream",
          "name": "stdout",
          "text": [
            "Accessing index: 577\n",
            "Dataset type: <class 'datasets.arrow_dataset.Dataset'>\n",
            "Dataset length: 1000\n",
            "Accessing index: 640\n",
            "Dataset type: <class 'datasets.arrow_dataset.Dataset'>\n",
            "Dataset length: 1000\n",
            "Accessing index: 863\n",
            "Dataset type: <class 'datasets.arrow_dataset.Dataset'>\n",
            "Dataset length: 1000\n",
            "Accessing index: 296\n",
            "Dataset type: <class 'datasets.arrow_dataset.Dataset'>\n",
            "Dataset length: 1000\n",
            "Accessing index: 62\n",
            "Dataset type: <class 'datasets.arrow_dataset.Dataset'>\n",
            "Dataset length: 1000\n",
            "Accessing index: 323\n",
            "Dataset type: <class 'datasets.arrow_dataset.Dataset'>\n",
            "Dataset length: 1000\n",
            "Accessing index: 554\n",
            "Dataset type: <class 'datasets.arrow_dataset.Dataset'>\n",
            "Dataset length: 1000\n",
            "Accessing index: 689\n",
            "Dataset type: <class 'datasets.arrow_dataset.Dataset'>\n",
            "Dataset length: 1000\n"
          ]
        },
        {
          "output_type": "stream",
          "name": "stderr",
          "text": [
            "\r 60%|██████    | 75/125 [18:04<11:37, 13.96s/it]"
          ]
        },
        {
          "output_type": "stream",
          "name": "stdout",
          "text": [
            "Accessing index: 248\n",
            "Dataset type: <class 'datasets.arrow_dataset.Dataset'>\n",
            "Dataset length: 1000\n",
            "Accessing index: 690\n",
            "Dataset type: <class 'datasets.arrow_dataset.Dataset'>\n",
            "Dataset length: 1000\n",
            "Accessing index: 173\n",
            "Dataset type: <class 'datasets.arrow_dataset.Dataset'>\n",
            "Dataset length: 1000\n",
            "Accessing index: 387\n",
            "Dataset type: <class 'datasets.arrow_dataset.Dataset'>\n",
            "Dataset length: 1000\n",
            "Accessing index: 694\n",
            "Dataset type: <class 'datasets.arrow_dataset.Dataset'>\n",
            "Dataset length: 1000\n",
            "Accessing index: 900\n",
            "Dataset type: <class 'datasets.arrow_dataset.Dataset'>\n",
            "Dataset length: 1000\n",
            "Accessing index: 332\n",
            "Dataset type: <class 'datasets.arrow_dataset.Dataset'>\n",
            "Dataset length: 1000\n",
            "Accessing index: 793\n",
            "Dataset type: <class 'datasets.arrow_dataset.Dataset'>\n",
            "Dataset length: 1000\n"
          ]
        },
        {
          "output_type": "stream",
          "name": "stderr",
          "text": [
            "\r 61%|██████    | 76/125 [18:18<11:21, 13.92s/it]"
          ]
        },
        {
          "output_type": "stream",
          "name": "stdout",
          "text": [
            "Accessing index: 905\n",
            "Dataset type: <class 'datasets.arrow_dataset.Dataset'>\n",
            "Dataset length: 1000\n",
            "Accessing index: 948\n",
            "Dataset type: <class 'datasets.arrow_dataset.Dataset'>\n",
            "Dataset length: 1000\n",
            "Accessing index: 995\n",
            "Dataset type: <class 'datasets.arrow_dataset.Dataset'>\n",
            "Dataset length: 1000\n",
            "Accessing index: 637\n",
            "Dataset type: <class 'datasets.arrow_dataset.Dataset'>\n",
            "Dataset length: 1000\n",
            "Accessing index: 36\n",
            "Dataset type: <class 'datasets.arrow_dataset.Dataset'>\n",
            "Dataset length: 1000\n",
            "Accessing index: 140\n",
            "Dataset type: <class 'datasets.arrow_dataset.Dataset'>\n",
            "Dataset length: 1000\n",
            "Accessing index: 42\n",
            "Dataset type: <class 'datasets.arrow_dataset.Dataset'>\n",
            "Dataset length: 1000\n",
            "Accessing index: 711\n",
            "Dataset type: <class 'datasets.arrow_dataset.Dataset'>\n",
            "Dataset length: 1000\n"
          ]
        },
        {
          "output_type": "stream",
          "name": "stderr",
          "text": [
            "\r 62%|██████▏   | 77/125 [18:32<11:07, 13.90s/it]"
          ]
        },
        {
          "output_type": "stream",
          "name": "stdout",
          "text": [
            "Accessing index: 152\n",
            "Dataset type: <class 'datasets.arrow_dataset.Dataset'>\n",
            "Dataset length: 1000\n",
            "Accessing index: 733\n",
            "Dataset type: <class 'datasets.arrow_dataset.Dataset'>\n",
            "Dataset length: 1000\n",
            "Accessing index: 89\n",
            "Dataset type: <class 'datasets.arrow_dataset.Dataset'>\n",
            "Dataset length: 1000\n",
            "Accessing index: 718\n",
            "Dataset type: <class 'datasets.arrow_dataset.Dataset'>\n",
            "Dataset length: 1000\n",
            "Accessing index: 586\n",
            "Dataset type: <class 'datasets.arrow_dataset.Dataset'>\n",
            "Dataset length: 1000\n",
            "Accessing index: 965\n",
            "Dataset type: <class 'datasets.arrow_dataset.Dataset'>\n",
            "Dataset length: 1000\n",
            "Accessing index: 122\n",
            "Dataset type: <class 'datasets.arrow_dataset.Dataset'>\n",
            "Dataset length: 1000\n",
            "Accessing index: 725\n",
            "Dataset type: <class 'datasets.arrow_dataset.Dataset'>\n",
            "Dataset length: 1000\n"
          ]
        },
        {
          "output_type": "stream",
          "name": "stderr",
          "text": [
            "\r 62%|██████▏   | 78/125 [18:46<10:53, 13.90s/it]"
          ]
        },
        {
          "output_type": "stream",
          "name": "stdout",
          "text": [
            "Accessing index: 111\n",
            "Dataset type: <class 'datasets.arrow_dataset.Dataset'>\n",
            "Dataset length: 1000\n",
            "Accessing index: 127\n",
            "Dataset type: <class 'datasets.arrow_dataset.Dataset'>\n",
            "Dataset length: 1000\n",
            "Accessing index: 781\n",
            "Dataset type: <class 'datasets.arrow_dataset.Dataset'>\n",
            "Dataset length: 1000\n",
            "Accessing index: 644\n",
            "Dataset type: <class 'datasets.arrow_dataset.Dataset'>\n",
            "Dataset length: 1000\n",
            "Accessing index: 334\n",
            "Dataset type: <class 'datasets.arrow_dataset.Dataset'>\n",
            "Dataset length: 1000\n",
            "Accessing index: 88\n",
            "Dataset type: <class 'datasets.arrow_dataset.Dataset'>\n",
            "Dataset length: 1000\n",
            "Accessing index: 894\n",
            "Dataset type: <class 'datasets.arrow_dataset.Dataset'>\n",
            "Dataset length: 1000\n",
            "Accessing index: 498\n",
            "Dataset type: <class 'datasets.arrow_dataset.Dataset'>\n",
            "Dataset length: 1000\n"
          ]
        },
        {
          "output_type": "stream",
          "name": "stderr",
          "text": [
            "\r 63%|██████▎   | 79/125 [19:00<10:38, 13.89s/it]"
          ]
        },
        {
          "output_type": "stream",
          "name": "stdout",
          "text": [
            "Accessing index: 930\n",
            "Dataset type: <class 'datasets.arrow_dataset.Dataset'>\n",
            "Dataset length: 1000\n",
            "Accessing index: 625\n",
            "Dataset type: <class 'datasets.arrow_dataset.Dataset'>\n",
            "Dataset length: 1000\n",
            "Accessing index: 456\n",
            "Dataset type: <class 'datasets.arrow_dataset.Dataset'>\n",
            "Dataset length: 1000\n",
            "Accessing index: 35\n",
            "Dataset type: <class 'datasets.arrow_dataset.Dataset'>\n",
            "Dataset length: 1000\n",
            "Accessing index: 390\n",
            "Dataset type: <class 'datasets.arrow_dataset.Dataset'>\n",
            "Dataset length: 1000\n",
            "Accessing index: 917\n",
            "Dataset type: <class 'datasets.arrow_dataset.Dataset'>\n",
            "Dataset length: 1000\n",
            "Accessing index: 262\n",
            "Dataset type: <class 'datasets.arrow_dataset.Dataset'>\n",
            "Dataset length: 1000\n",
            "Accessing index: 742\n",
            "Dataset type: <class 'datasets.arrow_dataset.Dataset'>\n",
            "Dataset length: 1000\n"
          ]
        },
        {
          "output_type": "stream",
          "name": "stderr",
          "text": [
            "\r 64%|██████▍   | 80/125 [19:14<10:25, 13.91s/it]"
          ]
        },
        {
          "output_type": "stream",
          "name": "stdout",
          "text": [
            "Accessing index: 558\n",
            "Dataset type: <class 'datasets.arrow_dataset.Dataset'>\n",
            "Dataset length: 1000\n",
            "Accessing index: 952\n",
            "Dataset type: <class 'datasets.arrow_dataset.Dataset'>\n",
            "Dataset length: 1000\n",
            "Accessing index: 538\n",
            "Dataset type: <class 'datasets.arrow_dataset.Dataset'>\n",
            "Dataset length: 1000\n",
            "Accessing index: 585\n",
            "Dataset type: <class 'datasets.arrow_dataset.Dataset'>\n",
            "Dataset length: 1000\n",
            "Accessing index: 349\n",
            "Dataset type: <class 'datasets.arrow_dataset.Dataset'>\n",
            "Dataset length: 1000\n",
            "Accessing index: 113\n",
            "Dataset type: <class 'datasets.arrow_dataset.Dataset'>\n",
            "Dataset length: 1000\n",
            "Accessing index: 415\n",
            "Dataset type: <class 'datasets.arrow_dataset.Dataset'>\n",
            "Dataset length: 1000\n",
            "Accessing index: 16\n",
            "Dataset type: <class 'datasets.arrow_dataset.Dataset'>\n",
            "Dataset length: 1000\n"
          ]
        },
        {
          "output_type": "stream",
          "name": "stderr",
          "text": [
            "\r 65%|██████▍   | 81/125 [19:28<10:16, 14.02s/it]"
          ]
        },
        {
          "output_type": "stream",
          "name": "stdout",
          "text": [
            "Accessing index: 448\n",
            "Dataset type: <class 'datasets.arrow_dataset.Dataset'>\n",
            "Dataset length: 1000\n",
            "Accessing index: 877\n",
            "Dataset type: <class 'datasets.arrow_dataset.Dataset'>\n",
            "Dataset length: 1000\n",
            "Accessing index: 739\n",
            "Dataset type: <class 'datasets.arrow_dataset.Dataset'>\n",
            "Dataset length: 1000\n",
            "Accessing index: 767\n",
            "Dataset type: <class 'datasets.arrow_dataset.Dataset'>\n",
            "Dataset length: 1000\n",
            "Accessing index: 86\n",
            "Dataset type: <class 'datasets.arrow_dataset.Dataset'>\n",
            "Dataset length: 1000\n",
            "Accessing index: 896\n",
            "Dataset type: <class 'datasets.arrow_dataset.Dataset'>\n",
            "Dataset length: 1000\n",
            "Accessing index: 971\n",
            "Dataset type: <class 'datasets.arrow_dataset.Dataset'>\n",
            "Dataset length: 1000\n",
            "Accessing index: 879\n",
            "Dataset type: <class 'datasets.arrow_dataset.Dataset'>\n",
            "Dataset length: 1000\n"
          ]
        },
        {
          "output_type": "stream",
          "name": "stderr",
          "text": [
            "\r 66%|██████▌   | 82/125 [19:42<10:05, 14.09s/it]"
          ]
        },
        {
          "output_type": "stream",
          "name": "stdout",
          "text": [
            "Accessing index: 135\n",
            "Dataset type: <class 'datasets.arrow_dataset.Dataset'>\n",
            "Dataset length: 1000\n",
            "Accessing index: 329\n",
            "Dataset type: <class 'datasets.arrow_dataset.Dataset'>\n",
            "Dataset length: 1000\n",
            "Accessing index: 769\n",
            "Dataset type: <class 'datasets.arrow_dataset.Dataset'>\n",
            "Dataset length: 1000\n",
            "Accessing index: 763\n",
            "Dataset type: <class 'datasets.arrow_dataset.Dataset'>\n",
            "Dataset length: 1000\n",
            "Accessing index: 413\n",
            "Dataset type: <class 'datasets.arrow_dataset.Dataset'>\n",
            "Dataset length: 1000\n",
            "Accessing index: 437\n",
            "Dataset type: <class 'datasets.arrow_dataset.Dataset'>\n",
            "Dataset length: 1000\n",
            "Accessing index: 814\n",
            "Dataset type: <class 'datasets.arrow_dataset.Dataset'>\n",
            "Dataset length: 1000\n",
            "Accessing index: 425\n",
            "Dataset type: <class 'datasets.arrow_dataset.Dataset'>\n",
            "Dataset length: 1000\n"
          ]
        },
        {
          "output_type": "stream",
          "name": "stderr",
          "text": [
            "\r 66%|██████▋   | 83/125 [19:56<09:48, 14.00s/it]"
          ]
        },
        {
          "output_type": "stream",
          "name": "stdout",
          "text": [
            "Accessing index: 440\n",
            "Dataset type: <class 'datasets.arrow_dataset.Dataset'>\n",
            "Dataset length: 1000\n",
            "Accessing index: 797\n",
            "Dataset type: <class 'datasets.arrow_dataset.Dataset'>\n",
            "Dataset length: 1000\n",
            "Accessing index: 951\n",
            "Dataset type: <class 'datasets.arrow_dataset.Dataset'>\n",
            "Dataset length: 1000\n",
            "Accessing index: 460\n",
            "Dataset type: <class 'datasets.arrow_dataset.Dataset'>\n",
            "Dataset length: 1000\n",
            "Accessing index: 167\n",
            "Dataset type: <class 'datasets.arrow_dataset.Dataset'>\n",
            "Dataset length: 1000\n",
            "Accessing index: 798\n",
            "Dataset type: <class 'datasets.arrow_dataset.Dataset'>\n",
            "Dataset length: 1000\n",
            "Accessing index: 508\n",
            "Dataset type: <class 'datasets.arrow_dataset.Dataset'>\n",
            "Dataset length: 1000\n",
            "Accessing index: 170\n",
            "Dataset type: <class 'datasets.arrow_dataset.Dataset'>\n",
            "Dataset length: 1000\n"
          ]
        },
        {
          "output_type": "stream",
          "name": "stderr",
          "text": [
            "\r 67%|██████▋   | 84/125 [20:10<09:32, 13.96s/it]"
          ]
        },
        {
          "output_type": "stream",
          "name": "stdout",
          "text": [
            "Accessing index: 199\n",
            "Dataset type: <class 'datasets.arrow_dataset.Dataset'>\n",
            "Dataset length: 1000\n",
            "Accessing index: 981\n",
            "Dataset type: <class 'datasets.arrow_dataset.Dataset'>\n",
            "Dataset length: 1000\n",
            "Accessing index: 426\n",
            "Dataset type: <class 'datasets.arrow_dataset.Dataset'>\n",
            "Dataset length: 1000\n",
            "Accessing index: 22\n",
            "Dataset type: <class 'datasets.arrow_dataset.Dataset'>\n",
            "Dataset length: 1000\n",
            "Accessing index: 463\n",
            "Dataset type: <class 'datasets.arrow_dataset.Dataset'>\n",
            "Dataset length: 1000\n",
            "Accessing index: 380\n",
            "Dataset type: <class 'datasets.arrow_dataset.Dataset'>\n",
            "Dataset length: 1000\n",
            "Accessing index: 670\n",
            "Dataset type: <class 'datasets.arrow_dataset.Dataset'>\n",
            "Dataset length: 1000\n",
            "Accessing index: 269\n",
            "Dataset type: <class 'datasets.arrow_dataset.Dataset'>\n",
            "Dataset length: 1000\n"
          ]
        },
        {
          "output_type": "stream",
          "name": "stderr",
          "text": [
            "\r 68%|██████▊   | 85/125 [20:24<09:16, 13.91s/it]"
          ]
        },
        {
          "output_type": "stream",
          "name": "stdout",
          "text": [
            "Accessing index: 976\n",
            "Dataset type: <class 'datasets.arrow_dataset.Dataset'>\n",
            "Dataset length: 1000\n",
            "Accessing index: 441\n",
            "Dataset type: <class 'datasets.arrow_dataset.Dataset'>\n",
            "Dataset length: 1000\n",
            "Accessing index: 723\n",
            "Dataset type: <class 'datasets.arrow_dataset.Dataset'>\n",
            "Dataset length: 1000\n",
            "Accessing index: 461\n",
            "Dataset type: <class 'datasets.arrow_dataset.Dataset'>\n",
            "Dataset length: 1000\n",
            "Accessing index: 389\n",
            "Dataset type: <class 'datasets.arrow_dataset.Dataset'>\n",
            "Dataset length: 1000\n",
            "Accessing index: 256\n",
            "Dataset type: <class 'datasets.arrow_dataset.Dataset'>\n",
            "Dataset length: 1000\n",
            "Accessing index: 833\n",
            "Dataset type: <class 'datasets.arrow_dataset.Dataset'>\n",
            "Dataset length: 1000\n",
            "Accessing index: 123\n",
            "Dataset type: <class 'datasets.arrow_dataset.Dataset'>\n",
            "Dataset length: 1000\n"
          ]
        },
        {
          "output_type": "stream",
          "name": "stderr",
          "text": [
            "\r 69%|██████▉   | 86/125 [20:38<09:01, 13.88s/it]"
          ]
        },
        {
          "output_type": "stream",
          "name": "stdout",
          "text": [
            "Accessing index: 589\n",
            "Dataset type: <class 'datasets.arrow_dataset.Dataset'>\n",
            "Dataset length: 1000\n",
            "Accessing index: 138\n",
            "Dataset type: <class 'datasets.arrow_dataset.Dataset'>\n",
            "Dataset length: 1000\n",
            "Accessing index: 137\n",
            "Dataset type: <class 'datasets.arrow_dataset.Dataset'>\n",
            "Dataset length: 1000\n",
            "Accessing index: 228\n",
            "Dataset type: <class 'datasets.arrow_dataset.Dataset'>\n",
            "Dataset length: 1000\n",
            "Accessing index: 983\n",
            "Dataset type: <class 'datasets.arrow_dataset.Dataset'>\n",
            "Dataset length: 1000\n",
            "Accessing index: 496\n",
            "Dataset type: <class 'datasets.arrow_dataset.Dataset'>\n",
            "Dataset length: 1000\n",
            "Accessing index: 615\n",
            "Dataset type: <class 'datasets.arrow_dataset.Dataset'>\n",
            "Dataset length: 1000\n",
            "Accessing index: 684\n",
            "Dataset type: <class 'datasets.arrow_dataset.Dataset'>\n",
            "Dataset length: 1000\n"
          ]
        },
        {
          "output_type": "stream",
          "name": "stderr",
          "text": [
            "\r 70%|██████▉   | 87/125 [20:53<09:00, 14.22s/it]"
          ]
        },
        {
          "output_type": "stream",
          "name": "stdout",
          "text": [
            "Accessing index: 838\n",
            "Dataset type: <class 'datasets.arrow_dataset.Dataset'>\n",
            "Dataset length: 1000\n",
            "Accessing index: 157\n",
            "Dataset type: <class 'datasets.arrow_dataset.Dataset'>\n",
            "Dataset length: 1000\n",
            "Accessing index: 51\n",
            "Dataset type: <class 'datasets.arrow_dataset.Dataset'>\n",
            "Dataset length: 1000\n",
            "Accessing index: 817\n",
            "Dataset type: <class 'datasets.arrow_dataset.Dataset'>\n",
            "Dataset length: 1000\n",
            "Accessing index: 358\n",
            "Dataset type: <class 'datasets.arrow_dataset.Dataset'>\n",
            "Dataset length: 1000\n",
            "Accessing index: 788\n",
            "Dataset type: <class 'datasets.arrow_dataset.Dataset'>\n",
            "Dataset length: 1000\n",
            "Accessing index: 960\n",
            "Dataset type: <class 'datasets.arrow_dataset.Dataset'>\n",
            "Dataset length: 1000\n",
            "Accessing index: 546\n",
            "Dataset type: <class 'datasets.arrow_dataset.Dataset'>\n",
            "Dataset length: 1000\n"
          ]
        },
        {
          "output_type": "stream",
          "name": "stderr",
          "text": [
            "\r 70%|███████   | 88/125 [21:07<08:42, 14.12s/it]"
          ]
        },
        {
          "output_type": "stream",
          "name": "stdout",
          "text": [
            "Accessing index: 215\n",
            "Dataset type: <class 'datasets.arrow_dataset.Dataset'>\n",
            "Dataset length: 1000\n",
            "Accessing index: 401\n",
            "Dataset type: <class 'datasets.arrow_dataset.Dataset'>\n",
            "Dataset length: 1000\n",
            "Accessing index: 454\n",
            "Dataset type: <class 'datasets.arrow_dataset.Dataset'>\n",
            "Dataset length: 1000\n",
            "Accessing index: 497\n",
            "Dataset type: <class 'datasets.arrow_dataset.Dataset'>\n",
            "Dataset length: 1000\n",
            "Accessing index: 530\n",
            "Dataset type: <class 'datasets.arrow_dataset.Dataset'>\n",
            "Dataset length: 1000\n",
            "Accessing index: 76\n",
            "Dataset type: <class 'datasets.arrow_dataset.Dataset'>\n",
            "Dataset length: 1000\n",
            "Accessing index: 553\n",
            "Dataset type: <class 'datasets.arrow_dataset.Dataset'>\n",
            "Dataset length: 1000\n",
            "Accessing index: 584\n",
            "Dataset type: <class 'datasets.arrow_dataset.Dataset'>\n",
            "Dataset length: 1000\n"
          ]
        },
        {
          "output_type": "stream",
          "name": "stderr",
          "text": [
            "\r 71%|███████   | 89/125 [21:21<08:28, 14.11s/it]"
          ]
        },
        {
          "output_type": "stream",
          "name": "stdout",
          "text": [
            "Accessing index: 667\n",
            "Dataset type: <class 'datasets.arrow_dataset.Dataset'>\n",
            "Dataset length: 1000\n",
            "Accessing index: 124\n",
            "Dataset type: <class 'datasets.arrow_dataset.Dataset'>\n",
            "Dataset length: 1000\n",
            "Accessing index: 483\n",
            "Dataset type: <class 'datasets.arrow_dataset.Dataset'>\n",
            "Dataset length: 1000\n",
            "Accessing index: 166\n",
            "Dataset type: <class 'datasets.arrow_dataset.Dataset'>\n",
            "Dataset length: 1000\n",
            "Accessing index: 458\n",
            "Dataset type: <class 'datasets.arrow_dataset.Dataset'>\n",
            "Dataset length: 1000\n",
            "Accessing index: 562\n",
            "Dataset type: <class 'datasets.arrow_dataset.Dataset'>\n",
            "Dataset length: 1000\n",
            "Accessing index: 200\n",
            "Dataset type: <class 'datasets.arrow_dataset.Dataset'>\n",
            "Dataset length: 1000\n",
            "Accessing index: 53\n",
            "Dataset type: <class 'datasets.arrow_dataset.Dataset'>\n",
            "Dataset length: 1000\n"
          ]
        },
        {
          "output_type": "stream",
          "name": "stderr",
          "text": [
            "\r 72%|███████▏  | 90/125 [21:35<08:16, 14.18s/it]"
          ]
        },
        {
          "output_type": "stream",
          "name": "stdout",
          "text": [
            "Accessing index: 925\n",
            "Dataset type: <class 'datasets.arrow_dataset.Dataset'>\n",
            "Dataset length: 1000\n",
            "Accessing index: 46\n",
            "Dataset type: <class 'datasets.arrow_dataset.Dataset'>\n",
            "Dataset length: 1000\n",
            "Accessing index: 823\n",
            "Dataset type: <class 'datasets.arrow_dataset.Dataset'>\n",
            "Dataset length: 1000\n",
            "Accessing index: 395\n",
            "Dataset type: <class 'datasets.arrow_dataset.Dataset'>\n",
            "Dataset length: 1000\n",
            "Accessing index: 819\n",
            "Dataset type: <class 'datasets.arrow_dataset.Dataset'>\n",
            "Dataset length: 1000\n",
            "Accessing index: 631\n",
            "Dataset type: <class 'datasets.arrow_dataset.Dataset'>\n",
            "Dataset length: 1000\n",
            "Accessing index: 250\n",
            "Dataset type: <class 'datasets.arrow_dataset.Dataset'>\n",
            "Dataset length: 1000\n",
            "Accessing index: 382\n",
            "Dataset type: <class 'datasets.arrow_dataset.Dataset'>\n",
            "Dataset length: 1000\n"
          ]
        },
        {
          "output_type": "stream",
          "name": "stderr",
          "text": [
            "\r 73%|███████▎  | 91/125 [21:49<07:59, 14.11s/it]"
          ]
        },
        {
          "output_type": "stream",
          "name": "stdout",
          "text": [
            "Accessing index: 909\n",
            "Dataset type: <class 'datasets.arrow_dataset.Dataset'>\n",
            "Dataset length: 1000\n",
            "Accessing index: 116\n",
            "Dataset type: <class 'datasets.arrow_dataset.Dataset'>\n",
            "Dataset length: 1000\n",
            "Accessing index: 273\n",
            "Dataset type: <class 'datasets.arrow_dataset.Dataset'>\n",
            "Dataset length: 1000\n",
            "Accessing index: 261\n",
            "Dataset type: <class 'datasets.arrow_dataset.Dataset'>\n",
            "Dataset length: 1000\n",
            "Accessing index: 996\n",
            "Dataset type: <class 'datasets.arrow_dataset.Dataset'>\n",
            "Dataset length: 1000\n",
            "Accessing index: 479\n",
            "Dataset type: <class 'datasets.arrow_dataset.Dataset'>\n",
            "Dataset length: 1000\n",
            "Accessing index: 459\n",
            "Dataset type: <class 'datasets.arrow_dataset.Dataset'>\n",
            "Dataset length: 1000\n",
            "Accessing index: 568\n",
            "Dataset type: <class 'datasets.arrow_dataset.Dataset'>\n",
            "Dataset length: 1000\n"
          ]
        },
        {
          "output_type": "stream",
          "name": "stderr",
          "text": [
            "\r 74%|███████▎  | 92/125 [22:03<07:42, 14.01s/it]"
          ]
        },
        {
          "output_type": "stream",
          "name": "stdout",
          "text": [
            "Accessing index: 778\n",
            "Dataset type: <class 'datasets.arrow_dataset.Dataset'>\n",
            "Dataset length: 1000\n",
            "Accessing index: 735\n",
            "Dataset type: <class 'datasets.arrow_dataset.Dataset'>\n",
            "Dataset length: 1000\n",
            "Accessing index: 535\n",
            "Dataset type: <class 'datasets.arrow_dataset.Dataset'>\n",
            "Dataset length: 1000\n",
            "Accessing index: 915\n",
            "Dataset type: <class 'datasets.arrow_dataset.Dataset'>\n",
            "Dataset length: 1000\n",
            "Accessing index: 177\n",
            "Dataset type: <class 'datasets.arrow_dataset.Dataset'>\n",
            "Dataset length: 1000\n",
            "Accessing index: 247\n",
            "Dataset type: <class 'datasets.arrow_dataset.Dataset'>\n",
            "Dataset length: 1000\n",
            "Accessing index: 188\n",
            "Dataset type: <class 'datasets.arrow_dataset.Dataset'>\n",
            "Dataset length: 1000\n",
            "Accessing index: 736\n",
            "Dataset type: <class 'datasets.arrow_dataset.Dataset'>\n",
            "Dataset length: 1000\n"
          ]
        },
        {
          "output_type": "stream",
          "name": "stderr",
          "text": [
            "\r 74%|███████▍  | 93/125 [22:17<07:26, 13.96s/it]"
          ]
        },
        {
          "output_type": "stream",
          "name": "stdout",
          "text": [
            "Accessing index: 147\n",
            "Dataset type: <class 'datasets.arrow_dataset.Dataset'>\n",
            "Dataset length: 1000\n",
            "Accessing index: 980\n",
            "Dataset type: <class 'datasets.arrow_dataset.Dataset'>\n",
            "Dataset length: 1000\n",
            "Accessing index: 77\n",
            "Dataset type: <class 'datasets.arrow_dataset.Dataset'>\n",
            "Dataset length: 1000\n",
            "Accessing index: 607\n",
            "Dataset type: <class 'datasets.arrow_dataset.Dataset'>\n",
            "Dataset length: 1000\n",
            "Accessing index: 941\n",
            "Dataset type: <class 'datasets.arrow_dataset.Dataset'>\n",
            "Dataset length: 1000\n",
            "Accessing index: 942\n",
            "Dataset type: <class 'datasets.arrow_dataset.Dataset'>\n",
            "Dataset length: 1000\n",
            "Accessing index: 519\n",
            "Dataset type: <class 'datasets.arrow_dataset.Dataset'>\n",
            "Dataset length: 1000\n",
            "Accessing index: 587\n",
            "Dataset type: <class 'datasets.arrow_dataset.Dataset'>\n",
            "Dataset length: 1000\n"
          ]
        },
        {
          "output_type": "stream",
          "name": "stderr",
          "text": [
            "\r 75%|███████▌  | 94/125 [22:30<07:11, 13.92s/it]"
          ]
        },
        {
          "output_type": "stream",
          "name": "stdout",
          "text": [
            "Accessing index: 783\n",
            "Dataset type: <class 'datasets.arrow_dataset.Dataset'>\n",
            "Dataset length: 1000\n",
            "Accessing index: 134\n",
            "Dataset type: <class 'datasets.arrow_dataset.Dataset'>\n",
            "Dataset length: 1000\n",
            "Accessing index: 656\n",
            "Dataset type: <class 'datasets.arrow_dataset.Dataset'>\n",
            "Dataset length: 1000\n",
            "Accessing index: 160\n",
            "Dataset type: <class 'datasets.arrow_dataset.Dataset'>\n",
            "Dataset length: 1000\n",
            "Accessing index: 682\n",
            "Dataset type: <class 'datasets.arrow_dataset.Dataset'>\n",
            "Dataset length: 1000\n",
            "Accessing index: 597\n",
            "Dataset type: <class 'datasets.arrow_dataset.Dataset'>\n",
            "Dataset length: 1000\n",
            "Accessing index: 716\n",
            "Dataset type: <class 'datasets.arrow_dataset.Dataset'>\n",
            "Dataset length: 1000\n",
            "Accessing index: 270\n",
            "Dataset type: <class 'datasets.arrow_dataset.Dataset'>\n",
            "Dataset length: 1000\n"
          ]
        },
        {
          "output_type": "stream",
          "name": "stderr",
          "text": [
            "\r 76%|███████▌  | 95/125 [22:44<06:56, 13.90s/it]"
          ]
        },
        {
          "output_type": "stream",
          "name": "stdout",
          "text": [
            "Accessing index: 238\n",
            "Dataset type: <class 'datasets.arrow_dataset.Dataset'>\n",
            "Dataset length: 1000\n",
            "Accessing index: 751\n",
            "Dataset type: <class 'datasets.arrow_dataset.Dataset'>\n",
            "Dataset length: 1000\n",
            "Accessing index: 213\n",
            "Dataset type: <class 'datasets.arrow_dataset.Dataset'>\n",
            "Dataset length: 1000\n",
            "Accessing index: 967\n",
            "Dataset type: <class 'datasets.arrow_dataset.Dataset'>\n",
            "Dataset length: 1000\n",
            "Accessing index: 989\n",
            "Dataset type: <class 'datasets.arrow_dataset.Dataset'>\n",
            "Dataset length: 1000\n",
            "Accessing index: 565\n",
            "Dataset type: <class 'datasets.arrow_dataset.Dataset'>\n",
            "Dataset length: 1000\n",
            "Accessing index: 363\n",
            "Dataset type: <class 'datasets.arrow_dataset.Dataset'>\n",
            "Dataset length: 1000\n",
            "Accessing index: 634\n",
            "Dataset type: <class 'datasets.arrow_dataset.Dataset'>\n",
            "Dataset length: 1000\n"
          ]
        },
        {
          "output_type": "stream",
          "name": "stderr",
          "text": [
            "\r 77%|███████▋  | 96/125 [22:58<06:42, 13.88s/it]"
          ]
        },
        {
          "output_type": "stream",
          "name": "stdout",
          "text": [
            "Accessing index: 884\n",
            "Dataset type: <class 'datasets.arrow_dataset.Dataset'>\n",
            "Dataset length: 1000\n",
            "Accessing index: 451\n",
            "Dataset type: <class 'datasets.arrow_dataset.Dataset'>\n",
            "Dataset length: 1000\n",
            "Accessing index: 665\n",
            "Dataset type: <class 'datasets.arrow_dataset.Dataset'>\n",
            "Dataset length: 1000\n",
            "Accessing index: 136\n",
            "Dataset type: <class 'datasets.arrow_dataset.Dataset'>\n",
            "Dataset length: 1000\n",
            "Accessing index: 30\n",
            "Dataset type: <class 'datasets.arrow_dataset.Dataset'>\n",
            "Dataset length: 1000\n",
            "Accessing index: 755\n",
            "Dataset type: <class 'datasets.arrow_dataset.Dataset'>\n",
            "Dataset length: 1000\n",
            "Accessing index: 129\n",
            "Dataset type: <class 'datasets.arrow_dataset.Dataset'>\n",
            "Dataset length: 1000\n",
            "Accessing index: 91\n",
            "Dataset type: <class 'datasets.arrow_dataset.Dataset'>\n",
            "Dataset length: 1000\n"
          ]
        },
        {
          "output_type": "stream",
          "name": "stderr",
          "text": [
            "\r 78%|███████▊  | 97/125 [23:12<06:28, 13.87s/it]"
          ]
        },
        {
          "output_type": "stream",
          "name": "stdout",
          "text": [
            "Accessing index: 655\n",
            "Dataset type: <class 'datasets.arrow_dataset.Dataset'>\n",
            "Dataset length: 1000\n",
            "Accessing index: 786\n",
            "Dataset type: <class 'datasets.arrow_dataset.Dataset'>\n",
            "Dataset length: 1000\n",
            "Accessing index: 328\n",
            "Dataset type: <class 'datasets.arrow_dataset.Dataset'>\n",
            "Dataset length: 1000\n",
            "Accessing index: 491\n",
            "Dataset type: <class 'datasets.arrow_dataset.Dataset'>\n",
            "Dataset length: 1000\n",
            "Accessing index: 318\n",
            "Dataset type: <class 'datasets.arrow_dataset.Dataset'>\n",
            "Dataset length: 1000\n",
            "Accessing index: 727\n",
            "Dataset type: <class 'datasets.arrow_dataset.Dataset'>\n",
            "Dataset length: 1000\n",
            "Accessing index: 207\n",
            "Dataset type: <class 'datasets.arrow_dataset.Dataset'>\n",
            "Dataset length: 1000\n",
            "Accessing index: 32\n",
            "Dataset type: <class 'datasets.arrow_dataset.Dataset'>\n",
            "Dataset length: 1000\n"
          ]
        },
        {
          "output_type": "stream",
          "name": "stderr",
          "text": [
            "\r 78%|███████▊  | 98/125 [23:26<06:14, 13.87s/it]"
          ]
        },
        {
          "output_type": "stream",
          "name": "stdout",
          "text": [
            "Accessing index: 676\n",
            "Dataset type: <class 'datasets.arrow_dataset.Dataset'>\n",
            "Dataset length: 1000\n",
            "Accessing index: 169\n",
            "Dataset type: <class 'datasets.arrow_dataset.Dataset'>\n",
            "Dataset length: 1000\n",
            "Accessing index: 10\n",
            "Dataset type: <class 'datasets.arrow_dataset.Dataset'>\n",
            "Dataset length: 1000\n",
            "Accessing index: 515\n",
            "Dataset type: <class 'datasets.arrow_dataset.Dataset'>\n",
            "Dataset length: 1000\n",
            "Accessing index: 239\n",
            "Dataset type: <class 'datasets.arrow_dataset.Dataset'>\n",
            "Dataset length: 1000\n",
            "Accessing index: 74\n",
            "Dataset type: <class 'datasets.arrow_dataset.Dataset'>\n",
            "Dataset length: 1000\n",
            "Accessing index: 867\n",
            "Dataset type: <class 'datasets.arrow_dataset.Dataset'>\n",
            "Dataset length: 1000\n",
            "Accessing index: 903\n",
            "Dataset type: <class 'datasets.arrow_dataset.Dataset'>\n",
            "Dataset length: 1000\n"
          ]
        },
        {
          "output_type": "stream",
          "name": "stderr",
          "text": [
            "\r 79%|███████▉  | 99/125 [23:40<06:05, 14.04s/it]"
          ]
        },
        {
          "output_type": "stream",
          "name": "stdout",
          "text": [
            "Accessing index: 927\n",
            "Dataset type: <class 'datasets.arrow_dataset.Dataset'>\n",
            "Dataset length: 1000\n",
            "Accessing index: 354\n",
            "Dataset type: <class 'datasets.arrow_dataset.Dataset'>\n",
            "Dataset length: 1000\n",
            "Accessing index: 623\n",
            "Dataset type: <class 'datasets.arrow_dataset.Dataset'>\n",
            "Dataset length: 1000\n",
            "Accessing index: 636\n",
            "Dataset type: <class 'datasets.arrow_dataset.Dataset'>\n",
            "Dataset length: 1000\n",
            "Accessing index: 130\n",
            "Dataset type: <class 'datasets.arrow_dataset.Dataset'>\n",
            "Dataset length: 1000\n",
            "Accessing index: 38\n",
            "Dataset type: <class 'datasets.arrow_dataset.Dataset'>\n",
            "Dataset length: 1000\n",
            "Accessing index: 277\n",
            "Dataset type: <class 'datasets.arrow_dataset.Dataset'>\n",
            "Dataset length: 1000\n",
            "Accessing index: 828\n",
            "Dataset type: <class 'datasets.arrow_dataset.Dataset'>\n",
            "Dataset length: 1000\n"
          ]
        },
        {
          "output_type": "stream",
          "name": "stderr",
          "text": [
            "\r 80%|████████  | 100/125 [23:54<05:50, 14.04s/it]"
          ]
        },
        {
          "output_type": "stream",
          "name": "stdout",
          "text": [
            "Accessing index: 253\n",
            "Dataset type: <class 'datasets.arrow_dataset.Dataset'>\n",
            "Dataset length: 1000\n",
            "Accessing index: 673\n",
            "Dataset type: <class 'datasets.arrow_dataset.Dataset'>\n",
            "Dataset length: 1000\n",
            "Accessing index: 149\n",
            "Dataset type: <class 'datasets.arrow_dataset.Dataset'>\n",
            "Dataset length: 1000\n",
            "Accessing index: 570\n",
            "Dataset type: <class 'datasets.arrow_dataset.Dataset'>\n",
            "Dataset length: 1000\n",
            "Accessing index: 892\n",
            "Dataset type: <class 'datasets.arrow_dataset.Dataset'>\n",
            "Dataset length: 1000\n",
            "Accessing index: 279\n",
            "Dataset type: <class 'datasets.arrow_dataset.Dataset'>\n",
            "Dataset length: 1000\n",
            "Accessing index: 48\n",
            "Dataset type: <class 'datasets.arrow_dataset.Dataset'>\n",
            "Dataset length: 1000\n",
            "Accessing index: 469\n",
            "Dataset type: <class 'datasets.arrow_dataset.Dataset'>\n",
            "Dataset length: 1000\n"
          ]
        },
        {
          "output_type": "stream",
          "name": "stderr",
          "text": [
            "\r 81%|████████  | 101/125 [24:08<05:35, 13.98s/it]"
          ]
        },
        {
          "output_type": "stream",
          "name": "stdout",
          "text": [
            "Accessing index: 411\n",
            "Dataset type: <class 'datasets.arrow_dataset.Dataset'>\n",
            "Dataset length: 1000\n",
            "Accessing index: 512\n",
            "Dataset type: <class 'datasets.arrow_dataset.Dataset'>\n",
            "Dataset length: 1000\n",
            "Accessing index: 191\n",
            "Dataset type: <class 'datasets.arrow_dataset.Dataset'>\n",
            "Dataset length: 1000\n",
            "Accessing index: 100\n",
            "Dataset type: <class 'datasets.arrow_dataset.Dataset'>\n",
            "Dataset length: 1000\n",
            "Accessing index: 803\n",
            "Dataset type: <class 'datasets.arrow_dataset.Dataset'>\n",
            "Dataset length: 1000\n",
            "Accessing index: 246\n",
            "Dataset type: <class 'datasets.arrow_dataset.Dataset'>\n",
            "Dataset length: 1000\n",
            "Accessing index: 292\n",
            "Dataset type: <class 'datasets.arrow_dataset.Dataset'>\n",
            "Dataset length: 1000\n",
            "Accessing index: 950\n",
            "Dataset type: <class 'datasets.arrow_dataset.Dataset'>\n",
            "Dataset length: 1000\n"
          ]
        },
        {
          "output_type": "stream",
          "name": "stderr",
          "text": [
            "\r 82%|████████▏ | 102/125 [24:22<05:20, 13.93s/it]"
          ]
        },
        {
          "output_type": "stream",
          "name": "stdout",
          "text": [
            "Accessing index: 324\n",
            "Dataset type: <class 'datasets.arrow_dataset.Dataset'>\n",
            "Dataset length: 1000\n",
            "Accessing index: 153\n",
            "Dataset type: <class 'datasets.arrow_dataset.Dataset'>\n",
            "Dataset length: 1000\n",
            "Accessing index: 139\n",
            "Dataset type: <class 'datasets.arrow_dataset.Dataset'>\n",
            "Dataset length: 1000\n",
            "Accessing index: 818\n",
            "Dataset type: <class 'datasets.arrow_dataset.Dataset'>\n",
            "Dataset length: 1000\n",
            "Accessing index: 229\n",
            "Dataset type: <class 'datasets.arrow_dataset.Dataset'>\n",
            "Dataset length: 1000\n",
            "Accessing index: 904\n",
            "Dataset type: <class 'datasets.arrow_dataset.Dataset'>\n",
            "Dataset length: 1000\n",
            "Accessing index: 504\n",
            "Dataset type: <class 'datasets.arrow_dataset.Dataset'>\n",
            "Dataset length: 1000\n",
            "Accessing index: 375\n",
            "Dataset type: <class 'datasets.arrow_dataset.Dataset'>\n",
            "Dataset length: 1000\n"
          ]
        },
        {
          "output_type": "stream",
          "name": "stderr",
          "text": [
            "\r 82%|████████▏ | 103/125 [24:36<05:05, 13.89s/it]"
          ]
        },
        {
          "output_type": "stream",
          "name": "stdout",
          "text": [
            "Accessing index: 567\n",
            "Dataset type: <class 'datasets.arrow_dataset.Dataset'>\n",
            "Dataset length: 1000\n",
            "Accessing index: 327\n",
            "Dataset type: <class 'datasets.arrow_dataset.Dataset'>\n",
            "Dataset length: 1000\n",
            "Accessing index: 9\n",
            "Dataset type: <class 'datasets.arrow_dataset.Dataset'>\n",
            "Dataset length: 1000\n",
            "Accessing index: 757\n",
            "Dataset type: <class 'datasets.arrow_dataset.Dataset'>\n",
            "Dataset length: 1000\n",
            "Accessing index: 537\n",
            "Dataset type: <class 'datasets.arrow_dataset.Dataset'>\n",
            "Dataset length: 1000\n",
            "Accessing index: 855\n",
            "Dataset type: <class 'datasets.arrow_dataset.Dataset'>\n",
            "Dataset length: 1000\n",
            "Accessing index: 97\n",
            "Dataset type: <class 'datasets.arrow_dataset.Dataset'>\n",
            "Dataset length: 1000\n",
            "Accessing index: 559\n",
            "Dataset type: <class 'datasets.arrow_dataset.Dataset'>\n",
            "Dataset length: 1000\n"
          ]
        },
        {
          "output_type": "stream",
          "name": "stderr",
          "text": [
            "\r 83%|████████▎ | 104/125 [24:50<04:51, 13.88s/it]"
          ]
        },
        {
          "output_type": "stream",
          "name": "stdout",
          "text": [
            "Accessing index: 133\n",
            "Dataset type: <class 'datasets.arrow_dataset.Dataset'>\n",
            "Dataset length: 1000\n",
            "Accessing index: 526\n",
            "Dataset type: <class 'datasets.arrow_dataset.Dataset'>\n",
            "Dataset length: 1000\n",
            "Accessing index: 432\n",
            "Dataset type: <class 'datasets.arrow_dataset.Dataset'>\n",
            "Dataset length: 1000\n",
            "Accessing index: 319\n",
            "Dataset type: <class 'datasets.arrow_dataset.Dataset'>\n",
            "Dataset length: 1000\n",
            "Accessing index: 26\n",
            "Dataset type: <class 'datasets.arrow_dataset.Dataset'>\n",
            "Dataset length: 1000\n",
            "Accessing index: 923\n",
            "Dataset type: <class 'datasets.arrow_dataset.Dataset'>\n",
            "Dataset length: 1000\n",
            "Accessing index: 543\n",
            "Dataset type: <class 'datasets.arrow_dataset.Dataset'>\n",
            "Dataset length: 1000\n",
            "Accessing index: 620\n",
            "Dataset type: <class 'datasets.arrow_dataset.Dataset'>\n",
            "Dataset length: 1000\n"
          ]
        },
        {
          "output_type": "stream",
          "name": "stderr",
          "text": [
            "\r 84%|████████▍ | 105/125 [25:03<04:37, 13.85s/it]"
          ]
        },
        {
          "output_type": "stream",
          "name": "stdout",
          "text": [
            "Accessing index: 307\n",
            "Dataset type: <class 'datasets.arrow_dataset.Dataset'>\n",
            "Dataset length: 1000\n",
            "Accessing index: 953\n",
            "Dataset type: <class 'datasets.arrow_dataset.Dataset'>\n",
            "Dataset length: 1000\n",
            "Accessing index: 66\n",
            "Dataset type: <class 'datasets.arrow_dataset.Dataset'>\n",
            "Dataset length: 1000\n",
            "Accessing index: 713\n",
            "Dataset type: <class 'datasets.arrow_dataset.Dataset'>\n",
            "Dataset length: 1000\n",
            "Accessing index: 595\n",
            "Dataset type: <class 'datasets.arrow_dataset.Dataset'>\n",
            "Dataset length: 1000\n",
            "Accessing index: 481\n",
            "Dataset type: <class 'datasets.arrow_dataset.Dataset'>\n",
            "Dataset length: 1000\n",
            "Accessing index: 943\n",
            "Dataset type: <class 'datasets.arrow_dataset.Dataset'>\n",
            "Dataset length: 1000\n",
            "Accessing index: 330\n",
            "Dataset type: <class 'datasets.arrow_dataset.Dataset'>\n",
            "Dataset length: 1000\n"
          ]
        },
        {
          "output_type": "stream",
          "name": "stderr",
          "text": [
            "\r 85%|████████▍ | 106/125 [25:17<04:23, 13.86s/it]"
          ]
        },
        {
          "output_type": "stream",
          "name": "stdout",
          "text": [
            "Accessing index: 13\n",
            "Dataset type: <class 'datasets.arrow_dataset.Dataset'>\n",
            "Dataset length: 1000\n",
            "Accessing index: 455\n",
            "Dataset type: <class 'datasets.arrow_dataset.Dataset'>\n",
            "Dataset length: 1000\n",
            "Accessing index: 379\n",
            "Dataset type: <class 'datasets.arrow_dataset.Dataset'>\n",
            "Dataset length: 1000\n",
            "Accessing index: 534\n",
            "Dataset type: <class 'datasets.arrow_dataset.Dataset'>\n",
            "Dataset length: 1000\n",
            "Accessing index: 603\n",
            "Dataset type: <class 'datasets.arrow_dataset.Dataset'>\n",
            "Dataset length: 1000\n",
            "Accessing index: 762\n",
            "Dataset type: <class 'datasets.arrow_dataset.Dataset'>\n",
            "Dataset length: 1000\n",
            "Accessing index: 221\n",
            "Dataset type: <class 'datasets.arrow_dataset.Dataset'>\n",
            "Dataset length: 1000\n",
            "Accessing index: 961\n",
            "Dataset type: <class 'datasets.arrow_dataset.Dataset'>\n",
            "Dataset length: 1000\n"
          ]
        },
        {
          "output_type": "stream",
          "name": "stderr",
          "text": [
            "\r 86%|████████▌ | 107/125 [25:31<04:09, 13.85s/it]"
          ]
        },
        {
          "output_type": "stream",
          "name": "stdout",
          "text": [
            "Accessing index: 605\n",
            "Dataset type: <class 'datasets.arrow_dataset.Dataset'>\n",
            "Dataset length: 1000\n",
            "Accessing index: 709\n",
            "Dataset type: <class 'datasets.arrow_dataset.Dataset'>\n",
            "Dataset length: 1000\n",
            "Accessing index: 889\n",
            "Dataset type: <class 'datasets.arrow_dataset.Dataset'>\n",
            "Dataset length: 1000\n",
            "Accessing index: 24\n",
            "Dataset type: <class 'datasets.arrow_dataset.Dataset'>\n",
            "Dataset length: 1000\n",
            "Accessing index: 29\n",
            "Dataset type: <class 'datasets.arrow_dataset.Dataset'>\n",
            "Dataset length: 1000\n",
            "Accessing index: 209\n",
            "Dataset type: <class 'datasets.arrow_dataset.Dataset'>\n",
            "Dataset length: 1000\n",
            "Accessing index: 220\n",
            "Dataset type: <class 'datasets.arrow_dataset.Dataset'>\n",
            "Dataset length: 1000\n",
            "Accessing index: 180\n",
            "Dataset type: <class 'datasets.arrow_dataset.Dataset'>\n",
            "Dataset length: 1000\n"
          ]
        },
        {
          "output_type": "stream",
          "name": "stderr",
          "text": [
            "\r 86%|████████▋ | 108/125 [25:45<03:57, 13.99s/it]"
          ]
        },
        {
          "output_type": "stream",
          "name": "stdout",
          "text": [
            "Accessing index: 338\n",
            "Dataset type: <class 'datasets.arrow_dataset.Dataset'>\n",
            "Dataset length: 1000\n",
            "Accessing index: 226\n",
            "Dataset type: <class 'datasets.arrow_dataset.Dataset'>\n",
            "Dataset length: 1000\n",
            "Accessing index: 225\n",
            "Dataset type: <class 'datasets.arrow_dataset.Dataset'>\n",
            "Dataset length: 1000\n",
            "Accessing index: 201\n",
            "Dataset type: <class 'datasets.arrow_dataset.Dataset'>\n",
            "Dataset length: 1000\n",
            "Accessing index: 446\n",
            "Dataset type: <class 'datasets.arrow_dataset.Dataset'>\n",
            "Dataset length: 1000\n",
            "Accessing index: 918\n",
            "Dataset type: <class 'datasets.arrow_dataset.Dataset'>\n",
            "Dataset length: 1000\n",
            "Accessing index: 17\n",
            "Dataset type: <class 'datasets.arrow_dataset.Dataset'>\n",
            "Dataset length: 1000\n",
            "Accessing index: 119\n",
            "Dataset type: <class 'datasets.arrow_dataset.Dataset'>\n",
            "Dataset length: 1000\n"
          ]
        },
        {
          "output_type": "stream",
          "name": "stderr",
          "text": [
            "\r 87%|████████▋ | 109/125 [26:00<03:44, 14.06s/it]"
          ]
        },
        {
          "output_type": "stream",
          "name": "stdout",
          "text": [
            "Accessing index: 901\n",
            "Dataset type: <class 'datasets.arrow_dataset.Dataset'>\n",
            "Dataset length: 1000\n",
            "Accessing index: 804\n",
            "Dataset type: <class 'datasets.arrow_dataset.Dataset'>\n",
            "Dataset length: 1000\n",
            "Accessing index: 434\n",
            "Dataset type: <class 'datasets.arrow_dataset.Dataset'>\n",
            "Dataset length: 1000\n",
            "Accessing index: 775\n",
            "Dataset type: <class 'datasets.arrow_dataset.Dataset'>\n",
            "Dataset length: 1000\n",
            "Accessing index: 33\n",
            "Dataset type: <class 'datasets.arrow_dataset.Dataset'>\n",
            "Dataset length: 1000\n",
            "Accessing index: 381\n",
            "Dataset type: <class 'datasets.arrow_dataset.Dataset'>\n",
            "Dataset length: 1000\n",
            "Accessing index: 290\n",
            "Dataset type: <class 'datasets.arrow_dataset.Dataset'>\n",
            "Dataset length: 1000\n",
            "Accessing index: 968\n",
            "Dataset type: <class 'datasets.arrow_dataset.Dataset'>\n",
            "Dataset length: 1000\n"
          ]
        },
        {
          "output_type": "stream",
          "name": "stderr",
          "text": [
            "\r 88%|████████▊ | 110/125 [26:13<03:29, 13.98s/it]"
          ]
        },
        {
          "output_type": "stream",
          "name": "stdout",
          "text": [
            "Accessing index: 281\n",
            "Dataset type: <class 'datasets.arrow_dataset.Dataset'>\n",
            "Dataset length: 1000\n",
            "Accessing index: 907\n",
            "Dataset type: <class 'datasets.arrow_dataset.Dataset'>\n",
            "Dataset length: 1000\n",
            "Accessing index: 337\n",
            "Dataset type: <class 'datasets.arrow_dataset.Dataset'>\n",
            "Dataset length: 1000\n",
            "Accessing index: 652\n",
            "Dataset type: <class 'datasets.arrow_dataset.Dataset'>\n",
            "Dataset length: 1000\n",
            "Accessing index: 731\n",
            "Dataset type: <class 'datasets.arrow_dataset.Dataset'>\n",
            "Dataset length: 1000\n",
            "Accessing index: 156\n",
            "Dataset type: <class 'datasets.arrow_dataset.Dataset'>\n",
            "Dataset length: 1000\n",
            "Accessing index: 142\n",
            "Dataset type: <class 'datasets.arrow_dataset.Dataset'>\n",
            "Dataset length: 1000\n",
            "Accessing index: 422\n",
            "Dataset type: <class 'datasets.arrow_dataset.Dataset'>\n",
            "Dataset length: 1000\n"
          ]
        },
        {
          "output_type": "stream",
          "name": "stderr",
          "text": [
            "\r 89%|████████▉ | 111/125 [26:27<03:14, 13.93s/it]"
          ]
        },
        {
          "output_type": "stream",
          "name": "stdout",
          "text": [
            "Accessing index: 531\n",
            "Dataset type: <class 'datasets.arrow_dataset.Dataset'>\n",
            "Dataset length: 1000\n",
            "Accessing index: 431\n",
            "Dataset type: <class 'datasets.arrow_dataset.Dataset'>\n",
            "Dataset length: 1000\n",
            "Accessing index: 287\n",
            "Dataset type: <class 'datasets.arrow_dataset.Dataset'>\n",
            "Dataset length: 1000\n",
            "Accessing index: 192\n",
            "Dataset type: <class 'datasets.arrow_dataset.Dataset'>\n",
            "Dataset length: 1000\n",
            "Accessing index: 753\n",
            "Dataset type: <class 'datasets.arrow_dataset.Dataset'>\n",
            "Dataset length: 1000\n",
            "Accessing index: 164\n",
            "Dataset type: <class 'datasets.arrow_dataset.Dataset'>\n",
            "Dataset length: 1000\n",
            "Accessing index: 452\n",
            "Dataset type: <class 'datasets.arrow_dataset.Dataset'>\n",
            "Dataset length: 1000\n",
            "Accessing index: 687\n",
            "Dataset type: <class 'datasets.arrow_dataset.Dataset'>\n",
            "Dataset length: 1000\n"
          ]
        },
        {
          "output_type": "stream",
          "name": "stderr",
          "text": [
            "\r 90%|████████▉ | 112/125 [26:41<03:00, 13.90s/it]"
          ]
        },
        {
          "output_type": "stream",
          "name": "stdout",
          "text": [
            "Accessing index: 545\n",
            "Dataset type: <class 'datasets.arrow_dataset.Dataset'>\n",
            "Dataset length: 1000\n",
            "Accessing index: 405\n",
            "Dataset type: <class 'datasets.arrow_dataset.Dataset'>\n",
            "Dataset length: 1000\n",
            "Accessing index: 141\n",
            "Dataset type: <class 'datasets.arrow_dataset.Dataset'>\n",
            "Dataset length: 1000\n",
            "Accessing index: 507\n",
            "Dataset type: <class 'datasets.arrow_dataset.Dataset'>\n",
            "Dataset length: 1000\n",
            "Accessing index: 914\n",
            "Dataset type: <class 'datasets.arrow_dataset.Dataset'>\n",
            "Dataset length: 1000\n",
            "Accessing index: 144\n",
            "Dataset type: <class 'datasets.arrow_dataset.Dataset'>\n",
            "Dataset length: 1000\n",
            "Accessing index: 68\n",
            "Dataset type: <class 'datasets.arrow_dataset.Dataset'>\n",
            "Dataset length: 1000\n",
            "Accessing index: 121\n",
            "Dataset type: <class 'datasets.arrow_dataset.Dataset'>\n",
            "Dataset length: 1000\n"
          ]
        },
        {
          "output_type": "stream",
          "name": "stderr",
          "text": [
            "\r 90%|█████████ | 113/125 [26:55<02:46, 13.90s/it]"
          ]
        },
        {
          "output_type": "stream",
          "name": "stdout",
          "text": [
            "Accessing index: 172\n",
            "Dataset type: <class 'datasets.arrow_dataset.Dataset'>\n",
            "Dataset length: 1000\n",
            "Accessing index: 549\n",
            "Dataset type: <class 'datasets.arrow_dataset.Dataset'>\n",
            "Dataset length: 1000\n",
            "Accessing index: 978\n",
            "Dataset type: <class 'datasets.arrow_dataset.Dataset'>\n",
            "Dataset length: 1000\n",
            "Accessing index: 744\n",
            "Dataset type: <class 'datasets.arrow_dataset.Dataset'>\n",
            "Dataset length: 1000\n",
            "Accessing index: 79\n",
            "Dataset type: <class 'datasets.arrow_dataset.Dataset'>\n",
            "Dataset length: 1000\n",
            "Accessing index: 125\n",
            "Dataset type: <class 'datasets.arrow_dataset.Dataset'>\n",
            "Dataset length: 1000\n",
            "Accessing index: 278\n",
            "Dataset type: <class 'datasets.arrow_dataset.Dataset'>\n",
            "Dataset length: 1000\n",
            "Accessing index: 195\n",
            "Dataset type: <class 'datasets.arrow_dataset.Dataset'>\n",
            "Dataset length: 1000\n"
          ]
        },
        {
          "output_type": "stream",
          "name": "stderr",
          "text": [
            "\r 91%|█████████ | 114/125 [27:09<02:32, 13.89s/it]"
          ]
        },
        {
          "output_type": "stream",
          "name": "stdout",
          "text": [
            "Accessing index: 802\n",
            "Dataset type: <class 'datasets.arrow_dataset.Dataset'>\n",
            "Dataset length: 1000\n",
            "Accessing index: 161\n",
            "Dataset type: <class 'datasets.arrow_dataset.Dataset'>\n",
            "Dataset length: 1000\n",
            "Accessing index: 364\n",
            "Dataset type: <class 'datasets.arrow_dataset.Dataset'>\n",
            "Dataset length: 1000\n",
            "Accessing index: 811\n",
            "Dataset type: <class 'datasets.arrow_dataset.Dataset'>\n",
            "Dataset length: 1000\n",
            "Accessing index: 447\n",
            "Dataset type: <class 'datasets.arrow_dataset.Dataset'>\n",
            "Dataset length: 1000\n",
            "Accessing index: 112\n",
            "Dataset type: <class 'datasets.arrow_dataset.Dataset'>\n",
            "Dataset length: 1000\n",
            "Accessing index: 809\n",
            "Dataset type: <class 'datasets.arrow_dataset.Dataset'>\n",
            "Dataset length: 1000\n",
            "Accessing index: 642\n",
            "Dataset type: <class 'datasets.arrow_dataset.Dataset'>\n",
            "Dataset length: 1000\n"
          ]
        },
        {
          "output_type": "stream",
          "name": "stderr",
          "text": [
            "\r 92%|█████████▏| 115/125 [27:23<02:18, 13.87s/it]"
          ]
        },
        {
          "output_type": "stream",
          "name": "stdout",
          "text": [
            "Accessing index: 477\n",
            "Dataset type: <class 'datasets.arrow_dataset.Dataset'>\n",
            "Dataset length: 1000\n",
            "Accessing index: 729\n",
            "Dataset type: <class 'datasets.arrow_dataset.Dataset'>\n",
            "Dataset length: 1000\n",
            "Accessing index: 492\n",
            "Dataset type: <class 'datasets.arrow_dataset.Dataset'>\n",
            "Dataset length: 1000\n",
            "Accessing index: 264\n",
            "Dataset type: <class 'datasets.arrow_dataset.Dataset'>\n",
            "Dataset length: 1000\n",
            "Accessing index: 300\n",
            "Dataset type: <class 'datasets.arrow_dataset.Dataset'>\n",
            "Dataset length: 1000\n",
            "Accessing index: 186\n",
            "Dataset type: <class 'datasets.arrow_dataset.Dataset'>\n",
            "Dataset length: 1000\n",
            "Accessing index: 924\n",
            "Dataset type: <class 'datasets.arrow_dataset.Dataset'>\n",
            "Dataset length: 1000\n",
            "Accessing index: 756\n",
            "Dataset type: <class 'datasets.arrow_dataset.Dataset'>\n",
            "Dataset length: 1000\n"
          ]
        },
        {
          "output_type": "stream",
          "name": "stderr",
          "text": [
            "\r 93%|█████████▎| 116/125 [27:36<02:04, 13.85s/it]"
          ]
        },
        {
          "output_type": "stream",
          "name": "stdout",
          "text": [
            "Accessing index: 178\n",
            "Dataset type: <class 'datasets.arrow_dataset.Dataset'>\n",
            "Dataset length: 1000\n",
            "Accessing index: 966\n",
            "Dataset type: <class 'datasets.arrow_dataset.Dataset'>\n",
            "Dataset length: 1000\n",
            "Accessing index: 57\n",
            "Dataset type: <class 'datasets.arrow_dataset.Dataset'>\n",
            "Dataset length: 1000\n",
            "Accessing index: 750\n",
            "Dataset type: <class 'datasets.arrow_dataset.Dataset'>\n",
            "Dataset length: 1000\n",
            "Accessing index: 468\n",
            "Dataset type: <class 'datasets.arrow_dataset.Dataset'>\n",
            "Dataset length: 1000\n",
            "Accessing index: 374\n",
            "Dataset type: <class 'datasets.arrow_dataset.Dataset'>\n",
            "Dataset length: 1000\n",
            "Accessing index: 341\n",
            "Dataset type: <class 'datasets.arrow_dataset.Dataset'>\n",
            "Dataset length: 1000\n",
            "Accessing index: 236\n",
            "Dataset type: <class 'datasets.arrow_dataset.Dataset'>\n",
            "Dataset length: 1000\n"
          ]
        },
        {
          "output_type": "stream",
          "name": "stderr",
          "text": [
            "\r 94%|█████████▎| 117/125 [27:50<01:51, 13.90s/it]"
          ]
        },
        {
          "output_type": "stream",
          "name": "stdout",
          "text": [
            "Accessing index: 293\n",
            "Dataset type: <class 'datasets.arrow_dataset.Dataset'>\n",
            "Dataset length: 1000\n",
            "Accessing index: 80\n",
            "Dataset type: <class 'datasets.arrow_dataset.Dataset'>\n",
            "Dataset length: 1000\n",
            "Accessing index: 365\n",
            "Dataset type: <class 'datasets.arrow_dataset.Dataset'>\n",
            "Dataset length: 1000\n",
            "Accessing index: 890\n",
            "Dataset type: <class 'datasets.arrow_dataset.Dataset'>\n",
            "Dataset length: 1000\n",
            "Accessing index: 805\n",
            "Dataset type: <class 'datasets.arrow_dataset.Dataset'>\n",
            "Dataset length: 1000\n",
            "Accessing index: 99\n",
            "Dataset type: <class 'datasets.arrow_dataset.Dataset'>\n",
            "Dataset length: 1000\n",
            "Accessing index: 528\n",
            "Dataset type: <class 'datasets.arrow_dataset.Dataset'>\n",
            "Dataset length: 1000\n",
            "Accessing index: 276\n",
            "Dataset type: <class 'datasets.arrow_dataset.Dataset'>\n",
            "Dataset length: 1000\n"
          ]
        },
        {
          "output_type": "stream",
          "name": "stderr",
          "text": [
            "\r 94%|█████████▍| 118/125 [28:05<01:38, 14.04s/it]"
          ]
        },
        {
          "output_type": "stream",
          "name": "stdout",
          "text": [
            "Accessing index: 67\n",
            "Dataset type: <class 'datasets.arrow_dataset.Dataset'>\n",
            "Dataset length: 1000\n",
            "Accessing index: 120\n",
            "Dataset type: <class 'datasets.arrow_dataset.Dataset'>\n",
            "Dataset length: 1000\n",
            "Accessing index: 204\n",
            "Dataset type: <class 'datasets.arrow_dataset.Dataset'>\n",
            "Dataset length: 1000\n",
            "Accessing index: 931\n",
            "Dataset type: <class 'datasets.arrow_dataset.Dataset'>\n",
            "Dataset length: 1000\n",
            "Accessing index: 305\n",
            "Dataset type: <class 'datasets.arrow_dataset.Dataset'>\n",
            "Dataset length: 1000\n",
            "Accessing index: 872\n",
            "Dataset type: <class 'datasets.arrow_dataset.Dataset'>\n",
            "Dataset length: 1000\n",
            "Accessing index: 573\n",
            "Dataset type: <class 'datasets.arrow_dataset.Dataset'>\n",
            "Dataset length: 1000\n",
            "Accessing index: 703\n",
            "Dataset type: <class 'datasets.arrow_dataset.Dataset'>\n",
            "Dataset length: 1000\n"
          ]
        },
        {
          "output_type": "stream",
          "name": "stderr",
          "text": [
            "\r 95%|█████████▌| 119/125 [28:19<01:23, 13.98s/it]"
          ]
        },
        {
          "output_type": "stream",
          "name": "stdout",
          "text": [
            "Accessing index: 322\n",
            "Dataset type: <class 'datasets.arrow_dataset.Dataset'>\n",
            "Dataset length: 1000\n",
            "Accessing index: 829\n",
            "Dataset type: <class 'datasets.arrow_dataset.Dataset'>\n",
            "Dataset length: 1000\n",
            "Accessing index: 453\n",
            "Dataset type: <class 'datasets.arrow_dataset.Dataset'>\n",
            "Dataset length: 1000\n",
            "Accessing index: 898\n",
            "Dataset type: <class 'datasets.arrow_dataset.Dataset'>\n",
            "Dataset length: 1000\n",
            "Accessing index: 385\n",
            "Dataset type: <class 'datasets.arrow_dataset.Dataset'>\n",
            "Dataset length: 1000\n",
            "Accessing index: 649\n",
            "Dataset type: <class 'datasets.arrow_dataset.Dataset'>\n",
            "Dataset length: 1000\n",
            "Accessing index: 54\n",
            "Dataset type: <class 'datasets.arrow_dataset.Dataset'>\n",
            "Dataset length: 1000\n",
            "Accessing index: 105\n",
            "Dataset type: <class 'datasets.arrow_dataset.Dataset'>\n",
            "Dataset length: 1000\n"
          ]
        },
        {
          "output_type": "stream",
          "name": "stderr",
          "text": [
            "\r 96%|█████████▌| 120/125 [28:32<01:09, 13.92s/it]"
          ]
        },
        {
          "output_type": "stream",
          "name": "stdout",
          "text": [
            "Accessing index: 662\n",
            "Dataset type: <class 'datasets.arrow_dataset.Dataset'>\n",
            "Dataset length: 1000\n",
            "Accessing index: 176\n",
            "Dataset type: <class 'datasets.arrow_dataset.Dataset'>\n",
            "Dataset length: 1000\n",
            "Accessing index: 955\n",
            "Dataset type: <class 'datasets.arrow_dataset.Dataset'>\n",
            "Dataset length: 1000\n",
            "Accessing index: 230\n",
            "Dataset type: <class 'datasets.arrow_dataset.Dataset'>\n",
            "Dataset length: 1000\n",
            "Accessing index: 421\n",
            "Dataset type: <class 'datasets.arrow_dataset.Dataset'>\n",
            "Dataset length: 1000\n",
            "Accessing index: 681\n",
            "Dataset type: <class 'datasets.arrow_dataset.Dataset'>\n",
            "Dataset length: 1000\n",
            "Accessing index: 544\n",
            "Dataset type: <class 'datasets.arrow_dataset.Dataset'>\n",
            "Dataset length: 1000\n",
            "Accessing index: 895\n",
            "Dataset type: <class 'datasets.arrow_dataset.Dataset'>\n",
            "Dataset length: 1000\n"
          ]
        },
        {
          "output_type": "stream",
          "name": "stderr",
          "text": [
            "\r 97%|█████████▋| 121/125 [28:46<00:55, 13.94s/it]"
          ]
        },
        {
          "output_type": "stream",
          "name": "stdout",
          "text": [
            "Accessing index: 47\n",
            "Dataset type: <class 'datasets.arrow_dataset.Dataset'>\n",
            "Dataset length: 1000\n",
            "Accessing index: 40\n",
            "Dataset type: <class 'datasets.arrow_dataset.Dataset'>\n",
            "Dataset length: 1000\n",
            "Accessing index: 536\n",
            "Dataset type: <class 'datasets.arrow_dataset.Dataset'>\n",
            "Dataset length: 1000\n",
            "Accessing index: 770\n",
            "Dataset type: <class 'datasets.arrow_dataset.Dataset'>\n",
            "Dataset length: 1000\n",
            "Accessing index: 283\n",
            "Dataset type: <class 'datasets.arrow_dataset.Dataset'>\n",
            "Dataset length: 1000\n",
            "Accessing index: 4\n",
            "Dataset type: <class 'datasets.arrow_dataset.Dataset'>\n",
            "Dataset length: 1000\n",
            "Accessing index: 366\n",
            "Dataset type: <class 'datasets.arrow_dataset.Dataset'>\n",
            "Dataset length: 1000\n",
            "Accessing index: 812\n",
            "Dataset type: <class 'datasets.arrow_dataset.Dataset'>\n",
            "Dataset length: 1000\n"
          ]
        },
        {
          "output_type": "stream",
          "name": "stderr",
          "text": [
            "\r 98%|█████████▊| 122/125 [29:00<00:41, 13.93s/it]"
          ]
        },
        {
          "output_type": "stream",
          "name": "stdout",
          "text": [
            "Accessing index: 837\n",
            "Dataset type: <class 'datasets.arrow_dataset.Dataset'>\n",
            "Dataset length: 1000\n",
            "Accessing index: 314\n",
            "Dataset type: <class 'datasets.arrow_dataset.Dataset'>\n",
            "Dataset length: 1000\n",
            "Accessing index: 921\n",
            "Dataset type: <class 'datasets.arrow_dataset.Dataset'>\n",
            "Dataset length: 1000\n",
            "Accessing index: 850\n",
            "Dataset type: <class 'datasets.arrow_dataset.Dataset'>\n",
            "Dataset length: 1000\n",
            "Accessing index: 683\n",
            "Dataset type: <class 'datasets.arrow_dataset.Dataset'>\n",
            "Dataset length: 1000\n",
            "Accessing index: 98\n",
            "Dataset type: <class 'datasets.arrow_dataset.Dataset'>\n",
            "Dataset length: 1000\n",
            "Accessing index: 150\n",
            "Dataset type: <class 'datasets.arrow_dataset.Dataset'>\n",
            "Dataset length: 1000\n",
            "Accessing index: 291\n",
            "Dataset type: <class 'datasets.arrow_dataset.Dataset'>\n",
            "Dataset length: 1000\n"
          ]
        },
        {
          "output_type": "stream",
          "name": "stderr",
          "text": [
            "\r 98%|█████████▊| 123/125 [29:14<00:27, 13.94s/it]"
          ]
        },
        {
          "output_type": "stream",
          "name": "stdout",
          "text": [
            "Accessing index: 377\n",
            "Dataset type: <class 'datasets.arrow_dataset.Dataset'>\n",
            "Dataset length: 1000\n",
            "Accessing index: 400\n",
            "Dataset type: <class 'datasets.arrow_dataset.Dataset'>\n",
            "Dataset length: 1000\n",
            "Accessing index: 25\n",
            "Dataset type: <class 'datasets.arrow_dataset.Dataset'>\n",
            "Dataset length: 1000\n",
            "Accessing index: 302\n",
            "Dataset type: <class 'datasets.arrow_dataset.Dataset'>\n",
            "Dataset length: 1000\n",
            "Accessing index: 616\n",
            "Dataset type: <class 'datasets.arrow_dataset.Dataset'>\n",
            "Dataset length: 1000\n",
            "Accessing index: 49\n",
            "Dataset type: <class 'datasets.arrow_dataset.Dataset'>\n",
            "Dataset length: 1000\n",
            "Accessing index: 779\n",
            "Dataset type: <class 'datasets.arrow_dataset.Dataset'>\n",
            "Dataset length: 1000\n",
            "Accessing index: 998\n",
            "Dataset type: <class 'datasets.arrow_dataset.Dataset'>\n",
            "Dataset length: 1000\n"
          ]
        },
        {
          "output_type": "stream",
          "name": "stderr",
          "text": [
            "\r 99%|█████████▉| 124/125 [29:28<00:13, 13.92s/it]"
          ]
        },
        {
          "output_type": "stream",
          "name": "stdout",
          "text": [
            "Accessing index: 367\n",
            "Dataset type: <class 'datasets.arrow_dataset.Dataset'>\n",
            "Dataset length: 1000\n",
            "Accessing index: 465\n",
            "Dataset type: <class 'datasets.arrow_dataset.Dataset'>\n",
            "Dataset length: 1000\n",
            "Accessing index: 758\n",
            "Dataset type: <class 'datasets.arrow_dataset.Dataset'>\n",
            "Dataset length: 1000\n",
            "Accessing index: 551\n",
            "Dataset type: <class 'datasets.arrow_dataset.Dataset'>\n",
            "Dataset length: 1000\n",
            "Accessing index: 576\n",
            "Dataset type: <class 'datasets.arrow_dataset.Dataset'>\n",
            "Dataset length: 1000\n",
            "Accessing index: 271\n",
            "Dataset type: <class 'datasets.arrow_dataset.Dataset'>\n",
            "Dataset length: 1000\n",
            "Accessing index: 52\n",
            "Dataset type: <class 'datasets.arrow_dataset.Dataset'>\n",
            "Dataset length: 1000\n",
            "Accessing index: 801\n",
            "Dataset type: <class 'datasets.arrow_dataset.Dataset'>\n",
            "Dataset length: 1000\n"
          ]
        },
        {
          "output_type": "stream",
          "name": "stderr",
          "text": [
            "100%|██████████| 125/125 [29:42<00:00, 14.26s/it]\n"
          ]
        },
        {
          "output_type": "stream",
          "name": "stdout",
          "text": [
            "Training loss: 3.7743\n",
            "Epoch 2\n"
          ]
        },
        {
          "output_type": "stream",
          "name": "stderr",
          "text": [
            "\r  0%|          | 0/125 [00:00<?, ?it/s]"
          ]
        },
        {
          "output_type": "stream",
          "name": "stdout",
          "text": [
            "Accessing index: 887\n",
            "Dataset type: <class 'datasets.arrow_dataset.Dataset'>\n",
            "Dataset length: 1000\n",
            "Accessing index: 115\n",
            "Dataset type: <class 'datasets.arrow_dataset.Dataset'>\n",
            "Dataset length: 1000\n",
            "Accessing index: 420\n",
            "Dataset type: <class 'datasets.arrow_dataset.Dataset'>\n",
            "Dataset length: 1000\n",
            "Accessing index: 560\n",
            "Dataset type: <class 'datasets.arrow_dataset.Dataset'>\n",
            "Dataset length: 1000\n",
            "Accessing index: 450\n",
            "Dataset type: <class 'datasets.arrow_dataset.Dataset'>\n",
            "Dataset length: 1000\n",
            "Accessing index: 159\n",
            "Dataset type: <class 'datasets.arrow_dataset.Dataset'>\n",
            "Dataset length: 1000\n",
            "Accessing index: 870\n",
            "Dataset type: <class 'datasets.arrow_dataset.Dataset'>\n",
            "Dataset length: 1000\n",
            "Accessing index: 140\n",
            "Dataset type: <class 'datasets.arrow_dataset.Dataset'>\n",
            "Dataset length: 1000\n"
          ]
        },
        {
          "output_type": "stream",
          "name": "stderr",
          "text": [
            "\r  1%|          | 1/125 [00:13<28:37, 13.85s/it]"
          ]
        },
        {
          "output_type": "stream",
          "name": "stdout",
          "text": [
            "Accessing index: 652\n",
            "Dataset type: <class 'datasets.arrow_dataset.Dataset'>\n",
            "Dataset length: 1000\n",
            "Accessing index: 147\n",
            "Dataset type: <class 'datasets.arrow_dataset.Dataset'>\n",
            "Dataset length: 1000\n",
            "Accessing index: 588\n",
            "Dataset type: <class 'datasets.arrow_dataset.Dataset'>\n",
            "Dataset length: 1000\n",
            "Accessing index: 63\n",
            "Dataset type: <class 'datasets.arrow_dataset.Dataset'>\n",
            "Dataset length: 1000\n",
            "Accessing index: 416\n",
            "Dataset type: <class 'datasets.arrow_dataset.Dataset'>\n",
            "Dataset length: 1000\n",
            "Accessing index: 347\n",
            "Dataset type: <class 'datasets.arrow_dataset.Dataset'>\n",
            "Dataset length: 1000\n",
            "Accessing index: 495\n",
            "Dataset type: <class 'datasets.arrow_dataset.Dataset'>\n",
            "Dataset length: 1000\n",
            "Accessing index: 727\n",
            "Dataset type: <class 'datasets.arrow_dataset.Dataset'>\n",
            "Dataset length: 1000\n"
          ]
        },
        {
          "output_type": "stream",
          "name": "stderr",
          "text": [
            "\r  2%|▏         | 2/125 [00:28<29:09, 14.22s/it]"
          ]
        },
        {
          "output_type": "stream",
          "name": "stdout",
          "text": [
            "Accessing index: 494\n",
            "Dataset type: <class 'datasets.arrow_dataset.Dataset'>\n",
            "Dataset length: 1000\n",
            "Accessing index: 562\n",
            "Dataset type: <class 'datasets.arrow_dataset.Dataset'>\n",
            "Dataset length: 1000\n",
            "Accessing index: 291\n",
            "Dataset type: <class 'datasets.arrow_dataset.Dataset'>\n",
            "Dataset length: 1000\n",
            "Accessing index: 580\n",
            "Dataset type: <class 'datasets.arrow_dataset.Dataset'>\n",
            "Dataset length: 1000\n",
            "Accessing index: 293\n",
            "Dataset type: <class 'datasets.arrow_dataset.Dataset'>\n",
            "Dataset length: 1000\n",
            "Accessing index: 988\n",
            "Dataset type: <class 'datasets.arrow_dataset.Dataset'>\n",
            "Dataset length: 1000\n",
            "Accessing index: 858\n",
            "Dataset type: <class 'datasets.arrow_dataset.Dataset'>\n",
            "Dataset length: 1000\n",
            "Accessing index: 981\n",
            "Dataset type: <class 'datasets.arrow_dataset.Dataset'>\n",
            "Dataset length: 1000\n"
          ]
        },
        {
          "output_type": "stream",
          "name": "stderr",
          "text": [
            "\r  2%|▏         | 3/125 [00:42<28:40, 14.10s/it]"
          ]
        },
        {
          "output_type": "stream",
          "name": "stdout",
          "text": [
            "Accessing index: 342\n",
            "Dataset type: <class 'datasets.arrow_dataset.Dataset'>\n",
            "Dataset length: 1000\n",
            "Accessing index: 41\n",
            "Dataset type: <class 'datasets.arrow_dataset.Dataset'>\n",
            "Dataset length: 1000\n",
            "Accessing index: 76\n",
            "Dataset type: <class 'datasets.arrow_dataset.Dataset'>\n",
            "Dataset length: 1000\n",
            "Accessing index: 666\n",
            "Dataset type: <class 'datasets.arrow_dataset.Dataset'>\n",
            "Dataset length: 1000\n",
            "Accessing index: 995\n",
            "Dataset type: <class 'datasets.arrow_dataset.Dataset'>\n",
            "Dataset length: 1000\n",
            "Accessing index: 451\n",
            "Dataset type: <class 'datasets.arrow_dataset.Dataset'>\n",
            "Dataset length: 1000\n",
            "Accessing index: 537\n",
            "Dataset type: <class 'datasets.arrow_dataset.Dataset'>\n",
            "Dataset length: 1000\n",
            "Accessing index: 32\n",
            "Dataset type: <class 'datasets.arrow_dataset.Dataset'>\n",
            "Dataset length: 1000\n"
          ]
        },
        {
          "output_type": "stream",
          "name": "stderr",
          "text": [
            "\r  3%|▎         | 4/125 [00:56<28:12, 13.99s/it]"
          ]
        },
        {
          "output_type": "stream",
          "name": "stdout",
          "text": [
            "Accessing index: 668\n",
            "Dataset type: <class 'datasets.arrow_dataset.Dataset'>\n",
            "Dataset length: 1000\n",
            "Accessing index: 393\n",
            "Dataset type: <class 'datasets.arrow_dataset.Dataset'>\n",
            "Dataset length: 1000\n",
            "Accessing index: 951\n",
            "Dataset type: <class 'datasets.arrow_dataset.Dataset'>\n",
            "Dataset length: 1000\n",
            "Accessing index: 113\n",
            "Dataset type: <class 'datasets.arrow_dataset.Dataset'>\n",
            "Dataset length: 1000\n",
            "Accessing index: 620\n",
            "Dataset type: <class 'datasets.arrow_dataset.Dataset'>\n",
            "Dataset length: 1000\n",
            "Accessing index: 401\n",
            "Dataset type: <class 'datasets.arrow_dataset.Dataset'>\n",
            "Dataset length: 1000\n",
            "Accessing index: 4\n",
            "Dataset type: <class 'datasets.arrow_dataset.Dataset'>\n",
            "Dataset length: 1000\n",
            "Accessing index: 934\n",
            "Dataset type: <class 'datasets.arrow_dataset.Dataset'>\n",
            "Dataset length: 1000\n"
          ]
        },
        {
          "output_type": "stream",
          "name": "stderr",
          "text": [
            "\r  4%|▍         | 5/125 [01:09<27:53, 13.95s/it]"
          ]
        },
        {
          "output_type": "stream",
          "name": "stdout",
          "text": [
            "Accessing index: 275\n",
            "Dataset type: <class 'datasets.arrow_dataset.Dataset'>\n",
            "Dataset length: 1000\n",
            "Accessing index: 924\n",
            "Dataset type: <class 'datasets.arrow_dataset.Dataset'>\n",
            "Dataset length: 1000\n",
            "Accessing index: 935\n",
            "Dataset type: <class 'datasets.arrow_dataset.Dataset'>\n",
            "Dataset length: 1000\n",
            "Accessing index: 724\n",
            "Dataset type: <class 'datasets.arrow_dataset.Dataset'>\n",
            "Dataset length: 1000\n",
            "Accessing index: 683\n",
            "Dataset type: <class 'datasets.arrow_dataset.Dataset'>\n",
            "Dataset length: 1000\n",
            "Accessing index: 624\n",
            "Dataset type: <class 'datasets.arrow_dataset.Dataset'>\n",
            "Dataset length: 1000\n",
            "Accessing index: 33\n",
            "Dataset type: <class 'datasets.arrow_dataset.Dataset'>\n",
            "Dataset length: 1000\n",
            "Accessing index: 350\n",
            "Dataset type: <class 'datasets.arrow_dataset.Dataset'>\n",
            "Dataset length: 1000\n"
          ]
        },
        {
          "output_type": "stream",
          "name": "stderr",
          "text": [
            "\r  5%|▍         | 6/125 [01:23<27:35, 13.91s/it]"
          ]
        },
        {
          "output_type": "stream",
          "name": "stdout",
          "text": [
            "Accessing index: 43\n",
            "Dataset type: <class 'datasets.arrow_dataset.Dataset'>\n",
            "Dataset length: 1000\n",
            "Accessing index: 547\n",
            "Dataset type: <class 'datasets.arrow_dataset.Dataset'>\n",
            "Dataset length: 1000\n",
            "Accessing index: 37\n",
            "Dataset type: <class 'datasets.arrow_dataset.Dataset'>\n",
            "Dataset length: 1000\n",
            "Accessing index: 657\n",
            "Dataset type: <class 'datasets.arrow_dataset.Dataset'>\n",
            "Dataset length: 1000\n",
            "Accessing index: 849\n",
            "Dataset type: <class 'datasets.arrow_dataset.Dataset'>\n",
            "Dataset length: 1000\n",
            "Accessing index: 890\n",
            "Dataset type: <class 'datasets.arrow_dataset.Dataset'>\n",
            "Dataset length: 1000\n",
            "Accessing index: 155\n",
            "Dataset type: <class 'datasets.arrow_dataset.Dataset'>\n",
            "Dataset length: 1000\n",
            "Accessing index: 128\n",
            "Dataset type: <class 'datasets.arrow_dataset.Dataset'>\n",
            "Dataset length: 1000\n"
          ]
        },
        {
          "output_type": "stream",
          "name": "stderr",
          "text": [
            "\r  6%|▌         | 7/125 [01:37<27:20, 13.90s/it]"
          ]
        },
        {
          "output_type": "stream",
          "name": "stdout",
          "text": [
            "Accessing index: 877\n",
            "Dataset type: <class 'datasets.arrow_dataset.Dataset'>\n",
            "Dataset length: 1000\n",
            "Accessing index: 726\n",
            "Dataset type: <class 'datasets.arrow_dataset.Dataset'>\n",
            "Dataset length: 1000\n",
            "Accessing index: 990\n",
            "Dataset type: <class 'datasets.arrow_dataset.Dataset'>\n",
            "Dataset length: 1000\n",
            "Accessing index: 136\n",
            "Dataset type: <class 'datasets.arrow_dataset.Dataset'>\n",
            "Dataset length: 1000\n",
            "Accessing index: 960\n",
            "Dataset type: <class 'datasets.arrow_dataset.Dataset'>\n",
            "Dataset length: 1000\n",
            "Accessing index: 90\n",
            "Dataset type: <class 'datasets.arrow_dataset.Dataset'>\n",
            "Dataset length: 1000\n",
            "Accessing index: 29\n",
            "Dataset type: <class 'datasets.arrow_dataset.Dataset'>\n",
            "Dataset length: 1000\n",
            "Accessing index: 702\n",
            "Dataset type: <class 'datasets.arrow_dataset.Dataset'>\n",
            "Dataset length: 1000\n"
          ]
        },
        {
          "output_type": "stream",
          "name": "stderr",
          "text": [
            "\r  6%|▋         | 8/125 [01:51<27:02, 13.87s/it]"
          ]
        },
        {
          "output_type": "stream",
          "name": "stdout",
          "text": [
            "Accessing index: 319\n",
            "Dataset type: <class 'datasets.arrow_dataset.Dataset'>\n",
            "Dataset length: 1000\n",
            "Accessing index: 443\n",
            "Dataset type: <class 'datasets.arrow_dataset.Dataset'>\n",
            "Dataset length: 1000\n",
            "Accessing index: 814\n",
            "Dataset type: <class 'datasets.arrow_dataset.Dataset'>\n",
            "Dataset length: 1000\n",
            "Accessing index: 989\n",
            "Dataset type: <class 'datasets.arrow_dataset.Dataset'>\n",
            "Dataset length: 1000\n",
            "Accessing index: 517\n",
            "Dataset type: <class 'datasets.arrow_dataset.Dataset'>\n",
            "Dataset length: 1000\n",
            "Accessing index: 644\n",
            "Dataset type: <class 'datasets.arrow_dataset.Dataset'>\n",
            "Dataset length: 1000\n",
            "Accessing index: 679\n",
            "Dataset type: <class 'datasets.arrow_dataset.Dataset'>\n",
            "Dataset length: 1000\n",
            "Accessing index: 456\n",
            "Dataset type: <class 'datasets.arrow_dataset.Dataset'>\n",
            "Dataset length: 1000\n"
          ]
        },
        {
          "output_type": "stream",
          "name": "stderr",
          "text": [
            "\r  7%|▋         | 9/125 [02:05<26:46, 13.85s/it]"
          ]
        },
        {
          "output_type": "stream",
          "name": "stdout",
          "text": [
            "Accessing index: 236\n",
            "Dataset type: <class 'datasets.arrow_dataset.Dataset'>\n",
            "Dataset length: 1000\n",
            "Accessing index: 873\n",
            "Dataset type: <class 'datasets.arrow_dataset.Dataset'>\n",
            "Dataset length: 1000\n",
            "Accessing index: 383\n",
            "Dataset type: <class 'datasets.arrow_dataset.Dataset'>\n",
            "Dataset length: 1000\n",
            "Accessing index: 439\n",
            "Dataset type: <class 'datasets.arrow_dataset.Dataset'>\n",
            "Dataset length: 1000\n",
            "Accessing index: 331\n",
            "Dataset type: <class 'datasets.arrow_dataset.Dataset'>\n",
            "Dataset length: 1000\n",
            "Accessing index: 15\n",
            "Dataset type: <class 'datasets.arrow_dataset.Dataset'>\n",
            "Dataset length: 1000\n",
            "Accessing index: 747\n",
            "Dataset type: <class 'datasets.arrow_dataset.Dataset'>\n",
            "Dataset length: 1000\n",
            "Accessing index: 548\n",
            "Dataset type: <class 'datasets.arrow_dataset.Dataset'>\n",
            "Dataset length: 1000\n"
          ]
        },
        {
          "output_type": "stream",
          "name": "stderr",
          "text": [
            "\r  8%|▊         | 10/125 [02:19<26:31, 13.84s/it]"
          ]
        },
        {
          "output_type": "stream",
          "name": "stdout",
          "text": [
            "Accessing index: 477\n",
            "Dataset type: <class 'datasets.arrow_dataset.Dataset'>\n",
            "Dataset length: 1000\n",
            "Accessing index: 690\n",
            "Dataset type: <class 'datasets.arrow_dataset.Dataset'>\n",
            "Dataset length: 1000\n",
            "Accessing index: 845\n",
            "Dataset type: <class 'datasets.arrow_dataset.Dataset'>\n",
            "Dataset length: 1000\n",
            "Accessing index: 653\n",
            "Dataset type: <class 'datasets.arrow_dataset.Dataset'>\n",
            "Dataset length: 1000\n",
            "Accessing index: 504\n",
            "Dataset type: <class 'datasets.arrow_dataset.Dataset'>\n",
            "Dataset length: 1000\n",
            "Accessing index: 171\n",
            "Dataset type: <class 'datasets.arrow_dataset.Dataset'>\n",
            "Dataset length: 1000\n",
            "Accessing index: 359\n",
            "Dataset type: <class 'datasets.arrow_dataset.Dataset'>\n",
            "Dataset length: 1000\n",
            "Accessing index: 911\n",
            "Dataset type: <class 'datasets.arrow_dataset.Dataset'>\n",
            "Dataset length: 1000\n"
          ]
        },
        {
          "output_type": "stream",
          "name": "stderr",
          "text": [
            "\r  9%|▉         | 11/125 [02:33<26:26, 13.92s/it]"
          ]
        },
        {
          "output_type": "stream",
          "name": "stdout",
          "text": [
            "Accessing index: 497\n",
            "Dataset type: <class 'datasets.arrow_dataset.Dataset'>\n",
            "Dataset length: 1000\n",
            "Accessing index: 525\n",
            "Dataset type: <class 'datasets.arrow_dataset.Dataset'>\n",
            "Dataset length: 1000\n",
            "Accessing index: 363\n",
            "Dataset type: <class 'datasets.arrow_dataset.Dataset'>\n",
            "Dataset length: 1000\n",
            "Accessing index: 515\n",
            "Dataset type: <class 'datasets.arrow_dataset.Dataset'>\n",
            "Dataset length: 1000\n",
            "Accessing index: 120\n",
            "Dataset type: <class 'datasets.arrow_dataset.Dataset'>\n",
            "Dataset length: 1000\n",
            "Accessing index: 78\n",
            "Dataset type: <class 'datasets.arrow_dataset.Dataset'>\n",
            "Dataset length: 1000\n",
            "Accessing index: 700\n",
            "Dataset type: <class 'datasets.arrow_dataset.Dataset'>\n",
            "Dataset length: 1000\n",
            "Accessing index: 936\n",
            "Dataset type: <class 'datasets.arrow_dataset.Dataset'>\n",
            "Dataset length: 1000\n"
          ]
        },
        {
          "output_type": "stream",
          "name": "stderr",
          "text": [
            "\r 10%|▉         | 12/125 [02:47<26:27, 14.05s/it]"
          ]
        },
        {
          "output_type": "stream",
          "name": "stdout",
          "text": [
            "Accessing index: 181\n",
            "Dataset type: <class 'datasets.arrow_dataset.Dataset'>\n",
            "Dataset length: 1000\n",
            "Accessing index: 952\n",
            "Dataset type: <class 'datasets.arrow_dataset.Dataset'>\n",
            "Dataset length: 1000\n",
            "Accessing index: 482\n",
            "Dataset type: <class 'datasets.arrow_dataset.Dataset'>\n",
            "Dataset length: 1000\n",
            "Accessing index: 77\n",
            "Dataset type: <class 'datasets.arrow_dataset.Dataset'>\n",
            "Dataset length: 1000\n",
            "Accessing index: 950\n",
            "Dataset type: <class 'datasets.arrow_dataset.Dataset'>\n",
            "Dataset length: 1000\n",
            "Accessing index: 623\n",
            "Dataset type: <class 'datasets.arrow_dataset.Dataset'>\n",
            "Dataset length: 1000\n",
            "Accessing index: 927\n",
            "Dataset type: <class 'datasets.arrow_dataset.Dataset'>\n",
            "Dataset length: 1000\n",
            "Accessing index: 745\n",
            "Dataset type: <class 'datasets.arrow_dataset.Dataset'>\n",
            "Dataset length: 1000\n"
          ]
        },
        {
          "output_type": "stream",
          "name": "stderr",
          "text": [
            "\r 10%|█         | 13/125 [03:01<26:08, 14.00s/it]"
          ]
        },
        {
          "output_type": "stream",
          "name": "stdout",
          "text": [
            "Accessing index: 376\n",
            "Dataset type: <class 'datasets.arrow_dataset.Dataset'>\n",
            "Dataset length: 1000\n",
            "Accessing index: 330\n",
            "Dataset type: <class 'datasets.arrow_dataset.Dataset'>\n",
            "Dataset length: 1000\n",
            "Accessing index: 255\n",
            "Dataset type: <class 'datasets.arrow_dataset.Dataset'>\n",
            "Dataset length: 1000\n",
            "Accessing index: 220\n",
            "Dataset type: <class 'datasets.arrow_dataset.Dataset'>\n",
            "Dataset length: 1000\n",
            "Accessing index: 917\n",
            "Dataset type: <class 'datasets.arrow_dataset.Dataset'>\n",
            "Dataset length: 1000\n",
            "Accessing index: 797\n",
            "Dataset type: <class 'datasets.arrow_dataset.Dataset'>\n",
            "Dataset length: 1000\n",
            "Accessing index: 198\n",
            "Dataset type: <class 'datasets.arrow_dataset.Dataset'>\n",
            "Dataset length: 1000\n",
            "Accessing index: 269\n",
            "Dataset type: <class 'datasets.arrow_dataset.Dataset'>\n",
            "Dataset length: 1000\n"
          ]
        },
        {
          "output_type": "stream",
          "name": "stderr",
          "text": [
            "\r 11%|█         | 14/125 [03:15<25:49, 13.96s/it]"
          ]
        },
        {
          "output_type": "stream",
          "name": "stdout",
          "text": [
            "Accessing index: 94\n",
            "Dataset type: <class 'datasets.arrow_dataset.Dataset'>\n",
            "Dataset length: 1000\n",
            "Accessing index: 83\n",
            "Dataset type: <class 'datasets.arrow_dataset.Dataset'>\n",
            "Dataset length: 1000\n",
            "Accessing index: 36\n",
            "Dataset type: <class 'datasets.arrow_dataset.Dataset'>\n",
            "Dataset length: 1000\n",
            "Accessing index: 237\n",
            "Dataset type: <class 'datasets.arrow_dataset.Dataset'>\n",
            "Dataset length: 1000\n",
            "Accessing index: 612\n",
            "Dataset type: <class 'datasets.arrow_dataset.Dataset'>\n",
            "Dataset length: 1000\n",
            "Accessing index: 973\n",
            "Dataset type: <class 'datasets.arrow_dataset.Dataset'>\n",
            "Dataset length: 1000\n",
            "Accessing index: 919\n",
            "Dataset type: <class 'datasets.arrow_dataset.Dataset'>\n",
            "Dataset length: 1000\n",
            "Accessing index: 323\n",
            "Dataset type: <class 'datasets.arrow_dataset.Dataset'>\n",
            "Dataset length: 1000\n"
          ]
        },
        {
          "output_type": "stream",
          "name": "stderr",
          "text": [
            "\r 12%|█▏        | 15/125 [03:29<25:32, 13.93s/it]"
          ]
        },
        {
          "output_type": "stream",
          "name": "stdout",
          "text": [
            "Accessing index: 500\n",
            "Dataset type: <class 'datasets.arrow_dataset.Dataset'>\n",
            "Dataset length: 1000\n",
            "Accessing index: 670\n",
            "Dataset type: <class 'datasets.arrow_dataset.Dataset'>\n",
            "Dataset length: 1000\n",
            "Accessing index: 270\n",
            "Dataset type: <class 'datasets.arrow_dataset.Dataset'>\n",
            "Dataset length: 1000\n",
            "Accessing index: 444\n",
            "Dataset type: <class 'datasets.arrow_dataset.Dataset'>\n",
            "Dataset length: 1000\n",
            "Accessing index: 789\n",
            "Dataset type: <class 'datasets.arrow_dataset.Dataset'>\n",
            "Dataset length: 1000\n",
            "Accessing index: 158\n",
            "Dataset type: <class 'datasets.arrow_dataset.Dataset'>\n",
            "Dataset length: 1000\n",
            "Accessing index: 211\n",
            "Dataset type: <class 'datasets.arrow_dataset.Dataset'>\n",
            "Dataset length: 1000\n",
            "Accessing index: 916\n",
            "Dataset type: <class 'datasets.arrow_dataset.Dataset'>\n",
            "Dataset length: 1000\n"
          ]
        },
        {
          "output_type": "stream",
          "name": "stderr",
          "text": [
            "\r 13%|█▎        | 16/125 [03:43<25:15, 13.91s/it]"
          ]
        },
        {
          "output_type": "stream",
          "name": "stdout",
          "text": [
            "Accessing index: 892\n",
            "Dataset type: <class 'datasets.arrow_dataset.Dataset'>\n",
            "Dataset length: 1000\n",
            "Accessing index: 40\n",
            "Dataset type: <class 'datasets.arrow_dataset.Dataset'>\n",
            "Dataset length: 1000\n",
            "Accessing index: 266\n",
            "Dataset type: <class 'datasets.arrow_dataset.Dataset'>\n",
            "Dataset length: 1000\n",
            "Accessing index: 613\n",
            "Dataset type: <class 'datasets.arrow_dataset.Dataset'>\n",
            "Dataset length: 1000\n",
            "Accessing index: 263\n",
            "Dataset type: <class 'datasets.arrow_dataset.Dataset'>\n",
            "Dataset length: 1000\n",
            "Accessing index: 782\n",
            "Dataset type: <class 'datasets.arrow_dataset.Dataset'>\n",
            "Dataset length: 1000\n",
            "Accessing index: 985\n",
            "Dataset type: <class 'datasets.arrow_dataset.Dataset'>\n",
            "Dataset length: 1000\n",
            "Accessing index: 651\n",
            "Dataset type: <class 'datasets.arrow_dataset.Dataset'>\n",
            "Dataset length: 1000\n"
          ]
        },
        {
          "output_type": "stream",
          "name": "stderr",
          "text": [
            "\r 14%|█▎        | 17/125 [03:56<24:59, 13.88s/it]"
          ]
        },
        {
          "output_type": "stream",
          "name": "stdout",
          "text": [
            "Accessing index: 812\n",
            "Dataset type: <class 'datasets.arrow_dataset.Dataset'>\n",
            "Dataset length: 1000\n",
            "Accessing index: 162\n",
            "Dataset type: <class 'datasets.arrow_dataset.Dataset'>\n",
            "Dataset length: 1000\n",
            "Accessing index: 219\n",
            "Dataset type: <class 'datasets.arrow_dataset.Dataset'>\n",
            "Dataset length: 1000\n",
            "Accessing index: 49\n",
            "Dataset type: <class 'datasets.arrow_dataset.Dataset'>\n",
            "Dataset length: 1000\n",
            "Accessing index: 459\n",
            "Dataset type: <class 'datasets.arrow_dataset.Dataset'>\n",
            "Dataset length: 1000\n",
            "Accessing index: 538\n",
            "Dataset type: <class 'datasets.arrow_dataset.Dataset'>\n",
            "Dataset length: 1000\n",
            "Accessing index: 627\n",
            "Dataset type: <class 'datasets.arrow_dataset.Dataset'>\n",
            "Dataset length: 1000\n",
            "Accessing index: 357\n",
            "Dataset type: <class 'datasets.arrow_dataset.Dataset'>\n",
            "Dataset length: 1000\n"
          ]
        },
        {
          "output_type": "stream",
          "name": "stderr",
          "text": [
            "\r 14%|█▍        | 18/125 [04:10<24:42, 13.85s/it]"
          ]
        },
        {
          "output_type": "stream",
          "name": "stdout",
          "text": [
            "Accessing index: 231\n",
            "Dataset type: <class 'datasets.arrow_dataset.Dataset'>\n",
            "Dataset length: 1000\n",
            "Accessing index: 827\n",
            "Dataset type: <class 'datasets.arrow_dataset.Dataset'>\n",
            "Dataset length: 1000\n",
            "Accessing index: 615\n",
            "Dataset type: <class 'datasets.arrow_dataset.Dataset'>\n",
            "Dataset length: 1000\n",
            "Accessing index: 912\n",
            "Dataset type: <class 'datasets.arrow_dataset.Dataset'>\n",
            "Dataset length: 1000\n",
            "Accessing index: 229\n",
            "Dataset type: <class 'datasets.arrow_dataset.Dataset'>\n",
            "Dataset length: 1000\n",
            "Accessing index: 298\n",
            "Dataset type: <class 'datasets.arrow_dataset.Dataset'>\n",
            "Dataset length: 1000\n",
            "Accessing index: 762\n",
            "Dataset type: <class 'datasets.arrow_dataset.Dataset'>\n",
            "Dataset length: 1000\n",
            "Accessing index: 709\n",
            "Dataset type: <class 'datasets.arrow_dataset.Dataset'>\n",
            "Dataset length: 1000\n"
          ]
        },
        {
          "output_type": "stream",
          "name": "stderr",
          "text": [
            "\r 15%|█▌        | 19/125 [04:24<24:26, 13.83s/it]"
          ]
        },
        {
          "output_type": "stream",
          "name": "stdout",
          "text": [
            "Accessing index: 687\n",
            "Dataset type: <class 'datasets.arrow_dataset.Dataset'>\n",
            "Dataset length: 1000\n",
            "Accessing index: 17\n",
            "Dataset type: <class 'datasets.arrow_dataset.Dataset'>\n",
            "Dataset length: 1000\n",
            "Accessing index: 630\n",
            "Dataset type: <class 'datasets.arrow_dataset.Dataset'>\n",
            "Dataset length: 1000\n",
            "Accessing index: 558\n",
            "Dataset type: <class 'datasets.arrow_dataset.Dataset'>\n",
            "Dataset length: 1000\n",
            "Accessing index: 480\n",
            "Dataset type: <class 'datasets.arrow_dataset.Dataset'>\n",
            "Dataset length: 1000\n",
            "Accessing index: 54\n",
            "Dataset type: <class 'datasets.arrow_dataset.Dataset'>\n",
            "Dataset length: 1000\n",
            "Accessing index: 914\n",
            "Dataset type: <class 'datasets.arrow_dataset.Dataset'>\n",
            "Dataset length: 1000\n",
            "Accessing index: 969\n",
            "Dataset type: <class 'datasets.arrow_dataset.Dataset'>\n",
            "Dataset length: 1000\n"
          ]
        },
        {
          "output_type": "stream",
          "name": "stderr",
          "text": [
            "\r 16%|█▌        | 20/125 [04:38<24:19, 13.90s/it]"
          ]
        },
        {
          "output_type": "stream",
          "name": "stdout",
          "text": [
            "Accessing index: 334\n",
            "Dataset type: <class 'datasets.arrow_dataset.Dataset'>\n",
            "Dataset length: 1000\n",
            "Accessing index: 207\n",
            "Dataset type: <class 'datasets.arrow_dataset.Dataset'>\n",
            "Dataset length: 1000\n",
            "Accessing index: 879\n",
            "Dataset type: <class 'datasets.arrow_dataset.Dataset'>\n",
            "Dataset length: 1000\n",
            "Accessing index: 842\n",
            "Dataset type: <class 'datasets.arrow_dataset.Dataset'>\n",
            "Dataset length: 1000\n",
            "Accessing index: 358\n",
            "Dataset type: <class 'datasets.arrow_dataset.Dataset'>\n",
            "Dataset length: 1000\n",
            "Accessing index: 188\n",
            "Dataset type: <class 'datasets.arrow_dataset.Dataset'>\n",
            "Dataset length: 1000\n",
            "Accessing index: 250\n",
            "Dataset type: <class 'datasets.arrow_dataset.Dataset'>\n",
            "Dataset length: 1000\n",
            "Accessing index: 176\n",
            "Dataset type: <class 'datasets.arrow_dataset.Dataset'>\n",
            "Dataset length: 1000\n"
          ]
        },
        {
          "output_type": "stream",
          "name": "stderr",
          "text": [
            "\r 17%|█▋        | 21/125 [04:52<24:23, 14.07s/it]"
          ]
        },
        {
          "output_type": "stream",
          "name": "stdout",
          "text": [
            "Accessing index: 788\n",
            "Dataset type: <class 'datasets.arrow_dataset.Dataset'>\n",
            "Dataset length: 1000\n",
            "Accessing index: 832\n",
            "Dataset type: <class 'datasets.arrow_dataset.Dataset'>\n",
            "Dataset length: 1000\n",
            "Accessing index: 659\n",
            "Dataset type: <class 'datasets.arrow_dataset.Dataset'>\n",
            "Dataset length: 1000\n",
            "Accessing index: 610\n",
            "Dataset type: <class 'datasets.arrow_dataset.Dataset'>\n",
            "Dataset length: 1000\n",
            "Accessing index: 391\n",
            "Dataset type: <class 'datasets.arrow_dataset.Dataset'>\n",
            "Dataset length: 1000\n",
            "Accessing index: 576\n",
            "Dataset type: <class 'datasets.arrow_dataset.Dataset'>\n",
            "Dataset length: 1000\n",
            "Accessing index: 856\n",
            "Dataset type: <class 'datasets.arrow_dataset.Dataset'>\n",
            "Dataset length: 1000\n",
            "Accessing index: 445\n",
            "Dataset type: <class 'datasets.arrow_dataset.Dataset'>\n",
            "Dataset length: 1000\n"
          ]
        },
        {
          "output_type": "stream",
          "name": "stderr",
          "text": [
            "\r 18%|█▊        | 22/125 [05:06<24:03, 14.01s/it]"
          ]
        },
        {
          "output_type": "stream",
          "name": "stdout",
          "text": [
            "Accessing index: 138\n",
            "Dataset type: <class 'datasets.arrow_dataset.Dataset'>\n",
            "Dataset length: 1000\n",
            "Accessing index: 783\n",
            "Dataset type: <class 'datasets.arrow_dataset.Dataset'>\n",
            "Dataset length: 1000\n",
            "Accessing index: 756\n",
            "Dataset type: <class 'datasets.arrow_dataset.Dataset'>\n",
            "Dataset length: 1000\n",
            "Accessing index: 56\n",
            "Dataset type: <class 'datasets.arrow_dataset.Dataset'>\n",
            "Dataset length: 1000\n",
            "Accessing index: 810\n",
            "Dataset type: <class 'datasets.arrow_dataset.Dataset'>\n",
            "Dataset length: 1000\n",
            "Accessing index: 791\n",
            "Dataset type: <class 'datasets.arrow_dataset.Dataset'>\n",
            "Dataset length: 1000\n",
            "Accessing index: 540\n",
            "Dataset type: <class 'datasets.arrow_dataset.Dataset'>\n",
            "Dataset length: 1000\n",
            "Accessing index: 89\n",
            "Dataset type: <class 'datasets.arrow_dataset.Dataset'>\n",
            "Dataset length: 1000\n"
          ]
        },
        {
          "output_type": "stream",
          "name": "stderr",
          "text": [
            "\r 18%|█▊        | 23/125 [05:20<23:49, 14.01s/it]"
          ]
        },
        {
          "output_type": "stream",
          "name": "stdout",
          "text": [
            "Accessing index: 976\n",
            "Dataset type: <class 'datasets.arrow_dataset.Dataset'>\n",
            "Dataset length: 1000\n",
            "Accessing index: 825\n",
            "Dataset type: <class 'datasets.arrow_dataset.Dataset'>\n",
            "Dataset length: 1000\n",
            "Accessing index: 35\n",
            "Dataset type: <class 'datasets.arrow_dataset.Dataset'>\n",
            "Dataset length: 1000\n",
            "Accessing index: 833\n",
            "Dataset type: <class 'datasets.arrow_dataset.Dataset'>\n",
            "Dataset length: 1000\n",
            "Accessing index: 546\n",
            "Dataset type: <class 'datasets.arrow_dataset.Dataset'>\n",
            "Dataset length: 1000\n",
            "Accessing index: 8\n",
            "Dataset type: <class 'datasets.arrow_dataset.Dataset'>\n",
            "Dataset length: 1000\n",
            "Accessing index: 73\n",
            "Dataset type: <class 'datasets.arrow_dataset.Dataset'>\n",
            "Dataset length: 1000\n",
            "Accessing index: 184\n",
            "Dataset type: <class 'datasets.arrow_dataset.Dataset'>\n",
            "Dataset length: 1000\n"
          ]
        },
        {
          "output_type": "stream",
          "name": "stderr",
          "text": [
            "\r 19%|█▉        | 24/125 [05:34<23:32, 13.98s/it]"
          ]
        },
        {
          "output_type": "stream",
          "name": "stdout",
          "text": [
            "Accessing index: 84\n",
            "Dataset type: <class 'datasets.arrow_dataset.Dataset'>\n",
            "Dataset length: 1000\n",
            "Accessing index: 921\n",
            "Dataset type: <class 'datasets.arrow_dataset.Dataset'>\n",
            "Dataset length: 1000\n",
            "Accessing index: 894\n",
            "Dataset type: <class 'datasets.arrow_dataset.Dataset'>\n",
            "Dataset length: 1000\n",
            "Accessing index: 801\n",
            "Dataset type: <class 'datasets.arrow_dataset.Dataset'>\n",
            "Dataset length: 1000\n",
            "Accessing index: 501\n",
            "Dataset type: <class 'datasets.arrow_dataset.Dataset'>\n",
            "Dataset length: 1000\n",
            "Accessing index: 611\n",
            "Dataset type: <class 'datasets.arrow_dataset.Dataset'>\n",
            "Dataset length: 1000\n",
            "Accessing index: 321\n",
            "Dataset type: <class 'datasets.arrow_dataset.Dataset'>\n",
            "Dataset length: 1000\n",
            "Accessing index: 559\n",
            "Dataset type: <class 'datasets.arrow_dataset.Dataset'>\n",
            "Dataset length: 1000\n"
          ]
        },
        {
          "output_type": "stream",
          "name": "stderr",
          "text": [
            "\r 20%|██        | 25/125 [05:48<23:13, 13.93s/it]"
          ]
        },
        {
          "output_type": "stream",
          "name": "stdout",
          "text": [
            "Accessing index: 646\n",
            "Dataset type: <class 'datasets.arrow_dataset.Dataset'>\n",
            "Dataset length: 1000\n",
            "Accessing index: 85\n",
            "Dataset type: <class 'datasets.arrow_dataset.Dataset'>\n",
            "Dataset length: 1000\n",
            "Accessing index: 374\n",
            "Dataset type: <class 'datasets.arrow_dataset.Dataset'>\n",
            "Dataset length: 1000\n",
            "Accessing index: 918\n",
            "Dataset type: <class 'datasets.arrow_dataset.Dataset'>\n",
            "Dataset length: 1000\n",
            "Accessing index: 476\n",
            "Dataset type: <class 'datasets.arrow_dataset.Dataset'>\n",
            "Dataset length: 1000\n",
            "Accessing index: 760\n",
            "Dataset type: <class 'datasets.arrow_dataset.Dataset'>\n",
            "Dataset length: 1000\n",
            "Accessing index: 440\n",
            "Dataset type: <class 'datasets.arrow_dataset.Dataset'>\n",
            "Dataset length: 1000\n",
            "Accessing index: 509\n",
            "Dataset type: <class 'datasets.arrow_dataset.Dataset'>\n",
            "Dataset length: 1000\n"
          ]
        },
        {
          "output_type": "stream",
          "name": "stderr",
          "text": [
            "\r 21%|██        | 26/125 [06:02<22:57, 13.92s/it]"
          ]
        },
        {
          "output_type": "stream",
          "name": "stdout",
          "text": [
            "Accessing index: 642\n",
            "Dataset type: <class 'datasets.arrow_dataset.Dataset'>\n",
            "Dataset length: 1000\n",
            "Accessing index: 26\n",
            "Dataset type: <class 'datasets.arrow_dataset.Dataset'>\n",
            "Dataset length: 1000\n",
            "Accessing index: 574\n",
            "Dataset type: <class 'datasets.arrow_dataset.Dataset'>\n",
            "Dataset length: 1000\n",
            "Accessing index: 787\n",
            "Dataset type: <class 'datasets.arrow_dataset.Dataset'>\n",
            "Dataset length: 1000\n",
            "Accessing index: 125\n",
            "Dataset type: <class 'datasets.arrow_dataset.Dataset'>\n",
            "Dataset length: 1000\n",
            "Accessing index: 720\n",
            "Dataset type: <class 'datasets.arrow_dataset.Dataset'>\n",
            "Dataset length: 1000\n",
            "Accessing index: 523\n",
            "Dataset type: <class 'datasets.arrow_dataset.Dataset'>\n",
            "Dataset length: 1000\n",
            "Accessing index: 848\n",
            "Dataset type: <class 'datasets.arrow_dataset.Dataset'>\n",
            "Dataset length: 1000\n"
          ]
        },
        {
          "output_type": "stream",
          "name": "stderr",
          "text": [
            "\r 22%|██▏       | 27/125 [06:16<22:41, 13.89s/it]"
          ]
        },
        {
          "output_type": "stream",
          "name": "stdout",
          "text": [
            "Accessing index: 194\n",
            "Dataset type: <class 'datasets.arrow_dataset.Dataset'>\n",
            "Dataset length: 1000\n",
            "Accessing index: 708\n",
            "Dataset type: <class 'datasets.arrow_dataset.Dataset'>\n",
            "Dataset length: 1000\n",
            "Accessing index: 47\n",
            "Dataset type: <class 'datasets.arrow_dataset.Dataset'>\n",
            "Dataset length: 1000\n",
            "Accessing index: 953\n",
            "Dataset type: <class 'datasets.arrow_dataset.Dataset'>\n",
            "Dataset length: 1000\n",
            "Accessing index: 226\n",
            "Dataset type: <class 'datasets.arrow_dataset.Dataset'>\n",
            "Dataset length: 1000\n",
            "Accessing index: 710\n",
            "Dataset type: <class 'datasets.arrow_dataset.Dataset'>\n",
            "Dataset length: 1000\n",
            "Accessing index: 118\n",
            "Dataset type: <class 'datasets.arrow_dataset.Dataset'>\n",
            "Dataset length: 1000\n",
            "Accessing index: 974\n",
            "Dataset type: <class 'datasets.arrow_dataset.Dataset'>\n",
            "Dataset length: 1000\n"
          ]
        },
        {
          "output_type": "stream",
          "name": "stderr",
          "text": [
            "\r 22%|██▏       | 28/125 [06:30<22:25, 13.87s/it]"
          ]
        },
        {
          "output_type": "stream",
          "name": "stdout",
          "text": [
            "Accessing index: 326\n",
            "Dataset type: <class 'datasets.arrow_dataset.Dataset'>\n",
            "Dataset length: 1000\n",
            "Accessing index: 802\n",
            "Dataset type: <class 'datasets.arrow_dataset.Dataset'>\n",
            "Dataset length: 1000\n",
            "Accessing index: 70\n",
            "Dataset type: <class 'datasets.arrow_dataset.Dataset'>\n",
            "Dataset length: 1000\n",
            "Accessing index: 860\n",
            "Dataset type: <class 'datasets.arrow_dataset.Dataset'>\n",
            "Dataset length: 1000\n",
            "Accessing index: 305\n",
            "Dataset type: <class 'datasets.arrow_dataset.Dataset'>\n",
            "Dataset length: 1000\n",
            "Accessing index: 151\n",
            "Dataset type: <class 'datasets.arrow_dataset.Dataset'>\n",
            "Dataset length: 1000\n",
            "Accessing index: 59\n",
            "Dataset type: <class 'datasets.arrow_dataset.Dataset'>\n",
            "Dataset length: 1000\n",
            "Accessing index: 908\n",
            "Dataset type: <class 'datasets.arrow_dataset.Dataset'>\n",
            "Dataset length: 1000\n"
          ]
        },
        {
          "output_type": "stream",
          "name": "stderr",
          "text": [
            "\r 23%|██▎       | 29/125 [06:43<22:10, 13.86s/it]"
          ]
        },
        {
          "output_type": "stream",
          "name": "stdout",
          "text": [
            "Accessing index: 735\n",
            "Dataset type: <class 'datasets.arrow_dataset.Dataset'>\n",
            "Dataset length: 1000\n",
            "Accessing index: 852\n",
            "Dataset type: <class 'datasets.arrow_dataset.Dataset'>\n",
            "Dataset length: 1000\n",
            "Accessing index: 111\n",
            "Dataset type: <class 'datasets.arrow_dataset.Dataset'>\n",
            "Dataset length: 1000\n",
            "Accessing index: 278\n",
            "Dataset type: <class 'datasets.arrow_dataset.Dataset'>\n",
            "Dataset length: 1000\n",
            "Accessing index: 725\n",
            "Dataset type: <class 'datasets.arrow_dataset.Dataset'>\n",
            "Dataset length: 1000\n",
            "Accessing index: 647\n",
            "Dataset type: <class 'datasets.arrow_dataset.Dataset'>\n",
            "Dataset length: 1000\n",
            "Accessing index: 465\n",
            "Dataset type: <class 'datasets.arrow_dataset.Dataset'>\n",
            "Dataset length: 1000\n",
            "Accessing index: 836\n",
            "Dataset type: <class 'datasets.arrow_dataset.Dataset'>\n",
            "Dataset length: 1000\n"
          ]
        },
        {
          "output_type": "stream",
          "name": "stderr",
          "text": [
            "\r 24%|██▍       | 30/125 [06:58<22:14, 14.05s/it]"
          ]
        },
        {
          "output_type": "stream",
          "name": "stdout",
          "text": [
            "Accessing index: 244\n",
            "Dataset type: <class 'datasets.arrow_dataset.Dataset'>\n",
            "Dataset length: 1000\n",
            "Accessing index: 672\n",
            "Dataset type: <class 'datasets.arrow_dataset.Dataset'>\n",
            "Dataset length: 1000\n",
            "Accessing index: 369\n",
            "Dataset type: <class 'datasets.arrow_dataset.Dataset'>\n",
            "Dataset length: 1000\n",
            "Accessing index: 746\n",
            "Dataset type: <class 'datasets.arrow_dataset.Dataset'>\n",
            "Dataset length: 1000\n",
            "Accessing index: 949\n",
            "Dataset type: <class 'datasets.arrow_dataset.Dataset'>\n",
            "Dataset length: 1000\n",
            "Accessing index: 542\n",
            "Dataset type: <class 'datasets.arrow_dataset.Dataset'>\n",
            "Dataset length: 1000\n",
            "Accessing index: 467\n",
            "Dataset type: <class 'datasets.arrow_dataset.Dataset'>\n",
            "Dataset length: 1000\n",
            "Accessing index: 997\n",
            "Dataset type: <class 'datasets.arrow_dataset.Dataset'>\n",
            "Dataset length: 1000\n"
          ]
        },
        {
          "output_type": "stream",
          "name": "stderr",
          "text": [
            "\r 25%|██▍       | 31/125 [07:12<22:09, 14.14s/it]"
          ]
        },
        {
          "output_type": "stream",
          "name": "stdout",
          "text": [
            "Accessing index: 481\n",
            "Dataset type: <class 'datasets.arrow_dataset.Dataset'>\n",
            "Dataset length: 1000\n",
            "Accessing index: 565\n",
            "Dataset type: <class 'datasets.arrow_dataset.Dataset'>\n",
            "Dataset length: 1000\n",
            "Accessing index: 42\n",
            "Dataset type: <class 'datasets.arrow_dataset.Dataset'>\n",
            "Dataset length: 1000\n",
            "Accessing index: 16\n",
            "Dataset type: <class 'datasets.arrow_dataset.Dataset'>\n",
            "Dataset length: 1000\n",
            "Accessing index: 280\n",
            "Dataset type: <class 'datasets.arrow_dataset.Dataset'>\n",
            "Dataset length: 1000\n",
            "Accessing index: 655\n",
            "Dataset type: <class 'datasets.arrow_dataset.Dataset'>\n",
            "Dataset length: 1000\n",
            "Accessing index: 182\n",
            "Dataset type: <class 'datasets.arrow_dataset.Dataset'>\n",
            "Dataset length: 1000\n",
            "Accessing index: 629\n",
            "Dataset type: <class 'datasets.arrow_dataset.Dataset'>\n",
            "Dataset length: 1000\n"
          ]
        },
        {
          "output_type": "stream",
          "name": "stderr",
          "text": [
            "\r 26%|██▌       | 32/125 [07:26<21:47, 14.06s/it]"
          ]
        },
        {
          "output_type": "stream",
          "name": "stdout",
          "text": [
            "Accessing index: 324\n",
            "Dataset type: <class 'datasets.arrow_dataset.Dataset'>\n",
            "Dataset length: 1000\n",
            "Accessing index: 253\n",
            "Dataset type: <class 'datasets.arrow_dataset.Dataset'>\n",
            "Dataset length: 1000\n",
            "Accessing index: 853\n",
            "Dataset type: <class 'datasets.arrow_dataset.Dataset'>\n",
            "Dataset length: 1000\n",
            "Accessing index: 806\n",
            "Dataset type: <class 'datasets.arrow_dataset.Dataset'>\n",
            "Dataset length: 1000\n",
            "Accessing index: 677\n",
            "Dataset type: <class 'datasets.arrow_dataset.Dataset'>\n",
            "Dataset length: 1000\n",
            "Accessing index: 312\n",
            "Dataset type: <class 'datasets.arrow_dataset.Dataset'>\n",
            "Dataset length: 1000\n",
            "Accessing index: 58\n",
            "Dataset type: <class 'datasets.arrow_dataset.Dataset'>\n",
            "Dataset length: 1000\n",
            "Accessing index: 899\n",
            "Dataset type: <class 'datasets.arrow_dataset.Dataset'>\n",
            "Dataset length: 1000\n"
          ]
        },
        {
          "output_type": "stream",
          "name": "stderr",
          "text": [
            "\r 26%|██▋       | 33/125 [07:40<21:29, 14.01s/it]"
          ]
        },
        {
          "output_type": "stream",
          "name": "stdout",
          "text": [
            "Accessing index: 92\n",
            "Dataset type: <class 'datasets.arrow_dataset.Dataset'>\n",
            "Dataset length: 1000\n",
            "Accessing index: 274\n",
            "Dataset type: <class 'datasets.arrow_dataset.Dataset'>\n",
            "Dataset length: 1000\n",
            "Accessing index: 961\n",
            "Dataset type: <class 'datasets.arrow_dataset.Dataset'>\n",
            "Dataset length: 1000\n",
            "Accessing index: 930\n",
            "Dataset type: <class 'datasets.arrow_dataset.Dataset'>\n",
            "Dataset length: 1000\n",
            "Accessing index: 485\n",
            "Dataset type: <class 'datasets.arrow_dataset.Dataset'>\n",
            "Dataset length: 1000\n",
            "Accessing index: 327\n",
            "Dataset type: <class 'datasets.arrow_dataset.Dataset'>\n",
            "Dataset length: 1000\n",
            "Accessing index: 728\n",
            "Dataset type: <class 'datasets.arrow_dataset.Dataset'>\n",
            "Dataset length: 1000\n",
            "Accessing index: 564\n",
            "Dataset type: <class 'datasets.arrow_dataset.Dataset'>\n",
            "Dataset length: 1000\n"
          ]
        },
        {
          "output_type": "stream",
          "name": "stderr",
          "text": [
            "\r 27%|██▋       | 34/125 [07:54<21:10, 13.96s/it]"
          ]
        },
        {
          "output_type": "stream",
          "name": "stdout",
          "text": [
            "Accessing index: 423\n",
            "Dataset type: <class 'datasets.arrow_dataset.Dataset'>\n",
            "Dataset length: 1000\n",
            "Accessing index: 438\n",
            "Dataset type: <class 'datasets.arrow_dataset.Dataset'>\n",
            "Dataset length: 1000\n",
            "Accessing index: 68\n",
            "Dataset type: <class 'datasets.arrow_dataset.Dataset'>\n",
            "Dataset length: 1000\n",
            "Accessing index: 581\n",
            "Dataset type: <class 'datasets.arrow_dataset.Dataset'>\n",
            "Dataset length: 1000\n",
            "Accessing index: 144\n",
            "Dataset type: <class 'datasets.arrow_dataset.Dataset'>\n",
            "Dataset length: 1000\n",
            "Accessing index: 378\n",
            "Dataset type: <class 'datasets.arrow_dataset.Dataset'>\n",
            "Dataset length: 1000\n",
            "Accessing index: 834\n",
            "Dataset type: <class 'datasets.arrow_dataset.Dataset'>\n",
            "Dataset length: 1000\n",
            "Accessing index: 205\n",
            "Dataset type: <class 'datasets.arrow_dataset.Dataset'>\n",
            "Dataset length: 1000\n"
          ]
        },
        {
          "output_type": "stream",
          "name": "stderr",
          "text": [
            "\r 28%|██▊       | 35/125 [08:08<20:53, 13.93s/it]"
          ]
        },
        {
          "output_type": "stream",
          "name": "stdout",
          "text": [
            "Accessing index: 97\n",
            "Dataset type: <class 'datasets.arrow_dataset.Dataset'>\n",
            "Dataset length: 1000\n",
            "Accessing index: 209\n",
            "Dataset type: <class 'datasets.arrow_dataset.Dataset'>\n",
            "Dataset length: 1000\n",
            "Accessing index: 753\n",
            "Dataset type: <class 'datasets.arrow_dataset.Dataset'>\n",
            "Dataset length: 1000\n",
            "Accessing index: 452\n",
            "Dataset type: <class 'datasets.arrow_dataset.Dataset'>\n",
            "Dataset length: 1000\n",
            "Accessing index: 533\n",
            "Dataset type: <class 'datasets.arrow_dataset.Dataset'>\n",
            "Dataset length: 1000\n",
            "Accessing index: 45\n",
            "Dataset type: <class 'datasets.arrow_dataset.Dataset'>\n",
            "Dataset length: 1000\n",
            "Accessing index: 322\n",
            "Dataset type: <class 'datasets.arrow_dataset.Dataset'>\n",
            "Dataset length: 1000\n",
            "Accessing index: 511\n",
            "Dataset type: <class 'datasets.arrow_dataset.Dataset'>\n",
            "Dataset length: 1000\n"
          ]
        },
        {
          "output_type": "stream",
          "name": "stderr",
          "text": [
            "\r 29%|██▉       | 36/125 [08:22<20:36, 13.89s/it]"
          ]
        },
        {
          "output_type": "stream",
          "name": "stdout",
          "text": [
            "Accessing index: 689\n",
            "Dataset type: <class 'datasets.arrow_dataset.Dataset'>\n",
            "Dataset length: 1000\n",
            "Accessing index: 578\n",
            "Dataset type: <class 'datasets.arrow_dataset.Dataset'>\n",
            "Dataset length: 1000\n",
            "Accessing index: 822\n",
            "Dataset type: <class 'datasets.arrow_dataset.Dataset'>\n",
            "Dataset length: 1000\n",
            "Accessing index: 807\n",
            "Dataset type: <class 'datasets.arrow_dataset.Dataset'>\n",
            "Dataset length: 1000\n",
            "Accessing index: 320\n",
            "Dataset type: <class 'datasets.arrow_dataset.Dataset'>\n",
            "Dataset length: 1000\n",
            "Accessing index: 618\n",
            "Dataset type: <class 'datasets.arrow_dataset.Dataset'>\n",
            "Dataset length: 1000\n",
            "Accessing index: 311\n",
            "Dataset type: <class 'datasets.arrow_dataset.Dataset'>\n",
            "Dataset length: 1000\n",
            "Accessing index: 550\n",
            "Dataset type: <class 'datasets.arrow_dataset.Dataset'>\n",
            "Dataset length: 1000\n"
          ]
        },
        {
          "output_type": "stream",
          "name": "stderr",
          "text": [
            "\r 30%|██▉       | 37/125 [08:35<20:20, 13.87s/it]"
          ]
        },
        {
          "output_type": "stream",
          "name": "stdout",
          "text": [
            "Accessing index: 106\n",
            "Dataset type: <class 'datasets.arrow_dataset.Dataset'>\n",
            "Dataset length: 1000\n",
            "Accessing index: 598\n",
            "Dataset type: <class 'datasets.arrow_dataset.Dataset'>\n",
            "Dataset length: 1000\n",
            "Accessing index: 148\n",
            "Dataset type: <class 'datasets.arrow_dataset.Dataset'>\n",
            "Dataset length: 1000\n",
            "Accessing index: 463\n",
            "Dataset type: <class 'datasets.arrow_dataset.Dataset'>\n",
            "Dataset length: 1000\n",
            "Accessing index: 915\n",
            "Dataset type: <class 'datasets.arrow_dataset.Dataset'>\n",
            "Dataset length: 1000\n",
            "Accessing index: 317\n",
            "Dataset type: <class 'datasets.arrow_dataset.Dataset'>\n",
            "Dataset length: 1000\n",
            "Accessing index: 585\n",
            "Dataset type: <class 'datasets.arrow_dataset.Dataset'>\n",
            "Dataset length: 1000\n",
            "Accessing index: 371\n",
            "Dataset type: <class 'datasets.arrow_dataset.Dataset'>\n",
            "Dataset length: 1000\n"
          ]
        },
        {
          "output_type": "stream",
          "name": "stderr",
          "text": [
            "\r 30%|███       | 38/125 [08:49<20:03, 13.84s/it]"
          ]
        },
        {
          "output_type": "stream",
          "name": "stdout",
          "text": [
            "Accessing index: 555\n",
            "Dataset type: <class 'datasets.arrow_dataset.Dataset'>\n",
            "Dataset length: 1000\n",
            "Accessing index: 978\n",
            "Dataset type: <class 'datasets.arrow_dataset.Dataset'>\n",
            "Dataset length: 1000\n",
            "Accessing index: 847\n",
            "Dataset type: <class 'datasets.arrow_dataset.Dataset'>\n",
            "Dataset length: 1000\n",
            "Accessing index: 394\n",
            "Dataset type: <class 'datasets.arrow_dataset.Dataset'>\n",
            "Dataset length: 1000\n",
            "Accessing index: 754\n",
            "Dataset type: <class 'datasets.arrow_dataset.Dataset'>\n",
            "Dataset length: 1000\n",
            "Accessing index: 379\n",
            "Dataset type: <class 'datasets.arrow_dataset.Dataset'>\n",
            "Dataset length: 1000\n",
            "Accessing index: 314\n",
            "Dataset type: <class 'datasets.arrow_dataset.Dataset'>\n",
            "Dataset length: 1000\n",
            "Accessing index: 857\n",
            "Dataset type: <class 'datasets.arrow_dataset.Dataset'>\n",
            "Dataset length: 1000\n"
          ]
        },
        {
          "output_type": "stream",
          "name": "stderr",
          "text": [
            "\r 31%|███       | 39/125 [09:04<20:07, 14.03s/it]"
          ]
        },
        {
          "output_type": "stream",
          "name": "stdout",
          "text": [
            "Accessing index: 239\n",
            "Dataset type: <class 'datasets.arrow_dataset.Dataset'>\n",
            "Dataset length: 1000\n",
            "Accessing index: 943\n",
            "Dataset type: <class 'datasets.arrow_dataset.Dataset'>\n",
            "Dataset length: 1000\n",
            "Accessing index: 982\n",
            "Dataset type: <class 'datasets.arrow_dataset.Dataset'>\n",
            "Dataset length: 1000\n",
            "Accessing index: 395\n",
            "Dataset type: <class 'datasets.arrow_dataset.Dataset'>\n",
            "Dataset length: 1000\n",
            "Accessing index: 114\n",
            "Dataset type: <class 'datasets.arrow_dataset.Dataset'>\n",
            "Dataset length: 1000\n",
            "Accessing index: 532\n",
            "Dataset type: <class 'datasets.arrow_dataset.Dataset'>\n",
            "Dataset length: 1000\n",
            "Accessing index: 575\n",
            "Dataset type: <class 'datasets.arrow_dataset.Dataset'>\n",
            "Dataset length: 1000\n",
            "Accessing index: 729\n",
            "Dataset type: <class 'datasets.arrow_dataset.Dataset'>\n",
            "Dataset length: 1000\n"
          ]
        },
        {
          "output_type": "stream",
          "name": "stderr",
          "text": [
            "\r 32%|███▏      | 40/125 [09:18<19:53, 14.04s/it]"
          ]
        },
        {
          "output_type": "stream",
          "name": "stdout",
          "text": [
            "Accessing index: 51\n",
            "Dataset type: <class 'datasets.arrow_dataset.Dataset'>\n",
            "Dataset length: 1000\n",
            "Accessing index: 809\n",
            "Dataset type: <class 'datasets.arrow_dataset.Dataset'>\n",
            "Dataset length: 1000\n",
            "Accessing index: 592\n",
            "Dataset type: <class 'datasets.arrow_dataset.Dataset'>\n",
            "Dataset length: 1000\n",
            "Accessing index: 818\n",
            "Dataset type: <class 'datasets.arrow_dataset.Dataset'>\n",
            "Dataset length: 1000\n",
            "Accessing index: 510\n",
            "Dataset type: <class 'datasets.arrow_dataset.Dataset'>\n",
            "Dataset length: 1000\n",
            "Accessing index: 377\n",
            "Dataset type: <class 'datasets.arrow_dataset.Dataset'>\n",
            "Dataset length: 1000\n",
            "Accessing index: 421\n",
            "Dataset type: <class 'datasets.arrow_dataset.Dataset'>\n",
            "Dataset length: 1000\n",
            "Accessing index: 191\n",
            "Dataset type: <class 'datasets.arrow_dataset.Dataset'>\n",
            "Dataset length: 1000\n"
          ]
        },
        {
          "output_type": "stream",
          "name": "stderr",
          "text": [
            "\r 33%|███▎      | 41/125 [09:32<19:36, 14.00s/it]"
          ]
        },
        {
          "output_type": "stream",
          "name": "stdout",
          "text": [
            "Accessing index: 238\n",
            "Dataset type: <class 'datasets.arrow_dataset.Dataset'>\n",
            "Dataset length: 1000\n",
            "Accessing index: 22\n",
            "Dataset type: <class 'datasets.arrow_dataset.Dataset'>\n",
            "Dataset length: 1000\n",
            "Accessing index: 942\n",
            "Dataset type: <class 'datasets.arrow_dataset.Dataset'>\n",
            "Dataset length: 1000\n",
            "Accessing index: 606\n",
            "Dataset type: <class 'datasets.arrow_dataset.Dataset'>\n",
            "Dataset length: 1000\n",
            "Accessing index: 259\n",
            "Dataset type: <class 'datasets.arrow_dataset.Dataset'>\n",
            "Dataset length: 1000\n",
            "Accessing index: 738\n",
            "Dataset type: <class 'datasets.arrow_dataset.Dataset'>\n",
            "Dataset length: 1000\n",
            "Accessing index: 224\n",
            "Dataset type: <class 'datasets.arrow_dataset.Dataset'>\n",
            "Dataset length: 1000\n",
            "Accessing index: 897\n",
            "Dataset type: <class 'datasets.arrow_dataset.Dataset'>\n",
            "Dataset length: 1000\n"
          ]
        },
        {
          "output_type": "stream",
          "name": "stderr",
          "text": [
            "\r 34%|███▎      | 42/125 [09:45<19:17, 13.94s/it]"
          ]
        },
        {
          "output_type": "stream",
          "name": "stdout",
          "text": [
            "Accessing index: 289\n",
            "Dataset type: <class 'datasets.arrow_dataset.Dataset'>\n",
            "Dataset length: 1000\n",
            "Accessing index: 21\n",
            "Dataset type: <class 'datasets.arrow_dataset.Dataset'>\n",
            "Dataset length: 1000\n",
            "Accessing index: 487\n",
            "Dataset type: <class 'datasets.arrow_dataset.Dataset'>\n",
            "Dataset length: 1000\n",
            "Accessing index: 412\n",
            "Dataset type: <class 'datasets.arrow_dataset.Dataset'>\n",
            "Dataset length: 1000\n",
            "Accessing index: 413\n",
            "Dataset type: <class 'datasets.arrow_dataset.Dataset'>\n",
            "Dataset length: 1000\n",
            "Accessing index: 227\n",
            "Dataset type: <class 'datasets.arrow_dataset.Dataset'>\n",
            "Dataset length: 1000\n",
            "Accessing index: 267\n",
            "Dataset type: <class 'datasets.arrow_dataset.Dataset'>\n",
            "Dataset length: 1000\n",
            "Accessing index: 780\n",
            "Dataset type: <class 'datasets.arrow_dataset.Dataset'>\n",
            "Dataset length: 1000\n"
          ]
        },
        {
          "output_type": "stream",
          "name": "stderr",
          "text": [
            "\r 34%|███▍      | 43/125 [09:59<19:00, 13.91s/it]"
          ]
        },
        {
          "output_type": "stream",
          "name": "stdout",
          "text": [
            "Accessing index: 793\n",
            "Dataset type: <class 'datasets.arrow_dataset.Dataset'>\n",
            "Dataset length: 1000\n",
            "Accessing index: 619\n",
            "Dataset type: <class 'datasets.arrow_dataset.Dataset'>\n",
            "Dataset length: 1000\n",
            "Accessing index: 247\n",
            "Dataset type: <class 'datasets.arrow_dataset.Dataset'>\n",
            "Dataset length: 1000\n",
            "Accessing index: 571\n",
            "Dataset type: <class 'datasets.arrow_dataset.Dataset'>\n",
            "Dataset length: 1000\n",
            "Accessing index: 819\n",
            "Dataset type: <class 'datasets.arrow_dataset.Dataset'>\n",
            "Dataset length: 1000\n",
            "Accessing index: 869\n",
            "Dataset type: <class 'datasets.arrow_dataset.Dataset'>\n",
            "Dataset length: 1000\n",
            "Accessing index: 622\n",
            "Dataset type: <class 'datasets.arrow_dataset.Dataset'>\n",
            "Dataset length: 1000\n",
            "Accessing index: 131\n",
            "Dataset type: <class 'datasets.arrow_dataset.Dataset'>\n",
            "Dataset length: 1000\n"
          ]
        },
        {
          "output_type": "stream",
          "name": "stderr",
          "text": [
            "\r 35%|███▌      | 44/125 [10:13<18:44, 13.89s/it]"
          ]
        },
        {
          "output_type": "stream",
          "name": "stdout",
          "text": [
            "Accessing index: 458\n",
            "Dataset type: <class 'datasets.arrow_dataset.Dataset'>\n",
            "Dataset length: 1000\n",
            "Accessing index: 737\n",
            "Dataset type: <class 'datasets.arrow_dataset.Dataset'>\n",
            "Dataset length: 1000\n",
            "Accessing index: 824\n",
            "Dataset type: <class 'datasets.arrow_dataset.Dataset'>\n",
            "Dataset length: 1000\n",
            "Accessing index: 44\n",
            "Dataset type: <class 'datasets.arrow_dataset.Dataset'>\n",
            "Dataset length: 1000\n",
            "Accessing index: 682\n",
            "Dataset type: <class 'datasets.arrow_dataset.Dataset'>\n",
            "Dataset length: 1000\n",
            "Accessing index: 217\n",
            "Dataset type: <class 'datasets.arrow_dataset.Dataset'>\n",
            "Dataset length: 1000\n",
            "Accessing index: 663\n",
            "Dataset type: <class 'datasets.arrow_dataset.Dataset'>\n",
            "Dataset length: 1000\n",
            "Accessing index: 609\n",
            "Dataset type: <class 'datasets.arrow_dataset.Dataset'>\n",
            "Dataset length: 1000\n"
          ]
        },
        {
          "output_type": "stream",
          "name": "stderr",
          "text": [
            "\r 36%|███▌      | 45/125 [10:27<18:30, 13.88s/it]"
          ]
        },
        {
          "output_type": "stream",
          "name": "stdout",
          "text": [
            "Accessing index: 850\n",
            "Dataset type: <class 'datasets.arrow_dataset.Dataset'>\n",
            "Dataset length: 1000\n",
            "Accessing index: 817\n",
            "Dataset type: <class 'datasets.arrow_dataset.Dataset'>\n",
            "Dataset length: 1000\n",
            "Accessing index: 310\n",
            "Dataset type: <class 'datasets.arrow_dataset.Dataset'>\n",
            "Dataset length: 1000\n",
            "Accessing index: 468\n",
            "Dataset type: <class 'datasets.arrow_dataset.Dataset'>\n",
            "Dataset length: 1000\n",
            "Accessing index: 764\n",
            "Dataset type: <class 'datasets.arrow_dataset.Dataset'>\n",
            "Dataset length: 1000\n",
            "Accessing index: 645\n",
            "Dataset type: <class 'datasets.arrow_dataset.Dataset'>\n",
            "Dataset length: 1000\n",
            "Accessing index: 792\n",
            "Dataset type: <class 'datasets.arrow_dataset.Dataset'>\n",
            "Dataset length: 1000\n",
            "Accessing index: 201\n",
            "Dataset type: <class 'datasets.arrow_dataset.Dataset'>\n",
            "Dataset length: 1000\n"
          ]
        },
        {
          "output_type": "stream",
          "name": "stderr",
          "text": [
            "\r 37%|███▋      | 46/125 [10:41<18:14, 13.86s/it]"
          ]
        },
        {
          "output_type": "stream",
          "name": "stdout",
          "text": [
            "Accessing index: 692\n",
            "Dataset type: <class 'datasets.arrow_dataset.Dataset'>\n",
            "Dataset length: 1000\n",
            "Accessing index: 706\n",
            "Dataset type: <class 'datasets.arrow_dataset.Dataset'>\n",
            "Dataset length: 1000\n",
            "Accessing index: 507\n",
            "Dataset type: <class 'datasets.arrow_dataset.Dataset'>\n",
            "Dataset length: 1000\n",
            "Accessing index: 325\n",
            "Dataset type: <class 'datasets.arrow_dataset.Dataset'>\n",
            "Dataset length: 1000\n",
            "Accessing index: 52\n",
            "Dataset type: <class 'datasets.arrow_dataset.Dataset'>\n",
            "Dataset length: 1000\n",
            "Accessing index: 285\n",
            "Dataset type: <class 'datasets.arrow_dataset.Dataset'>\n",
            "Dataset length: 1000\n",
            "Accessing index: 765\n",
            "Dataset type: <class 'datasets.arrow_dataset.Dataset'>\n",
            "Dataset length: 1000\n",
            "Accessing index: 878\n",
            "Dataset type: <class 'datasets.arrow_dataset.Dataset'>\n",
            "Dataset length: 1000\n"
          ]
        },
        {
          "output_type": "stream",
          "name": "stderr",
          "text": [
            "\r 38%|███▊      | 47/125 [10:55<17:59, 13.83s/it]"
          ]
        },
        {
          "output_type": "stream",
          "name": "stdout",
          "text": [
            "Accessing index: 704\n",
            "Dataset type: <class 'datasets.arrow_dataset.Dataset'>\n",
            "Dataset length: 1000\n",
            "Accessing index: 880\n",
            "Dataset type: <class 'datasets.arrow_dataset.Dataset'>\n",
            "Dataset length: 1000\n",
            "Accessing index: 173\n",
            "Dataset type: <class 'datasets.arrow_dataset.Dataset'>\n",
            "Dataset length: 1000\n",
            "Accessing index: 734\n",
            "Dataset type: <class 'datasets.arrow_dataset.Dataset'>\n",
            "Dataset length: 1000\n",
            "Accessing index: 190\n",
            "Dataset type: <class 'datasets.arrow_dataset.Dataset'>\n",
            "Dataset length: 1000\n",
            "Accessing index: 356\n",
            "Dataset type: <class 'datasets.arrow_dataset.Dataset'>\n",
            "Dataset length: 1000\n",
            "Accessing index: 866\n",
            "Dataset type: <class 'datasets.arrow_dataset.Dataset'>\n",
            "Dataset length: 1000\n",
            "Accessing index: 386\n",
            "Dataset type: <class 'datasets.arrow_dataset.Dataset'>\n",
            "Dataset length: 1000\n"
          ]
        },
        {
          "output_type": "stream",
          "name": "stderr",
          "text": [
            "\r 38%|███▊      | 48/125 [11:09<17:55, 13.97s/it]"
          ]
        },
        {
          "output_type": "stream",
          "name": "stdout",
          "text": [
            "Accessing index: 360\n",
            "Dataset type: <class 'datasets.arrow_dataset.Dataset'>\n",
            "Dataset length: 1000\n",
            "Accessing index: 929\n",
            "Dataset type: <class 'datasets.arrow_dataset.Dataset'>\n",
            "Dataset length: 1000\n",
            "Accessing index: 382\n",
            "Dataset type: <class 'datasets.arrow_dataset.Dataset'>\n",
            "Dataset length: 1000\n",
            "Accessing index: 60\n",
            "Dataset type: <class 'datasets.arrow_dataset.Dataset'>\n",
            "Dataset length: 1000\n",
            "Accessing index: 10\n",
            "Dataset type: <class 'datasets.arrow_dataset.Dataset'>\n",
            "Dataset length: 1000\n",
            "Accessing index: 492\n",
            "Dataset type: <class 'datasets.arrow_dataset.Dataset'>\n",
            "Dataset length: 1000\n",
            "Accessing index: 340\n",
            "Dataset type: <class 'datasets.arrow_dataset.Dataset'>\n",
            "Dataset length: 1000\n",
            "Accessing index: 233\n",
            "Dataset type: <class 'datasets.arrow_dataset.Dataset'>\n",
            "Dataset length: 1000\n"
          ]
        },
        {
          "output_type": "stream",
          "name": "stderr",
          "text": [
            "\r 39%|███▉      | 49/125 [11:23<17:50, 14.08s/it]"
          ]
        },
        {
          "output_type": "stream",
          "name": "stdout",
          "text": [
            "Accessing index: 701\n",
            "Dataset type: <class 'datasets.arrow_dataset.Dataset'>\n",
            "Dataset length: 1000\n",
            "Accessing index: 294\n",
            "Dataset type: <class 'datasets.arrow_dataset.Dataset'>\n",
            "Dataset length: 1000\n",
            "Accessing index: 390\n",
            "Dataset type: <class 'datasets.arrow_dataset.Dataset'>\n",
            "Dataset length: 1000\n",
            "Accessing index: 486\n",
            "Dataset type: <class 'datasets.arrow_dataset.Dataset'>\n",
            "Dataset length: 1000\n",
            "Accessing index: 251\n",
            "Dataset type: <class 'datasets.arrow_dataset.Dataset'>\n",
            "Dataset length: 1000\n",
            "Accessing index: 838\n",
            "Dataset type: <class 'datasets.arrow_dataset.Dataset'>\n",
            "Dataset length: 1000\n",
            "Accessing index: 891\n",
            "Dataset type: <class 'datasets.arrow_dataset.Dataset'>\n",
            "Dataset length: 1000\n",
            "Accessing index: 755\n",
            "Dataset type: <class 'datasets.arrow_dataset.Dataset'>\n",
            "Dataset length: 1000\n"
          ]
        },
        {
          "output_type": "stream",
          "name": "stderr",
          "text": [
            "\r 40%|████      | 50/125 [11:37<17:32, 14.03s/it]"
          ]
        },
        {
          "output_type": "stream",
          "name": "stdout",
          "text": [
            "Accessing index: 743\n",
            "Dataset type: <class 'datasets.arrow_dataset.Dataset'>\n",
            "Dataset length: 1000\n",
            "Accessing index: 119\n",
            "Dataset type: <class 'datasets.arrow_dataset.Dataset'>\n",
            "Dataset length: 1000\n",
            "Accessing index: 937\n",
            "Dataset type: <class 'datasets.arrow_dataset.Dataset'>\n",
            "Dataset length: 1000\n",
            "Accessing index: 479\n",
            "Dataset type: <class 'datasets.arrow_dataset.Dataset'>\n",
            "Dataset length: 1000\n",
            "Accessing index: 124\n",
            "Dataset type: <class 'datasets.arrow_dataset.Dataset'>\n",
            "Dataset length: 1000\n",
            "Accessing index: 109\n",
            "Dataset type: <class 'datasets.arrow_dataset.Dataset'>\n",
            "Dataset length: 1000\n",
            "Accessing index: 535\n",
            "Dataset type: <class 'datasets.arrow_dataset.Dataset'>\n",
            "Dataset length: 1000\n",
            "Accessing index: 146\n",
            "Dataset type: <class 'datasets.arrow_dataset.Dataset'>\n",
            "Dataset length: 1000\n"
          ]
        },
        {
          "output_type": "stream",
          "name": "stderr",
          "text": [
            "\r 41%|████      | 51/125 [11:51<17:12, 13.96s/it]"
          ]
        },
        {
          "output_type": "stream",
          "name": "stdout",
          "text": [
            "Accessing index: 288\n",
            "Dataset type: <class 'datasets.arrow_dataset.Dataset'>\n",
            "Dataset length: 1000\n",
            "Accessing index: 601\n",
            "Dataset type: <class 'datasets.arrow_dataset.Dataset'>\n",
            "Dataset length: 1000\n",
            "Accessing index: 208\n",
            "Dataset type: <class 'datasets.arrow_dataset.Dataset'>\n",
            "Dataset length: 1000\n",
            "Accessing index: 589\n",
            "Dataset type: <class 'datasets.arrow_dataset.Dataset'>\n",
            "Dataset length: 1000\n",
            "Accessing index: 965\n",
            "Dataset type: <class 'datasets.arrow_dataset.Dataset'>\n",
            "Dataset length: 1000\n",
            "Accessing index: 64\n",
            "Dataset type: <class 'datasets.arrow_dataset.Dataset'>\n",
            "Dataset length: 1000\n",
            "Accessing index: 800\n",
            "Dataset type: <class 'datasets.arrow_dataset.Dataset'>\n",
            "Dataset length: 1000\n",
            "Accessing index: 638\n",
            "Dataset type: <class 'datasets.arrow_dataset.Dataset'>\n",
            "Dataset length: 1000\n"
          ]
        },
        {
          "output_type": "stream",
          "name": "stderr",
          "text": [
            "\r 42%|████▏     | 52/125 [12:05<16:59, 13.96s/it]"
          ]
        },
        {
          "output_type": "stream",
          "name": "stdout",
          "text": [
            "Accessing index: 337\n",
            "Dataset type: <class 'datasets.arrow_dataset.Dataset'>\n",
            "Dataset length: 1000\n",
            "Accessing index: 979\n",
            "Dataset type: <class 'datasets.arrow_dataset.Dataset'>\n",
            "Dataset length: 1000\n",
            "Accessing index: 299\n",
            "Dataset type: <class 'datasets.arrow_dataset.Dataset'>\n",
            "Dataset length: 1000\n",
            "Accessing index: 235\n",
            "Dataset type: <class 'datasets.arrow_dataset.Dataset'>\n",
            "Dataset length: 1000\n",
            "Accessing index: 230\n",
            "Dataset type: <class 'datasets.arrow_dataset.Dataset'>\n",
            "Dataset length: 1000\n",
            "Accessing index: 252\n",
            "Dataset type: <class 'datasets.arrow_dataset.Dataset'>\n",
            "Dataset length: 1000\n",
            "Accessing index: 389\n",
            "Dataset type: <class 'datasets.arrow_dataset.Dataset'>\n",
            "Dataset length: 1000\n",
            "Accessing index: 172\n",
            "Dataset type: <class 'datasets.arrow_dataset.Dataset'>\n",
            "Dataset length: 1000\n"
          ]
        },
        {
          "output_type": "stream",
          "name": "stderr",
          "text": [
            "\r 42%|████▏     | 53/125 [12:19<16:42, 13.92s/it]"
          ]
        },
        {
          "output_type": "stream",
          "name": "stdout",
          "text": [
            "Accessing index: 955\n",
            "Dataset type: <class 'datasets.arrow_dataset.Dataset'>\n",
            "Dataset length: 1000\n",
            "Accessing index: 945\n",
            "Dataset type: <class 'datasets.arrow_dataset.Dataset'>\n",
            "Dataset length: 1000\n",
            "Accessing index: 2\n",
            "Dataset type: <class 'datasets.arrow_dataset.Dataset'>\n",
            "Dataset length: 1000\n",
            "Accessing index: 713\n",
            "Dataset type: <class 'datasets.arrow_dataset.Dataset'>\n",
            "Dataset length: 1000\n",
            "Accessing index: 872\n",
            "Dataset type: <class 'datasets.arrow_dataset.Dataset'>\n",
            "Dataset length: 1000\n",
            "Accessing index: 508\n",
            "Dataset type: <class 'datasets.arrow_dataset.Dataset'>\n",
            "Dataset length: 1000\n",
            "Accessing index: 302\n",
            "Dataset type: <class 'datasets.arrow_dataset.Dataset'>\n",
            "Dataset length: 1000\n",
            "Accessing index: 569\n",
            "Dataset type: <class 'datasets.arrow_dataset.Dataset'>\n",
            "Dataset length: 1000\n"
          ]
        },
        {
          "output_type": "stream",
          "name": "stderr",
          "text": [
            "\r 43%|████▎     | 54/125 [12:33<16:27, 13.90s/it]"
          ]
        },
        {
          "output_type": "stream",
          "name": "stdout",
          "text": [
            "Accessing index: 23\n",
            "Dataset type: <class 'datasets.arrow_dataset.Dataset'>\n",
            "Dataset length: 1000\n",
            "Accessing index: 774\n",
            "Dataset type: <class 'datasets.arrow_dataset.Dataset'>\n",
            "Dataset length: 1000\n",
            "Accessing index: 117\n",
            "Dataset type: <class 'datasets.arrow_dataset.Dataset'>\n",
            "Dataset length: 1000\n",
            "Accessing index: 107\n",
            "Dataset type: <class 'datasets.arrow_dataset.Dataset'>\n",
            "Dataset length: 1000\n",
            "Accessing index: 143\n",
            "Dataset type: <class 'datasets.arrow_dataset.Dataset'>\n",
            "Dataset length: 1000\n",
            "Accessing index: 333\n",
            "Dataset type: <class 'datasets.arrow_dataset.Dataset'>\n",
            "Dataset length: 1000\n",
            "Accessing index: 161\n",
            "Dataset type: <class 'datasets.arrow_dataset.Dataset'>\n",
            "Dataset length: 1000\n",
            "Accessing index: 152\n",
            "Dataset type: <class 'datasets.arrow_dataset.Dataset'>\n",
            "Dataset length: 1000\n"
          ]
        },
        {
          "output_type": "stream",
          "name": "stderr",
          "text": [
            "\r 44%|████▍     | 55/125 [12:46<16:11, 13.88s/it]"
          ]
        },
        {
          "output_type": "stream",
          "name": "stdout",
          "text": [
            "Accessing index: 871\n",
            "Dataset type: <class 'datasets.arrow_dataset.Dataset'>\n",
            "Dataset length: 1000\n",
            "Accessing index: 557\n",
            "Dataset type: <class 'datasets.arrow_dataset.Dataset'>\n",
            "Dataset length: 1000\n",
            "Accessing index: 903\n",
            "Dataset type: <class 'datasets.arrow_dataset.Dataset'>\n",
            "Dataset length: 1000\n",
            "Accessing index: 31\n",
            "Dataset type: <class 'datasets.arrow_dataset.Dataset'>\n",
            "Dataset length: 1000\n",
            "Accessing index: 375\n",
            "Dataset type: <class 'datasets.arrow_dataset.Dataset'>\n",
            "Dataset length: 1000\n",
            "Accessing index: 362\n",
            "Dataset type: <class 'datasets.arrow_dataset.Dataset'>\n",
            "Dataset length: 1000\n",
            "Accessing index: 414\n",
            "Dataset type: <class 'datasets.arrow_dataset.Dataset'>\n",
            "Dataset length: 1000\n",
            "Accessing index: 939\n",
            "Dataset type: <class 'datasets.arrow_dataset.Dataset'>\n",
            "Dataset length: 1000\n"
          ]
        },
        {
          "output_type": "stream",
          "name": "stderr",
          "text": [
            "\r 45%|████▍     | 56/125 [13:00<15:56, 13.86s/it]"
          ]
        },
        {
          "output_type": "stream",
          "name": "stdout",
          "text": [
            "Accessing index: 665\n",
            "Dataset type: <class 'datasets.arrow_dataset.Dataset'>\n",
            "Dataset length: 1000\n",
            "Accessing index: 661\n",
            "Dataset type: <class 'datasets.arrow_dataset.Dataset'>\n",
            "Dataset length: 1000\n",
            "Accessing index: 786\n",
            "Dataset type: <class 'datasets.arrow_dataset.Dataset'>\n",
            "Dataset length: 1000\n",
            "Accessing index: 958\n",
            "Dataset type: <class 'datasets.arrow_dataset.Dataset'>\n",
            "Dataset length: 1000\n",
            "Accessing index: 567\n",
            "Dataset type: <class 'datasets.arrow_dataset.Dataset'>\n",
            "Dataset length: 1000\n",
            "Accessing index: 667\n",
            "Dataset type: <class 'datasets.arrow_dataset.Dataset'>\n",
            "Dataset length: 1000\n",
            "Accessing index: 432\n",
            "Dataset type: <class 'datasets.arrow_dataset.Dataset'>\n",
            "Dataset length: 1000\n",
            "Accessing index: 732\n",
            "Dataset type: <class 'datasets.arrow_dataset.Dataset'>\n",
            "Dataset length: 1000\n"
          ]
        },
        {
          "output_type": "stream",
          "name": "stderr",
          "text": [
            "\r 46%|████▌     | 57/125 [13:14<15:46, 13.92s/it]"
          ]
        },
        {
          "output_type": "stream",
          "name": "stdout",
          "text": [
            "Accessing index: 442\n",
            "Dataset type: <class 'datasets.arrow_dataset.Dataset'>\n",
            "Dataset length: 1000\n",
            "Accessing index: 38\n",
            "Dataset type: <class 'datasets.arrow_dataset.Dataset'>\n",
            "Dataset length: 1000\n",
            "Accessing index: 296\n",
            "Dataset type: <class 'datasets.arrow_dataset.Dataset'>\n",
            "Dataset length: 1000\n",
            "Accessing index: 400\n",
            "Dataset type: <class 'datasets.arrow_dataset.Dataset'>\n",
            "Dataset length: 1000\n",
            "Accessing index: 946\n",
            "Dataset type: <class 'datasets.arrow_dataset.Dataset'>\n",
            "Dataset length: 1000\n",
            "Accessing index: 189\n",
            "Dataset type: <class 'datasets.arrow_dataset.Dataset'>\n",
            "Dataset length: 1000\n",
            "Accessing index: 306\n",
            "Dataset type: <class 'datasets.arrow_dataset.Dataset'>\n",
            "Dataset length: 1000\n",
            "Accessing index: 484\n",
            "Dataset type: <class 'datasets.arrow_dataset.Dataset'>\n",
            "Dataset length: 1000\n"
          ]
        },
        {
          "output_type": "stream",
          "name": "stderr",
          "text": [
            "\r 46%|████▋     | 58/125 [13:29<15:42, 14.06s/it]"
          ]
        },
        {
          "output_type": "stream",
          "name": "stdout",
          "text": [
            "Accessing index: 920\n",
            "Dataset type: <class 'datasets.arrow_dataset.Dataset'>\n",
            "Dataset length: 1000\n",
            "Accessing index: 165\n",
            "Dataset type: <class 'datasets.arrow_dataset.Dataset'>\n",
            "Dataset length: 1000\n",
            "Accessing index: 435\n",
            "Dataset type: <class 'datasets.arrow_dataset.Dataset'>\n",
            "Dataset length: 1000\n",
            "Accessing index: 154\n",
            "Dataset type: <class 'datasets.arrow_dataset.Dataset'>\n",
            "Dataset length: 1000\n",
            "Accessing index: 260\n",
            "Dataset type: <class 'datasets.arrow_dataset.Dataset'>\n",
            "Dataset length: 1000\n",
            "Accessing index: 658\n",
            "Dataset type: <class 'datasets.arrow_dataset.Dataset'>\n",
            "Dataset length: 1000\n",
            "Accessing index: 821\n",
            "Dataset type: <class 'datasets.arrow_dataset.Dataset'>\n",
            "Dataset length: 1000\n",
            "Accessing index: 798\n",
            "Dataset type: <class 'datasets.arrow_dataset.Dataset'>\n",
            "Dataset length: 1000\n"
          ]
        },
        {
          "output_type": "stream",
          "name": "stderr",
          "text": [
            "\r 47%|████▋     | 59/125 [13:42<15:23, 13.99s/it]"
          ]
        },
        {
          "output_type": "stream",
          "name": "stdout",
          "text": [
            "Accessing index: 795\n",
            "Dataset type: <class 'datasets.arrow_dataset.Dataset'>\n",
            "Dataset length: 1000\n",
            "Accessing index: 387\n",
            "Dataset type: <class 'datasets.arrow_dataset.Dataset'>\n",
            "Dataset length: 1000\n",
            "Accessing index: 101\n",
            "Dataset type: <class 'datasets.arrow_dataset.Dataset'>\n",
            "Dataset length: 1000\n",
            "Accessing index: 586\n",
            "Dataset type: <class 'datasets.arrow_dataset.Dataset'>\n",
            "Dataset length: 1000\n",
            "Accessing index: 983\n",
            "Dataset type: <class 'datasets.arrow_dataset.Dataset'>\n",
            "Dataset length: 1000\n",
            "Accessing index: 984\n",
            "Dataset type: <class 'datasets.arrow_dataset.Dataset'>\n",
            "Dataset length: 1000\n",
            "Accessing index: 808\n",
            "Dataset type: <class 'datasets.arrow_dataset.Dataset'>\n",
            "Dataset length: 1000\n",
            "Accessing index: 71\n",
            "Dataset type: <class 'datasets.arrow_dataset.Dataset'>\n",
            "Dataset length: 1000\n"
          ]
        },
        {
          "output_type": "stream",
          "name": "stderr",
          "text": [
            "\r 48%|████▊     | 60/125 [13:56<15:05, 13.93s/it]"
          ]
        },
        {
          "output_type": "stream",
          "name": "stdout",
          "text": [
            "Accessing index: 987\n",
            "Dataset type: <class 'datasets.arrow_dataset.Dataset'>\n",
            "Dataset length: 1000\n",
            "Accessing index: 396\n",
            "Dataset type: <class 'datasets.arrow_dataset.Dataset'>\n",
            "Dataset length: 1000\n",
            "Accessing index: 48\n",
            "Dataset type: <class 'datasets.arrow_dataset.Dataset'>\n",
            "Dataset length: 1000\n",
            "Accessing index: 799\n",
            "Dataset type: <class 'datasets.arrow_dataset.Dataset'>\n",
            "Dataset length: 1000\n",
            "Accessing index: 674\n",
            "Dataset type: <class 'datasets.arrow_dataset.Dataset'>\n",
            "Dataset length: 1000\n",
            "Accessing index: 603\n",
            "Dataset type: <class 'datasets.arrow_dataset.Dataset'>\n",
            "Dataset length: 1000\n",
            "Accessing index: 654\n",
            "Dataset type: <class 'datasets.arrow_dataset.Dataset'>\n",
            "Dataset length: 1000\n",
            "Accessing index: 835\n",
            "Dataset type: <class 'datasets.arrow_dataset.Dataset'>\n",
            "Dataset length: 1000\n"
          ]
        },
        {
          "output_type": "stream",
          "name": "stderr",
          "text": [
            "\r 49%|████▉     | 61/125 [14:10<14:51, 13.93s/it]"
          ]
        },
        {
          "output_type": "stream",
          "name": "stdout",
          "text": [
            "Accessing index: 526\n",
            "Dataset type: <class 'datasets.arrow_dataset.Dataset'>\n",
            "Dataset length: 1000\n",
            "Accessing index: 568\n",
            "Dataset type: <class 'datasets.arrow_dataset.Dataset'>\n",
            "Dataset length: 1000\n",
            "Accessing index: 212\n",
            "Dataset type: <class 'datasets.arrow_dataset.Dataset'>\n",
            "Dataset length: 1000\n",
            "Accessing index: 174\n",
            "Dataset type: <class 'datasets.arrow_dataset.Dataset'>\n",
            "Dataset length: 1000\n",
            "Accessing index: 335\n",
            "Dataset type: <class 'datasets.arrow_dataset.Dataset'>\n",
            "Dataset length: 1000\n",
            "Accessing index: 11\n",
            "Dataset type: <class 'datasets.arrow_dataset.Dataset'>\n",
            "Dataset length: 1000\n",
            "Accessing index: 648\n",
            "Dataset type: <class 'datasets.arrow_dataset.Dataset'>\n",
            "Dataset length: 1000\n",
            "Accessing index: 308\n",
            "Dataset type: <class 'datasets.arrow_dataset.Dataset'>\n",
            "Dataset length: 1000\n"
          ]
        },
        {
          "output_type": "stream",
          "name": "stderr",
          "text": [
            "\r 50%|████▉     | 62/125 [14:24<14:34, 13.89s/it]"
          ]
        },
        {
          "output_type": "stream",
          "name": "stdout",
          "text": [
            "Accessing index: 685\n",
            "Dataset type: <class 'datasets.arrow_dataset.Dataset'>\n",
            "Dataset length: 1000\n",
            "Accessing index: 72\n",
            "Dataset type: <class 'datasets.arrow_dataset.Dataset'>\n",
            "Dataset length: 1000\n",
            "Accessing index: 741\n",
            "Dataset type: <class 'datasets.arrow_dataset.Dataset'>\n",
            "Dataset length: 1000\n",
            "Accessing index: 898\n",
            "Dataset type: <class 'datasets.arrow_dataset.Dataset'>\n",
            "Dataset length: 1000\n",
            "Accessing index: 759\n",
            "Dataset type: <class 'datasets.arrow_dataset.Dataset'>\n",
            "Dataset length: 1000\n",
            "Accessing index: 225\n",
            "Dataset type: <class 'datasets.arrow_dataset.Dataset'>\n",
            "Dataset length: 1000\n",
            "Accessing index: 730\n",
            "Dataset type: <class 'datasets.arrow_dataset.Dataset'>\n",
            "Dataset length: 1000\n",
            "Accessing index: 888\n",
            "Dataset type: <class 'datasets.arrow_dataset.Dataset'>\n",
            "Dataset length: 1000\n"
          ]
        },
        {
          "output_type": "stream",
          "name": "stderr",
          "text": [
            "\r 50%|█████     | 63/125 [14:38<14:19, 13.87s/it]"
          ]
        },
        {
          "output_type": "stream",
          "name": "stdout",
          "text": [
            "Accessing index: 282\n",
            "Dataset type: <class 'datasets.arrow_dataset.Dataset'>\n",
            "Dataset length: 1000\n",
            "Accessing index: 403\n",
            "Dataset type: <class 'datasets.arrow_dataset.Dataset'>\n",
            "Dataset length: 1000\n",
            "Accessing index: 662\n",
            "Dataset type: <class 'datasets.arrow_dataset.Dataset'>\n",
            "Dataset length: 1000\n",
            "Accessing index: 433\n",
            "Dataset type: <class 'datasets.arrow_dataset.Dataset'>\n",
            "Dataset length: 1000\n",
            "Accessing index: 584\n",
            "Dataset type: <class 'datasets.arrow_dataset.Dataset'>\n",
            "Dataset length: 1000\n",
            "Accessing index: 108\n",
            "Dataset type: <class 'datasets.arrow_dataset.Dataset'>\n",
            "Dataset length: 1000\n",
            "Accessing index: 91\n",
            "Dataset type: <class 'datasets.arrow_dataset.Dataset'>\n",
            "Dataset length: 1000\n",
            "Accessing index: 46\n",
            "Dataset type: <class 'datasets.arrow_dataset.Dataset'>\n",
            "Dataset length: 1000\n"
          ]
        },
        {
          "output_type": "stream",
          "name": "stderr",
          "text": [
            "\r 51%|█████     | 64/125 [14:52<14:04, 13.85s/it]"
          ]
        },
        {
          "output_type": "stream",
          "name": "stdout",
          "text": [
            "Accessing index: 364\n",
            "Dataset type: <class 'datasets.arrow_dataset.Dataset'>\n",
            "Dataset length: 1000\n",
            "Accessing index: 901\n",
            "Dataset type: <class 'datasets.arrow_dataset.Dataset'>\n",
            "Dataset length: 1000\n",
            "Accessing index: 203\n",
            "Dataset type: <class 'datasets.arrow_dataset.Dataset'>\n",
            "Dataset length: 1000\n",
            "Accessing index: 137\n",
            "Dataset type: <class 'datasets.arrow_dataset.Dataset'>\n",
            "Dataset length: 1000\n",
            "Accessing index: 909\n",
            "Dataset type: <class 'datasets.arrow_dataset.Dataset'>\n",
            "Dataset length: 1000\n",
            "Accessing index: 591\n",
            "Dataset type: <class 'datasets.arrow_dataset.Dataset'>\n",
            "Dataset length: 1000\n",
            "Accessing index: 336\n",
            "Dataset type: <class 'datasets.arrow_dataset.Dataset'>\n",
            "Dataset length: 1000\n",
            "Accessing index: 462\n",
            "Dataset type: <class 'datasets.arrow_dataset.Dataset'>\n",
            "Dataset length: 1000\n"
          ]
        },
        {
          "output_type": "stream",
          "name": "stderr",
          "text": [
            "\r 52%|█████▏    | 65/125 [15:06<13:52, 13.88s/it]"
          ]
        },
        {
          "output_type": "stream",
          "name": "stdout",
          "text": [
            "Accessing index: 399\n",
            "Dataset type: <class 'datasets.arrow_dataset.Dataset'>\n",
            "Dataset length: 1000\n",
            "Accessing index: 530\n",
            "Dataset type: <class 'datasets.arrow_dataset.Dataset'>\n",
            "Dataset length: 1000\n",
            "Accessing index: 303\n",
            "Dataset type: <class 'datasets.arrow_dataset.Dataset'>\n",
            "Dataset length: 1000\n",
            "Accessing index: 828\n",
            "Dataset type: <class 'datasets.arrow_dataset.Dataset'>\n",
            "Dataset length: 1000\n",
            "Accessing index: 634\n",
            "Dataset type: <class 'datasets.arrow_dataset.Dataset'>\n",
            "Dataset length: 1000\n",
            "Accessing index: 779\n",
            "Dataset type: <class 'datasets.arrow_dataset.Dataset'>\n",
            "Dataset length: 1000\n",
            "Accessing index: 632\n",
            "Dataset type: <class 'datasets.arrow_dataset.Dataset'>\n",
            "Dataset length: 1000\n",
            "Accessing index: 156\n",
            "Dataset type: <class 'datasets.arrow_dataset.Dataset'>\n",
            "Dataset length: 1000\n"
          ]
        },
        {
          "output_type": "stream",
          "name": "stderr",
          "text": [
            "\r 53%|█████▎    | 66/125 [15:19<13:38, 13.88s/it]"
          ]
        },
        {
          "output_type": "stream",
          "name": "stdout",
          "text": [
            "Accessing index: 986\n",
            "Dataset type: <class 'datasets.arrow_dataset.Dataset'>\n",
            "Dataset length: 1000\n",
            "Accessing index: 295\n",
            "Dataset type: <class 'datasets.arrow_dataset.Dataset'>\n",
            "Dataset length: 1000\n",
            "Accessing index: 947\n",
            "Dataset type: <class 'datasets.arrow_dataset.Dataset'>\n",
            "Dataset length: 1000\n",
            "Accessing index: 272\n",
            "Dataset type: <class 'datasets.arrow_dataset.Dataset'>\n",
            "Dataset length: 1000\n",
            "Accessing index: 488\n",
            "Dataset type: <class 'datasets.arrow_dataset.Dataset'>\n",
            "Dataset length: 1000\n",
            "Accessing index: 9\n",
            "Dataset type: <class 'datasets.arrow_dataset.Dataset'>\n",
            "Dataset length: 1000\n",
            "Accessing index: 528\n",
            "Dataset type: <class 'datasets.arrow_dataset.Dataset'>\n",
            "Dataset length: 1000\n",
            "Accessing index: 991\n",
            "Dataset type: <class 'datasets.arrow_dataset.Dataset'>\n",
            "Dataset length: 1000\n"
          ]
        },
        {
          "output_type": "stream",
          "name": "stderr",
          "text": [
            "\r 54%|█████▎    | 67/125 [15:34<13:37, 14.09s/it]"
          ]
        },
        {
          "output_type": "stream",
          "name": "stdout",
          "text": [
            "Accessing index: 281\n",
            "Dataset type: <class 'datasets.arrow_dataset.Dataset'>\n",
            "Dataset length: 1000\n",
            "Accessing index: 409\n",
            "Dataset type: <class 'datasets.arrow_dataset.Dataset'>\n",
            "Dataset length: 1000\n",
            "Accessing index: 218\n",
            "Dataset type: <class 'datasets.arrow_dataset.Dataset'>\n",
            "Dataset length: 1000\n",
            "Accessing index: 693\n",
            "Dataset type: <class 'datasets.arrow_dataset.Dataset'>\n",
            "Dataset length: 1000\n",
            "Accessing index: 213\n",
            "Dataset type: <class 'datasets.arrow_dataset.Dataset'>\n",
            "Dataset length: 1000\n",
            "Accessing index: 24\n",
            "Dataset type: <class 'datasets.arrow_dataset.Dataset'>\n",
            "Dataset length: 1000\n",
            "Accessing index: 246\n",
            "Dataset type: <class 'datasets.arrow_dataset.Dataset'>\n",
            "Dataset length: 1000\n",
            "Accessing index: 82\n",
            "Dataset type: <class 'datasets.arrow_dataset.Dataset'>\n",
            "Dataset length: 1000\n"
          ]
        },
        {
          "output_type": "stream",
          "name": "stderr",
          "text": [
            "\r 54%|█████▍    | 68/125 [15:48<13:21, 14.06s/it]"
          ]
        },
        {
          "output_type": "stream",
          "name": "stdout",
          "text": [
            "Accessing index: 163\n",
            "Dataset type: <class 'datasets.arrow_dataset.Dataset'>\n",
            "Dataset length: 1000\n",
            "Accessing index: 66\n",
            "Dataset type: <class 'datasets.arrow_dataset.Dataset'>\n",
            "Dataset length: 1000\n",
            "Accessing index: 318\n",
            "Dataset type: <class 'datasets.arrow_dataset.Dataset'>\n",
            "Dataset length: 1000\n",
            "Accessing index: 216\n",
            "Dataset type: <class 'datasets.arrow_dataset.Dataset'>\n",
            "Dataset length: 1000\n",
            "Accessing index: 202\n",
            "Dataset type: <class 'datasets.arrow_dataset.Dataset'>\n",
            "Dataset length: 1000\n",
            "Accessing index: 446\n",
            "Dataset type: <class 'datasets.arrow_dataset.Dataset'>\n",
            "Dataset length: 1000\n",
            "Accessing index: 168\n",
            "Dataset type: <class 'datasets.arrow_dataset.Dataset'>\n",
            "Dataset length: 1000\n",
            "Accessing index: 380\n",
            "Dataset type: <class 'datasets.arrow_dataset.Dataset'>\n",
            "Dataset length: 1000\n"
          ]
        },
        {
          "output_type": "stream",
          "name": "stderr",
          "text": [
            "\r 55%|█████▌    | 69/125 [16:02<13:03, 14.00s/it]"
          ]
        },
        {
          "output_type": "stream",
          "name": "stdout",
          "text": [
            "Accessing index: 449\n",
            "Dataset type: <class 'datasets.arrow_dataset.Dataset'>\n",
            "Dataset length: 1000\n",
            "Accessing index: 600\n",
            "Dataset type: <class 'datasets.arrow_dataset.Dataset'>\n",
            "Dataset length: 1000\n",
            "Accessing index: 406\n",
            "Dataset type: <class 'datasets.arrow_dataset.Dataset'>\n",
            "Dataset length: 1000\n",
            "Accessing index: 464\n",
            "Dataset type: <class 'datasets.arrow_dataset.Dataset'>\n",
            "Dataset length: 1000\n",
            "Accessing index: 583\n",
            "Dataset type: <class 'datasets.arrow_dataset.Dataset'>\n",
            "Dataset length: 1000\n",
            "Accessing index: 105\n",
            "Dataset type: <class 'datasets.arrow_dataset.Dataset'>\n",
            "Dataset length: 1000\n",
            "Accessing index: 820\n",
            "Dataset type: <class 'datasets.arrow_dataset.Dataset'>\n",
            "Dataset length: 1000\n",
            "Accessing index: 863\n",
            "Dataset type: <class 'datasets.arrow_dataset.Dataset'>\n",
            "Dataset length: 1000\n"
          ]
        },
        {
          "output_type": "stream",
          "name": "stderr",
          "text": [
            "\r 56%|█████▌    | 70/125 [16:16<12:47, 13.96s/it]"
          ]
        },
        {
          "output_type": "stream",
          "name": "stdout",
          "text": [
            "Accessing index: 868\n",
            "Dataset type: <class 'datasets.arrow_dataset.Dataset'>\n",
            "Dataset length: 1000\n",
            "Accessing index: 81\n",
            "Dataset type: <class 'datasets.arrow_dataset.Dataset'>\n",
            "Dataset length: 1000\n",
            "Accessing index: 573\n",
            "Dataset type: <class 'datasets.arrow_dataset.Dataset'>\n",
            "Dataset length: 1000\n",
            "Accessing index: 893\n",
            "Dataset type: <class 'datasets.arrow_dataset.Dataset'>\n",
            "Dataset length: 1000\n",
            "Accessing index: 352\n",
            "Dataset type: <class 'datasets.arrow_dataset.Dataset'>\n",
            "Dataset length: 1000\n",
            "Accessing index: 99\n",
            "Dataset type: <class 'datasets.arrow_dataset.Dataset'>\n",
            "Dataset length: 1000\n",
            "Accessing index: 223\n",
            "Dataset type: <class 'datasets.arrow_dataset.Dataset'>\n",
            "Dataset length: 1000\n",
            "Accessing index: 841\n",
            "Dataset type: <class 'datasets.arrow_dataset.Dataset'>\n",
            "Dataset length: 1000\n"
          ]
        },
        {
          "output_type": "stream",
          "name": "stderr",
          "text": [
            "\r 57%|█████▋    | 71/125 [16:30<12:31, 13.92s/it]"
          ]
        },
        {
          "output_type": "stream",
          "name": "stdout",
          "text": [
            "Accessing index: 388\n",
            "Dataset type: <class 'datasets.arrow_dataset.Dataset'>\n",
            "Dataset length: 1000\n",
            "Accessing index: 178\n",
            "Dataset type: <class 'datasets.arrow_dataset.Dataset'>\n",
            "Dataset length: 1000\n",
            "Accessing index: 859\n",
            "Dataset type: <class 'datasets.arrow_dataset.Dataset'>\n",
            "Dataset length: 1000\n",
            "Accessing index: 543\n",
            "Dataset type: <class 'datasets.arrow_dataset.Dataset'>\n",
            "Dataset length: 1000\n",
            "Accessing index: 261\n",
            "Dataset type: <class 'datasets.arrow_dataset.Dataset'>\n",
            "Dataset length: 1000\n",
            "Accessing index: 25\n",
            "Dataset type: <class 'datasets.arrow_dataset.Dataset'>\n",
            "Dataset length: 1000\n",
            "Accessing index: 902\n",
            "Dataset type: <class 'datasets.arrow_dataset.Dataset'>\n",
            "Dataset length: 1000\n",
            "Accessing index: 79\n",
            "Dataset type: <class 'datasets.arrow_dataset.Dataset'>\n",
            "Dataset length: 1000\n"
          ]
        },
        {
          "output_type": "stream",
          "name": "stderr",
          "text": [
            "\r 58%|█████▊    | 72/125 [16:43<12:15, 13.88s/it]"
          ]
        },
        {
          "output_type": "stream",
          "name": "stdout",
          "text": [
            "Accessing index: 461\n",
            "Dataset type: <class 'datasets.arrow_dataset.Dataset'>\n",
            "Dataset length: 1000\n",
            "Accessing index: 744\n",
            "Dataset type: <class 'datasets.arrow_dataset.Dataset'>\n",
            "Dataset length: 1000\n",
            "Accessing index: 889\n",
            "Dataset type: <class 'datasets.arrow_dataset.Dataset'>\n",
            "Dataset length: 1000\n",
            "Accessing index: 448\n",
            "Dataset type: <class 'datasets.arrow_dataset.Dataset'>\n",
            "Dataset length: 1000\n",
            "Accessing index: 196\n",
            "Dataset type: <class 'datasets.arrow_dataset.Dataset'>\n",
            "Dataset length: 1000\n",
            "Accessing index: 483\n",
            "Dataset type: <class 'datasets.arrow_dataset.Dataset'>\n",
            "Dataset length: 1000\n",
            "Accessing index: 407\n",
            "Dataset type: <class 'datasets.arrow_dataset.Dataset'>\n",
            "Dataset length: 1000\n",
            "Accessing index: 885\n",
            "Dataset type: <class 'datasets.arrow_dataset.Dataset'>\n",
            "Dataset length: 1000\n"
          ]
        },
        {
          "output_type": "stream",
          "name": "stderr",
          "text": [
            "\r 58%|█████▊    | 73/125 [16:57<12:00, 13.86s/it]"
          ]
        },
        {
          "output_type": "stream",
          "name": "stdout",
          "text": [
            "Accessing index: 775\n",
            "Dataset type: <class 'datasets.arrow_dataset.Dataset'>\n",
            "Dataset length: 1000\n",
            "Accessing index: 784\n",
            "Dataset type: <class 'datasets.arrow_dataset.Dataset'>\n",
            "Dataset length: 1000\n",
            "Accessing index: 277\n",
            "Dataset type: <class 'datasets.arrow_dataset.Dataset'>\n",
            "Dataset length: 1000\n",
            "Accessing index: 6\n",
            "Dataset type: <class 'datasets.arrow_dataset.Dataset'>\n",
            "Dataset length: 1000\n",
            "Accessing index: 175\n",
            "Dataset type: <class 'datasets.arrow_dataset.Dataset'>\n",
            "Dataset length: 1000\n",
            "Accessing index: 846\n",
            "Dataset type: <class 'datasets.arrow_dataset.Dataset'>\n",
            "Dataset length: 1000\n",
            "Accessing index: 896\n",
            "Dataset type: <class 'datasets.arrow_dataset.Dataset'>\n",
            "Dataset length: 1000\n",
            "Accessing index: 656\n",
            "Dataset type: <class 'datasets.arrow_dataset.Dataset'>\n",
            "Dataset length: 1000\n"
          ]
        },
        {
          "output_type": "stream",
          "name": "stderr",
          "text": [
            "\r 59%|█████▉    | 74/125 [17:11<11:47, 13.87s/it]"
          ]
        },
        {
          "output_type": "stream",
          "name": "stdout",
          "text": [
            "Accessing index: 773\n",
            "Dataset type: <class 'datasets.arrow_dataset.Dataset'>\n",
            "Dataset length: 1000\n",
            "Accessing index: 221\n",
            "Dataset type: <class 'datasets.arrow_dataset.Dataset'>\n",
            "Dataset length: 1000\n",
            "Accessing index: 855\n",
            "Dataset type: <class 'datasets.arrow_dataset.Dataset'>\n",
            "Dataset length: 1000\n",
            "Accessing index: 714\n",
            "Dataset type: <class 'datasets.arrow_dataset.Dataset'>\n",
            "Dataset length: 1000\n",
            "Accessing index: 776\n",
            "Dataset type: <class 'datasets.arrow_dataset.Dataset'>\n",
            "Dataset length: 1000\n",
            "Accessing index: 684\n",
            "Dataset type: <class 'datasets.arrow_dataset.Dataset'>\n",
            "Dataset length: 1000\n",
            "Accessing index: 329\n",
            "Dataset type: <class 'datasets.arrow_dataset.Dataset'>\n",
            "Dataset length: 1000\n",
            "Accessing index: 139\n",
            "Dataset type: <class 'datasets.arrow_dataset.Dataset'>\n",
            "Dataset length: 1000\n"
          ]
        },
        {
          "output_type": "stream",
          "name": "stderr",
          "text": [
            "\r 60%|██████    | 75/125 [17:25<11:32, 13.85s/it]"
          ]
        },
        {
          "output_type": "stream",
          "name": "stdout",
          "text": [
            "Accessing index: 20\n",
            "Dataset type: <class 'datasets.arrow_dataset.Dataset'>\n",
            "Dataset length: 1000\n",
            "Accessing index: 493\n",
            "Dataset type: <class 'datasets.arrow_dataset.Dataset'>\n",
            "Dataset length: 1000\n",
            "Accessing index: 816\n",
            "Dataset type: <class 'datasets.arrow_dataset.Dataset'>\n",
            "Dataset length: 1000\n",
            "Accessing index: 470\n",
            "Dataset type: <class 'datasets.arrow_dataset.Dataset'>\n",
            "Dataset length: 1000\n",
            "Accessing index: 499\n",
            "Dataset type: <class 'datasets.arrow_dataset.Dataset'>\n",
            "Dataset length: 1000\n",
            "Accessing index: 570\n",
            "Dataset type: <class 'datasets.arrow_dataset.Dataset'>\n",
            "Dataset length: 1000\n",
            "Accessing index: 579\n",
            "Dataset type: <class 'datasets.arrow_dataset.Dataset'>\n",
            "Dataset length: 1000\n",
            "Accessing index: 563\n",
            "Dataset type: <class 'datasets.arrow_dataset.Dataset'>\n",
            "Dataset length: 1000\n"
          ]
        },
        {
          "output_type": "stream",
          "name": "stderr",
          "text": [
            "\r 61%|██████    | 76/125 [17:39<11:25, 13.98s/it]"
          ]
        },
        {
          "output_type": "stream",
          "name": "stdout",
          "text": [
            "Accessing index: 910\n",
            "Dataset type: <class 'datasets.arrow_dataset.Dataset'>\n",
            "Dataset length: 1000\n",
            "Accessing index: 740\n",
            "Dataset type: <class 'datasets.arrow_dataset.Dataset'>\n",
            "Dataset length: 1000\n",
            "Accessing index: 874\n",
            "Dataset type: <class 'datasets.arrow_dataset.Dataset'>\n",
            "Dataset length: 1000\n",
            "Accessing index: 957\n",
            "Dataset type: <class 'datasets.arrow_dataset.Dataset'>\n",
            "Dataset length: 1000\n",
            "Accessing index: 696\n",
            "Dataset type: <class 'datasets.arrow_dataset.Dataset'>\n",
            "Dataset length: 1000\n",
            "Accessing index: 628\n",
            "Dataset type: <class 'datasets.arrow_dataset.Dataset'>\n",
            "Dataset length: 1000\n",
            "Accessing index: 954\n",
            "Dataset type: <class 'datasets.arrow_dataset.Dataset'>\n",
            "Dataset length: 1000\n",
            "Accessing index: 688\n",
            "Dataset type: <class 'datasets.arrow_dataset.Dataset'>\n",
            "Dataset length: 1000\n"
          ]
        },
        {
          "output_type": "stream",
          "name": "stderr",
          "text": [
            "\r 62%|██████▏   | 77/125 [17:53<11:14, 14.06s/it]"
          ]
        },
        {
          "output_type": "stream",
          "name": "stdout",
          "text": [
            "Accessing index: 680\n",
            "Dataset type: <class 'datasets.arrow_dataset.Dataset'>\n",
            "Dataset length: 1000\n",
            "Accessing index: 552\n",
            "Dataset type: <class 'datasets.arrow_dataset.Dataset'>\n",
            "Dataset length: 1000\n",
            "Accessing index: 287\n",
            "Dataset type: <class 'datasets.arrow_dataset.Dataset'>\n",
            "Dataset length: 1000\n",
            "Accessing index: 839\n",
            "Dataset type: <class 'datasets.arrow_dataset.Dataset'>\n",
            "Dataset length: 1000\n",
            "Accessing index: 167\n",
            "Dataset type: <class 'datasets.arrow_dataset.Dataset'>\n",
            "Dataset length: 1000\n",
            "Accessing index: 490\n",
            "Dataset type: <class 'datasets.arrow_dataset.Dataset'>\n",
            "Dataset length: 1000\n",
            "Accessing index: 243\n",
            "Dataset type: <class 'datasets.arrow_dataset.Dataset'>\n",
            "Dataset length: 1000\n",
            "Accessing index: 739\n",
            "Dataset type: <class 'datasets.arrow_dataset.Dataset'>\n",
            "Dataset length: 1000\n"
          ]
        },
        {
          "output_type": "stream",
          "name": "stderr",
          "text": [
            "\r 62%|██████▏   | 78/125 [18:07<10:58, 14.01s/it]"
          ]
        },
        {
          "output_type": "stream",
          "name": "stdout",
          "text": [
            "Accessing index: 116\n",
            "Dataset type: <class 'datasets.arrow_dataset.Dataset'>\n",
            "Dataset length: 1000\n",
            "Accessing index: 886\n",
            "Dataset type: <class 'datasets.arrow_dataset.Dataset'>\n",
            "Dataset length: 1000\n",
            "Accessing index: 145\n",
            "Dataset type: <class 'datasets.arrow_dataset.Dataset'>\n",
            "Dataset length: 1000\n",
            "Accessing index: 970\n",
            "Dataset type: <class 'datasets.arrow_dataset.Dataset'>\n",
            "Dataset length: 1000\n",
            "Accessing index: 354\n",
            "Dataset type: <class 'datasets.arrow_dataset.Dataset'>\n",
            "Dataset length: 1000\n",
            "Accessing index: 415\n",
            "Dataset type: <class 'datasets.arrow_dataset.Dataset'>\n",
            "Dataset length: 1000\n",
            "Accessing index: 153\n",
            "Dataset type: <class 'datasets.arrow_dataset.Dataset'>\n",
            "Dataset length: 1000\n",
            "Accessing index: 177\n",
            "Dataset type: <class 'datasets.arrow_dataset.Dataset'>\n",
            "Dataset length: 1000\n"
          ]
        },
        {
          "output_type": "stream",
          "name": "stderr",
          "text": [
            "\r 63%|██████▎   | 79/125 [18:21<10:41, 13.96s/it]"
          ]
        },
        {
          "output_type": "stream",
          "name": "stdout",
          "text": [
            "Accessing index: 621\n",
            "Dataset type: <class 'datasets.arrow_dataset.Dataset'>\n",
            "Dataset length: 1000\n",
            "Accessing index: 905\n",
            "Dataset type: <class 'datasets.arrow_dataset.Dataset'>\n",
            "Dataset length: 1000\n",
            "Accessing index: 534\n",
            "Dataset type: <class 'datasets.arrow_dataset.Dataset'>\n",
            "Dataset length: 1000\n",
            "Accessing index: 366\n",
            "Dataset type: <class 'datasets.arrow_dataset.Dataset'>\n",
            "Dataset length: 1000\n",
            "Accessing index: 707\n",
            "Dataset type: <class 'datasets.arrow_dataset.Dataset'>\n",
            "Dataset length: 1000\n",
            "Accessing index: 631\n",
            "Dataset type: <class 'datasets.arrow_dataset.Dataset'>\n",
            "Dataset length: 1000\n",
            "Accessing index: 142\n",
            "Dataset type: <class 'datasets.arrow_dataset.Dataset'>\n",
            "Dataset length: 1000\n",
            "Accessing index: 639\n",
            "Dataset type: <class 'datasets.arrow_dataset.Dataset'>\n",
            "Dataset length: 1000\n"
          ]
        },
        {
          "output_type": "stream",
          "name": "stderr",
          "text": [
            "\r 64%|██████▍   | 80/125 [18:35<10:26, 13.92s/it]"
          ]
        },
        {
          "output_type": "stream",
          "name": "stdout",
          "text": [
            "Accessing index: 895\n",
            "Dataset type: <class 'datasets.arrow_dataset.Dataset'>\n",
            "Dataset length: 1000\n",
            "Accessing index: 539\n",
            "Dataset type: <class 'datasets.arrow_dataset.Dataset'>\n",
            "Dataset length: 1000\n",
            "Accessing index: 715\n",
            "Dataset type: <class 'datasets.arrow_dataset.Dataset'>\n",
            "Dataset length: 1000\n",
            "Accessing index: 491\n",
            "Dataset type: <class 'datasets.arrow_dataset.Dataset'>\n",
            "Dataset length: 1000\n",
            "Accessing index: 193\n",
            "Dataset type: <class 'datasets.arrow_dataset.Dataset'>\n",
            "Dataset length: 1000\n",
            "Accessing index: 185\n",
            "Dataset type: <class 'datasets.arrow_dataset.Dataset'>\n",
            "Dataset length: 1000\n",
            "Accessing index: 96\n",
            "Dataset type: <class 'datasets.arrow_dataset.Dataset'>\n",
            "Dataset length: 1000\n",
            "Accessing index: 698\n",
            "Dataset type: <class 'datasets.arrow_dataset.Dataset'>\n",
            "Dataset length: 1000\n"
          ]
        },
        {
          "output_type": "stream",
          "name": "stderr",
          "text": [
            "\r 65%|██████▍   | 81/125 [18:49<10:11, 13.89s/it]"
          ]
        },
        {
          "output_type": "stream",
          "name": "stdout",
          "text": [
            "Accessing index: 553\n",
            "Dataset type: <class 'datasets.arrow_dataset.Dataset'>\n",
            "Dataset length: 1000\n",
            "Accessing index: 290\n",
            "Dataset type: <class 'datasets.arrow_dataset.Dataset'>\n",
            "Dataset length: 1000\n",
            "Accessing index: 419\n",
            "Dataset type: <class 'datasets.arrow_dataset.Dataset'>\n",
            "Dataset length: 1000\n",
            "Accessing index: 242\n",
            "Dataset type: <class 'datasets.arrow_dataset.Dataset'>\n",
            "Dataset length: 1000\n",
            "Accessing index: 626\n",
            "Dataset type: <class 'datasets.arrow_dataset.Dataset'>\n",
            "Dataset length: 1000\n",
            "Accessing index: 93\n",
            "Dataset type: <class 'datasets.arrow_dataset.Dataset'>\n",
            "Dataset length: 1000\n",
            "Accessing index: 844\n",
            "Dataset type: <class 'datasets.arrow_dataset.Dataset'>\n",
            "Dataset length: 1000\n",
            "Accessing index: 471\n",
            "Dataset type: <class 'datasets.arrow_dataset.Dataset'>\n",
            "Dataset length: 1000\n"
          ]
        },
        {
          "output_type": "stream",
          "name": "stderr",
          "text": [
            "\r 66%|██████▌   | 82/125 [19:03<09:57, 13.90s/it]"
          ]
        },
        {
          "output_type": "stream",
          "name": "stdout",
          "text": [
            "Accessing index: 593\n",
            "Dataset type: <class 'datasets.arrow_dataset.Dataset'>\n",
            "Dataset length: 1000\n",
            "Accessing index: 283\n",
            "Dataset type: <class 'datasets.arrow_dataset.Dataset'>\n",
            "Dataset length: 1000\n",
            "Accessing index: 785\n",
            "Dataset type: <class 'datasets.arrow_dataset.Dataset'>\n",
            "Dataset length: 1000\n",
            "Accessing index: 675\n",
            "Dataset type: <class 'datasets.arrow_dataset.Dataset'>\n",
            "Dataset length: 1000\n",
            "Accessing index: 907\n",
            "Dataset type: <class 'datasets.arrow_dataset.Dataset'>\n",
            "Dataset length: 1000\n",
            "Accessing index: 398\n",
            "Dataset type: <class 'datasets.arrow_dataset.Dataset'>\n",
            "Dataset length: 1000\n",
            "Accessing index: 695\n",
            "Dataset type: <class 'datasets.arrow_dataset.Dataset'>\n",
            "Dataset length: 1000\n",
            "Accessing index: 678\n",
            "Dataset type: <class 'datasets.arrow_dataset.Dataset'>\n",
            "Dataset length: 1000\n"
          ]
        },
        {
          "output_type": "stream",
          "name": "stderr",
          "text": [
            "\r 66%|██████▋   | 83/125 [19:16<09:43, 13.88s/it]"
          ]
        },
        {
          "output_type": "stream",
          "name": "stdout",
          "text": [
            "Accessing index: 751\n",
            "Dataset type: <class 'datasets.arrow_dataset.Dataset'>\n",
            "Dataset length: 1000\n",
            "Accessing index: 506\n",
            "Dataset type: <class 'datasets.arrow_dataset.Dataset'>\n",
            "Dataset length: 1000\n",
            "Accessing index: 304\n",
            "Dataset type: <class 'datasets.arrow_dataset.Dataset'>\n",
            "Dataset length: 1000\n",
            "Accessing index: 245\n",
            "Dataset type: <class 'datasets.arrow_dataset.Dataset'>\n",
            "Dataset length: 1000\n",
            "Accessing index: 721\n",
            "Dataset type: <class 'datasets.arrow_dataset.Dataset'>\n",
            "Dataset length: 1000\n",
            "Accessing index: 436\n",
            "Dataset type: <class 'datasets.arrow_dataset.Dataset'>\n",
            "Dataset length: 1000\n",
            "Accessing index: 7\n",
            "Dataset type: <class 'datasets.arrow_dataset.Dataset'>\n",
            "Dataset length: 1000\n",
            "Accessing index: 928\n",
            "Dataset type: <class 'datasets.arrow_dataset.Dataset'>\n",
            "Dataset length: 1000\n"
          ]
        },
        {
          "output_type": "stream",
          "name": "stderr",
          "text": [
            "\r 67%|██████▋   | 84/125 [19:30<09:29, 13.88s/it]"
          ]
        },
        {
          "output_type": "stream",
          "name": "stdout",
          "text": [
            "Accessing index: 794\n",
            "Dataset type: <class 'datasets.arrow_dataset.Dataset'>\n",
            "Dataset length: 1000\n",
            "Accessing index: 752\n",
            "Dataset type: <class 'datasets.arrow_dataset.Dataset'>\n",
            "Dataset length: 1000\n",
            "Accessing index: 963\n",
            "Dataset type: <class 'datasets.arrow_dataset.Dataset'>\n",
            "Dataset length: 1000\n",
            "Accessing index: 110\n",
            "Dataset type: <class 'datasets.arrow_dataset.Dataset'>\n",
            "Dataset length: 1000\n",
            "Accessing index: 74\n",
            "Dataset type: <class 'datasets.arrow_dataset.Dataset'>\n",
            "Dataset length: 1000\n",
            "Accessing index: 607\n",
            "Dataset type: <class 'datasets.arrow_dataset.Dataset'>\n",
            "Dataset length: 1000\n",
            "Accessing index: 998\n",
            "Dataset type: <class 'datasets.arrow_dataset.Dataset'>\n",
            "Dataset length: 1000\n",
            "Accessing index: 718\n",
            "Dataset type: <class 'datasets.arrow_dataset.Dataset'>\n",
            "Dataset length: 1000\n"
          ]
        },
        {
          "output_type": "stream",
          "name": "stderr",
          "text": [
            "\r 68%|██████▊   | 85/125 [19:44<09:17, 13.94s/it]"
          ]
        },
        {
          "output_type": "stream",
          "name": "stdout",
          "text": [
            "Accessing index: 332\n",
            "Dataset type: <class 'datasets.arrow_dataset.Dataset'>\n",
            "Dataset length: 1000\n",
            "Accessing index: 192\n",
            "Dataset type: <class 'datasets.arrow_dataset.Dataset'>\n",
            "Dataset length: 1000\n",
            "Accessing index: 425\n",
            "Dataset type: <class 'datasets.arrow_dataset.Dataset'>\n",
            "Dataset length: 1000\n",
            "Accessing index: 561\n",
            "Dataset type: <class 'datasets.arrow_dataset.Dataset'>\n",
            "Dataset length: 1000\n",
            "Accessing index: 474\n",
            "Dataset type: <class 'datasets.arrow_dataset.Dataset'>\n",
            "Dataset length: 1000\n",
            "Accessing index: 826\n",
            "Dataset type: <class 'datasets.arrow_dataset.Dataset'>\n",
            "Dataset length: 1000\n",
            "Accessing index: 742\n",
            "Dataset type: <class 'datasets.arrow_dataset.Dataset'>\n",
            "Dataset length: 1000\n",
            "Accessing index: 353\n",
            "Dataset type: <class 'datasets.arrow_dataset.Dataset'>\n",
            "Dataset length: 1000\n"
          ]
        },
        {
          "output_type": "stream",
          "name": "stderr",
          "text": [
            "\r 69%|██████▉   | 86/125 [19:59<09:08, 14.06s/it]"
          ]
        },
        {
          "output_type": "stream",
          "name": "stdout",
          "text": [
            "Accessing index: 643\n",
            "Dataset type: <class 'datasets.arrow_dataset.Dataset'>\n",
            "Dataset length: 1000\n",
            "Accessing index: 404\n",
            "Dataset type: <class 'datasets.arrow_dataset.Dataset'>\n",
            "Dataset length: 1000\n",
            "Accessing index: 315\n",
            "Dataset type: <class 'datasets.arrow_dataset.Dataset'>\n",
            "Dataset length: 1000\n",
            "Accessing index: 62\n",
            "Dataset type: <class 'datasets.arrow_dataset.Dataset'>\n",
            "Dataset length: 1000\n",
            "Accessing index: 664\n",
            "Dataset type: <class 'datasets.arrow_dataset.Dataset'>\n",
            "Dataset length: 1000\n",
            "Accessing index: 346\n",
            "Dataset type: <class 'datasets.arrow_dataset.Dataset'>\n",
            "Dataset length: 1000\n",
            "Accessing index: 520\n",
            "Dataset type: <class 'datasets.arrow_dataset.Dataset'>\n",
            "Dataset length: 1000\n",
            "Accessing index: 351\n",
            "Dataset type: <class 'datasets.arrow_dataset.Dataset'>\n",
            "Dataset length: 1000\n"
          ]
        },
        {
          "output_type": "stream",
          "name": "stderr",
          "text": [
            "\r 70%|██████▉   | 87/125 [20:13<08:51, 14.00s/it]"
          ]
        },
        {
          "output_type": "stream",
          "name": "stdout",
          "text": [
            "Accessing index: 640\n",
            "Dataset type: <class 'datasets.arrow_dataset.Dataset'>\n",
            "Dataset length: 1000\n",
            "Accessing index: 635\n",
            "Dataset type: <class 'datasets.arrow_dataset.Dataset'>\n",
            "Dataset length: 1000\n",
            "Accessing index: 129\n",
            "Dataset type: <class 'datasets.arrow_dataset.Dataset'>\n",
            "Dataset length: 1000\n",
            "Accessing index: 417\n",
            "Dataset type: <class 'datasets.arrow_dataset.Dataset'>\n",
            "Dataset length: 1000\n",
            "Accessing index: 284\n",
            "Dataset type: <class 'datasets.arrow_dataset.Dataset'>\n",
            "Dataset length: 1000\n",
            "Accessing index: 803\n",
            "Dataset type: <class 'datasets.arrow_dataset.Dataset'>\n",
            "Dataset length: 1000\n",
            "Accessing index: 748\n",
            "Dataset type: <class 'datasets.arrow_dataset.Dataset'>\n",
            "Dataset length: 1000\n",
            "Accessing index: 923\n",
            "Dataset type: <class 'datasets.arrow_dataset.Dataset'>\n",
            "Dataset length: 1000\n"
          ]
        },
        {
          "output_type": "stream",
          "name": "stderr",
          "text": [
            "\r 70%|███████   | 88/125 [20:26<08:36, 13.95s/it]"
          ]
        },
        {
          "output_type": "stream",
          "name": "stdout",
          "text": [
            "Accessing index: 27\n",
            "Dataset type: <class 'datasets.arrow_dataset.Dataset'>\n",
            "Dataset length: 1000\n",
            "Accessing index: 813\n",
            "Dataset type: <class 'datasets.arrow_dataset.Dataset'>\n",
            "Dataset length: 1000\n",
            "Accessing index: 864\n",
            "Dataset type: <class 'datasets.arrow_dataset.Dataset'>\n",
            "Dataset length: 1000\n",
            "Accessing index: 183\n",
            "Dataset type: <class 'datasets.arrow_dataset.Dataset'>\n",
            "Dataset length: 1000\n",
            "Accessing index: 343\n",
            "Dataset type: <class 'datasets.arrow_dataset.Dataset'>\n",
            "Dataset length: 1000\n",
            "Accessing index: 271\n",
            "Dataset type: <class 'datasets.arrow_dataset.Dataset'>\n",
            "Dataset length: 1000\n",
            "Accessing index: 19\n",
            "Dataset type: <class 'datasets.arrow_dataset.Dataset'>\n",
            "Dataset length: 1000\n",
            "Accessing index: 18\n",
            "Dataset type: <class 'datasets.arrow_dataset.Dataset'>\n",
            "Dataset length: 1000\n"
          ]
        },
        {
          "output_type": "stream",
          "name": "stderr",
          "text": [
            "\r 71%|███████   | 89/125 [20:40<08:21, 13.94s/it]"
          ]
        },
        {
          "output_type": "stream",
          "name": "stdout",
          "text": [
            "Accessing index: 457\n",
            "Dataset type: <class 'datasets.arrow_dataset.Dataset'>\n",
            "Dataset length: 1000\n",
            "Accessing index: 551\n",
            "Dataset type: <class 'datasets.arrow_dataset.Dataset'>\n",
            "Dataset length: 1000\n",
            "Accessing index: 169\n",
            "Dataset type: <class 'datasets.arrow_dataset.Dataset'>\n",
            "Dataset length: 1000\n",
            "Accessing index: 531\n",
            "Dataset type: <class 'datasets.arrow_dataset.Dataset'>\n",
            "Dataset length: 1000\n",
            "Accessing index: 126\n",
            "Dataset type: <class 'datasets.arrow_dataset.Dataset'>\n",
            "Dataset length: 1000\n",
            "Accessing index: 478\n",
            "Dataset type: <class 'datasets.arrow_dataset.Dataset'>\n",
            "Dataset length: 1000\n",
            "Accessing index: 431\n",
            "Dataset type: <class 'datasets.arrow_dataset.Dataset'>\n",
            "Dataset length: 1000\n",
            "Accessing index: 473\n",
            "Dataset type: <class 'datasets.arrow_dataset.Dataset'>\n",
            "Dataset length: 1000\n"
          ]
        },
        {
          "output_type": "stream",
          "name": "stderr",
          "text": [
            "\r 72%|███████▏  | 90/125 [20:54<08:06, 13.91s/it]"
          ]
        },
        {
          "output_type": "stream",
          "name": "stdout",
          "text": [
            "Accessing index: 265\n",
            "Dataset type: <class 'datasets.arrow_dataset.Dataset'>\n",
            "Dataset length: 1000\n",
            "Accessing index: 232\n",
            "Dataset type: <class 'datasets.arrow_dataset.Dataset'>\n",
            "Dataset length: 1000\n",
            "Accessing index: 566\n",
            "Dataset type: <class 'datasets.arrow_dataset.Dataset'>\n",
            "Dataset length: 1000\n",
            "Accessing index: 429\n",
            "Dataset type: <class 'datasets.arrow_dataset.Dataset'>\n",
            "Dataset length: 1000\n",
            "Accessing index: 962\n",
            "Dataset type: <class 'datasets.arrow_dataset.Dataset'>\n",
            "Dataset length: 1000\n",
            "Accessing index: 815\n",
            "Dataset type: <class 'datasets.arrow_dataset.Dataset'>\n",
            "Dataset length: 1000\n",
            "Accessing index: 597\n",
            "Dataset type: <class 'datasets.arrow_dataset.Dataset'>\n",
            "Dataset length: 1000\n",
            "Accessing index: 503\n",
            "Dataset type: <class 'datasets.arrow_dataset.Dataset'>\n",
            "Dataset length: 1000\n"
          ]
        },
        {
          "output_type": "stream",
          "name": "stderr",
          "text": [
            "\r 73%|███████▎  | 91/125 [21:08<07:52, 13.90s/it]"
          ]
        },
        {
          "output_type": "stream",
          "name": "stdout",
          "text": [
            "Accessing index: 437\n",
            "Dataset type: <class 'datasets.arrow_dataset.Dataset'>\n",
            "Dataset length: 1000\n",
            "Accessing index: 30\n",
            "Dataset type: <class 'datasets.arrow_dataset.Dataset'>\n",
            "Dataset length: 1000\n",
            "Accessing index: 882\n",
            "Dataset type: <class 'datasets.arrow_dataset.Dataset'>\n",
            "Dataset length: 1000\n",
            "Accessing index: 769\n",
            "Dataset type: <class 'datasets.arrow_dataset.Dataset'>\n",
            "Dataset length: 1000\n",
            "Accessing index: 466\n",
            "Dataset type: <class 'datasets.arrow_dataset.Dataset'>\n",
            "Dataset length: 1000\n",
            "Accessing index: 518\n",
            "Dataset type: <class 'datasets.arrow_dataset.Dataset'>\n",
            "Dataset length: 1000\n",
            "Accessing index: 948\n",
            "Dataset type: <class 'datasets.arrow_dataset.Dataset'>\n",
            "Dataset length: 1000\n",
            "Accessing index: 65\n",
            "Dataset type: <class 'datasets.arrow_dataset.Dataset'>\n",
            "Dataset length: 1000\n"
          ]
        },
        {
          "output_type": "stream",
          "name": "stderr",
          "text": [
            "\r 74%|███████▎  | 92/125 [21:22<07:38, 13.89s/it]"
          ]
        },
        {
          "output_type": "stream",
          "name": "stdout",
          "text": [
            "Accessing index: 67\n",
            "Dataset type: <class 'datasets.arrow_dataset.Dataset'>\n",
            "Dataset length: 1000\n",
            "Accessing index: 830\n",
            "Dataset type: <class 'datasets.arrow_dataset.Dataset'>\n",
            "Dataset length: 1000\n",
            "Accessing index: 805\n",
            "Dataset type: <class 'datasets.arrow_dataset.Dataset'>\n",
            "Dataset length: 1000\n",
            "Accessing index: 767\n",
            "Dataset type: <class 'datasets.arrow_dataset.Dataset'>\n",
            "Dataset length: 1000\n",
            "Accessing index: 214\n",
            "Dataset type: <class 'datasets.arrow_dataset.Dataset'>\n",
            "Dataset length: 1000\n",
            "Accessing index: 829\n",
            "Dataset type: <class 'datasets.arrow_dataset.Dataset'>\n",
            "Dataset length: 1000\n",
            "Accessing index: 513\n",
            "Dataset type: <class 'datasets.arrow_dataset.Dataset'>\n",
            "Dataset length: 1000\n",
            "Accessing index: 711\n",
            "Dataset type: <class 'datasets.arrow_dataset.Dataset'>\n",
            "Dataset length: 1000\n"
          ]
        },
        {
          "output_type": "stream",
          "name": "stderr",
          "text": [
            "\r 74%|███████▍  | 93/125 [21:36<07:24, 13.90s/it]"
          ]
        },
        {
          "output_type": "stream",
          "name": "stdout",
          "text": [
            "Accessing index: 210\n",
            "Dataset type: <class 'datasets.arrow_dataset.Dataset'>\n",
            "Dataset length: 1000\n",
            "Accessing index: 28\n",
            "Dataset type: <class 'datasets.arrow_dataset.Dataset'>\n",
            "Dataset length: 1000\n",
            "Accessing index: 103\n",
            "Dataset type: <class 'datasets.arrow_dataset.Dataset'>\n",
            "Dataset length: 1000\n",
            "Accessing index: 854\n",
            "Dataset type: <class 'datasets.arrow_dataset.Dataset'>\n",
            "Dataset length: 1000\n",
            "Accessing index: 112\n",
            "Dataset type: <class 'datasets.arrow_dataset.Dataset'>\n",
            "Dataset length: 1000\n",
            "Accessing index: 595\n",
            "Dataset type: <class 'datasets.arrow_dataset.Dataset'>\n",
            "Dataset length: 1000\n",
            "Accessing index: 681\n",
            "Dataset type: <class 'datasets.arrow_dataset.Dataset'>\n",
            "Dataset length: 1000\n",
            "Accessing index: 123\n",
            "Dataset type: <class 'datasets.arrow_dataset.Dataset'>\n",
            "Dataset length: 1000\n"
          ]
        },
        {
          "output_type": "stream",
          "name": "stderr",
          "text": [
            "\r 75%|███████▌  | 94/125 [21:50<07:11, 13.90s/it]"
          ]
        },
        {
          "output_type": "stream",
          "name": "stdout",
          "text": [
            "Accessing index: 345\n",
            "Dataset type: <class 'datasets.arrow_dataset.Dataset'>\n",
            "Dataset length: 1000\n",
            "Accessing index: 367\n",
            "Dataset type: <class 'datasets.arrow_dataset.Dataset'>\n",
            "Dataset length: 1000\n",
            "Accessing index: 257\n",
            "Dataset type: <class 'datasets.arrow_dataset.Dataset'>\n",
            "Dataset length: 1000\n",
            "Accessing index: 427\n",
            "Dataset type: <class 'datasets.arrow_dataset.Dataset'>\n",
            "Dataset length: 1000\n",
            "Accessing index: 204\n",
            "Dataset type: <class 'datasets.arrow_dataset.Dataset'>\n",
            "Dataset length: 1000\n",
            "Accessing index: 206\n",
            "Dataset type: <class 'datasets.arrow_dataset.Dataset'>\n",
            "Dataset length: 1000\n",
            "Accessing index: 686\n",
            "Dataset type: <class 'datasets.arrow_dataset.Dataset'>\n",
            "Dataset length: 1000\n",
            "Accessing index: 258\n",
            "Dataset type: <class 'datasets.arrow_dataset.Dataset'>\n",
            "Dataset length: 1000\n"
          ]
        },
        {
          "output_type": "stream",
          "name": "stderr",
          "text": [
            "\r 76%|███████▌  | 95/125 [22:04<07:02, 14.09s/it]"
          ]
        },
        {
          "output_type": "stream",
          "name": "stdout",
          "text": [
            "Accessing index: 150\n",
            "Dataset type: <class 'datasets.arrow_dataset.Dataset'>\n",
            "Dataset length: 1000\n",
            "Accessing index: 268\n",
            "Dataset type: <class 'datasets.arrow_dataset.Dataset'>\n",
            "Dataset length: 1000\n",
            "Accessing index: 768\n",
            "Dataset type: <class 'datasets.arrow_dataset.Dataset'>\n",
            "Dataset length: 1000\n",
            "Accessing index: 966\n",
            "Dataset type: <class 'datasets.arrow_dataset.Dataset'>\n",
            "Dataset length: 1000\n",
            "Accessing index: 241\n",
            "Dataset type: <class 'datasets.arrow_dataset.Dataset'>\n",
            "Dataset length: 1000\n",
            "Accessing index: 605\n",
            "Dataset type: <class 'datasets.arrow_dataset.Dataset'>\n",
            "Dataset length: 1000\n",
            "Accessing index: 913\n",
            "Dataset type: <class 'datasets.arrow_dataset.Dataset'>\n",
            "Dataset length: 1000\n",
            "Accessing index: 527\n",
            "Dataset type: <class 'datasets.arrow_dataset.Dataset'>\n",
            "Dataset length: 1000\n"
          ]
        },
        {
          "output_type": "stream",
          "name": "stderr",
          "text": [
            "\r 77%|███████▋  | 96/125 [22:18<06:47, 14.05s/it]"
          ]
        },
        {
          "output_type": "stream",
          "name": "stdout",
          "text": [
            "Accessing index: 521\n",
            "Dataset type: <class 'datasets.arrow_dataset.Dataset'>\n",
            "Dataset length: 1000\n",
            "Accessing index: 86\n",
            "Dataset type: <class 'datasets.arrow_dataset.Dataset'>\n",
            "Dataset length: 1000\n",
            "Accessing index: 790\n",
            "Dataset type: <class 'datasets.arrow_dataset.Dataset'>\n",
            "Dataset length: 1000\n",
            "Accessing index: 475\n",
            "Dataset type: <class 'datasets.arrow_dataset.Dataset'>\n",
            "Dataset length: 1000\n",
            "Accessing index: 968\n",
            "Dataset type: <class 'datasets.arrow_dataset.Dataset'>\n",
            "Dataset length: 1000\n",
            "Accessing index: 195\n",
            "Dataset type: <class 'datasets.arrow_dataset.Dataset'>\n",
            "Dataset length: 1000\n",
            "Accessing index: 384\n",
            "Dataset type: <class 'datasets.arrow_dataset.Dataset'>\n",
            "Dataset length: 1000\n",
            "Accessing index: 469\n",
            "Dataset type: <class 'datasets.arrow_dataset.Dataset'>\n",
            "Dataset length: 1000\n"
          ]
        },
        {
          "output_type": "stream",
          "name": "stderr",
          "text": [
            "\r 78%|███████▊  | 97/125 [22:32<06:31, 13.98s/it]"
          ]
        },
        {
          "output_type": "stream",
          "name": "stdout",
          "text": [
            "Accessing index: 355\n",
            "Dataset type: <class 'datasets.arrow_dataset.Dataset'>\n",
            "Dataset length: 1000\n",
            "Accessing index: 122\n",
            "Dataset type: <class 'datasets.arrow_dataset.Dataset'>\n",
            "Dataset length: 1000\n",
            "Accessing index: 904\n",
            "Dataset type: <class 'datasets.arrow_dataset.Dataset'>\n",
            "Dataset length: 1000\n",
            "Accessing index: 385\n",
            "Dataset type: <class 'datasets.arrow_dataset.Dataset'>\n",
            "Dataset length: 1000\n",
            "Accessing index: 594\n",
            "Dataset type: <class 'datasets.arrow_dataset.Dataset'>\n",
            "Dataset length: 1000\n",
            "Accessing index: 286\n",
            "Dataset type: <class 'datasets.arrow_dataset.Dataset'>\n",
            "Dataset length: 1000\n",
            "Accessing index: 719\n",
            "Dataset type: <class 'datasets.arrow_dataset.Dataset'>\n",
            "Dataset length: 1000\n",
            "Accessing index: 766\n",
            "Dataset type: <class 'datasets.arrow_dataset.Dataset'>\n",
            "Dataset length: 1000\n"
          ]
        },
        {
          "output_type": "stream",
          "name": "stderr",
          "text": [
            "\r 78%|███████▊  | 98/125 [22:46<06:16, 13.93s/it]"
          ]
        },
        {
          "output_type": "stream",
          "name": "stdout",
          "text": [
            "Accessing index: 938\n",
            "Dataset type: <class 'datasets.arrow_dataset.Dataset'>\n",
            "Dataset length: 1000\n",
            "Accessing index: 57\n",
            "Dataset type: <class 'datasets.arrow_dataset.Dataset'>\n",
            "Dataset length: 1000\n",
            "Accessing index: 884\n",
            "Dataset type: <class 'datasets.arrow_dataset.Dataset'>\n",
            "Dataset length: 1000\n",
            "Accessing index: 132\n",
            "Dataset type: <class 'datasets.arrow_dataset.Dataset'>\n",
            "Dataset length: 1000\n",
            "Accessing index: 411\n",
            "Dataset type: <class 'datasets.arrow_dataset.Dataset'>\n",
            "Dataset length: 1000\n",
            "Accessing index: 472\n",
            "Dataset type: <class 'datasets.arrow_dataset.Dataset'>\n",
            "Dataset length: 1000\n",
            "Accessing index: 349\n",
            "Dataset type: <class 'datasets.arrow_dataset.Dataset'>\n",
            "Dataset length: 1000\n",
            "Accessing index: 614\n",
            "Dataset type: <class 'datasets.arrow_dataset.Dataset'>\n",
            "Dataset length: 1000\n"
          ]
        },
        {
          "output_type": "stream",
          "name": "stderr",
          "text": [
            "\r 79%|███████▉  | 99/125 [23:00<06:01, 13.91s/it]"
          ]
        },
        {
          "output_type": "stream",
          "name": "stdout",
          "text": [
            "Accessing index: 541\n",
            "Dataset type: <class 'datasets.arrow_dataset.Dataset'>\n",
            "Dataset length: 1000\n",
            "Accessing index: 39\n",
            "Dataset type: <class 'datasets.arrow_dataset.Dataset'>\n",
            "Dataset length: 1000\n",
            "Accessing index: 522\n",
            "Dataset type: <class 'datasets.arrow_dataset.Dataset'>\n",
            "Dataset length: 1000\n",
            "Accessing index: 703\n",
            "Dataset type: <class 'datasets.arrow_dataset.Dataset'>\n",
            "Dataset length: 1000\n",
            "Accessing index: 69\n",
            "Dataset type: <class 'datasets.arrow_dataset.Dataset'>\n",
            "Dataset length: 1000\n",
            "Accessing index: 590\n",
            "Dataset type: <class 'datasets.arrow_dataset.Dataset'>\n",
            "Dataset length: 1000\n",
            "Accessing index: 368\n",
            "Dataset type: <class 'datasets.arrow_dataset.Dataset'>\n",
            "Dataset length: 1000\n",
            "Accessing index: 671\n",
            "Dataset type: <class 'datasets.arrow_dataset.Dataset'>\n",
            "Dataset length: 1000\n"
          ]
        },
        {
          "output_type": "stream",
          "name": "stderr",
          "text": [
            "\r 80%|████████  | 100/125 [23:14<05:49, 13.97s/it]"
          ]
        },
        {
          "output_type": "stream",
          "name": "stdout",
          "text": [
            "Accessing index: 556\n",
            "Dataset type: <class 'datasets.arrow_dataset.Dataset'>\n",
            "Dataset length: 1000\n",
            "Accessing index: 256\n",
            "Dataset type: <class 'datasets.arrow_dataset.Dataset'>\n",
            "Dataset length: 1000\n",
            "Accessing index: 883\n",
            "Dataset type: <class 'datasets.arrow_dataset.Dataset'>\n",
            "Dataset length: 1000\n",
            "Accessing index: 365\n",
            "Dataset type: <class 'datasets.arrow_dataset.Dataset'>\n",
            "Dataset length: 1000\n",
            "Accessing index: 276\n",
            "Dataset type: <class 'datasets.arrow_dataset.Dataset'>\n",
            "Dataset length: 1000\n",
            "Accessing index: 135\n",
            "Dataset type: <class 'datasets.arrow_dataset.Dataset'>\n",
            "Dataset length: 1000\n",
            "Accessing index: 941\n",
            "Dataset type: <class 'datasets.arrow_dataset.Dataset'>\n",
            "Dataset length: 1000\n",
            "Accessing index: 240\n",
            "Dataset type: <class 'datasets.arrow_dataset.Dataset'>\n",
            "Dataset length: 1000\n"
          ]
        },
        {
          "output_type": "stream",
          "name": "stderr",
          "text": [
            "\r 81%|████████  | 101/125 [23:28<05:34, 13.93s/it]"
          ]
        },
        {
          "output_type": "stream",
          "name": "stdout",
          "text": [
            "Accessing index: 498\n",
            "Dataset type: <class 'datasets.arrow_dataset.Dataset'>\n",
            "Dataset length: 1000\n",
            "Accessing index: 344\n",
            "Dataset type: <class 'datasets.arrow_dataset.Dataset'>\n",
            "Dataset length: 1000\n",
            "Accessing index: 313\n",
            "Dataset type: <class 'datasets.arrow_dataset.Dataset'>\n",
            "Dataset length: 1000\n",
            "Accessing index: 339\n",
            "Dataset type: <class 'datasets.arrow_dataset.Dataset'>\n",
            "Dataset length: 1000\n",
            "Accessing index: 529\n",
            "Dataset type: <class 'datasets.arrow_dataset.Dataset'>\n",
            "Dataset length: 1000\n",
            "Accessing index: 309\n",
            "Dataset type: <class 'datasets.arrow_dataset.Dataset'>\n",
            "Dataset length: 1000\n",
            "Accessing index: 900\n",
            "Dataset type: <class 'datasets.arrow_dataset.Dataset'>\n",
            "Dataset length: 1000\n",
            "Accessing index: 405\n",
            "Dataset type: <class 'datasets.arrow_dataset.Dataset'>\n",
            "Dataset length: 1000\n"
          ]
        },
        {
          "output_type": "stream",
          "name": "stderr",
          "text": [
            "\r 82%|████████▏ | 102/125 [23:42<05:19, 13.91s/it]"
          ]
        },
        {
          "output_type": "stream",
          "name": "stdout",
          "text": [
            "Accessing index: 699\n",
            "Dataset type: <class 'datasets.arrow_dataset.Dataset'>\n",
            "Dataset length: 1000\n",
            "Accessing index: 778\n",
            "Dataset type: <class 'datasets.arrow_dataset.Dataset'>\n",
            "Dataset length: 1000\n",
            "Accessing index: 370\n",
            "Dataset type: <class 'datasets.arrow_dataset.Dataset'>\n",
            "Dataset length: 1000\n",
            "Accessing index: 608\n",
            "Dataset type: <class 'datasets.arrow_dataset.Dataset'>\n",
            "Dataset length: 1000\n",
            "Accessing index: 133\n",
            "Dataset type: <class 'datasets.arrow_dataset.Dataset'>\n",
            "Dataset length: 1000\n",
            "Accessing index: 170\n",
            "Dataset type: <class 'datasets.arrow_dataset.Dataset'>\n",
            "Dataset length: 1000\n",
            "Accessing index: 993\n",
            "Dataset type: <class 'datasets.arrow_dataset.Dataset'>\n",
            "Dataset length: 1000\n",
            "Accessing index: 956\n",
            "Dataset type: <class 'datasets.arrow_dataset.Dataset'>\n",
            "Dataset length: 1000\n"
          ]
        },
        {
          "output_type": "stream",
          "name": "stderr",
          "text": [
            "\r 82%|████████▏ | 103/125 [23:55<05:05, 13.88s/it]"
          ]
        },
        {
          "output_type": "stream",
          "name": "stdout",
          "text": [
            "Accessing index: 545\n",
            "Dataset type: <class 'datasets.arrow_dataset.Dataset'>\n",
            "Dataset length: 1000\n",
            "Accessing index: 426\n",
            "Dataset type: <class 'datasets.arrow_dataset.Dataset'>\n",
            "Dataset length: 1000\n",
            "Accessing index: 980\n",
            "Dataset type: <class 'datasets.arrow_dataset.Dataset'>\n",
            "Dataset length: 1000\n",
            "Accessing index: 249\n",
            "Dataset type: <class 'datasets.arrow_dataset.Dataset'>\n",
            "Dataset length: 1000\n",
            "Accessing index: 55\n",
            "Dataset type: <class 'datasets.arrow_dataset.Dataset'>\n",
            "Dataset length: 1000\n",
            "Accessing index: 906\n",
            "Dataset type: <class 'datasets.arrow_dataset.Dataset'>\n",
            "Dataset length: 1000\n",
            "Accessing index: 166\n",
            "Dataset type: <class 'datasets.arrow_dataset.Dataset'>\n",
            "Dataset length: 1000\n",
            "Accessing index: 604\n",
            "Dataset type: <class 'datasets.arrow_dataset.Dataset'>\n",
            "Dataset length: 1000\n"
          ]
        },
        {
          "output_type": "stream",
          "name": "stderr",
          "text": [
            "\r 83%|████████▎ | 104/125 [24:10<04:55, 14.06s/it]"
          ]
        },
        {
          "output_type": "stream",
          "name": "stdout",
          "text": [
            "Accessing index: 758\n",
            "Dataset type: <class 'datasets.arrow_dataset.Dataset'>\n",
            "Dataset length: 1000\n",
            "Accessing index: 811\n",
            "Dataset type: <class 'datasets.arrow_dataset.Dataset'>\n",
            "Dataset length: 1000\n",
            "Accessing index: 80\n",
            "Dataset type: <class 'datasets.arrow_dataset.Dataset'>\n",
            "Dataset length: 1000\n",
            "Accessing index: 837\n",
            "Dataset type: <class 'datasets.arrow_dataset.Dataset'>\n",
            "Dataset length: 1000\n",
            "Accessing index: 292\n",
            "Dataset type: <class 'datasets.arrow_dataset.Dataset'>\n",
            "Dataset length: 1000\n",
            "Accessing index: 636\n",
            "Dataset type: <class 'datasets.arrow_dataset.Dataset'>\n",
            "Dataset length: 1000\n",
            "Accessing index: 940\n",
            "Dataset type: <class 'datasets.arrow_dataset.Dataset'>\n",
            "Dataset length: 1000\n",
            "Accessing index: 187\n",
            "Dataset type: <class 'datasets.arrow_dataset.Dataset'>\n",
            "Dataset length: 1000\n"
          ]
        },
        {
          "output_type": "stream",
          "name": "stderr",
          "text": [
            "\r 84%|████████▍ | 105/125 [24:24<04:41, 14.07s/it]"
          ]
        },
        {
          "output_type": "stream",
          "name": "stdout",
          "text": [
            "Accessing index: 454\n",
            "Dataset type: <class 'datasets.arrow_dataset.Dataset'>\n",
            "Dataset length: 1000\n",
            "Accessing index: 926\n",
            "Dataset type: <class 'datasets.arrow_dataset.Dataset'>\n",
            "Dataset length: 1000\n",
            "Accessing index: 453\n",
            "Dataset type: <class 'datasets.arrow_dataset.Dataset'>\n",
            "Dataset length: 1000\n",
            "Accessing index: 98\n",
            "Dataset type: <class 'datasets.arrow_dataset.Dataset'>\n",
            "Dataset length: 1000\n",
            "Accessing index: 851\n",
            "Dataset type: <class 'datasets.arrow_dataset.Dataset'>\n",
            "Dataset length: 1000\n",
            "Accessing index: 300\n",
            "Dataset type: <class 'datasets.arrow_dataset.Dataset'>\n",
            "Dataset length: 1000\n",
            "Accessing index: 392\n",
            "Dataset type: <class 'datasets.arrow_dataset.Dataset'>\n",
            "Dataset length: 1000\n",
            "Accessing index: 840\n",
            "Dataset type: <class 'datasets.arrow_dataset.Dataset'>\n",
            "Dataset length: 1000\n"
          ]
        },
        {
          "output_type": "stream",
          "name": "stderr",
          "text": [
            "\r 85%|████████▍ | 106/125 [24:38<04:25, 14.00s/it]"
          ]
        },
        {
          "output_type": "stream",
          "name": "stdout",
          "text": [
            "Accessing index: 3\n",
            "Dataset type: <class 'datasets.arrow_dataset.Dataset'>\n",
            "Dataset length: 1000\n",
            "Accessing index: 179\n",
            "Dataset type: <class 'datasets.arrow_dataset.Dataset'>\n",
            "Dataset length: 1000\n",
            "Accessing index: 524\n",
            "Dataset type: <class 'datasets.arrow_dataset.Dataset'>\n",
            "Dataset length: 1000\n",
            "Accessing index: 572\n",
            "Dataset type: <class 'datasets.arrow_dataset.Dataset'>\n",
            "Dataset length: 1000\n",
            "Accessing index: 599\n",
            "Dataset type: <class 'datasets.arrow_dataset.Dataset'>\n",
            "Dataset length: 1000\n",
            "Accessing index: 341\n",
            "Dataset type: <class 'datasets.arrow_dataset.Dataset'>\n",
            "Dataset length: 1000\n",
            "Accessing index: 867\n",
            "Dataset type: <class 'datasets.arrow_dataset.Dataset'>\n",
            "Dataset length: 1000\n",
            "Accessing index: 50\n",
            "Dataset type: <class 'datasets.arrow_dataset.Dataset'>\n",
            "Dataset length: 1000\n"
          ]
        },
        {
          "output_type": "stream",
          "name": "stderr",
          "text": [
            "\r 86%|████████▌ | 107/125 [24:52<04:11, 13.95s/it]"
          ]
        },
        {
          "output_type": "stream",
          "name": "stdout",
          "text": [
            "Accessing index: 0\n",
            "Dataset type: <class 'datasets.arrow_dataset.Dataset'>\n",
            "Dataset length: 1000\n",
            "Accessing index: 977\n",
            "Dataset type: <class 'datasets.arrow_dataset.Dataset'>\n",
            "Dataset length: 1000\n",
            "Accessing index: 264\n",
            "Dataset type: <class 'datasets.arrow_dataset.Dataset'>\n",
            "Dataset length: 1000\n",
            "Accessing index: 602\n",
            "Dataset type: <class 'datasets.arrow_dataset.Dataset'>\n",
            "Dataset length: 1000\n",
            "Accessing index: 180\n",
            "Dataset type: <class 'datasets.arrow_dataset.Dataset'>\n",
            "Dataset length: 1000\n",
            "Accessing index: 761\n",
            "Dataset type: <class 'datasets.arrow_dataset.Dataset'>\n",
            "Dataset length: 1000\n",
            "Accessing index: 397\n",
            "Dataset type: <class 'datasets.arrow_dataset.Dataset'>\n",
            "Dataset length: 1000\n",
            "Accessing index: 781\n",
            "Dataset type: <class 'datasets.arrow_dataset.Dataset'>\n",
            "Dataset length: 1000\n"
          ]
        },
        {
          "output_type": "stream",
          "name": "stderr",
          "text": [
            "\r 86%|████████▋ | 108/125 [25:06<03:56, 13.93s/it]"
          ]
        },
        {
          "output_type": "stream",
          "name": "stdout",
          "text": [
            "Accessing index: 763\n",
            "Dataset type: <class 'datasets.arrow_dataset.Dataset'>\n",
            "Dataset length: 1000\n",
            "Accessing index: 61\n",
            "Dataset type: <class 'datasets.arrow_dataset.Dataset'>\n",
            "Dataset length: 1000\n",
            "Accessing index: 660\n",
            "Dataset type: <class 'datasets.arrow_dataset.Dataset'>\n",
            "Dataset length: 1000\n",
            "Accessing index: 496\n",
            "Dataset type: <class 'datasets.arrow_dataset.Dataset'>\n",
            "Dataset length: 1000\n",
            "Accessing index: 348\n",
            "Dataset type: <class 'datasets.arrow_dataset.Dataset'>\n",
            "Dataset length: 1000\n",
            "Accessing index: 650\n",
            "Dataset type: <class 'datasets.arrow_dataset.Dataset'>\n",
            "Dataset length: 1000\n",
            "Accessing index: 717\n",
            "Dataset type: <class 'datasets.arrow_dataset.Dataset'>\n",
            "Dataset length: 1000\n",
            "Accessing index: 410\n",
            "Dataset type: <class 'datasets.arrow_dataset.Dataset'>\n",
            "Dataset length: 1000\n"
          ]
        },
        {
          "output_type": "stream",
          "name": "stderr",
          "text": [
            "\r 87%|████████▋ | 109/125 [25:19<03:42, 13.90s/it]"
          ]
        },
        {
          "output_type": "stream",
          "name": "stdout",
          "text": [
            "Accessing index: 248\n",
            "Dataset type: <class 'datasets.arrow_dataset.Dataset'>\n",
            "Dataset length: 1000\n",
            "Accessing index: 694\n",
            "Dataset type: <class 'datasets.arrow_dataset.Dataset'>\n",
            "Dataset length: 1000\n",
            "Accessing index: 925\n",
            "Dataset type: <class 'datasets.arrow_dataset.Dataset'>\n",
            "Dataset length: 1000\n",
            "Accessing index: 254\n",
            "Dataset type: <class 'datasets.arrow_dataset.Dataset'>\n",
            "Dataset length: 1000\n",
            "Accessing index: 134\n",
            "Dataset type: <class 'datasets.arrow_dataset.Dataset'>\n",
            "Dataset length: 1000\n",
            "Accessing index: 554\n",
            "Dataset type: <class 'datasets.arrow_dataset.Dataset'>\n",
            "Dataset length: 1000\n",
            "Accessing index: 723\n",
            "Dataset type: <class 'datasets.arrow_dataset.Dataset'>\n",
            "Dataset length: 1000\n",
            "Accessing index: 777\n",
            "Dataset type: <class 'datasets.arrow_dataset.Dataset'>\n",
            "Dataset length: 1000\n"
          ]
        },
        {
          "output_type": "stream",
          "name": "stderr",
          "text": [
            "\r 88%|████████▊ | 110/125 [25:33<03:28, 13.90s/it]"
          ]
        },
        {
          "output_type": "stream",
          "name": "stdout",
          "text": [
            "Accessing index: 373\n",
            "Dataset type: <class 'datasets.arrow_dataset.Dataset'>\n",
            "Dataset length: 1000\n",
            "Accessing index: 932\n",
            "Dataset type: <class 'datasets.arrow_dataset.Dataset'>\n",
            "Dataset length: 1000\n",
            "Accessing index: 200\n",
            "Dataset type: <class 'datasets.arrow_dataset.Dataset'>\n",
            "Dataset length: 1000\n",
            "Accessing index: 514\n",
            "Dataset type: <class 'datasets.arrow_dataset.Dataset'>\n",
            "Dataset length: 1000\n",
            "Accessing index: 149\n",
            "Dataset type: <class 'datasets.arrow_dataset.Dataset'>\n",
            "Dataset length: 1000\n",
            "Accessing index: 633\n",
            "Dataset type: <class 'datasets.arrow_dataset.Dataset'>\n",
            "Dataset length: 1000\n",
            "Accessing index: 959\n",
            "Dataset type: <class 'datasets.arrow_dataset.Dataset'>\n",
            "Dataset length: 1000\n",
            "Accessing index: 434\n",
            "Dataset type: <class 'datasets.arrow_dataset.Dataset'>\n",
            "Dataset length: 1000\n"
          ]
        },
        {
          "output_type": "stream",
          "name": "stderr",
          "text": [
            "\r 89%|████████▉ | 111/125 [25:47<03:14, 13.88s/it]"
          ]
        },
        {
          "output_type": "stream",
          "name": "stdout",
          "text": [
            "Accessing index: 975\n",
            "Dataset type: <class 'datasets.arrow_dataset.Dataset'>\n",
            "Dataset length: 1000\n",
            "Accessing index: 502\n",
            "Dataset type: <class 'datasets.arrow_dataset.Dataset'>\n",
            "Dataset length: 1000\n",
            "Accessing index: 447\n",
            "Dataset type: <class 'datasets.arrow_dataset.Dataset'>\n",
            "Dataset length: 1000\n",
            "Accessing index: 722\n",
            "Dataset type: <class 'datasets.arrow_dataset.Dataset'>\n",
            "Dataset length: 1000\n",
            "Accessing index: 418\n",
            "Dataset type: <class 'datasets.arrow_dataset.Dataset'>\n",
            "Dataset length: 1000\n",
            "Accessing index: 424\n",
            "Dataset type: <class 'datasets.arrow_dataset.Dataset'>\n",
            "Dataset length: 1000\n",
            "Accessing index: 649\n",
            "Dataset type: <class 'datasets.arrow_dataset.Dataset'>\n",
            "Dataset length: 1000\n",
            "Accessing index: 876\n",
            "Dataset type: <class 'datasets.arrow_dataset.Dataset'>\n",
            "Dataset length: 1000\n"
          ]
        },
        {
          "output_type": "stream",
          "name": "stderr",
          "text": [
            "\r 90%|████████▉ | 112/125 [26:01<03:00, 13.87s/it]"
          ]
        },
        {
          "output_type": "stream",
          "name": "stdout",
          "text": [
            "Accessing index: 53\n",
            "Dataset type: <class 'datasets.arrow_dataset.Dataset'>\n",
            "Dataset length: 1000\n",
            "Accessing index: 95\n",
            "Dataset type: <class 'datasets.arrow_dataset.Dataset'>\n",
            "Dataset length: 1000\n",
            "Accessing index: 673\n",
            "Dataset type: <class 'datasets.arrow_dataset.Dataset'>\n",
            "Dataset length: 1000\n",
            "Accessing index: 422\n",
            "Dataset type: <class 'datasets.arrow_dataset.Dataset'>\n",
            "Dataset length: 1000\n",
            "Accessing index: 731\n",
            "Dataset type: <class 'datasets.arrow_dataset.Dataset'>\n",
            "Dataset length: 1000\n",
            "Accessing index: 881\n",
            "Dataset type: <class 'datasets.arrow_dataset.Dataset'>\n",
            "Dataset length: 1000\n",
            "Accessing index: 505\n",
            "Dataset type: <class 'datasets.arrow_dataset.Dataset'>\n",
            "Dataset length: 1000\n",
            "Accessing index: 712\n",
            "Dataset type: <class 'datasets.arrow_dataset.Dataset'>\n",
            "Dataset length: 1000\n"
          ]
        },
        {
          "output_type": "stream",
          "name": "stderr",
          "text": [
            "\r 90%|█████████ | 113/125 [26:15<02:47, 13.94s/it]"
          ]
        },
        {
          "output_type": "stream",
          "name": "stdout",
          "text": [
            "Accessing index: 922\n",
            "Dataset type: <class 'datasets.arrow_dataset.Dataset'>\n",
            "Dataset length: 1000\n",
            "Accessing index: 408\n",
            "Dataset type: <class 'datasets.arrow_dataset.Dataset'>\n",
            "Dataset length: 1000\n",
            "Accessing index: 964\n",
            "Dataset type: <class 'datasets.arrow_dataset.Dataset'>\n",
            "Dataset length: 1000\n",
            "Accessing index: 1\n",
            "Dataset type: <class 'datasets.arrow_dataset.Dataset'>\n",
            "Dataset length: 1000\n",
            "Accessing index: 186\n",
            "Dataset type: <class 'datasets.arrow_dataset.Dataset'>\n",
            "Dataset length: 1000\n",
            "Accessing index: 804\n",
            "Dataset type: <class 'datasets.arrow_dataset.Dataset'>\n",
            "Dataset length: 1000\n",
            "Accessing index: 831\n",
            "Dataset type: <class 'datasets.arrow_dataset.Dataset'>\n",
            "Dataset length: 1000\n",
            "Accessing index: 516\n",
            "Dataset type: <class 'datasets.arrow_dataset.Dataset'>\n",
            "Dataset length: 1000\n"
          ]
        },
        {
          "output_type": "stream",
          "name": "stderr",
          "text": [
            "\r 91%|█████████ | 114/125 [26:29<02:34, 14.04s/it]"
          ]
        },
        {
          "output_type": "stream",
          "name": "stdout",
          "text": [
            "Accessing index: 130\n",
            "Dataset type: <class 'datasets.arrow_dataset.Dataset'>\n",
            "Dataset length: 1000\n",
            "Accessing index: 996\n",
            "Dataset type: <class 'datasets.arrow_dataset.Dataset'>\n",
            "Dataset length: 1000\n",
            "Accessing index: 512\n",
            "Dataset type: <class 'datasets.arrow_dataset.Dataset'>\n",
            "Dataset length: 1000\n",
            "Accessing index: 489\n",
            "Dataset type: <class 'datasets.arrow_dataset.Dataset'>\n",
            "Dataset length: 1000\n",
            "Accessing index: 705\n",
            "Dataset type: <class 'datasets.arrow_dataset.Dataset'>\n",
            "Dataset length: 1000\n",
            "Accessing index: 297\n",
            "Dataset type: <class 'datasets.arrow_dataset.Dataset'>\n",
            "Dataset length: 1000\n",
            "Accessing index: 372\n",
            "Dataset type: <class 'datasets.arrow_dataset.Dataset'>\n",
            "Dataset length: 1000\n",
            "Accessing index: 676\n",
            "Dataset type: <class 'datasets.arrow_dataset.Dataset'>\n",
            "Dataset length: 1000\n"
          ]
        },
        {
          "output_type": "stream",
          "name": "stderr",
          "text": [
            "\r 92%|█████████▏| 115/125 [26:43<02:19, 13.98s/it]"
          ]
        },
        {
          "output_type": "stream",
          "name": "stdout",
          "text": [
            "Accessing index: 215\n",
            "Dataset type: <class 'datasets.arrow_dataset.Dataset'>\n",
            "Dataset length: 1000\n",
            "Accessing index: 381\n",
            "Dataset type: <class 'datasets.arrow_dataset.Dataset'>\n",
            "Dataset length: 1000\n",
            "Accessing index: 823\n",
            "Dataset type: <class 'datasets.arrow_dataset.Dataset'>\n",
            "Dataset length: 1000\n",
            "Accessing index: 933\n",
            "Dataset type: <class 'datasets.arrow_dataset.Dataset'>\n",
            "Dataset length: 1000\n",
            "Accessing index: 199\n",
            "Dataset type: <class 'datasets.arrow_dataset.Dataset'>\n",
            "Dataset length: 1000\n",
            "Accessing index: 455\n",
            "Dataset type: <class 'datasets.arrow_dataset.Dataset'>\n",
            "Dataset length: 1000\n",
            "Accessing index: 691\n",
            "Dataset type: <class 'datasets.arrow_dataset.Dataset'>\n",
            "Dataset length: 1000\n",
            "Accessing index: 141\n",
            "Dataset type: <class 'datasets.arrow_dataset.Dataset'>\n",
            "Dataset length: 1000\n"
          ]
        },
        {
          "output_type": "stream",
          "name": "stderr",
          "text": [
            "\r 93%|█████████▎| 116/125 [26:57<02:05, 13.93s/it]"
          ]
        },
        {
          "output_type": "stream",
          "name": "stdout",
          "text": [
            "Accessing index: 428\n",
            "Dataset type: <class 'datasets.arrow_dataset.Dataset'>\n",
            "Dataset length: 1000\n",
            "Accessing index: 994\n",
            "Dataset type: <class 'datasets.arrow_dataset.Dataset'>\n",
            "Dataset length: 1000\n",
            "Accessing index: 697\n",
            "Dataset type: <class 'datasets.arrow_dataset.Dataset'>\n",
            "Dataset length: 1000\n",
            "Accessing index: 544\n",
            "Dataset type: <class 'datasets.arrow_dataset.Dataset'>\n",
            "Dataset length: 1000\n",
            "Accessing index: 992\n",
            "Dataset type: <class 'datasets.arrow_dataset.Dataset'>\n",
            "Dataset length: 1000\n",
            "Accessing index: 757\n",
            "Dataset type: <class 'datasets.arrow_dataset.Dataset'>\n",
            "Dataset length: 1000\n",
            "Accessing index: 316\n",
            "Dataset type: <class 'datasets.arrow_dataset.Dataset'>\n",
            "Dataset length: 1000\n",
            "Accessing index: 971\n",
            "Dataset type: <class 'datasets.arrow_dataset.Dataset'>\n",
            "Dataset length: 1000\n"
          ]
        },
        {
          "output_type": "stream",
          "name": "stderr",
          "text": [
            "\r 94%|█████████▎| 117/125 [27:11<01:51, 13.93s/it]"
          ]
        },
        {
          "output_type": "stream",
          "name": "stdout",
          "text": [
            "Accessing index: 279\n",
            "Dataset type: <class 'datasets.arrow_dataset.Dataset'>\n",
            "Dataset length: 1000\n",
            "Accessing index: 121\n",
            "Dataset type: <class 'datasets.arrow_dataset.Dataset'>\n",
            "Dataset length: 1000\n",
            "Accessing index: 307\n",
            "Dataset type: <class 'datasets.arrow_dataset.Dataset'>\n",
            "Dataset length: 1000\n",
            "Accessing index: 772\n",
            "Dataset type: <class 'datasets.arrow_dataset.Dataset'>\n",
            "Dataset length: 1000\n",
            "Accessing index: 88\n",
            "Dataset type: <class 'datasets.arrow_dataset.Dataset'>\n",
            "Dataset length: 1000\n",
            "Accessing index: 12\n",
            "Dataset type: <class 'datasets.arrow_dataset.Dataset'>\n",
            "Dataset length: 1000\n",
            "Accessing index: 596\n",
            "Dataset type: <class 'datasets.arrow_dataset.Dataset'>\n",
            "Dataset length: 1000\n",
            "Accessing index: 625\n",
            "Dataset type: <class 'datasets.arrow_dataset.Dataset'>\n",
            "Dataset length: 1000\n"
          ]
        },
        {
          "output_type": "stream",
          "name": "stderr",
          "text": [
            "\r 94%|█████████▍| 118/125 [27:25<01:37, 13.90s/it]"
          ]
        },
        {
          "output_type": "stream",
          "name": "stdout",
          "text": [
            "Accessing index: 87\n",
            "Dataset type: <class 'datasets.arrow_dataset.Dataset'>\n",
            "Dataset length: 1000\n",
            "Accessing index: 931\n",
            "Dataset type: <class 'datasets.arrow_dataset.Dataset'>\n",
            "Dataset length: 1000\n",
            "Accessing index: 273\n",
            "Dataset type: <class 'datasets.arrow_dataset.Dataset'>\n",
            "Dataset length: 1000\n",
            "Accessing index: 862\n",
            "Dataset type: <class 'datasets.arrow_dataset.Dataset'>\n",
            "Dataset length: 1000\n",
            "Accessing index: 944\n",
            "Dataset type: <class 'datasets.arrow_dataset.Dataset'>\n",
            "Dataset length: 1000\n",
            "Accessing index: 733\n",
            "Dataset type: <class 'datasets.arrow_dataset.Dataset'>\n",
            "Dataset length: 1000\n",
            "Accessing index: 519\n",
            "Dataset type: <class 'datasets.arrow_dataset.Dataset'>\n",
            "Dataset length: 1000\n",
            "Accessing index: 736\n",
            "Dataset type: <class 'datasets.arrow_dataset.Dataset'>\n",
            "Dataset length: 1000\n"
          ]
        },
        {
          "output_type": "stream",
          "name": "stderr",
          "text": [
            "\r 95%|█████████▌| 119/125 [27:39<01:23, 13.89s/it]"
          ]
        },
        {
          "output_type": "stream",
          "name": "stdout",
          "text": [
            "Accessing index: 5\n",
            "Dataset type: <class 'datasets.arrow_dataset.Dataset'>\n",
            "Dataset length: 1000\n",
            "Accessing index: 770\n",
            "Dataset type: <class 'datasets.arrow_dataset.Dataset'>\n",
            "Dataset length: 1000\n",
            "Accessing index: 328\n",
            "Dataset type: <class 'datasets.arrow_dataset.Dataset'>\n",
            "Dataset length: 1000\n",
            "Accessing index: 262\n",
            "Dataset type: <class 'datasets.arrow_dataset.Dataset'>\n",
            "Dataset length: 1000\n",
            "Accessing index: 669\n",
            "Dataset type: <class 'datasets.arrow_dataset.Dataset'>\n",
            "Dataset length: 1000\n",
            "Accessing index: 716\n",
            "Dataset type: <class 'datasets.arrow_dataset.Dataset'>\n",
            "Dataset length: 1000\n",
            "Accessing index: 616\n",
            "Dataset type: <class 'datasets.arrow_dataset.Dataset'>\n",
            "Dataset length: 1000\n",
            "Accessing index: 75\n",
            "Dataset type: <class 'datasets.arrow_dataset.Dataset'>\n",
            "Dataset length: 1000\n"
          ]
        },
        {
          "output_type": "stream",
          "name": "stderr",
          "text": [
            "\r 96%|█████████▌| 120/125 [27:52<01:09, 13.87s/it]"
          ]
        },
        {
          "output_type": "stream",
          "name": "stdout",
          "text": [
            "Accessing index: 430\n",
            "Dataset type: <class 'datasets.arrow_dataset.Dataset'>\n",
            "Dataset length: 1000\n",
            "Accessing index: 536\n",
            "Dataset type: <class 'datasets.arrow_dataset.Dataset'>\n",
            "Dataset length: 1000\n",
            "Accessing index: 100\n",
            "Dataset type: <class 'datasets.arrow_dataset.Dataset'>\n",
            "Dataset length: 1000\n",
            "Accessing index: 402\n",
            "Dataset type: <class 'datasets.arrow_dataset.Dataset'>\n",
            "Dataset length: 1000\n",
            "Accessing index: 577\n",
            "Dataset type: <class 'datasets.arrow_dataset.Dataset'>\n",
            "Dataset length: 1000\n",
            "Accessing index: 865\n",
            "Dataset type: <class 'datasets.arrow_dataset.Dataset'>\n",
            "Dataset length: 1000\n",
            "Accessing index: 875\n",
            "Dataset type: <class 'datasets.arrow_dataset.Dataset'>\n",
            "Dataset length: 1000\n",
            "Accessing index: 750\n",
            "Dataset type: <class 'datasets.arrow_dataset.Dataset'>\n",
            "Dataset length: 1000\n"
          ]
        },
        {
          "output_type": "stream",
          "name": "stderr",
          "text": [
            "\r 97%|█████████▋| 121/125 [28:06<00:55, 13.87s/it]"
          ]
        },
        {
          "output_type": "stream",
          "name": "stdout",
          "text": [
            "Accessing index: 338\n",
            "Dataset type: <class 'datasets.arrow_dataset.Dataset'>\n",
            "Dataset length: 1000\n",
            "Accessing index: 641\n",
            "Dataset type: <class 'datasets.arrow_dataset.Dataset'>\n",
            "Dataset length: 1000\n",
            "Accessing index: 222\n",
            "Dataset type: <class 'datasets.arrow_dataset.Dataset'>\n",
            "Dataset length: 1000\n",
            "Accessing index: 771\n",
            "Dataset type: <class 'datasets.arrow_dataset.Dataset'>\n",
            "Dataset length: 1000\n",
            "Accessing index: 104\n",
            "Dataset type: <class 'datasets.arrow_dataset.Dataset'>\n",
            "Dataset length: 1000\n",
            "Accessing index: 157\n",
            "Dataset type: <class 'datasets.arrow_dataset.Dataset'>\n",
            "Dataset length: 1000\n",
            "Accessing index: 197\n",
            "Dataset type: <class 'datasets.arrow_dataset.Dataset'>\n",
            "Dataset length: 1000\n",
            "Accessing index: 999\n",
            "Dataset type: <class 'datasets.arrow_dataset.Dataset'>\n",
            "Dataset length: 1000\n"
          ]
        },
        {
          "output_type": "stream",
          "name": "stderr",
          "text": [
            "\r 98%|█████████▊| 122/125 [28:20<00:41, 13.87s/it]"
          ]
        },
        {
          "output_type": "stream",
          "name": "stdout",
          "text": [
            "Accessing index: 587\n",
            "Dataset type: <class 'datasets.arrow_dataset.Dataset'>\n",
            "Dataset length: 1000\n",
            "Accessing index: 160\n",
            "Dataset type: <class 'datasets.arrow_dataset.Dataset'>\n",
            "Dataset length: 1000\n",
            "Accessing index: 301\n",
            "Dataset type: <class 'datasets.arrow_dataset.Dataset'>\n",
            "Dataset length: 1000\n",
            "Accessing index: 34\n",
            "Dataset type: <class 'datasets.arrow_dataset.Dataset'>\n",
            "Dataset length: 1000\n",
            "Accessing index: 843\n",
            "Dataset type: <class 'datasets.arrow_dataset.Dataset'>\n",
            "Dataset length: 1000\n",
            "Accessing index: 13\n",
            "Dataset type: <class 'datasets.arrow_dataset.Dataset'>\n",
            "Dataset length: 1000\n",
            "Accessing index: 460\n",
            "Dataset type: <class 'datasets.arrow_dataset.Dataset'>\n",
            "Dataset length: 1000\n",
            "Accessing index: 164\n",
            "Dataset type: <class 'datasets.arrow_dataset.Dataset'>\n",
            "Dataset length: 1000\n"
          ]
        },
        {
          "output_type": "stream",
          "name": "stderr",
          "text": [
            "\r 98%|█████████▊| 123/125 [28:35<00:28, 14.05s/it]"
          ]
        },
        {
          "output_type": "stream",
          "name": "stdout",
          "text": [
            "Accessing index: 441\n",
            "Dataset type: <class 'datasets.arrow_dataset.Dataset'>\n",
            "Dataset length: 1000\n",
            "Accessing index: 102\n",
            "Dataset type: <class 'datasets.arrow_dataset.Dataset'>\n",
            "Dataset length: 1000\n",
            "Accessing index: 967\n",
            "Dataset type: <class 'datasets.arrow_dataset.Dataset'>\n",
            "Dataset length: 1000\n",
            "Accessing index: 549\n",
            "Dataset type: <class 'datasets.arrow_dataset.Dataset'>\n",
            "Dataset length: 1000\n",
            "Accessing index: 617\n",
            "Dataset type: <class 'datasets.arrow_dataset.Dataset'>\n",
            "Dataset length: 1000\n",
            "Accessing index: 127\n",
            "Dataset type: <class 'datasets.arrow_dataset.Dataset'>\n",
            "Dataset length: 1000\n",
            "Accessing index: 861\n",
            "Dataset type: <class 'datasets.arrow_dataset.Dataset'>\n",
            "Dataset length: 1000\n",
            "Accessing index: 14\n",
            "Dataset type: <class 'datasets.arrow_dataset.Dataset'>\n",
            "Dataset length: 1000\n"
          ]
        },
        {
          "output_type": "stream",
          "name": "stderr",
          "text": [
            "\r 99%|█████████▉| 124/125 [28:49<00:14, 14.01s/it]"
          ]
        },
        {
          "output_type": "stream",
          "name": "stdout",
          "text": [
            "Accessing index: 361\n",
            "Dataset type: <class 'datasets.arrow_dataset.Dataset'>\n",
            "Dataset length: 1000\n",
            "Accessing index: 796\n",
            "Dataset type: <class 'datasets.arrow_dataset.Dataset'>\n",
            "Dataset length: 1000\n",
            "Accessing index: 228\n",
            "Dataset type: <class 'datasets.arrow_dataset.Dataset'>\n",
            "Dataset length: 1000\n",
            "Accessing index: 234\n",
            "Dataset type: <class 'datasets.arrow_dataset.Dataset'>\n",
            "Dataset length: 1000\n",
            "Accessing index: 972\n",
            "Dataset type: <class 'datasets.arrow_dataset.Dataset'>\n",
            "Dataset length: 1000\n",
            "Accessing index: 637\n",
            "Dataset type: <class 'datasets.arrow_dataset.Dataset'>\n",
            "Dataset length: 1000\n",
            "Accessing index: 582\n",
            "Dataset type: <class 'datasets.arrow_dataset.Dataset'>\n",
            "Dataset length: 1000\n",
            "Accessing index: 749\n",
            "Dataset type: <class 'datasets.arrow_dataset.Dataset'>\n",
            "Dataset length: 1000\n"
          ]
        },
        {
          "output_type": "stream",
          "name": "stderr",
          "text": [
            "100%|██████████| 125/125 [29:02<00:00, 13.94s/it]"
          ]
        },
        {
          "output_type": "stream",
          "name": "stdout",
          "text": [
            "Training loss: 2.6468\n"
          ]
        },
        {
          "output_type": "stream",
          "name": "stderr",
          "text": [
            "\n"
          ]
        }
      ]
    },
    {
      "cell_type": "markdown",
      "source": [
        "11. Save model"
      ],
      "metadata": {
        "id": "P5OuKmEU8hIk"
      }
    },
    {
      "cell_type": "code",
      "source": [
        "model.save_pretrained(\"/content/drive/MyDrive/pokemon-vit\")\n",
        "processor.save_pretrained(\"/content/drive/MyDrive/pokemon-vit\")"
      ],
      "metadata": {
        "colab": {
          "base_uri": "https://localhost:8080/"
        },
        "id": "HB61fYbR8ewY",
        "outputId": "6fa4ebcd-3b59-4a6d-ebf9-a45d04fcb425"
      },
      "execution_count": 11,
      "outputs": [
        {
          "output_type": "execute_result",
          "data": {
            "text/plain": [
              "['/content/drive/MyDrive/pokemon-vit/preprocessor_config.json']"
            ]
          },
          "metadata": {},
          "execution_count": 11
        }
      ]
    },
    {
      "cell_type": "markdown",
      "source": [
        "12. Load saved model and predict"
      ],
      "metadata": {
        "id": "YKLeShxs-QRe"
      }
    },
    {
      "cell_type": "code",
      "source": [
        "model.eval()\n",
        "correct, total = 0, 0\n",
        "\n",
        "with torch.no_grad():\n",
        "    for batch in val_loader:\n",
        "        pixel_values = batch[\"pixel_values\"].to(device)\n",
        "        labels = batch[\"labels\"].to(device)\n",
        "\n",
        "        outputs = model(pixel_values=pixel_values)\n",
        "        preds = outputs.logits.argmax(-1)\n",
        "        correct += (preds == labels).sum().item()\n",
        "        total += labels.size(0)\n",
        "\n",
        "print(f\"Validation Accuracy: {correct/total:.2%}\")"
      ],
      "metadata": {
        "colab": {
          "base_uri": "https://localhost:8080/"
        },
        "id": "K1U8uCm6-SK6",
        "outputId": "76d2a9c4-283a-4db9-b025-c9207e1a4def",
        "collapsed": true
      },
      "execution_count": 12,
      "outputs": [
        {
          "output_type": "stream",
          "name": "stdout",
          "text": [
            "Accessing index: 0\n",
            "Dataset type: <class 'datasets.arrow_dataset.Dataset'>\n",
            "Dataset length: 200\n",
            "Accessing index: 1\n",
            "Dataset type: <class 'datasets.arrow_dataset.Dataset'>\n",
            "Dataset length: 200\n",
            "Accessing index: 2\n",
            "Dataset type: <class 'datasets.arrow_dataset.Dataset'>\n",
            "Dataset length: 200\n",
            "Accessing index: 3\n",
            "Dataset type: <class 'datasets.arrow_dataset.Dataset'>\n",
            "Dataset length: 200\n",
            "Accessing index: 4\n",
            "Dataset type: <class 'datasets.arrow_dataset.Dataset'>\n",
            "Dataset length: 200\n",
            "Accessing index: 5\n",
            "Dataset type: <class 'datasets.arrow_dataset.Dataset'>\n",
            "Dataset length: 200\n",
            "Accessing index: 6\n",
            "Dataset type: <class 'datasets.arrow_dataset.Dataset'>\n",
            "Dataset length: 200\n",
            "Accessing index: 7\n",
            "Dataset type: <class 'datasets.arrow_dataset.Dataset'>\n",
            "Dataset length: 200\n",
            "Accessing index: 8\n",
            "Dataset type: <class 'datasets.arrow_dataset.Dataset'>\n",
            "Dataset length: 200\n",
            "Accessing index: 9\n",
            "Dataset type: <class 'datasets.arrow_dataset.Dataset'>\n",
            "Dataset length: 200\n",
            "Accessing index: 10\n",
            "Dataset type: <class 'datasets.arrow_dataset.Dataset'>\n",
            "Dataset length: 200\n",
            "Accessing index: 11\n",
            "Dataset type: <class 'datasets.arrow_dataset.Dataset'>\n",
            "Dataset length: 200\n",
            "Accessing index: 12\n",
            "Dataset type: <class 'datasets.arrow_dataset.Dataset'>\n",
            "Dataset length: 200\n",
            "Accessing index: 13\n",
            "Dataset type: <class 'datasets.arrow_dataset.Dataset'>\n",
            "Dataset length: 200\n",
            "Accessing index: 14\n",
            "Dataset type: <class 'datasets.arrow_dataset.Dataset'>\n",
            "Dataset length: 200\n",
            "Accessing index: 15\n",
            "Dataset type: <class 'datasets.arrow_dataset.Dataset'>\n",
            "Dataset length: 200\n",
            "Accessing index: 16\n",
            "Dataset type: <class 'datasets.arrow_dataset.Dataset'>\n",
            "Dataset length: 200\n",
            "Accessing index: 17\n",
            "Dataset type: <class 'datasets.arrow_dataset.Dataset'>\n",
            "Dataset length: 200\n",
            "Accessing index: 18\n",
            "Dataset type: <class 'datasets.arrow_dataset.Dataset'>\n",
            "Dataset length: 200\n",
            "Accessing index: 19\n",
            "Dataset type: <class 'datasets.arrow_dataset.Dataset'>\n",
            "Dataset length: 200\n",
            "Accessing index: 20\n",
            "Dataset type: <class 'datasets.arrow_dataset.Dataset'>\n",
            "Dataset length: 200\n",
            "Accessing index: 21\n",
            "Dataset type: <class 'datasets.arrow_dataset.Dataset'>\n",
            "Dataset length: 200\n",
            "Accessing index: 22\n",
            "Dataset type: <class 'datasets.arrow_dataset.Dataset'>\n",
            "Dataset length: 200\n",
            "Accessing index: 23\n",
            "Dataset type: <class 'datasets.arrow_dataset.Dataset'>\n",
            "Dataset length: 200\n",
            "Accessing index: 24\n",
            "Dataset type: <class 'datasets.arrow_dataset.Dataset'>\n",
            "Dataset length: 200\n",
            "Accessing index: 25\n",
            "Dataset type: <class 'datasets.arrow_dataset.Dataset'>\n",
            "Dataset length: 200\n",
            "Accessing index: 26\n",
            "Dataset type: <class 'datasets.arrow_dataset.Dataset'>\n",
            "Dataset length: 200\n",
            "Accessing index: 27\n",
            "Dataset type: <class 'datasets.arrow_dataset.Dataset'>\n",
            "Dataset length: 200\n",
            "Accessing index: 28\n",
            "Dataset type: <class 'datasets.arrow_dataset.Dataset'>\n",
            "Dataset length: 200\n",
            "Accessing index: 29\n",
            "Dataset type: <class 'datasets.arrow_dataset.Dataset'>\n",
            "Dataset length: 200\n",
            "Accessing index: 30\n",
            "Dataset type: <class 'datasets.arrow_dataset.Dataset'>\n",
            "Dataset length: 200\n",
            "Accessing index: 31\n",
            "Dataset type: <class 'datasets.arrow_dataset.Dataset'>\n",
            "Dataset length: 200\n",
            "Accessing index: 32\n",
            "Dataset type: <class 'datasets.arrow_dataset.Dataset'>\n",
            "Dataset length: 200\n",
            "Accessing index: 33\n",
            "Dataset type: <class 'datasets.arrow_dataset.Dataset'>\n",
            "Dataset length: 200\n",
            "Accessing index: 34\n",
            "Dataset type: <class 'datasets.arrow_dataset.Dataset'>\n",
            "Dataset length: 200\n",
            "Accessing index: 35\n",
            "Dataset type: <class 'datasets.arrow_dataset.Dataset'>\n",
            "Dataset length: 200\n",
            "Accessing index: 36\n",
            "Dataset type: <class 'datasets.arrow_dataset.Dataset'>\n",
            "Dataset length: 200\n",
            "Accessing index: 37\n",
            "Dataset type: <class 'datasets.arrow_dataset.Dataset'>\n",
            "Dataset length: 200\n",
            "Accessing index: 38\n",
            "Dataset type: <class 'datasets.arrow_dataset.Dataset'>\n",
            "Dataset length: 200\n",
            "Accessing index: 39\n",
            "Dataset type: <class 'datasets.arrow_dataset.Dataset'>\n",
            "Dataset length: 200\n",
            "Accessing index: 40\n",
            "Dataset type: <class 'datasets.arrow_dataset.Dataset'>\n",
            "Dataset length: 200\n",
            "Accessing index: 41\n",
            "Dataset type: <class 'datasets.arrow_dataset.Dataset'>\n",
            "Dataset length: 200\n",
            "Accessing index: 42\n",
            "Dataset type: <class 'datasets.arrow_dataset.Dataset'>\n",
            "Dataset length: 200\n",
            "Accessing index: 43\n",
            "Dataset type: <class 'datasets.arrow_dataset.Dataset'>\n",
            "Dataset length: 200\n",
            "Accessing index: 44\n",
            "Dataset type: <class 'datasets.arrow_dataset.Dataset'>\n",
            "Dataset length: 200\n",
            "Accessing index: 45\n",
            "Dataset type: <class 'datasets.arrow_dataset.Dataset'>\n",
            "Dataset length: 200\n",
            "Accessing index: 46\n",
            "Dataset type: <class 'datasets.arrow_dataset.Dataset'>\n",
            "Dataset length: 200\n",
            "Accessing index: 47\n",
            "Dataset type: <class 'datasets.arrow_dataset.Dataset'>\n",
            "Dataset length: 200\n",
            "Accessing index: 48\n",
            "Dataset type: <class 'datasets.arrow_dataset.Dataset'>\n",
            "Dataset length: 200\n",
            "Accessing index: 49\n",
            "Dataset type: <class 'datasets.arrow_dataset.Dataset'>\n",
            "Dataset length: 200\n",
            "Accessing index: 50\n",
            "Dataset type: <class 'datasets.arrow_dataset.Dataset'>\n",
            "Dataset length: 200\n",
            "Accessing index: 51\n",
            "Dataset type: <class 'datasets.arrow_dataset.Dataset'>\n",
            "Dataset length: 200\n",
            "Accessing index: 52\n",
            "Dataset type: <class 'datasets.arrow_dataset.Dataset'>\n",
            "Dataset length: 200\n",
            "Accessing index: 53\n",
            "Dataset type: <class 'datasets.arrow_dataset.Dataset'>\n",
            "Dataset length: 200\n",
            "Accessing index: 54\n",
            "Dataset type: <class 'datasets.arrow_dataset.Dataset'>\n",
            "Dataset length: 200\n",
            "Accessing index: 55\n",
            "Dataset type: <class 'datasets.arrow_dataset.Dataset'>\n",
            "Dataset length: 200\n",
            "Accessing index: 56\n",
            "Dataset type: <class 'datasets.arrow_dataset.Dataset'>\n",
            "Dataset length: 200\n",
            "Accessing index: 57\n",
            "Dataset type: <class 'datasets.arrow_dataset.Dataset'>\n",
            "Dataset length: 200\n",
            "Accessing index: 58\n",
            "Dataset type: <class 'datasets.arrow_dataset.Dataset'>\n",
            "Dataset length: 200\n",
            "Accessing index: 59\n",
            "Dataset type: <class 'datasets.arrow_dataset.Dataset'>\n",
            "Dataset length: 200\n",
            "Accessing index: 60\n",
            "Dataset type: <class 'datasets.arrow_dataset.Dataset'>\n",
            "Dataset length: 200\n",
            "Accessing index: 61\n",
            "Dataset type: <class 'datasets.arrow_dataset.Dataset'>\n",
            "Dataset length: 200\n",
            "Accessing index: 62\n",
            "Dataset type: <class 'datasets.arrow_dataset.Dataset'>\n",
            "Dataset length: 200\n",
            "Accessing index: 63\n",
            "Dataset type: <class 'datasets.arrow_dataset.Dataset'>\n",
            "Dataset length: 200\n",
            "Accessing index: 64\n",
            "Dataset type: <class 'datasets.arrow_dataset.Dataset'>\n",
            "Dataset length: 200\n",
            "Accessing index: 65\n",
            "Dataset type: <class 'datasets.arrow_dataset.Dataset'>\n",
            "Dataset length: 200\n",
            "Accessing index: 66\n",
            "Dataset type: <class 'datasets.arrow_dataset.Dataset'>\n",
            "Dataset length: 200\n",
            "Accessing index: 67\n",
            "Dataset type: <class 'datasets.arrow_dataset.Dataset'>\n",
            "Dataset length: 200\n",
            "Accessing index: 68\n",
            "Dataset type: <class 'datasets.arrow_dataset.Dataset'>\n",
            "Dataset length: 200\n",
            "Accessing index: 69\n",
            "Dataset type: <class 'datasets.arrow_dataset.Dataset'>\n",
            "Dataset length: 200\n",
            "Accessing index: 70\n",
            "Dataset type: <class 'datasets.arrow_dataset.Dataset'>\n",
            "Dataset length: 200\n",
            "Accessing index: 71\n",
            "Dataset type: <class 'datasets.arrow_dataset.Dataset'>\n",
            "Dataset length: 200\n",
            "Accessing index: 72\n",
            "Dataset type: <class 'datasets.arrow_dataset.Dataset'>\n",
            "Dataset length: 200\n",
            "Accessing index: 73\n",
            "Dataset type: <class 'datasets.arrow_dataset.Dataset'>\n",
            "Dataset length: 200\n",
            "Accessing index: 74\n",
            "Dataset type: <class 'datasets.arrow_dataset.Dataset'>\n",
            "Dataset length: 200\n",
            "Accessing index: 75\n",
            "Dataset type: <class 'datasets.arrow_dataset.Dataset'>\n",
            "Dataset length: 200\n",
            "Accessing index: 76\n",
            "Dataset type: <class 'datasets.arrow_dataset.Dataset'>\n",
            "Dataset length: 200\n",
            "Accessing index: 77\n",
            "Dataset type: <class 'datasets.arrow_dataset.Dataset'>\n",
            "Dataset length: 200\n",
            "Accessing index: 78\n",
            "Dataset type: <class 'datasets.arrow_dataset.Dataset'>\n",
            "Dataset length: 200\n",
            "Accessing index: 79\n",
            "Dataset type: <class 'datasets.arrow_dataset.Dataset'>\n",
            "Dataset length: 200\n",
            "Accessing index: 80\n",
            "Dataset type: <class 'datasets.arrow_dataset.Dataset'>\n",
            "Dataset length: 200\n",
            "Accessing index: 81\n",
            "Dataset type: <class 'datasets.arrow_dataset.Dataset'>\n",
            "Dataset length: 200\n",
            "Accessing index: 82\n",
            "Dataset type: <class 'datasets.arrow_dataset.Dataset'>\n",
            "Dataset length: 200\n",
            "Accessing index: 83\n",
            "Dataset type: <class 'datasets.arrow_dataset.Dataset'>\n",
            "Dataset length: 200\n",
            "Accessing index: 84\n",
            "Dataset type: <class 'datasets.arrow_dataset.Dataset'>\n",
            "Dataset length: 200\n",
            "Accessing index: 85\n",
            "Dataset type: <class 'datasets.arrow_dataset.Dataset'>\n",
            "Dataset length: 200\n",
            "Accessing index: 86\n",
            "Dataset type: <class 'datasets.arrow_dataset.Dataset'>\n",
            "Dataset length: 200\n",
            "Accessing index: 87\n",
            "Dataset type: <class 'datasets.arrow_dataset.Dataset'>\n",
            "Dataset length: 200\n",
            "Accessing index: 88\n",
            "Dataset type: <class 'datasets.arrow_dataset.Dataset'>\n",
            "Dataset length: 200\n",
            "Accessing index: 89\n",
            "Dataset type: <class 'datasets.arrow_dataset.Dataset'>\n",
            "Dataset length: 200\n",
            "Accessing index: 90\n",
            "Dataset type: <class 'datasets.arrow_dataset.Dataset'>\n",
            "Dataset length: 200\n",
            "Accessing index: 91\n",
            "Dataset type: <class 'datasets.arrow_dataset.Dataset'>\n",
            "Dataset length: 200\n",
            "Accessing index: 92\n",
            "Dataset type: <class 'datasets.arrow_dataset.Dataset'>\n",
            "Dataset length: 200\n",
            "Accessing index: 93\n",
            "Dataset type: <class 'datasets.arrow_dataset.Dataset'>\n",
            "Dataset length: 200\n",
            "Accessing index: 94\n",
            "Dataset type: <class 'datasets.arrow_dataset.Dataset'>\n",
            "Dataset length: 200\n",
            "Accessing index: 95\n",
            "Dataset type: <class 'datasets.arrow_dataset.Dataset'>\n",
            "Dataset length: 200\n",
            "Accessing index: 96\n",
            "Dataset type: <class 'datasets.arrow_dataset.Dataset'>\n",
            "Dataset length: 200\n",
            "Accessing index: 97\n",
            "Dataset type: <class 'datasets.arrow_dataset.Dataset'>\n",
            "Dataset length: 200\n",
            "Accessing index: 98\n",
            "Dataset type: <class 'datasets.arrow_dataset.Dataset'>\n",
            "Dataset length: 200\n",
            "Accessing index: 99\n",
            "Dataset type: <class 'datasets.arrow_dataset.Dataset'>\n",
            "Dataset length: 200\n",
            "Accessing index: 100\n",
            "Dataset type: <class 'datasets.arrow_dataset.Dataset'>\n",
            "Dataset length: 200\n",
            "Accessing index: 101\n",
            "Dataset type: <class 'datasets.arrow_dataset.Dataset'>\n",
            "Dataset length: 200\n",
            "Accessing index: 102\n",
            "Dataset type: <class 'datasets.arrow_dataset.Dataset'>\n",
            "Dataset length: 200\n",
            "Accessing index: 103\n",
            "Dataset type: <class 'datasets.arrow_dataset.Dataset'>\n",
            "Dataset length: 200\n",
            "Accessing index: 104\n",
            "Dataset type: <class 'datasets.arrow_dataset.Dataset'>\n",
            "Dataset length: 200\n",
            "Accessing index: 105\n",
            "Dataset type: <class 'datasets.arrow_dataset.Dataset'>\n",
            "Dataset length: 200\n",
            "Accessing index: 106\n",
            "Dataset type: <class 'datasets.arrow_dataset.Dataset'>\n",
            "Dataset length: 200\n",
            "Accessing index: 107\n",
            "Dataset type: <class 'datasets.arrow_dataset.Dataset'>\n",
            "Dataset length: 200\n",
            "Accessing index: 108\n",
            "Dataset type: <class 'datasets.arrow_dataset.Dataset'>\n",
            "Dataset length: 200\n",
            "Accessing index: 109\n",
            "Dataset type: <class 'datasets.arrow_dataset.Dataset'>\n",
            "Dataset length: 200\n",
            "Accessing index: 110\n",
            "Dataset type: <class 'datasets.arrow_dataset.Dataset'>\n",
            "Dataset length: 200\n",
            "Accessing index: 111\n",
            "Dataset type: <class 'datasets.arrow_dataset.Dataset'>\n",
            "Dataset length: 200\n",
            "Accessing index: 112\n",
            "Dataset type: <class 'datasets.arrow_dataset.Dataset'>\n",
            "Dataset length: 200\n",
            "Accessing index: 113\n",
            "Dataset type: <class 'datasets.arrow_dataset.Dataset'>\n",
            "Dataset length: 200\n",
            "Accessing index: 114\n",
            "Dataset type: <class 'datasets.arrow_dataset.Dataset'>\n",
            "Dataset length: 200\n",
            "Accessing index: 115\n",
            "Dataset type: <class 'datasets.arrow_dataset.Dataset'>\n",
            "Dataset length: 200\n",
            "Accessing index: 116\n",
            "Dataset type: <class 'datasets.arrow_dataset.Dataset'>\n",
            "Dataset length: 200\n",
            "Accessing index: 117\n",
            "Dataset type: <class 'datasets.arrow_dataset.Dataset'>\n",
            "Dataset length: 200\n",
            "Accessing index: 118\n",
            "Dataset type: <class 'datasets.arrow_dataset.Dataset'>\n",
            "Dataset length: 200\n",
            "Accessing index: 119\n",
            "Dataset type: <class 'datasets.arrow_dataset.Dataset'>\n",
            "Dataset length: 200\n",
            "Accessing index: 120\n",
            "Dataset type: <class 'datasets.arrow_dataset.Dataset'>\n",
            "Dataset length: 200\n",
            "Accessing index: 121\n",
            "Dataset type: <class 'datasets.arrow_dataset.Dataset'>\n",
            "Dataset length: 200\n",
            "Accessing index: 122\n",
            "Dataset type: <class 'datasets.arrow_dataset.Dataset'>\n",
            "Dataset length: 200\n",
            "Accessing index: 123\n",
            "Dataset type: <class 'datasets.arrow_dataset.Dataset'>\n",
            "Dataset length: 200\n",
            "Accessing index: 124\n",
            "Dataset type: <class 'datasets.arrow_dataset.Dataset'>\n",
            "Dataset length: 200\n",
            "Accessing index: 125\n",
            "Dataset type: <class 'datasets.arrow_dataset.Dataset'>\n",
            "Dataset length: 200\n",
            "Accessing index: 126\n",
            "Dataset type: <class 'datasets.arrow_dataset.Dataset'>\n",
            "Dataset length: 200\n",
            "Accessing index: 127\n",
            "Dataset type: <class 'datasets.arrow_dataset.Dataset'>\n",
            "Dataset length: 200\n",
            "Accessing index: 128\n",
            "Dataset type: <class 'datasets.arrow_dataset.Dataset'>\n",
            "Dataset length: 200\n",
            "Accessing index: 129\n",
            "Dataset type: <class 'datasets.arrow_dataset.Dataset'>\n",
            "Dataset length: 200\n",
            "Accessing index: 130\n",
            "Dataset type: <class 'datasets.arrow_dataset.Dataset'>\n",
            "Dataset length: 200\n",
            "Accessing index: 131\n",
            "Dataset type: <class 'datasets.arrow_dataset.Dataset'>\n",
            "Dataset length: 200\n",
            "Accessing index: 132\n",
            "Dataset type: <class 'datasets.arrow_dataset.Dataset'>\n",
            "Dataset length: 200\n",
            "Accessing index: 133\n",
            "Dataset type: <class 'datasets.arrow_dataset.Dataset'>\n",
            "Dataset length: 200\n",
            "Accessing index: 134\n",
            "Dataset type: <class 'datasets.arrow_dataset.Dataset'>\n",
            "Dataset length: 200\n",
            "Accessing index: 135\n",
            "Dataset type: <class 'datasets.arrow_dataset.Dataset'>\n",
            "Dataset length: 200\n",
            "Accessing index: 136\n",
            "Dataset type: <class 'datasets.arrow_dataset.Dataset'>\n",
            "Dataset length: 200\n",
            "Accessing index: 137\n",
            "Dataset type: <class 'datasets.arrow_dataset.Dataset'>\n",
            "Dataset length: 200\n",
            "Accessing index: 138\n",
            "Dataset type: <class 'datasets.arrow_dataset.Dataset'>\n",
            "Dataset length: 200\n",
            "Accessing index: 139\n",
            "Dataset type: <class 'datasets.arrow_dataset.Dataset'>\n",
            "Dataset length: 200\n",
            "Accessing index: 140\n",
            "Dataset type: <class 'datasets.arrow_dataset.Dataset'>\n",
            "Dataset length: 200\n",
            "Accessing index: 141\n",
            "Dataset type: <class 'datasets.arrow_dataset.Dataset'>\n",
            "Dataset length: 200\n",
            "Accessing index: 142\n",
            "Dataset type: <class 'datasets.arrow_dataset.Dataset'>\n",
            "Dataset length: 200\n",
            "Accessing index: 143\n",
            "Dataset type: <class 'datasets.arrow_dataset.Dataset'>\n",
            "Dataset length: 200\n",
            "Accessing index: 144\n",
            "Dataset type: <class 'datasets.arrow_dataset.Dataset'>\n",
            "Dataset length: 200\n",
            "Accessing index: 145\n",
            "Dataset type: <class 'datasets.arrow_dataset.Dataset'>\n",
            "Dataset length: 200\n",
            "Accessing index: 146\n",
            "Dataset type: <class 'datasets.arrow_dataset.Dataset'>\n",
            "Dataset length: 200\n",
            "Accessing index: 147\n",
            "Dataset type: <class 'datasets.arrow_dataset.Dataset'>\n",
            "Dataset length: 200\n",
            "Accessing index: 148\n",
            "Dataset type: <class 'datasets.arrow_dataset.Dataset'>\n",
            "Dataset length: 200\n",
            "Accessing index: 149\n",
            "Dataset type: <class 'datasets.arrow_dataset.Dataset'>\n",
            "Dataset length: 200\n",
            "Accessing index: 150\n",
            "Dataset type: <class 'datasets.arrow_dataset.Dataset'>\n",
            "Dataset length: 200\n",
            "Accessing index: 151\n",
            "Dataset type: <class 'datasets.arrow_dataset.Dataset'>\n",
            "Dataset length: 200\n",
            "Accessing index: 152\n",
            "Dataset type: <class 'datasets.arrow_dataset.Dataset'>\n",
            "Dataset length: 200\n",
            "Accessing index: 153\n",
            "Dataset type: <class 'datasets.arrow_dataset.Dataset'>\n",
            "Dataset length: 200\n",
            "Accessing index: 154\n",
            "Dataset type: <class 'datasets.arrow_dataset.Dataset'>\n",
            "Dataset length: 200\n",
            "Accessing index: 155\n",
            "Dataset type: <class 'datasets.arrow_dataset.Dataset'>\n",
            "Dataset length: 200\n",
            "Accessing index: 156\n",
            "Dataset type: <class 'datasets.arrow_dataset.Dataset'>\n",
            "Dataset length: 200\n",
            "Accessing index: 157\n",
            "Dataset type: <class 'datasets.arrow_dataset.Dataset'>\n",
            "Dataset length: 200\n",
            "Accessing index: 158\n",
            "Dataset type: <class 'datasets.arrow_dataset.Dataset'>\n",
            "Dataset length: 200\n",
            "Accessing index: 159\n",
            "Dataset type: <class 'datasets.arrow_dataset.Dataset'>\n",
            "Dataset length: 200\n",
            "Accessing index: 160\n",
            "Dataset type: <class 'datasets.arrow_dataset.Dataset'>\n",
            "Dataset length: 200\n",
            "Accessing index: 161\n",
            "Dataset type: <class 'datasets.arrow_dataset.Dataset'>\n",
            "Dataset length: 200\n",
            "Accessing index: 162\n",
            "Dataset type: <class 'datasets.arrow_dataset.Dataset'>\n",
            "Dataset length: 200\n",
            "Accessing index: 163\n",
            "Dataset type: <class 'datasets.arrow_dataset.Dataset'>\n",
            "Dataset length: 200\n",
            "Accessing index: 164\n",
            "Dataset type: <class 'datasets.arrow_dataset.Dataset'>\n",
            "Dataset length: 200\n",
            "Accessing index: 165\n",
            "Dataset type: <class 'datasets.arrow_dataset.Dataset'>\n",
            "Dataset length: 200\n",
            "Accessing index: 166\n",
            "Dataset type: <class 'datasets.arrow_dataset.Dataset'>\n",
            "Dataset length: 200\n",
            "Accessing index: 167\n",
            "Dataset type: <class 'datasets.arrow_dataset.Dataset'>\n",
            "Dataset length: 200\n",
            "Accessing index: 168\n",
            "Dataset type: <class 'datasets.arrow_dataset.Dataset'>\n",
            "Dataset length: 200\n",
            "Accessing index: 169\n",
            "Dataset type: <class 'datasets.arrow_dataset.Dataset'>\n",
            "Dataset length: 200\n",
            "Accessing index: 170\n",
            "Dataset type: <class 'datasets.arrow_dataset.Dataset'>\n",
            "Dataset length: 200\n",
            "Accessing index: 171\n",
            "Dataset type: <class 'datasets.arrow_dataset.Dataset'>\n",
            "Dataset length: 200\n",
            "Accessing index: 172\n",
            "Dataset type: <class 'datasets.arrow_dataset.Dataset'>\n",
            "Dataset length: 200\n",
            "Accessing index: 173\n",
            "Dataset type: <class 'datasets.arrow_dataset.Dataset'>\n",
            "Dataset length: 200\n",
            "Accessing index: 174\n",
            "Dataset type: <class 'datasets.arrow_dataset.Dataset'>\n",
            "Dataset length: 200\n",
            "Accessing index: 175\n",
            "Dataset type: <class 'datasets.arrow_dataset.Dataset'>\n",
            "Dataset length: 200\n",
            "Accessing index: 176\n",
            "Dataset type: <class 'datasets.arrow_dataset.Dataset'>\n",
            "Dataset length: 200\n",
            "Accessing index: 177\n",
            "Dataset type: <class 'datasets.arrow_dataset.Dataset'>\n",
            "Dataset length: 200\n",
            "Accessing index: 178\n",
            "Dataset type: <class 'datasets.arrow_dataset.Dataset'>\n",
            "Dataset length: 200\n",
            "Accessing index: 179\n",
            "Dataset type: <class 'datasets.arrow_dataset.Dataset'>\n",
            "Dataset length: 200\n",
            "Accessing index: 180\n",
            "Dataset type: <class 'datasets.arrow_dataset.Dataset'>\n",
            "Dataset length: 200\n",
            "Accessing index: 181\n",
            "Dataset type: <class 'datasets.arrow_dataset.Dataset'>\n",
            "Dataset length: 200\n",
            "Accessing index: 182\n",
            "Dataset type: <class 'datasets.arrow_dataset.Dataset'>\n",
            "Dataset length: 200\n",
            "Accessing index: 183\n",
            "Dataset type: <class 'datasets.arrow_dataset.Dataset'>\n",
            "Dataset length: 200\n",
            "Accessing index: 184\n",
            "Dataset type: <class 'datasets.arrow_dataset.Dataset'>\n",
            "Dataset length: 200\n",
            "Accessing index: 185\n",
            "Dataset type: <class 'datasets.arrow_dataset.Dataset'>\n",
            "Dataset length: 200\n",
            "Accessing index: 186\n",
            "Dataset type: <class 'datasets.arrow_dataset.Dataset'>\n",
            "Dataset length: 200\n",
            "Accessing index: 187\n",
            "Dataset type: <class 'datasets.arrow_dataset.Dataset'>\n",
            "Dataset length: 200\n",
            "Accessing index: 188\n",
            "Dataset type: <class 'datasets.arrow_dataset.Dataset'>\n",
            "Dataset length: 200\n",
            "Accessing index: 189\n",
            "Dataset type: <class 'datasets.arrow_dataset.Dataset'>\n",
            "Dataset length: 200\n",
            "Accessing index: 190\n",
            "Dataset type: <class 'datasets.arrow_dataset.Dataset'>\n",
            "Dataset length: 200\n",
            "Accessing index: 191\n",
            "Dataset type: <class 'datasets.arrow_dataset.Dataset'>\n",
            "Dataset length: 200\n",
            "Accessing index: 192\n",
            "Dataset type: <class 'datasets.arrow_dataset.Dataset'>\n",
            "Dataset length: 200\n",
            "Accessing index: 193\n",
            "Dataset type: <class 'datasets.arrow_dataset.Dataset'>\n",
            "Dataset length: 200\n",
            "Accessing index: 194\n",
            "Dataset type: <class 'datasets.arrow_dataset.Dataset'>\n",
            "Dataset length: 200\n",
            "Accessing index: 195\n",
            "Dataset type: <class 'datasets.arrow_dataset.Dataset'>\n",
            "Dataset length: 200\n",
            "Accessing index: 196\n",
            "Dataset type: <class 'datasets.arrow_dataset.Dataset'>\n",
            "Dataset length: 200\n",
            "Accessing index: 197\n",
            "Dataset type: <class 'datasets.arrow_dataset.Dataset'>\n",
            "Dataset length: 200\n",
            "Accessing index: 198\n",
            "Dataset type: <class 'datasets.arrow_dataset.Dataset'>\n",
            "Dataset length: 200\n",
            "Accessing index: 199\n",
            "Dataset type: <class 'datasets.arrow_dataset.Dataset'>\n",
            "Dataset length: 200\n",
            "Validation Accuracy: 0.00%\n"
          ]
        }
      ]
    },
    {
      "cell_type": "markdown",
      "source": [
        "Load pretrained"
      ],
      "metadata": {
        "id": "EQb2KHC1Ine6"
      }
    },
    {
      "cell_type": "code",
      "source": [
        "from transformers import AutoModelForImageClassification, AutoImageProcessor\n",
        "import torch\n",
        "from PIL import Image\n",
        "from urllib.request import urlopen\n",
        "from io import BytesIO\n",
        "\n",
        "# load\n",
        "model = AutoModelForImageClassification.from_pretrained(\"/content/drive/MyDrive/pokemon-vit\")\n",
        "processor = AutoImageProcessor.from_pretrained(\"/content/drive/MyDrive/pokemon-vit\")\n",
        "\n",
        "# move to GPU if available\n",
        "device = torch.device(\"cuda\" if torch.cuda.is_available() else \"cpu\")\n",
        "model.to(device)\n",
        "\n",
        "# test on one image\n",
        "url = \"https://raw.githubusercontent.com/CesiumLabs/pokeres/refs/heads/main/img/4.png\"\n",
        "image = Image.open(BytesIO(urlopen(url).read())).convert(\"RGB\")\n",
        "\n",
        "inputs = processor(images=image, return_tensors=\"pt\").to(device)\n",
        "\n",
        "with torch.no_grad():\n",
        "    outputs = model(**inputs)\n",
        "    probs = outputs.logits.softmax(dim=-1)\n",
        "\n",
        "pred_id = probs.argmax(-1).item()\n",
        "label = model.config.id2label[pred_id]\n",
        "\n",
        "print(f\"Predicted Pokémon: {label}\")"
      ],
      "metadata": {
        "colab": {
          "base_uri": "https://localhost:8080/"
        },
        "id": "B3amiowTIoo0",
        "outputId": "d47813ab-480a-44ab-bdff-2cac3f2c18e7"
      },
      "execution_count": 20,
      "outputs": [
        {
          "output_type": "stream",
          "name": "stdout",
          "text": [
            "Predicted Pokémon: LABEL_46\n"
          ]
        }
      ]
    },
    {
      "cell_type": "code",
      "source": [
        "!ls drive/MyDrive/pokemon-vit/"
      ],
      "metadata": {
        "colab": {
          "base_uri": "https://localhost:8080/"
        },
        "id": "dxId7irEZOvi",
        "outputId": "14ccfadd-7b22-4f01-8bef-d772109b8129"
      },
      "execution_count": 17,
      "outputs": [
        {
          "output_type": "stream",
          "name": "stdout",
          "text": [
            "config.json  model.safetensors\tpreprocessor_config.json\n"
          ]
        }
      ]
    }
  ]
}